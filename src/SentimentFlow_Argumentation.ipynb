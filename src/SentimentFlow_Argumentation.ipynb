{
 "cells": [
  {
   "cell_type": "code",
   "execution_count": 1,
   "metadata": {},
   "outputs": [
    {
     "name": "stderr",
     "output_type": "stream",
     "text": [
      "h:\\moha\\NLP\\AM\\SA\\.venv\\lib\\site-packages\\tqdm\\auto.py:21: TqdmWarning: IProgress not found. Please update jupyter and ipywidgets. See https://ipywidgets.readthedocs.io/en/stable/user_install.html\n",
      "  from .autonotebook import tqdm as notebook_tqdm\n"
     ]
    }
   ],
   "source": [
    "import shutil\n",
    "import pandas as pd\n",
    "from SentimentFlow import SpeechProcessor\n",
    "pd.set_option(\"display.max_colwidth\", None)\n",
    "\n"
   ]
  },
  {
   "cell_type": "code",
   "execution_count": 2,
   "metadata": {},
   "outputs": [
    {
     "name": "stdout",
     "output_type": "stream",
     "text": [
      "TSV file saved as: ./data/senticnet/senticnet.tsv\n"
     ]
    }
   ],
   "source": [
    "input_text_path = './data/senticnet/senticnet.txt'\n",
    "output_tsv_path = './data/senticnet/senticnet.tsv'\n",
    "shutil.copyfile(input_text_path, output_tsv_path)\n",
    "print(\"TSV file saved as:\", output_tsv_path)"
   ]
  },
  {
   "cell_type": "code",
   "execution_count": 3,
   "metadata": {},
   "outputs": [],
   "source": [
    "processor = SpeechProcessor('./data/senticnet/senticnet.tsv')\n"
   ]
  },
  {
   "cell_type": "code",
   "execution_count": 21,
   "metadata": {},
   "outputs": [],
   "source": [
    "processor2 = SpeechProcessor('./data/senticnet/senticnet2.tsv')\n"
   ]
  },
  {
   "cell_type": "code",
   "execution_count": 22,
   "metadata": {},
   "outputs": [
    {
     "data": {
      "text/plain": [
       "['INTROSPECTION', 'TEMPER', 'ATTITUDE', 'SENSITIVITY']"
      ]
     },
     "execution_count": 22,
     "metadata": {},
     "output_type": "execute_result"
    }
   ],
   "source": [
    "processor2.categories"
   ]
  },
  {
   "cell_type": "code",
   "execution_count": 5,
   "metadata": {},
   "outputs": [],
   "source": [
    "df = pd.read_json(\"./data/dfMT_PC.json\",) "
   ]
  },
  {
   "cell_type": "code",
   "execution_count": 31,
   "metadata": {},
   "outputs": [
    {
     "data": {
      "text/plain": [
       "['One can hardly move in Friedrichshain or Neukölln these days without permanently scanning the ground for dog dirt.',\n",
       " \"And when bad luck does strike and you step into one of the many 'land mines' you have to painstakingly scrape the remains off your soles.\",\n",
       " 'Higher fines are therefore the right measure against negligent, lazy or simply thoughtless dog owners.',\n",
       " \"Of course, first they'd actually need to be caught in the act by public order officers,\",\n",
       " 'but once they have to dig into their pockets, their laziness will sure vanish!']"
      ]
     },
     "execution_count": 31,
     "metadata": {},
     "output_type": "execute_result"
    }
   ],
   "source": [
    "df[\"EDU\"][1]"
   ]
  },
  {
   "cell_type": "code",
   "execution_count": 13,
   "metadata": {},
   "outputs": [
    {
     "data": {
      "text/plain": [
       "list"
      ]
     },
     "execution_count": 13,
     "metadata": {},
     "output_type": "execute_result"
    }
   ],
   "source": [
    "type(df[\"EDU\"][0])"
   ]
  },
  {
   "cell_type": "code",
   "execution_count": 9,
   "metadata": {},
   "outputs": [
    {
     "data": {
      "text/plain": [
       "0                                                     Health insurance companies should not cover treatment in complementary medicine\n",
       "1                                                     unless the promised effect and its medical benefit have been concretely proven.\n",
       "2                                                                                       Yet this very proof is lacking in most cases.\n",
       "3                                                          Patients do often report relief of their complaints after such treatments.\n",
       "4    But as long as it is unclear as to how this works, the funds should rather be spent on therapies where one knows with certainty.\n",
       "dtype: object"
      ]
     },
     "execution_count": 9,
     "metadata": {},
     "output_type": "execute_result"
    }
   ],
   "source": [
    "test = pd.Series(df[\"EDU\"][2])\n",
    "test"
   ]
  },
  {
   "cell_type": "code",
   "execution_count": 25,
   "metadata": {},
   "outputs": [
    {
     "name": "stderr",
     "output_type": "stream",
     "text": [
      "03-Jun-24 17:05:38 - Starting to process\n",
      "Processing texts:   0%|          | 0/5 [00:00<?, ?it/s]"
     ]
    },
    {
     "name": "stderr",
     "output_type": "stream",
     "text": [
      "Processing texts: 100%|██████████| 5/5 [00:02<00:00,  1.73it/s]\n",
      "03-Jun-24 17:05:41 - Saving results to results/processed_texts.csv\n"
     ]
    },
    {
     "data": {
      "text/html": [
       "<div>\n",
       "<style scoped>\n",
       "    .dataframe tbody tr th:only-of-type {\n",
       "        vertical-align: middle;\n",
       "    }\n",
       "\n",
       "    .dataframe tbody tr th {\n",
       "        vertical-align: top;\n",
       "    }\n",
       "\n",
       "    .dataframe thead th {\n",
       "        text-align: right;\n",
       "    }\n",
       "</style>\n",
       "<table border=\"1\" class=\"dataframe\">\n",
       "  <thead>\n",
       "    <tr style=\"text-align: right;\">\n",
       "      <th></th>\n",
       "      <th>text</th>\n",
       "      <th>INTROSPECTION#ecstasy</th>\n",
       "      <th>TEMPER</th>\n",
       "      <th>SENSITIVITY#loathing</th>\n",
       "      <th>INTROSPECTION#contentment</th>\n",
       "      <th>ATTITUDE#acceptance</th>\n",
       "      <th>POLARITY</th>\n",
       "      <th>SENSITIVITY#enthusiasm</th>\n",
       "      <th>ATTITUDE#pleasantness</th>\n",
       "      <th>TEMPER#bliss</th>\n",
       "      <th>TEMPER#serenity</th>\n",
       "      <th>ATTITUDE#joy</th>\n",
       "      <th>INTROSPECTION#rage</th>\n",
       "    </tr>\n",
       "  </thead>\n",
       "  <tbody>\n",
       "    <tr>\n",
       "      <th>0</th>\n",
       "      <td>Health insurance companies should not cover treatment in complementary medicine</td>\n",
       "      <td>0.920667</td>\n",
       "      <td>0.000</td>\n",
       "      <td>-0.856</td>\n",
       "      <td>0.180</td>\n",
       "      <td>0.274</td>\n",
       "      <td>0.387333</td>\n",
       "      <td>0.000</td>\n",
       "      <td>0.000</td>\n",
       "      <td>0.000</td>\n",
       "      <td>0.000</td>\n",
       "      <td>0.000</td>\n",
       "      <td>0.000</td>\n",
       "    </tr>\n",
       "    <tr>\n",
       "      <th>1</th>\n",
       "      <td>unless the promised effect and its medical benefit have been concretely proven.</td>\n",
       "      <td>0.947000</td>\n",
       "      <td>0.000</td>\n",
       "      <td>0.000</td>\n",
       "      <td>0.000</td>\n",
       "      <td>0.246</td>\n",
       "      <td>0.683333</td>\n",
       "      <td>0.877</td>\n",
       "      <td>0.587</td>\n",
       "      <td>0.940</td>\n",
       "      <td>0.000</td>\n",
       "      <td>0.000</td>\n",
       "      <td>0.000</td>\n",
       "    </tr>\n",
       "    <tr>\n",
       "      <th>2</th>\n",
       "      <td>Yet this very proof is lacking in most cases.</td>\n",
       "      <td>0.000000</td>\n",
       "      <td>0.000</td>\n",
       "      <td>0.000</td>\n",
       "      <td>0.000</td>\n",
       "      <td>0.000</td>\n",
       "      <td>0.440000</td>\n",
       "      <td>0.000</td>\n",
       "      <td>0.000</td>\n",
       "      <td>0.000</td>\n",
       "      <td>0.244</td>\n",
       "      <td>0.784</td>\n",
       "      <td>0.000</td>\n",
       "    </tr>\n",
       "    <tr>\n",
       "      <th>3</th>\n",
       "      <td>Patients do often report relief of their complaints after such treatments.</td>\n",
       "      <td>0.936000</td>\n",
       "      <td>-0.153</td>\n",
       "      <td>0.000</td>\n",
       "      <td>0.000</td>\n",
       "      <td>0.000</td>\n",
       "      <td>0.460750</td>\n",
       "      <td>0.000</td>\n",
       "      <td>0.000</td>\n",
       "      <td>0.999</td>\n",
       "      <td>0.214</td>\n",
       "      <td>0.000</td>\n",
       "      <td>0.000</td>\n",
       "    </tr>\n",
       "    <tr>\n",
       "      <th>4</th>\n",
       "      <td>But as long as it is unclear as to how this works, the funds should rather be spent on therapies where one knows with certainty.</td>\n",
       "      <td>0.937000</td>\n",
       "      <td>0.000</td>\n",
       "      <td>-0.856</td>\n",
       "      <td>0.298</td>\n",
       "      <td>0.000</td>\n",
       "      <td>0.222167</td>\n",
       "      <td>0.992</td>\n",
       "      <td>0.000</td>\n",
       "      <td>0.000</td>\n",
       "      <td>0.000</td>\n",
       "      <td>0.000</td>\n",
       "      <td>-0.844</td>\n",
       "    </tr>\n",
       "  </tbody>\n",
       "</table>\n",
       "</div>"
      ],
      "text/plain": [
       "                                                                                                                               text  \\\n",
       "0                                                   Health insurance companies should not cover treatment in complementary medicine   \n",
       "1                                                   unless the promised effect and its medical benefit have been concretely proven.   \n",
       "2                                                                                     Yet this very proof is lacking in most cases.   \n",
       "3                                                        Patients do often report relief of their complaints after such treatments.   \n",
       "4  But as long as it is unclear as to how this works, the funds should rather be spent on therapies where one knows with certainty.   \n",
       "\n",
       "   INTROSPECTION#ecstasy  TEMPER  SENSITIVITY#loathing  \\\n",
       "0               0.920667   0.000                -0.856   \n",
       "1               0.947000   0.000                 0.000   \n",
       "2               0.000000   0.000                 0.000   \n",
       "3               0.936000  -0.153                 0.000   \n",
       "4               0.937000   0.000                -0.856   \n",
       "\n",
       "   INTROSPECTION#contentment  ATTITUDE#acceptance  POLARITY  \\\n",
       "0                      0.180                0.274  0.387333   \n",
       "1                      0.000                0.246  0.683333   \n",
       "2                      0.000                0.000  0.440000   \n",
       "3                      0.000                0.000  0.460750   \n",
       "4                      0.298                0.000  0.222167   \n",
       "\n",
       "   SENSITIVITY#enthusiasm  ATTITUDE#pleasantness  TEMPER#bliss  \\\n",
       "0                   0.000                  0.000         0.000   \n",
       "1                   0.877                  0.587         0.940   \n",
       "2                   0.000                  0.000         0.000   \n",
       "3                   0.000                  0.000         0.999   \n",
       "4                   0.992                  0.000         0.000   \n",
       "\n",
       "   TEMPER#serenity  ATTITUDE#joy  INTROSPECTION#rage  \n",
       "0            0.000         0.000               0.000  \n",
       "1            0.000         0.000               0.000  \n",
       "2            0.244         0.784               0.000  \n",
       "3            0.214         0.000               0.000  \n",
       "4            0.000         0.000              -0.844  "
      ]
     },
     "execution_count": 25,
     "metadata": {},
     "output_type": "execute_result"
    }
   ],
   "source": [
    "processed_texts = processor2.process_texts(test)\n",
    "processed_texts"
   ]
  },
  {
   "cell_type": "code",
   "execution_count": 27,
   "metadata": {},
   "outputs": [
    {
     "name": "stderr",
     "output_type": "stream",
     "text": [
      "03-Jun-24 17:11:31 - Starting to calculate Navier-Stocker...\n",
      "Calculating Navier-Stocker for texts: 100%|██████████| 5/5 [00:00<00:00, 64.18it/s]\n",
      "03-Jun-24 17:11:31 - Finished calculating texts.\n",
      "03-Jun-24 17:11:31 - Processed 5 texts.\n",
      "03-Jun-24 17:11:31 - Saving results to results/navier_stocker_text_results.json\n"
     ]
    },
    {
     "data": {
      "text/plain": [
       "{0: [{'text': ('Health insurance companies should not cover treatment in complementary medicine',\n",
       "    'Health insurance companies should not cover treatment in complementary medicine'),\n",
       "   'simulation': array([[ 0.274     ,  0.        ,  0.        ,  0.18      ,  0.92066667,\n",
       "            0.        ,  0.38733333,  0.        , -0.856     ,  0.        ,\n",
       "            0.        ,  0.        ],\n",
       "          [ 0.61233389,  0.43200087,  0.5047678 ,  0.67604124,  1.07552469,\n",
       "            0.36680706,  0.70327129,  0.30607038, -0.30273463,  0.45610388,\n",
       "            0.32369155,  0.41911427]]),\n",
       "   'emotion dimension': Index(['ATTITUDE#acceptance', 'ATTITUDE#joy', 'ATTITUDE#pleasantness',\n",
       "          'INTROSPECTION#contentment', 'INTROSPECTION#ecstasy',\n",
       "          'INTROSPECTION#rage', 'POLARITY', 'SENSITIVITY#enthusiasm',\n",
       "          'SENSITIVITY#loathing', 'TEMPER', 'TEMPER#bliss', 'TEMPER#serenity'],\n",
       "         dtype='object')}],\n",
       " 1: [{'text': ('unless the promised effect and its medical benefit have been concretely proven.',\n",
       "    'unless the promised effect and its medical benefit have been concretely proven.'),\n",
       "   'simulation': array([[0.246     , 0.        , 0.587     , 0.        , 0.947     ,\n",
       "           0.        , 0.68333333, 0.877     , 0.        , 0.        ,\n",
       "           0.94      , 0.        ],\n",
       "          [0.94966694, 0.78600115, 1.26153207, 0.74691133, 1.58980118,\n",
       "           0.733148  , 1.62948393, 1.06211716, 0.74546203, 0.84125278,\n",
       "           1.19505431, 0.2329749 ]]),\n",
       "   'emotion dimension': Index(['ATTITUDE#acceptance', 'ATTITUDE#joy', 'ATTITUDE#pleasantness',\n",
       "          'INTROSPECTION#contentment', 'INTROSPECTION#ecstasy',\n",
       "          'INTROSPECTION#rage', 'POLARITY', 'SENSITIVITY#enthusiasm',\n",
       "          'SENSITIVITY#loathing', 'TEMPER', 'TEMPER#bliss', 'TEMPER#serenity'],\n",
       "         dtype='object')}],\n",
       " 2: [{'text': ('Yet this very proof is lacking in most cases.',\n",
       "    'Yet this very proof is lacking in most cases.'),\n",
       "   'simulation': array([[0.        , 0.784     , 0.        , 0.        , 0.        ,\n",
       "           0.        , 0.44      , 0.        , 0.        , 0.        ,\n",
       "           0.        , 0.244     ],\n",
       "          [0.3863002 , 1.10241989, 0.37442007, 0.48747712, 0.4610069 ,\n",
       "           0.48438549, 0.82173888, 0.40313153, 0.46848667, 0.46001263,\n",
       "           0.51657442, 0.88073962]]),\n",
       "   'emotion dimension': Index(['ATTITUDE#acceptance', 'ATTITUDE#joy', 'ATTITUDE#pleasantness',\n",
       "          'INTROSPECTION#contentment', 'INTROSPECTION#ecstasy',\n",
       "          'INTROSPECTION#rage', 'POLARITY', 'SENSITIVITY#enthusiasm',\n",
       "          'SENSITIVITY#loathing', 'TEMPER', 'TEMPER#bliss', 'TEMPER#serenity'],\n",
       "         dtype='object')}],\n",
       " 3: [{'text': ('Patients do often report relief of their complaints after such treatments.',\n",
       "    'Patients do often report relief of their complaints after such treatments.'),\n",
       "   'simulation': array([[ 0.        ,  0.        ,  0.        ,  0.        ,  0.936     ,\n",
       "            0.        ,  0.46075   ,  0.        ,  0.        , -0.153     ,\n",
       "            0.999     ,  0.214     ],\n",
       "          [ 0.46728179,  0.4612114 ,  0.5274762 ,  0.37597682,  1.32304942,\n",
       "            0.48617846,  0.92198041,  0.47505922,  0.56649139,  0.17253479,\n",
       "            1.31417951,  0.32613887]]),\n",
       "   'emotion dimension': Index(['ATTITUDE#acceptance', 'ATTITUDE#joy', 'ATTITUDE#pleasantness',\n",
       "          'INTROSPECTION#contentment', 'INTROSPECTION#ecstasy',\n",
       "          'INTROSPECTION#rage', 'POLARITY', 'SENSITIVITY#enthusiasm',\n",
       "          'SENSITIVITY#loathing', 'TEMPER', 'TEMPER#bliss', 'TEMPER#serenity'],\n",
       "         dtype='object')}],\n",
       " 4: [{'text': ('But as long as it is unclear as to how this works, the funds should rather be spent on therapies where one knows with certainty.',\n",
       "    'But as long as it is unclear as to how this works, the funds should rather be spent on therapies where one knows with certainty.'),\n",
       "   'simulation': array([[ 0.        ,  0.        ,  0.        ,  0.298     ,  0.937     ,\n",
       "           -0.844     ,  0.22216667,  0.992     , -0.856     ,  0.        ,\n",
       "            0.        ,  0.        ],\n",
       "          [ 0.22596007,  0.24944079,  0.28693439,  0.38918023,  0.80153823,\n",
       "           -0.13184477,  0.37876097,  0.7547619 , -0.16114215,  0.24127693,\n",
       "            0.16321883,  0.25594512]]),\n",
       "   'emotion dimension': Index(['ATTITUDE#acceptance', 'ATTITUDE#joy', 'ATTITUDE#pleasantness',\n",
       "          'INTROSPECTION#contentment', 'INTROSPECTION#ecstasy',\n",
       "          'INTROSPECTION#rage', 'POLARITY', 'SENSITIVITY#enthusiasm',\n",
       "          'SENSITIVITY#loathing', 'TEMPER', 'TEMPER#bliss', 'TEMPER#serenity'],\n",
       "         dtype='object')}]}"
      ]
     },
     "execution_count": 27,
     "metadata": {},
     "output_type": "execute_result"
    }
   ],
   "source": [
    "from SentimentFlow import SentimentFlowCalculator\n",
    "\n",
    "flow_calculator = SentimentFlowCalculator()\n",
    "results = flow_calculator.calculate_navier_stocker_for_texts(processed_texts)\n",
    "results"
   ]
  },
  {
   "cell_type": "code",
   "execution_count": 28,
   "metadata": {},
   "outputs": [
    {
     "data": {
      "text/plain": [
       "dict"
      ]
     },
     "execution_count": 28,
     "metadata": {},
     "output_type": "execute_result"
    }
   ],
   "source": [
    "type(results)"
   ]
  },
  {
   "cell_type": "code",
   "execution_count": 30,
   "metadata": {},
   "outputs": [
    {
     "data": {
      "text/html": [
       "<div>\n",
       "<style scoped>\n",
       "    .dataframe tbody tr th:only-of-type {\n",
       "        vertical-align: middle;\n",
       "    }\n",
       "\n",
       "    .dataframe tbody tr th {\n",
       "        vertical-align: top;\n",
       "    }\n",
       "\n",
       "    .dataframe thead th {\n",
       "        text-align: right;\n",
       "    }\n",
       "</style>\n",
       "<table border=\"1\" class=\"dataframe\">\n",
       "  <thead>\n",
       "    <tr style=\"text-align: right;\">\n",
       "      <th></th>\n",
       "      <th>0</th>\n",
       "      <th>1</th>\n",
       "      <th>2</th>\n",
       "      <th>3</th>\n",
       "      <th>4</th>\n",
       "    </tr>\n",
       "  </thead>\n",
       "  <tbody>\n",
       "    <tr>\n",
       "      <th>0</th>\n",
       "      <td>{'text': ('Health insurance companies should not cover treatment in complementary medicine', 'Health insurance companies should not cover treatment in complementary medicine'), 'simulation': [[0.274, 0.0, 0.0, 0.18, 0.9206666666666666, 0.0, 0.38733333333333336, 0.0, -0.856, 0.0, 0.0, 0.0], [0.6123338860481721, 0.43200086611432215, 0.5047677981435976, 0.676041237528495, 1.0755246949311401, 0.36680705870743013, 0.7032712903149382, 0.30607038282665866, -0.30273462583650096, 0.4561038812236383, 0.3236915515048543, 0.41911426772728777]], 'emotion dimension': ['ATTITUDE#acceptance', 'ATTITUDE#joy', 'ATTITUDE#pleasantness', 'INTROSPECTION#contentment', 'INTROSPECTION#ecstasy', 'INTROSPECTION#rage', 'POLARITY', 'SENSITIVITY#enthusiasm', 'SENSITIVITY#loathing', 'TEMPER', 'TEMPER#bliss', 'TEMPER#serenity']}</td>\n",
       "      <td>{'text': ('unless the promised effect and its medical benefit have been concretely proven.', 'unless the promised effect and its medical benefit have been concretely proven.'), 'simulation': [[0.246, 0.0, 0.587, 0.0, 0.947, 0.0, 0.6833333333333332, 0.877, 0.0, 0.0, 0.94, 0.0], [0.9496669381013033, 0.7860011537540995, 1.2615320677748818, 0.7469113304300842, 1.5898011814725286, 0.7331479979081074, 1.6294839292405003, 1.0621171619846121, 0.7454620304978522, 0.8412527824565593, 1.1950543095301018, 0.23297490326396067]], 'emotion dimension': ['ATTITUDE#acceptance', 'ATTITUDE#joy', 'ATTITUDE#pleasantness', 'INTROSPECTION#contentment', 'INTROSPECTION#ecstasy', 'INTROSPECTION#rage', 'POLARITY', 'SENSITIVITY#enthusiasm', 'SENSITIVITY#loathing', 'TEMPER', 'TEMPER#bliss', 'TEMPER#serenity']}</td>\n",
       "      <td>{'text': ('Yet this very proof is lacking in most cases.', 'Yet this very proof is lacking in most cases.'), 'simulation': [[0.0, 0.784, 0.0, 0.0, 0.0, 0.0, 0.43999999999999995, 0.0, 0.0, 0.0, 0.0, 0.244], [0.38630020474516136, 1.102419894482849, 0.37442007475893196, 0.48747711766658286, 0.4610068979985487, 0.48438549238139766, 0.821738882384954, 0.40313152858494733, 0.46848666943938744, 0.46001263038489154, 0.5165744184226144, 0.8807396205466466]], 'emotion dimension': ['ATTITUDE#acceptance', 'ATTITUDE#joy', 'ATTITUDE#pleasantness', 'INTROSPECTION#contentment', 'INTROSPECTION#ecstasy', 'INTROSPECTION#rage', 'POLARITY', 'SENSITIVITY#enthusiasm', 'SENSITIVITY#loathing', 'TEMPER', 'TEMPER#bliss', 'TEMPER#serenity']}</td>\n",
       "      <td>{'text': ('Patients do often report relief of their complaints after such treatments.', 'Patients do often report relief of their complaints after such treatments.'), 'simulation': [[0.0, 0.0, 0.0, 0.0, 0.936, 0.0, 0.46075, 0.0, 0.0, -0.153, 0.999, 0.214], [0.46728179396669844, 0.4612113999214767, 0.5274762031532605, 0.3759768173534173, 1.3230494163856075, 0.4861784552811638, 0.9219804058651362, 0.475059218314256, 0.5664913886027481, 0.17253479452372095, 1.3141795062182902, 0.3261388721426028]], 'emotion dimension': ['ATTITUDE#acceptance', 'ATTITUDE#joy', 'ATTITUDE#pleasantness', 'INTROSPECTION#contentment', 'INTROSPECTION#ecstasy', 'INTROSPECTION#rage', 'POLARITY', 'SENSITIVITY#enthusiasm', 'SENSITIVITY#loathing', 'TEMPER', 'TEMPER#bliss', 'TEMPER#serenity']}</td>\n",
       "      <td>{'text': ('But as long as it is unclear as to how this works, the funds should rather be spent on therapies where one knows with certainty.', 'But as long as it is unclear as to how this works, the funds should rather be spent on therapies where one knows with certainty.'), 'simulation': [[0.0, 0.0, 0.0, 0.298, 0.937, -0.844, 0.22216666666666665, 0.992, -0.856, 0.0, 0.0, 0.0], [0.22596006814451533, 0.24944079356708987, 0.286934390314892, 0.3891802280408624, 0.8015382336989165, -0.13184476787776095, 0.3787609715946893, 0.7547618997340996, -0.16114214612644687, 0.24127693092885483, 0.16321882960721806, 0.2559451229085532]], 'emotion dimension': ['ATTITUDE#acceptance', 'ATTITUDE#joy', 'ATTITUDE#pleasantness', 'INTROSPECTION#contentment', 'INTROSPECTION#ecstasy', 'INTROSPECTION#rage', 'POLARITY', 'SENSITIVITY#enthusiasm', 'SENSITIVITY#loathing', 'TEMPER', 'TEMPER#bliss', 'TEMPER#serenity']}</td>\n",
       "    </tr>\n",
       "  </tbody>\n",
       "</table>\n",
       "</div>"
      ],
      "text/plain": [
       "                                                                                                                                                                                                                                                                                                                                                                                                                                                                                                                                                                                                                                                                                                                                                                                                                                          0  \\\n",
       "0  {'text': ('Health insurance companies should not cover treatment in complementary medicine', 'Health insurance companies should not cover treatment in complementary medicine'), 'simulation': [[0.274, 0.0, 0.0, 0.18, 0.9206666666666666, 0.0, 0.38733333333333336, 0.0, -0.856, 0.0, 0.0, 0.0], [0.6123338860481721, 0.43200086611432215, 0.5047677981435976, 0.676041237528495, 1.0755246949311401, 0.36680705870743013, 0.7032712903149382, 0.30607038282665866, -0.30273462583650096, 0.4561038812236383, 0.3236915515048543, 0.41911426772728777]], 'emotion dimension': ['ATTITUDE#acceptance', 'ATTITUDE#joy', 'ATTITUDE#pleasantness', 'INTROSPECTION#contentment', 'INTROSPECTION#ecstasy', 'INTROSPECTION#rage', 'POLARITY', 'SENSITIVITY#enthusiasm', 'SENSITIVITY#loathing', 'TEMPER', 'TEMPER#bliss', 'TEMPER#serenity']}   \n",
       "\n",
       "                                                                                                                                                                                                                                                                                                                                                                                                                                                                                                                                                                                                                                                                                                                                                                                                                         1  \\\n",
       "0  {'text': ('unless the promised effect and its medical benefit have been concretely proven.', 'unless the promised effect and its medical benefit have been concretely proven.'), 'simulation': [[0.246, 0.0, 0.587, 0.0, 0.947, 0.0, 0.6833333333333332, 0.877, 0.0, 0.0, 0.94, 0.0], [0.9496669381013033, 0.7860011537540995, 1.2615320677748818, 0.7469113304300842, 1.5898011814725286, 0.7331479979081074, 1.6294839292405003, 1.0621171619846121, 0.7454620304978522, 0.8412527824565593, 1.1950543095301018, 0.23297490326396067]], 'emotion dimension': ['ATTITUDE#acceptance', 'ATTITUDE#joy', 'ATTITUDE#pleasantness', 'INTROSPECTION#contentment', 'INTROSPECTION#ecstasy', 'INTROSPECTION#rage', 'POLARITY', 'SENSITIVITY#enthusiasm', 'SENSITIVITY#loathing', 'TEMPER', 'TEMPER#bliss', 'TEMPER#serenity']}   \n",
       "\n",
       "                                                                                                                                                                                                                                                                                                                                                                                                                                                                                                                                                                                                                                                                                                                                                     2  \\\n",
       "0  {'text': ('Yet this very proof is lacking in most cases.', 'Yet this very proof is lacking in most cases.'), 'simulation': [[0.0, 0.784, 0.0, 0.0, 0.0, 0.0, 0.43999999999999995, 0.0, 0.0, 0.0, 0.0, 0.244], [0.38630020474516136, 1.102419894482849, 0.37442007475893196, 0.48747711766658286, 0.4610068979985487, 0.48438549238139766, 0.821738882384954, 0.40313152858494733, 0.46848666943938744, 0.46001263038489154, 0.5165744184226144, 0.8807396205466466]], 'emotion dimension': ['ATTITUDE#acceptance', 'ATTITUDE#joy', 'ATTITUDE#pleasantness', 'INTROSPECTION#contentment', 'INTROSPECTION#ecstasy', 'INTROSPECTION#rage', 'POLARITY', 'SENSITIVITY#enthusiasm', 'SENSITIVITY#loathing', 'TEMPER', 'TEMPER#bliss', 'TEMPER#serenity']}   \n",
       "\n",
       "                                                                                                                                                                                                                                                                                                                                                                                                                                                                                                                                                                                                                                                                                                                                                                                                    3  \\\n",
       "0  {'text': ('Patients do often report relief of their complaints after such treatments.', 'Patients do often report relief of their complaints after such treatments.'), 'simulation': [[0.0, 0.0, 0.0, 0.0, 0.936, 0.0, 0.46075, 0.0, 0.0, -0.153, 0.999, 0.214], [0.46728179396669844, 0.4612113999214767, 0.5274762031532605, 0.3759768173534173, 1.3230494163856075, 0.4861784552811638, 0.9219804058651362, 0.475059218314256, 0.5664913886027481, 0.17253479452372095, 1.3141795062182902, 0.3261388721426028]], 'emotion dimension': ['ATTITUDE#acceptance', 'ATTITUDE#joy', 'ATTITUDE#pleasantness', 'INTROSPECTION#contentment', 'INTROSPECTION#ecstasy', 'INTROSPECTION#rage', 'POLARITY', 'SENSITIVITY#enthusiasm', 'SENSITIVITY#loathing', 'TEMPER', 'TEMPER#bliss', 'TEMPER#serenity']}   \n",
       "\n",
       "                                                                                                                                                                                                                                                                                                                                                                                                                                                                                                                                                                                                                                                                                                                                                                                                                                                                                                                                     4  \n",
       "0  {'text': ('But as long as it is unclear as to how this works, the funds should rather be spent on therapies where one knows with certainty.', 'But as long as it is unclear as to how this works, the funds should rather be spent on therapies where one knows with certainty.'), 'simulation': [[0.0, 0.0, 0.0, 0.298, 0.937, -0.844, 0.22216666666666665, 0.992, -0.856, 0.0, 0.0, 0.0], [0.22596006814451533, 0.24944079356708987, 0.286934390314892, 0.3891802280408624, 0.8015382336989165, -0.13184476787776095, 0.3787609715946893, 0.7547618997340996, -0.16114214612644687, 0.24127693092885483, 0.16321882960721806, 0.2559451229085532]], 'emotion dimension': ['ATTITUDE#acceptance', 'ATTITUDE#joy', 'ATTITUDE#pleasantness', 'INTROSPECTION#contentment', 'INTROSPECTION#ecstasy', 'INTROSPECTION#rage', 'POLARITY', 'SENSITIVITY#enthusiasm', 'SENSITIVITY#loathing', 'TEMPER', 'TEMPER#bliss', 'TEMPER#serenity']}  "
      ]
     },
     "execution_count": 30,
     "metadata": {},
     "output_type": "execute_result"
    }
   ],
   "source": [
    "results = pd.DataFrame.from_dict(results)\n",
    "results"
   ]
  }
 ],
 "metadata": {
  "kernelspec": {
   "display_name": ".venv",
   "language": "python",
   "name": "python3"
  },
  "language_info": {
   "codemirror_mode": {
    "name": "ipython",
    "version": 3
   },
   "file_extension": ".py",
   "mimetype": "text/x-python",
   "name": "python",
   "nbconvert_exporter": "python",
   "pygments_lexer": "ipython3",
   "version": "3.10.9"
  }
 },
 "nbformat": 4,
 "nbformat_minor": 2
}
