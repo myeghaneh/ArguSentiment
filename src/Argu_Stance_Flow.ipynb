{
 "cells": [
  {
   "cell_type": "markdown",
   "metadata": {},
   "source": [
    "##### Fluid Dynamics-Inspired Emotional Analysis & Sentiment Flow for Argumentation Mining (AM)\n",
    "- claculate flow in each datasets to get insights\n"
   ]
  },
  {
   "cell_type": "markdown",
   "metadata": {},
   "source": []
  },
  {
   "cell_type": "code",
   "execution_count": 2,
   "metadata": {},
   "outputs": [],
   "source": [
    "import shutil\n",
    "import pandas as pd\n",
    "from SentimentFlow import SpeechProcessor\n",
    "from SentimentFlow import SentimentFlowCalculator\n",
    "#https://github.com.mcas.ms/dpicca/SentimentFlow\n",
    "pd.set_option(\"display.max_colwidth\", None)\n",
    "import numpy as np\n",
    "import matplotlib.pyplot as plt\n",
    "from ipywidgets import interact, interactive, fixed, interact_manual, IntSlider\n",
    "import ipywidgets as widgets\n",
    "import os\n",
    "import spacy\n",
    "from nrclex import NRCLex\n",
    "\n",
    "import pandas as pd\n",
    "import spacy\n",
    "from nrclex import NRCLex\n",
    "import plotly.express as px\n",
    "\n",
    "from sklearn.model_selection import train_test_split\n",
    "from sklearn.ensemble import RandomForestClassifier\n",
    "from sklearn.metrics import accuracy_score, classification_report, confusion_matrix\n",
    "\n",
    "from sklearn.ensemble import RandomForestClassifier\n",
    "from sklearn.svm import SVC\n",
    "from sklearn.dummy import DummyClassifier\n",
    "from sklearn.feature_extraction.text import TfidfVectorizer\n",
    "from sklearn.preprocessing import LabelEncoder\n",
    "\n",
    "from SentimentFlow import SpeechProcessor\n",
    "from SentimentFlow import SentimentFlowCalculator\n",
    "\n",
    "from textblob import TextBlob"
   ]
  },
  {
   "cell_type": "markdown",
   "metadata": {},
   "source": [
    "- https://aclanthology.org/2024.mathnlp-1.2.pdf"
   ]
  },
  {
   "cell_type": "markdown",
   "metadata": {},
   "source": [
    "# Argumentative Microtext Part 1"
   ]
  },
  {
   "cell_type": "markdown",
   "metadata": {},
   "source": [
    "we've done a extensive pre-processing on microtext to extract all layers of annotations. The focus is stance classifcation "
   ]
  },
  {
   "cell_type": "code",
   "execution_count": 3,
   "metadata": {},
   "outputs": [],
   "source": [
    "df = pd.read_json(\"../data/dfMT-PC_SA_CP_topicID_AduType.json\") "
   ]
  },
  {
   "cell_type": "code",
   "execution_count": 4,
   "metadata": {},
   "outputs": [
    {
     "name": "stdout",
     "output_type": "stream",
     "text": [
      "<class 'pandas.core.frame.DataFrame'>\n",
      "Index: 112 entries, 0 to 111\n",
      "Data columns (total 6 columns):\n",
      " #   Column     Non-Null Count  Dtype \n",
      "---  ------     --------------  ----- \n",
      " 0   EDU        112 non-null    object\n",
      " 1   adu_type   112 non-null    object\n",
      " 2   topic_id   89 non-null     object\n",
      " 3   Relations  112 non-null    object\n",
      " 4   Label      112 non-null    object\n",
      " 5   STANCE     89 non-null     object\n",
      "dtypes: object(6)\n",
      "memory usage: 6.1+ KB\n"
     ]
    }
   ],
   "source": [
    "df.info()"
   ]
  },
  {
   "cell_type": "code",
   "execution_count": 5,
   "metadata": {},
   "outputs": [
    {
     "data": {
      "text/html": [
       "<div>\n",
       "<style scoped>\n",
       "    .dataframe tbody tr th:only-of-type {\n",
       "        vertical-align: middle;\n",
       "    }\n",
       "\n",
       "    .dataframe tbody tr th {\n",
       "        vertical-align: top;\n",
       "    }\n",
       "\n",
       "    .dataframe thead th {\n",
       "        text-align: right;\n",
       "    }\n",
       "</style>\n",
       "<table border=\"1\" class=\"dataframe\">\n",
       "  <thead>\n",
       "    <tr style=\"text-align: right;\">\n",
       "      <th></th>\n",
       "      <th>EDU</th>\n",
       "      <th>adu_type</th>\n",
       "      <th>topic_id</th>\n",
       "      <th>Relations</th>\n",
       "      <th>Label</th>\n",
       "      <th>STANCE</th>\n",
       "    </tr>\n",
       "  </thead>\n",
       "  <tbody>\n",
       "    <tr>\n",
       "      <th>0</th>\n",
       "      <td>[Yes, it's annoying and cumbersome to separate your rubbish properly all the time., Three different bin bags stink away in the kitchen and have to be sorted into different wheelie bins., But still Germany produces way too much rubbish, and too many resources are lost when what actually should be separated and recycled is burnt., We Berliners should take the chance and become pioneers in waste separation!]</td>\n",
       "      <td>[opp, opp, pro, pro, pro]</td>\n",
       "      <td>waste_separation</td>\n",
       "      <td>[[a1, a5, reb], [a2, a1, sup], [a3, c1, und], [a4, c3, add]]</td>\n",
       "      <td>[0, 0, 0, 0, 1]</td>\n",
       "      <td>pro</td>\n",
       "    </tr>\n",
       "    <tr>\n",
       "      <th>1</th>\n",
       "      <td>[One can hardly move in Friedrichshain or Neukölln these days without permanently scanning the ground for dog dirt., And when bad luck does strike and you step into one of the many 'land mines' you have to painstakingly scrape the remains off your soles., Higher fines are therefore the right measure against negligent, lazy or simply thoughtless dog owners., Of course, first they'd actually need to be caught in the act by public order officers,, but once they have to dig into their pockets, their laziness will sure vanish!]</td>\n",
       "      <td>[pro, pro, pro, opp, pro]</td>\n",
       "      <td>higher_dog_poo_fines</td>\n",
       "      <td>[[a1, a3, sup], [a2, a3, sup], [a4, a3, reb], [a5, c4, und]]</td>\n",
       "      <td>[0, 0, 1, 0, 0]</td>\n",
       "      <td>pro</td>\n",
       "    </tr>\n",
       "    <tr>\n",
       "      <th>2</th>\n",
       "      <td>[Health insurance companies should not cover treatment in complementary medicine, unless the promised effect and its medical benefit have been concretely proven., Yet this very proof is lacking in most cases., Patients do often report relief of their complaints after such treatments., But as long as it is unclear as to how this works, the funds should rather be spent on therapies where one knows with certainty.]</td>\n",
       "      <td>[pro, opp, pro, opp, pro]</td>\n",
       "      <td>health_insurance_cover_complementary_medicine</td>\n",
       "      <td>[[a2, a1, reb], [a3, a2, reb], [a4, a1, reb], [a5, c4, und]]</td>\n",
       "      <td>[1, 0, 0, 0, 0]</td>\n",
       "      <td>con</td>\n",
       "    </tr>\n",
       "    <tr>\n",
       "      <th>3</th>\n",
       "      <td>[Of course there are a number of programmes in public broadcasting that are not worth the licencing fee,, and others, such as “Musikantenstadl” and soap operas, are only interesting to certain audiences., Nevertheless, everybody should contribute to the funding of the public broadcasters in equal measure,, for we need general and independent media., After all we want to get our view of the world neither through the lens of the government nor through that of rich media entrepreneurs.]</td>\n",
       "      <td>[opp, opp, pro, pro, pro]</td>\n",
       "      <td>public_broadcasting_fees_on_demand</td>\n",
       "      <td>[[a1, a3, reb], [a2, a3, reb], [a4, a3, sup], [a5, a4, sup]]</td>\n",
       "      <td>[0, 0, 1, 0, 0]</td>\n",
       "      <td>con</td>\n",
       "    </tr>\n",
       "    <tr>\n",
       "      <th>4</th>\n",
       "      <td>[Intelligence services must urgently be regulated more tightly by parliament;, this should be clear to everyone after the disclosures of Edward Snowden., Granted, those concern primarily the British and American intelligence services,, but the German services evidently do collaborate with them closely., Their tools, data and expertise have been used to keep us under surveillance for a long time.]</td>\n",
       "      <td>[pro, pro, opp, pro, pro]</td>\n",
       "      <td>stricter_regulation_of_intelligence_services</td>\n",
       "      <td>[[a2, a1, sup], [a3, c2, und], [a4, c3, und], [a5, a4, sup]]</td>\n",
       "      <td>[1, 0, 0, 0, 0]</td>\n",
       "      <td>pro</td>\n",
       "    </tr>\n",
       "    <tr>\n",
       "      <th>5</th>\n",
       "      <td>[The death penalty is a legal means that as such is not practicable in Germany., For one thing, inviolable human dignity is anchored in our constitution,, and furthermore no one may have the right to adjudicate upon the death of another human being., Even if many people think that a murderer has already decided on the life or death of another person,, this is precisely the crime that we should not repay with the same.]</td>\n",
       "      <td>[pro, pro, pro, opp, pro]</td>\n",
       "      <td>introduce_capital_punishment</td>\n",
       "      <td>[[a2, a1, sup], [a3, a1, sup], [a4, a1, reb], [a5, c4, und]]</td>\n",
       "      <td>[1, 0, 0, 0, 0]</td>\n",
       "      <td>con</td>\n",
       "    </tr>\n",
       "    <tr>\n",
       "      <th>6</th>\n",
       "      <td>[Dog dirt on the pavement requires my complete, ground-focused attention on my way to work., This results in a lack of alertness in the road traffic comparable to a minor offense of the traffic regulations., That's why causing such obstacles must to be more urgently punished., Dog owners may think that dog dirt is only a harmless secretion of an animal like any other., Yet then they misjudge its impact on road traffic.]</td>\n",
       "      <td>[pro, pro, pro, opp, pro]</td>\n",
       "      <td>higher_dog_poo_fines</td>\n",
       "      <td>[[a1, a2, sup], [a2, a3, sup], [a4, a3, reb], [a5, a4, reb]]</td>\n",
       "      <td>[0, 0, 1, 0, 0]</td>\n",
       "      <td>pro</td>\n",
       "    </tr>\n",
       "    <tr>\n",
       "      <th>7</th>\n",
       "      <td>[Of course it would be nice and simple if after a fun night out with a party acquaintance you could simply take the 'morning-after pill' and feel at ease., But it's not that simple., Perhaps a new life was already created that night., I would kill it without further thought., That's why a visit to the doctor and professional advice should remain mandatory.]</td>\n",
       "      <td>[opp, pro, pro, pro, pro]</td>\n",
       "      <td>over_the_counter_morning_after_pill</td>\n",
       "      <td>[[a1, a5, reb], [a2, a1, reb], [a3, a2, sup], [a4, c3, add]]</td>\n",
       "      <td>[0, 0, 0, 0, 1]</td>\n",
       "      <td>con</td>\n",
       "    </tr>\n",
       "    <tr>\n",
       "      <th>8</th>\n",
       "      <td>[It is unfair and unjustifiable that new tenants have to pay a much higher rent than previous residents., Clearly the landlord has to pay for some repairs before a new lease., But surely these costs could be covered by a minimal increase in rent over the course of the entire lease., All the more so as for an adequate profit the rental rate as compared to the base rent need not be raised for every new lease.]</td>\n",
       "      <td>[pro, opp, pro, pro]</td>\n",
       "      <td>cap_rent_increases</td>\n",
       "      <td>[[a2, a1, reb], [a3, c2, und], [a4, a1, sup]]</td>\n",
       "      <td>[1, 0, 0, 0]</td>\n",
       "      <td>pro</td>\n",
       "    </tr>\n",
       "    <tr>\n",
       "      <th>9</th>\n",
       "      <td>[Alternative treatments should be subsidized in the same way as conventional treatments,, since both methods can lead to the prevention, mitigation or cure of an illness., Besides it should be in the interest of the health insurers to recognize alternative medicine as treatment,, since there is a chance of recovery., It doesn't matter after all that those who administer the treatment don't have 'doctor status'.]</td>\n",
       "      <td>[pro, pro, pro, pro, pro]</td>\n",
       "      <td>health_insurance_cover_complementary_medicine</td>\n",
       "      <td>[[a2, a1, sup], [a3, a1, sup], [a4, a3, sup], [a5, a1, sup]]</td>\n",
       "      <td>[1, 0, 0, 0, 0]</td>\n",
       "      <td>pro</td>\n",
       "    </tr>\n",
       "  </tbody>\n",
       "</table>\n",
       "</div>"
      ],
      "text/plain": [
       "                                                                                                                                                                                                                                                                                                                                                                                                                                                                                                                                                EDU  \\\n",
       "0                                                                                                                          [Yes, it's annoying and cumbersome to separate your rubbish properly all the time., Three different bin bags stink away in the kitchen and have to be sorted into different wheelie bins., But still Germany produces way too much rubbish, and too many resources are lost when what actually should be separated and recycled is burnt., We Berliners should take the chance and become pioneers in waste separation!]   \n",
       "1  [One can hardly move in Friedrichshain or Neukölln these days without permanently scanning the ground for dog dirt., And when bad luck does strike and you step into one of the many 'land mines' you have to painstakingly scrape the remains off your soles., Higher fines are therefore the right measure against negligent, lazy or simply thoughtless dog owners., Of course, first they'd actually need to be caught in the act by public order officers,, but once they have to dig into their pockets, their laziness will sure vanish!]   \n",
       "2                                                                                                                   [Health insurance companies should not cover treatment in complementary medicine, unless the promised effect and its medical benefit have been concretely proven., Yet this very proof is lacking in most cases., Patients do often report relief of their complaints after such treatments., But as long as it is unclear as to how this works, the funds should rather be spent on therapies where one knows with certainty.]   \n",
       "3                                          [Of course there are a number of programmes in public broadcasting that are not worth the licencing fee,, and others, such as “Musikantenstadl” and soap operas, are only interesting to certain audiences., Nevertheless, everybody should contribute to the funding of the public broadcasters in equal measure,, for we need general and independent media., After all we want to get our view of the world neither through the lens of the government nor through that of rich media entrepreneurs.]   \n",
       "4                                                                                                                                   [Intelligence services must urgently be regulated more tightly by parliament;, this should be clear to everyone after the disclosures of Edward Snowden., Granted, those concern primarily the British and American intelligence services,, but the German services evidently do collaborate with them closely., Their tools, data and expertise have been used to keep us under surveillance for a long time.]   \n",
       "5                                                                                                            [The death penalty is a legal means that as such is not practicable in Germany., For one thing, inviolable human dignity is anchored in our constitution,, and furthermore no one may have the right to adjudicate upon the death of another human being., Even if many people think that a murderer has already decided on the life or death of another person,, this is precisely the crime that we should not repay with the same.]   \n",
       "6                                                                                                           [Dog dirt on the pavement requires my complete, ground-focused attention on my way to work., This results in a lack of alertness in the road traffic comparable to a minor offense of the traffic regulations., That's why causing such obstacles must to be more urgently punished., Dog owners may think that dog dirt is only a harmless secretion of an animal like any other., Yet then they misjudge its impact on road traffic.]   \n",
       "7                                                                                                                                                                           [Of course it would be nice and simple if after a fun night out with a party acquaintance you could simply take the 'morning-after pill' and feel at ease., But it's not that simple., Perhaps a new life was already created that night., I would kill it without further thought., That's why a visit to the doctor and professional advice should remain mandatory.]   \n",
       "8                                                                                                                       [It is unfair and unjustifiable that new tenants have to pay a much higher rent than previous residents., Clearly the landlord has to pay for some repairs before a new lease., But surely these costs could be covered by a minimal increase in rent over the course of the entire lease., All the more so as for an adequate profit the rental rate as compared to the base rent need not be raised for every new lease.]   \n",
       "9                                                                                                                   [Alternative treatments should be subsidized in the same way as conventional treatments,, since both methods can lead to the prevention, mitigation or cure of an illness., Besides it should be in the interest of the health insurers to recognize alternative medicine as treatment,, since there is a chance of recovery., It doesn't matter after all that those who administer the treatment don't have 'doctor status'.]   \n",
       "\n",
       "                    adu_type                                       topic_id  \\\n",
       "0  [opp, opp, pro, pro, pro]                               waste_separation   \n",
       "1  [pro, pro, pro, opp, pro]                           higher_dog_poo_fines   \n",
       "2  [pro, opp, pro, opp, pro]  health_insurance_cover_complementary_medicine   \n",
       "3  [opp, opp, pro, pro, pro]             public_broadcasting_fees_on_demand   \n",
       "4  [pro, pro, opp, pro, pro]   stricter_regulation_of_intelligence_services   \n",
       "5  [pro, pro, pro, opp, pro]                   introduce_capital_punishment   \n",
       "6  [pro, pro, pro, opp, pro]                           higher_dog_poo_fines   \n",
       "7  [opp, pro, pro, pro, pro]            over_the_counter_morning_after_pill   \n",
       "8       [pro, opp, pro, pro]                             cap_rent_increases   \n",
       "9  [pro, pro, pro, pro, pro]  health_insurance_cover_complementary_medicine   \n",
       "\n",
       "                                                      Relations  \\\n",
       "0  [[a1, a5, reb], [a2, a1, sup], [a3, c1, und], [a4, c3, add]]   \n",
       "1  [[a1, a3, sup], [a2, a3, sup], [a4, a3, reb], [a5, c4, und]]   \n",
       "2  [[a2, a1, reb], [a3, a2, reb], [a4, a1, reb], [a5, c4, und]]   \n",
       "3  [[a1, a3, reb], [a2, a3, reb], [a4, a3, sup], [a5, a4, sup]]   \n",
       "4  [[a2, a1, sup], [a3, c2, und], [a4, c3, und], [a5, a4, sup]]   \n",
       "5  [[a2, a1, sup], [a3, a1, sup], [a4, a1, reb], [a5, c4, und]]   \n",
       "6  [[a1, a2, sup], [a2, a3, sup], [a4, a3, reb], [a5, a4, reb]]   \n",
       "7  [[a1, a5, reb], [a2, a1, reb], [a3, a2, sup], [a4, c3, add]]   \n",
       "8                 [[a2, a1, reb], [a3, c2, und], [a4, a1, sup]]   \n",
       "9  [[a2, a1, sup], [a3, a1, sup], [a4, a3, sup], [a5, a1, sup]]   \n",
       "\n",
       "             Label STANCE  \n",
       "0  [0, 0, 0, 0, 1]    pro  \n",
       "1  [0, 0, 1, 0, 0]    pro  \n",
       "2  [1, 0, 0, 0, 0]    con  \n",
       "3  [0, 0, 1, 0, 0]    con  \n",
       "4  [1, 0, 0, 0, 0]    pro  \n",
       "5  [1, 0, 0, 0, 0]    con  \n",
       "6  [0, 0, 1, 0, 0]    pro  \n",
       "7  [0, 0, 0, 0, 1]    con  \n",
       "8     [1, 0, 0, 0]    pro  \n",
       "9  [1, 0, 0, 0, 0]    pro  "
      ]
     },
     "execution_count": 5,
     "metadata": {},
     "output_type": "execute_result"
    }
   ],
   "source": [
    "df[0:10]   "
   ]
  },
  {
   "cell_type": "markdown",
   "metadata": {},
   "source": [
    "### A-NRC for emotion analysis  (Davida Package)"
   ]
  },
  {
   "cell_type": "code",
   "execution_count": 6,
   "metadata": {},
   "outputs": [],
   "source": [
    "def calculate_nrc(text):\n",
    "    \"\"\"Calculate NRC emotion frequencies for a given text.\"\"\"\n",
    "    nrc_sentiment = NRCLex(text)\n",
    "    affect_dict = nrc_sentiment.affect_frequencies\n",
    "\n",
    "    base_emotions = ['fear', 'anger', 'trust', 'surprise', \n",
    "                     'positive', 'negative', 'sadness', 'disgust', 'joy', \"anticipation\"]\n",
    "    \n",
    "    for emotion in base_emotions:\n",
    "        if emotion not in affect_dict:\n",
    "            affect_dict[emotion] = 0.0\n",
    "\n",
    "    return {emotion: affect_dict[emotion] for emotion in base_emotions}"
   ]
  },
  {
   "cell_type": "code",
   "execution_count": 7,
   "metadata": {},
   "outputs": [
    {
     "name": "stdout",
     "output_type": "stream",
     "text": [
      "[\"Yes, it's annoying and cumbersome to separate your rubbish properly all the time.\", 'Three different bin bags stink away in the kitchen and have to be sorted into different wheelie bins.', 'But still Germany produces way too much rubbish', 'and too many resources are lost when what actually should be separated and recycled is burnt.', 'We Berliners should take the chance and become pioneers in waste separation!'] \n",
      " ['opp', 'opp', 'pro', 'pro', 'pro']\n"
     ]
    }
   ],
   "source": [
    "print(df.EDU[0],\"\\n\", df.adu_type[0])"
   ]
  },
  {
   "cell_type": "code",
   "execution_count": 8,
   "metadata": {},
   "outputs": [
    {
     "data": {
      "text/plain": [
       "{'fear': 0.0,\n",
       " 'anger': 0.0,\n",
       " 'trust': 0.0,\n",
       " 'surprise': 0.3333333333333333,\n",
       " 'positive': 0.0,\n",
       " 'negative': 0.3333333333333333,\n",
       " 'sadness': 0.0,\n",
       " 'disgust': 0.3333333333333333,\n",
       " 'joy': 0.0,\n",
       " 'anticipation': 0.0}"
      ]
     },
     "execution_count": 8,
     "metadata": {},
     "output_type": "execute_result"
    }
   ],
   "source": [
    "calculate_nrc(df.EDU[0][4])#which feaure are usefull for stance classfication= "
   ]
  },
  {
   "cell_type": "markdown",
   "metadata": {},
   "source": [
    "# Argumentative Microtext Part 2"
   ]
  },
  {
   "cell_type": "code",
   "execution_count": 9,
   "metadata": {},
   "outputs": [],
   "source": [
    "df2 = pd.read_json(\"../data/dfMT2-PC_SA_CP_topicID_AduType.json\") "
   ]
  },
  {
   "cell_type": "markdown",
   "metadata": {},
   "source": []
  },
  {
   "cell_type": "code",
   "execution_count": 10,
   "metadata": {},
   "outputs": [
    {
     "name": "stdout",
     "output_type": "stream",
     "text": [
      "<class 'pandas.core.frame.DataFrame'>\n",
      "Index: 171 entries, 0 to 170\n",
      "Data columns (total 6 columns):\n",
      " #   Column     Non-Null Count  Dtype \n",
      "---  ------     --------------  ----- \n",
      " 0   EDU        171 non-null    object\n",
      " 1   adu_type   171 non-null    object\n",
      " 2   topic_id   171 non-null    object\n",
      " 3   Relations  171 non-null    object\n",
      " 4   Label      171 non-null    object\n",
      " 5   STANCE     171 non-null    object\n",
      "dtypes: object(6)\n",
      "memory usage: 9.4+ KB\n"
     ]
    }
   ],
   "source": [
    "df2.info()"
   ]
  },
  {
   "cell_type": "code",
   "execution_count": 11,
   "metadata": {},
   "outputs": [],
   "source": [
    "df3 = pd.read_json(\"../data/df_IBM.json\")   #work wore on extraction "
   ]
  },
  {
   "cell_type": "code",
   "execution_count": 12,
   "metadata": {},
   "outputs": [
    {
     "name": "stdout",
     "output_type": "stream",
     "text": [
      "<class 'pandas.core.frame.DataFrame'>\n",
      "Index: 55 entries, 0 to 54\n",
      "Data columns (total 5 columns):\n",
      " #   Column           Non-Null Count  Dtype \n",
      "---  ------           --------------  ----- \n",
      " 0   topic_id         55 non-null     object\n",
      " 1   EDU              55 non-null     object\n",
      " 2   adu_type         55 non-null     object\n",
      " 3   targetsRelation  55 non-null     object\n",
      " 4   Compatible       55 non-null     object\n",
      "dtypes: object(5)\n",
      "memory usage: 2.6+ KB\n"
     ]
    }
   ],
   "source": [
    "df3.info()"
   ]
  },
  {
   "cell_type": "code",
   "execution_count": 13,
   "metadata": {},
   "outputs": [
    {
     "data": {
      "text/html": [
       "<div>\n",
       "<style scoped>\n",
       "    .dataframe tbody tr th:only-of-type {\n",
       "        vertical-align: middle;\n",
       "    }\n",
       "\n",
       "    .dataframe tbody tr th {\n",
       "        vertical-align: top;\n",
       "    }\n",
       "\n",
       "    .dataframe thead th {\n",
       "        text-align: right;\n",
       "    }\n",
       "</style>\n",
       "<table border=\"1\" class=\"dataframe\">\n",
       "  <thead>\n",
       "    <tr style=\"text-align: right;\">\n",
       "      <th></th>\n",
       "      <th>topic_id</th>\n",
       "      <th>EDU</th>\n",
       "      <th>adu_type</th>\n",
       "      <th>targetsRelation</th>\n",
       "      <th>Compatible</th>\n",
       "    </tr>\n",
       "  </thead>\n",
       "  <tbody>\n",
       "    <tr>\n",
       "      <th>0</th>\n",
       "      <td>the sale of violent video games to minors</td>\n",
       "      <td>[exposure to violent video games causes at least a temporary increase in aggression and that this exposure correlates with aggression in the real world, video game violence is not related to serious aggressive behavior in real life, some violent video games may actually have a prosocial effect in some contexts, exposure to violent video games causes both short term and long term aggression in players and decreases empathy and prosocial behavior, they increase the violent tendencies among youth, have shown no conclusive link between video game usage and violent activity, violent video games are significantly associated with: increased aggressive behavior, thoughts, and affect; increased physiological arousal; and decreased pro-social (helping) behavior, video game publishers unethically train children in the use of weapons and, more importantly, harden them emotionally to the act of murder, violent video games may increase mild forms of aggressive behavior in children and young adults, exposure to violent video games results in increased physiological arousal, aggression-related thoughts and feelings as well as decreased prosocial behavior, no long-term relationship between playing violent video game and youth violence or bullying, aggressive children tend to select more violent video games, not the inverse, no evidence violent games are psychologically harmful to minors, adolescents that don't play video games at all are most at-risk for violent behavior, video game play is part of an adolescent boy's normal social setting, Other biological theories of aggression and violence have specifically excluded video game and other media effects, Reinforcement of sexist stereotypes has also been claimed as an effect of violent video games, a correlation between children playing violent video games and suffering psychological effects, violent video games can increase children's aggression, media influences are too weak and distant to have much influence, violent video games promote violent behavior, attitudes and beliefs by desensitizing an individual to aggression, Excessive exposure to violent video games and other violent media has been linked to aggressive behaviour, neurological link between playing violent video games and aggressive behaviour in children and teenagers, there was no direct link between violent video games and their influence on children, Video games also develop the individual's intelligence, violent games help students deal with stress and aggression, violent games affect students positively and not negatively, many skills can be learned from the gaming experience, it builds practical and intellectual skills, media cannot cause violence because humans have the ability to recognize what is wrong, and what is right, video games have many healthy and positive aspects, they can be a safe outlet for aggression and frustration, violent video games are influencing their children's view about violence, Various games have been accused of causing addiction and even violent behavior, exposure to graphic violence leads to desensitization to committing acts of violence in person, violence in games hardens children to unethical acts, children may imitate aggressive behaviors witnessed in media, children don't automatically imitate aggression, but rather consider the context of aggression, societal media consumption and violent crime rates are not well associated, media violence may increase aggression, evidence for harmful effects were inconclusive, violent video games—especially first-person shooter games—encouraged real-life acts of violence in teenagers, video games allow children to act out crimes, violence in video games is not causally linked with aggressive tendencies, correlations between violent gameplay and some common childhood problems, most children who play violent games do not have problems, many creative, social and emotional benefits from video game play—even games with violent content, not all depictions of violence are even bad to witness, no connection between exposure to media violence and real life violence, heavy exposure to media violence can lead to more aggressive behavior, exposure alone does not cause a child to commit crimes, there is no convincing evidence that prove that media violence cause violent crime or any type of real life violence, violent video games[REF] is related to increased aggressiveness in children, numerous researchers have proposed potential positive effects of video games, computer games cause violence, a correlation between violent content conveyed through media (including videogames) and violent or aggressive behavior, Some serious psychological problems have been attributed to desensitization to violence in video games, video games were protected speech under the First Amendment, there was a connection between video games and violence, content-based regulations are presumptively invalid, no evidence linked video games to youth violence, there was no \"compelling\" link between violent video games and its effects on children, content-based restrictions on games are unconstitutional, parents, not government bureaucrats, have the right to decide what is appropriate for their children, states should have the “right to regulate the sale of video games [that are violent] in order to protect minors, parents should make the decision” about what video games they purchase for their children, and what constitutes “too violent, states do not have the right to decide that some video games are too violent for [minors, violent games cause youth violence, a high degree of relationship between violent games and youth violence, video game violence leads to youth violence, video game content was a form of freedom of expression, there is social utility in expressive and imaginative forms of entertainment, even if they contain violence, there are tangible benefits to violence in action games]</td>\n",
       "      <td>[PRO, CON, CON, PRO, PRO, CON, PRO, PRO, PRO, PRO, CON, CON, CON, CON, CON, CON, PRO, PRO, PRO, CON, PRO, PRO, PRO, CON, CON, CON, CON, CON, CON, CON, CON, PRO, PRO, PRO, PRO, PRO, CON, CON, PRO, CON, PRO, PRO, CON, PRO, CON, CON, CON, CON, PRO, CON, CON, PRO, CON, PRO, PRO, PRO, CON, PRO, CON, CON, CON, CON, CON, PRO, CON, CON, PRO, PRO, PRO, CON, CON, CON]</td>\n",
       "      <td>[1, 1, 1, 1, 1, 1, 1, 1, 1, 1, 1, None, 1, -1, 1, 1, 1, 1, 1, 1, 1, 1, 1, 1, 1, 1, 1, 1, 1, 1, 1, 1, 1, 1, 1, 1, None, 1, 1, None, 1, 1, 1, 1, 1, 1, 1, 1, 1, 1, 1, 1, 1, 1, 1, 1, 1, 1, -1, 1, 1, -1, None, -1, None, None, 1, 1, 1, 1, 1, 1]</td>\n",
       "      <td>[yes, yes, yes, yes, yes, yes, yes, yes, yes, yes, yes, no, yes, yes, yes, yes, yes, yes, yes, yes, yes, yes, yes, yes, yes, yes, yes, yes, yes, yes, yes, yes, yes, yes, yes, yes, no, yes, yes, no, yes, yes, yes, yes, yes, yes, yes, yes, yes, yes, yes, yes, yes, yes, yes, yes, yes, yes, yes, yes, yes, yes, no, yes, no, no, yes, yes, yes, yes, yes, yes]</td>\n",
       "    </tr>\n",
       "  </tbody>\n",
       "</table>\n",
       "</div>"
      ],
      "text/plain": [
       "                                    topic_id  \\\n",
       "0  the sale of violent video games to minors   \n",
       "\n",
       "                                                                                                                                                                                                                                                                                                                                                                                                                                                                                                                                                                                                                                                                                                                                                                                                                                                                                                                                                                                                                                                                                                                                                                                                                                                                                                                                                                                                                                                                                                                                                                                                                                                                                                                                                                                                                                                                                                                                                                                                                                                                                                                                                                                                                                                                                                                                                                                                                                                                                                                                                                                                                                                                                                                                                                                                                                                                                                                                                                                                                                                                                                                                                                                                                                                                                                                                                                                                                                                                                                                                                                                                                                                                                                                                                                                                                                                                                                                                                                                                                                                                                                                                                                                                                                                                                                                                                                                                                                                                                                                                                                                                                                                                                                                                                                                                                                                                                                                                                                                                                                                                                                                                                                                                                                                                                                                                                                                                                                                                                                                                                                                                                                                                                                                                                                                                                                                                                                                                                                                                                                                                                                                                                                            EDU  \\\n",
       "0  [exposure to violent video games causes at least a temporary increase in aggression and that this exposure correlates with aggression in the real world, video game violence is not related to serious aggressive behavior in real life, some violent video games may actually have a prosocial effect in some contexts, exposure to violent video games causes both short term and long term aggression in players and decreases empathy and prosocial behavior, they increase the violent tendencies among youth, have shown no conclusive link between video game usage and violent activity, violent video games are significantly associated with: increased aggressive behavior, thoughts, and affect; increased physiological arousal; and decreased pro-social (helping) behavior, video game publishers unethically train children in the use of weapons and, more importantly, harden them emotionally to the act of murder, violent video games may increase mild forms of aggressive behavior in children and young adults, exposure to violent video games results in increased physiological arousal, aggression-related thoughts and feelings as well as decreased prosocial behavior, no long-term relationship between playing violent video game and youth violence or bullying, aggressive children tend to select more violent video games, not the inverse, no evidence violent games are psychologically harmful to minors, adolescents that don't play video games at all are most at-risk for violent behavior, video game play is part of an adolescent boy's normal social setting, Other biological theories of aggression and violence have specifically excluded video game and other media effects, Reinforcement of sexist stereotypes has also been claimed as an effect of violent video games, a correlation between children playing violent video games and suffering psychological effects, violent video games can increase children's aggression, media influences are too weak and distant to have much influence, violent video games promote violent behavior, attitudes and beliefs by desensitizing an individual to aggression, Excessive exposure to violent video games and other violent media has been linked to aggressive behaviour, neurological link between playing violent video games and aggressive behaviour in children and teenagers, there was no direct link between violent video games and their influence on children, Video games also develop the individual's intelligence, violent games help students deal with stress and aggression, violent games affect students positively and not negatively, many skills can be learned from the gaming experience, it builds practical and intellectual skills, media cannot cause violence because humans have the ability to recognize what is wrong, and what is right, video games have many healthy and positive aspects, they can be a safe outlet for aggression and frustration, violent video games are influencing their children's view about violence, Various games have been accused of causing addiction and even violent behavior, exposure to graphic violence leads to desensitization to committing acts of violence in person, violence in games hardens children to unethical acts, children may imitate aggressive behaviors witnessed in media, children don't automatically imitate aggression, but rather consider the context of aggression, societal media consumption and violent crime rates are not well associated, media violence may increase aggression, evidence for harmful effects were inconclusive, violent video games—especially first-person shooter games—encouraged real-life acts of violence in teenagers, video games allow children to act out crimes, violence in video games is not causally linked with aggressive tendencies, correlations between violent gameplay and some common childhood problems, most children who play violent games do not have problems, many creative, social and emotional benefits from video game play—even games with violent content, not all depictions of violence are even bad to witness, no connection between exposure to media violence and real life violence, heavy exposure to media violence can lead to more aggressive behavior, exposure alone does not cause a child to commit crimes, there is no convincing evidence that prove that media violence cause violent crime or any type of real life violence, violent video games[REF] is related to increased aggressiveness in children, numerous researchers have proposed potential positive effects of video games, computer games cause violence, a correlation between violent content conveyed through media (including videogames) and violent or aggressive behavior, Some serious psychological problems have been attributed to desensitization to violence in video games, video games were protected speech under the First Amendment, there was a connection between video games and violence, content-based regulations are presumptively invalid, no evidence linked video games to youth violence, there was no \"compelling\" link between violent video games and its effects on children, content-based restrictions on games are unconstitutional, parents, not government bureaucrats, have the right to decide what is appropriate for their children, states should have the “right to regulate the sale of video games [that are violent] in order to protect minors, parents should make the decision” about what video games they purchase for their children, and what constitutes “too violent, states do not have the right to decide that some video games are too violent for [minors, violent games cause youth violence, a high degree of relationship between violent games and youth violence, video game violence leads to youth violence, video game content was a form of freedom of expression, there is social utility in expressive and imaginative forms of entertainment, even if they contain violence, there are tangible benefits to violence in action games]   \n",
       "\n",
       "                                                                                                                                                                                                                                                                                                                                                                   adu_type  \\\n",
       "0  [PRO, CON, CON, PRO, PRO, CON, PRO, PRO, PRO, PRO, CON, CON, CON, CON, CON, CON, PRO, PRO, PRO, CON, PRO, PRO, PRO, CON, CON, CON, CON, CON, CON, CON, CON, PRO, PRO, PRO, PRO, PRO, CON, CON, PRO, CON, PRO, PRO, CON, PRO, CON, CON, CON, CON, PRO, CON, CON, PRO, CON, PRO, PRO, PRO, CON, PRO, CON, CON, CON, CON, CON, PRO, CON, CON, PRO, PRO, PRO, CON, CON, CON]   \n",
       "\n",
       "                                                                                                                                                                                                                                  targetsRelation  \\\n",
       "0  [1, 1, 1, 1, 1, 1, 1, 1, 1, 1, 1, None, 1, -1, 1, 1, 1, 1, 1, 1, 1, 1, 1, 1, 1, 1, 1, 1, 1, 1, 1, 1, 1, 1, 1, 1, None, 1, 1, None, 1, 1, 1, 1, 1, 1, 1, 1, 1, 1, 1, 1, 1, 1, 1, 1, 1, 1, -1, 1, 1, -1, None, -1, None, None, 1, 1, 1, 1, 1, 1]   \n",
       "\n",
       "                                                                                                                                                                                                                                                                                                                                                           Compatible  \n",
       "0  [yes, yes, yes, yes, yes, yes, yes, yes, yes, yes, yes, no, yes, yes, yes, yes, yes, yes, yes, yes, yes, yes, yes, yes, yes, yes, yes, yes, yes, yes, yes, yes, yes, yes, yes, yes, no, yes, yes, no, yes, yes, yes, yes, yes, yes, yes, yes, yes, yes, yes, yes, yes, yes, yes, yes, yes, yes, yes, yes, yes, yes, no, yes, no, no, yes, yes, yes, yes, yes, yes]  "
      ]
     },
     "execution_count": 13,
     "metadata": {},
     "output_type": "execute_result"
    }
   ],
   "source": [
    "df3.head(1)"
   ]
  },
  {
   "cell_type": "code",
   "execution_count": 14,
   "metadata": {},
   "outputs": [],
   "source": [
    "def convert_list(lst):\n",
    "    return ['pro' if item == 'PRO' else 'opp' for item in lst]\n",
    "\n",
    "df3['adu_type'] = df3['adu_type'].apply(convert_list)"
   ]
  },
  {
   "cell_type": "code",
   "execution_count": 15,
   "metadata": {},
   "outputs": [],
   "source": [
    "def handle_mismatched_rows(df):\n",
    "    mismatched_rows = df[df.apply(lambda row: len(row['EDU']) != len(row['adu_type']), axis=1)]\n",
    "    \n",
    "    #if not mismatched_rows.empty:\n",
    "    #    print(f\"Found {len(mismatched_rows)} rows with mismatched list lengths.\")\n",
    "    #    print(mismatched_rows)\n",
    "    \n",
    "    df = df[df.apply(lambda row: len(row['EDU']) == len(row['adu_type']), axis=1)]\n",
    "    \n",
    "    return df"
   ]
  },
  {
   "cell_type": "code",
   "execution_count": 16,
   "metadata": {},
   "outputs": [],
   "source": [
    "df2_new = handle_mismatched_rows(df2)"
   ]
  },
  {
   "cell_type": "code",
   "execution_count": 17,
   "metadata": {},
   "outputs": [
    {
     "name": "stdout",
     "output_type": "stream",
     "text": [
      "<class 'pandas.core.frame.DataFrame'>\n",
      "Index: 144 entries, 0 to 170\n",
      "Data columns (total 6 columns):\n",
      " #   Column     Non-Null Count  Dtype \n",
      "---  ------     --------------  ----- \n",
      " 0   EDU        144 non-null    object\n",
      " 1   adu_type   144 non-null    object\n",
      " 2   topic_id   144 non-null    object\n",
      " 3   Relations  144 non-null    object\n",
      " 4   Label      144 non-null    object\n",
      " 5   STANCE     144 non-null    object\n",
      "dtypes: object(6)\n",
      "memory usage: 7.9+ KB\n"
     ]
    }
   ],
   "source": [
    "df2_new.info()"
   ]
  },
  {
   "cell_type": "markdown",
   "metadata": {},
   "source": [
    "# ### B-Senticnet for emotion analysis (Davida Package)"
   ]
  },
  {
   "cell_type": "code",
   "execution_count": 18,
   "metadata": {},
   "outputs": [],
   "source": [
    "def calculate_senticnet(text):\n",
    "    processor = SpeechProcessor('../../data/senticnet/senticnet2.tsv')\n",
    "    df_sc_sentiment = processor.process_texts(pd.Series(text)) \n",
    "    print(df_sc_sentiment)\n",
    "    df_sc_sentiment.columns = df_sc_sentiment.columns.str.replace('#', '_')\n",
    "    \n",
    "    expected_keys = [\"INTROSPECTION_ecstasy\", \"TEMPER\", \"SENSITIVITY\", \"ATTITUDE\", \"TEMPER_calmness\", \"POLARITY\"]\n",
    "    dict_sc_sentiment = {key: df_sc_sentiment[key].values[0] if key in df_sc_sentiment else 0 for key in expected_keys}\n",
    "\n",
    "    return dict_sc_sentiment\n"
   ]
  },
  {
   "cell_type": "code",
   "execution_count": 19,
   "metadata": {},
   "outputs": [
    {
     "name": "stderr",
     "output_type": "stream",
     "text": [
      "03-Apr-25 16:56:36 - Starting to process\n"
     ]
    },
    {
     "data": {
      "application/vnd.jupyter.widget-view+json": {
       "model_id": "3b45d370536042a5a923670bc1257f30",
       "version_major": 2,
       "version_minor": 0
      },
      "text/plain": [
       "Processing texts:   0%|          | 0/1 [00:00<?, ?it/s]"
      ]
     },
     "metadata": {},
     "output_type": "display_data"
    },
    {
     "name": "stderr",
     "output_type": "stream",
     "text": [
      "03-Apr-25 16:56:37 - Saving results to results/processed_texts.csv\n"
     ]
    },
    {
     "name": "stdout",
     "output_type": "stream",
     "text": [
      "                                                                                text  \\\n",
      "0  Yes, it's annoying and cumbersome to separate your rubbish properly all the time.   \n",
      "\n",
      "   INTROSPECTION#ecstasy  TEMPER  SENSITIVITY  ATTITUDE  TEMPER#calmness  \\\n",
      "0                  0.856   -0.33       -0.275    -0.596            0.552   \n",
      "\n",
      "   POLARITY  \n",
      "0    -0.078  \n"
     ]
    },
    {
     "data": {
      "text/plain": [
       "{'INTROSPECTION_ecstasy': 0.856,\n",
       " 'TEMPER': -0.33,\n",
       " 'SENSITIVITY': -0.275,\n",
       " 'ATTITUDE': -0.596,\n",
       " 'TEMPER_calmness': 0.552,\n",
       " 'POLARITY': -0.078}"
      ]
     },
     "execution_count": 19,
     "metadata": {},
     "output_type": "execute_result"
    }
   ],
   "source": [
    "calculate_senticnet(df.EDU[0][0])"
   ]
  },
  {
   "cell_type": "code",
   "execution_count": 30,
   "metadata": {},
   "outputs": [
    {
     "data": {
      "text/plain": [
       "[\"Yes, it's annoying and cumbersome to separate your rubbish properly all the time.\",\n",
       " 'Three different bin bags stink away in the kitchen and have to be sorted into different wheelie bins.',\n",
       " 'But still Germany produces way too much rubbish',\n",
       " 'and too many resources are lost when what actually should be separated and recycled is burnt.',\n",
       " 'We Berliners should take the chance and become pioneers in waste separation!']"
      ]
     },
     "execution_count": 30,
     "metadata": {},
     "output_type": "execute_result"
    }
   ],
   "source": [
    "df.EDU[0]"
   ]
  },
  {
   "cell_type": "code",
   "execution_count": 32,
   "metadata": {},
   "outputs": [
    {
     "name": "stderr",
     "output_type": "stream",
     "text": [
      "03-Apr-25 17:05:35 - Starting to process\n"
     ]
    },
    {
     "data": {
      "application/vnd.jupyter.widget-view+json": {
       "model_id": "5ab638e72f804058a135618d7eb0c44c",
       "version_major": 2,
       "version_minor": 0
      },
      "text/plain": [
       "Processing texts:   0%|          | 0/5 [00:00<?, ?it/s]"
      ]
     },
     "metadata": {},
     "output_type": "display_data"
    },
    {
     "name": "stderr",
     "output_type": "stream",
     "text": [
      "03-Apr-25 17:05:37 - Saving results to results/processed_texts.csv\n",
      "03-Apr-25 17:05:37 - Starting to calculate Navier-Stocker...\n"
     ]
    },
    {
     "name": "stdout",
     "output_type": "stream",
     "text": [
      "                                                                                                    text  \\\n",
      "0                      Yes, it's annoying and cumbersome to separate your rubbish properly all the time.   \n",
      "1  Three different bin bags stink away in the kitchen and have to be sorted into different wheelie bins.   \n",
      "2                                                        But still Germany produces way too much rubbish   \n",
      "3          and too many resources are lost when what actually should be separated and recycled is burnt.   \n",
      "4                           We Berliners should take the chance and become pioneers in waste separation!   \n",
      "\n",
      "   INTROSPECTION_ecstasy  TEMPER  SENSITIVITY  ATTITUDE  TEMPER_calmness  \\\n",
      "0                 0.8560   -0.33       -0.275    -0.596            0.552   \n",
      "1                 0.9610    0.00        0.000    -0.393            0.000   \n",
      "2                 0.8250    0.00        0.000    -0.596            0.000   \n",
      "3                 0.0000    0.00        0.000     0.000            0.000   \n",
      "4                 0.9195    0.00        0.000    -0.521            0.000   \n",
      "\n",
      "   POLARITY  INTROSPECTION_loathing  SENSITIVITY_enthusiasm  \\\n",
      "0 -0.078000                   0.000                   0.000   \n",
      "1 -0.092833                  -0.828                   0.948   \n",
      "2  0.105500                   0.000                   0.000   \n",
      "3 -0.231200                  -0.899                   0.918   \n",
      "4  0.093500                   0.000                   0.000   \n",
      "\n",
      "   SENSITIVITY_loathing  SENSITIVITY_eagerness  \n",
      "0                 0.000                  0.000  \n",
      "1                 0.000                  0.000  \n",
      "2                 0.000                  0.000  \n",
      "3                -0.856                  0.497  \n",
      "4                -0.856                  0.000  \n"
     ]
    },
    {
     "data": {
      "application/vnd.jupyter.widget-view+json": {
       "model_id": "a11f29a31466436e8ad13cbd7c65838d",
       "version_major": 2,
       "version_minor": 0
      },
      "text/plain": [
       "Calculating Navier-Stocker for texts:   0%|          | 0/5 [00:00<?, ?it/s]"
      ]
     },
     "metadata": {},
     "output_type": "display_data"
    },
    {
     "name": "stderr",
     "output_type": "stream",
     "text": [
      "h:\\moha\\NLP\\AM\\SA\\.venv\\lib\\site-packages\\SentimentFlow\\sentiment_analysis.py:250: ODEintWarning: Excess work done on this call (perhaps wrong Dfun type). Run with full_output = 1 to get quantitative information.\n",
      "  s = odeint(self._differential_equation, s0, t, args=(speech_info,))\n",
      "03-Apr-25 17:05:37 - Finished calculating texts.\n",
      "03-Apr-25 17:05:37 - Processed 5 texts.\n",
      "03-Apr-25 17:05:37 - Saving results to results/navier_stocker_text_results.json\n"
     ]
    },
    {
     "data": {
      "text/plain": [
       "{0: [{'text': (\"Yes, it's annoying and cumbersome to separate your rubbish properly all the time.\",\n",
       "    \"Yes, it's annoying and cumbersome to separate your rubbish properly all the time.\"),\n",
       "   'simulation': array([[-5.96000000e-01,  8.56000000e-01,  0.00000000e+00,\n",
       "           -7.80000000e-02, -2.75000000e-01,  0.00000000e+00,\n",
       "            0.00000000e+00,  0.00000000e+00, -3.30000000e-01,\n",
       "            5.52000000e-01],\n",
       "          [-1.63575859e+06,  1.14346568e+06, -2.85831766e-01,\n",
       "            6.48547461e+00, -3.09164562e-01, -9.98397970e-02,\n",
       "           -1.04553669e-01,  3.88781699e-02, -3.77871112e-01,\n",
       "            1.18225487e+00]]),\n",
       "   'emotion dimension': Index(['ATTITUDE', 'INTROSPECTION_ecstasy', 'INTROSPECTION_loathing',\n",
       "          'POLARITY', 'SENSITIVITY', 'SENSITIVITY_eagerness',\n",
       "          'SENSITIVITY_enthusiasm', 'SENSITIVITY_loathing', 'TEMPER',\n",
       "          'TEMPER_calmness'],\n",
       "         dtype='object')}],\n",
       " 1: [{'text': ('Three different bin bags stink away in the kitchen and have to be sorted into different wheelie bins.',\n",
       "    'Three different bin bags stink away in the kitchen and have to be sorted into different wheelie bins.'),\n",
       "   'simulation': array([[-3.93000000e-01,  9.61000000e-01, -8.28000000e-01,\n",
       "           -9.28333333e-02,  0.00000000e+00,  0.00000000e+00,\n",
       "            9.48000000e-01,  0.00000000e+00,  0.00000000e+00,\n",
       "            0.00000000e+00],\n",
       "          [-1.18187864e+06, -6.05686883e+05, -4.95724935e+04,\n",
       "           -2.69145973e+00, -9.65939028e-02, -1.14037871e-01,\n",
       "            6.61923723e-01, -7.81811338e-02, -4.63920269e-03,\n",
       "           -1.10140784e-01]]),\n",
       "   'emotion dimension': Index(['ATTITUDE', 'INTROSPECTION_ecstasy', 'INTROSPECTION_loathing',\n",
       "          'POLARITY', 'SENSITIVITY', 'SENSITIVITY_eagerness',\n",
       "          'SENSITIVITY_enthusiasm', 'SENSITIVITY_loathing', 'TEMPER',\n",
       "          'TEMPER_calmness'],\n",
       "         dtype='object')}],\n",
       " 2: [{'text': ('But still Germany produces way too much rubbish',\n",
       "    'But still Germany produces way too much rubbish'),\n",
       "   'simulation': array([[-5.96000000e-01,  8.25000000e-01,  0.00000000e+00,\n",
       "            1.05500000e-01,  0.00000000e+00,  0.00000000e+00,\n",
       "            0.00000000e+00,  0.00000000e+00,  0.00000000e+00,\n",
       "            0.00000000e+00],\n",
       "          [-1.73472306e+06,  1.27240477e+06, -2.20137873e-01,\n",
       "            6.78562972e+00,  8.92561004e-02,  1.05135628e-01,\n",
       "            9.59111314e-02,  9.64578752e-02,  9.61523427e-02,\n",
       "            9.61746008e-02]]),\n",
       "   'emotion dimension': Index(['ATTITUDE', 'INTROSPECTION_ecstasy', 'INTROSPECTION_loathing',\n",
       "          'POLARITY', 'SENSITIVITY', 'SENSITIVITY_eagerness',\n",
       "          'SENSITIVITY_enthusiasm', 'SENSITIVITY_loathing', 'TEMPER',\n",
       "          'TEMPER_calmness'],\n",
       "         dtype='object')}],\n",
       " 3: [{'text': ('and too many resources are lost when what actually should be separated and recycled is burnt.',\n",
       "    'and too many resources are lost when what actually should be separated and recycled is burnt.'),\n",
       "   'simulation': array([[ 0.        ,  0.        , -0.899     , -0.2312    ,  0.        ,\n",
       "            0.497     ,  0.918     , -0.856     ,  0.        ,  0.        ],\n",
       "          [-0.48547522, -0.25338086, -0.8580954 , -0.47014395, -0.28569442,\n",
       "            0.15715658,  0.23070153, -0.65797306, -0.20119363, -0.39454201]]),\n",
       "   'emotion dimension': Index(['ATTITUDE', 'INTROSPECTION_ecstasy', 'INTROSPECTION_loathing',\n",
       "          'POLARITY', 'SENSITIVITY', 'SENSITIVITY_eagerness',\n",
       "          'SENSITIVITY_enthusiasm', 'SENSITIVITY_loathing', 'TEMPER',\n",
       "          'TEMPER_calmness'],\n",
       "         dtype='object')}],\n",
       " 4: [{'text': ('We Berliners should take the chance and become pioneers in waste separation!',\n",
       "    'We Berliners should take the chance and become pioneers in waste separation!'),\n",
       "   'simulation': array([[-5.21000000e-01,  9.19500000e-01,  0.00000000e+00,\n",
       "            9.35000000e-02,  0.00000000e+00,  0.00000000e+00,\n",
       "            0.00000000e+00, -8.56000000e-01,  0.00000000e+00,\n",
       "            0.00000000e+00],\n",
       "          [-1.75333615e+06,  1.28215271e+06, -2.94704401e-01,\n",
       "            9.09634889e+00,  7.49135734e-02,  2.75141553e-02,\n",
       "            7.33294085e-02, -6.29604401e-01,  8.12900009e-02,\n",
       "           -7.97606899e-02]]),\n",
       "   'emotion dimension': Index(['ATTITUDE', 'INTROSPECTION_ecstasy', 'INTROSPECTION_loathing',\n",
       "          'POLARITY', 'SENSITIVITY', 'SENSITIVITY_eagerness',\n",
       "          'SENSITIVITY_enthusiasm', 'SENSITIVITY_loathing', 'TEMPER',\n",
       "          'TEMPER_calmness'],\n",
       "         dtype='object')}]}"
      ]
     },
     "execution_count": 32,
     "metadata": {},
     "output_type": "execute_result"
    }
   ],
   "source": [
    "processor = SpeechProcessor('../../data/senticnet/senticnet2.tsv')\n",
    "df_sc_sentiment = processor.process_texts(pd.Series(df.EDU[0])) \n",
    "df_sc_sentiment.columns = df_sc_sentiment.columns.str.replace('#', '_')   \n",
    "print(df_sc_sentiment)\n",
    "flow_calculator = SentimentFlowCalculator()\n",
    "results = flow_calculator.calculate_navier_stocker_for_texts(df_sc_sentiment)\n",
    "results"
   ]
  },
  {
   "cell_type": "code",
   "execution_count": 28,
   "metadata": {},
   "outputs": [
    {
     "data": {
      "text/plain": [
       "0                        Yes, it's annoying and cumbersome to separate your rubbish properly all the time.\n",
       "1    Three different bin bags stink away in the kitchen and have to be sorted into different wheelie bins.\n",
       "2                                                          But still Germany produces way too much rubbish\n",
       "3            and too many resources are lost when what actually should be separated and recycled is burnt.\n",
       "4                             We Berliners should take the chance and become pioneers in waste separation!\n",
       "dtype: object"
      ]
     },
     "execution_count": 28,
     "metadata": {},
     "output_type": "execute_result"
    }
   ],
   "source": [
    "pd.Series(df.EDU[0])"
   ]
  },
  {
   "cell_type": "code",
   "execution_count": 25,
   "metadata": {},
   "outputs": [
    {
     "data": {
      "text/plain": [
       "[\"Yes, it's annoying and cumbersome to separate your rubbish properly all the time.\",\n",
       " 'Three different bin bags stink away in the kitchen and have to be sorted into different wheelie bins.',\n",
       " 'But still Germany produces way too much rubbish',\n",
       " 'and too many resources are lost when what actually should be separated and recycled is burnt.',\n",
       " 'We Berliners should take the chance and become pioneers in waste separation!']"
      ]
     },
     "execution_count": 25,
     "metadata": {},
     "output_type": "execute_result"
    }
   ],
   "source": [
    "df.EDU[0]"
   ]
  },
  {
   "cell_type": "code",
   "execution_count": 24,
   "metadata": {},
   "outputs": [
    {
     "name": "stderr",
     "output_type": "stream",
     "text": [
      "03-Apr-25 16:57:40 - Starting to process\n"
     ]
    },
    {
     "data": {
      "application/vnd.jupyter.widget-view+json": {
       "model_id": "3ba1d531c98842cdb07b5d2d29ade17d",
       "version_major": 2,
       "version_minor": 0
      },
      "text/plain": [
       "Processing texts:   0%|          | 0/5 [00:00<?, ?it/s]"
      ]
     },
     "metadata": {},
     "output_type": "display_data"
    },
    {
     "name": "stderr",
     "output_type": "stream",
     "text": [
      "03-Apr-25 16:57:41 - Saving results to results/processed_texts.csv\n",
      "03-Apr-25 16:57:41 - Starting to calculate Navier-Stocker...\n"
     ]
    },
    {
     "data": {
      "application/vnd.jupyter.widget-view+json": {
       "model_id": "e41a1566c46d49dc857e108a5673d9df",
       "version_major": 2,
       "version_minor": 0
      },
      "text/plain": [
       "Calculating Navier-Stocker for texts:   0%|          | 0/5 [00:00<?, ?it/s]"
      ]
     },
     "metadata": {},
     "output_type": "display_data"
    },
    {
     "name": "stderr",
     "output_type": "stream",
     "text": [
      "h:\\moha\\NLP\\AM\\SA\\.venv\\lib\\site-packages\\SentimentFlow\\sentiment_analysis.py:250: ODEintWarning: Excess work done on this call (perhaps wrong Dfun type). Run with full_output = 1 to get quantitative information.\n",
      "  s = odeint(self._differential_equation, s0, t, args=(speech_info,))\n",
      "03-Apr-25 16:57:41 - Finished calculating texts.\n",
      "03-Apr-25 16:57:41 - Processed 5 texts.\n",
      "03-Apr-25 16:57:41 - Saving results to results/navier_stocker_text_results.json\n"
     ]
    },
    {
     "data": {
      "text/plain": [
       "{0: [{'text': (\"Yes, it's annoying and cumbersome to separate your rubbish properly all the time.\",\n",
       "    \"Yes, it's annoying and cumbersome to separate your rubbish properly all the time.\"),\n",
       "   'simulation': array([[-5.96000000e-01,  8.56000000e-01,  0.00000000e+00,\n",
       "           -7.80000000e-02, -2.75000000e-01,  0.00000000e+00,\n",
       "            0.00000000e+00,  0.00000000e+00, -3.30000000e-01,\n",
       "            5.52000000e-01],\n",
       "          [-1.63575859e+06,  1.14346568e+06, -2.85831766e-01,\n",
       "            6.48547461e+00, -3.09164562e-01, -9.98397970e-02,\n",
       "           -1.04553669e-01,  3.88781699e-02, -3.77871112e-01,\n",
       "            1.18225487e+00]]),\n",
       "   'emotion dimension': Index(['ATTITUDE', 'INTROSPECTION_ecstasy', 'INTROSPECTION_loathing',\n",
       "          'POLARITY', 'SENSITIVITY', 'SENSITIVITY_eagerness',\n",
       "          'SENSITIVITY_enthusiasm', 'SENSITIVITY_loathing', 'TEMPER',\n",
       "          'TEMPER_calmness'],\n",
       "         dtype='object')}],\n",
       " 1: [{'text': ('Three different bin bags stink away in the kitchen and have to be sorted into different wheelie bins.',\n",
       "    'Three different bin bags stink away in the kitchen and have to be sorted into different wheelie bins.'),\n",
       "   'simulation': array([[-3.93000000e-01,  9.61000000e-01, -8.28000000e-01,\n",
       "           -9.28333333e-02,  0.00000000e+00,  0.00000000e+00,\n",
       "            9.48000000e-01,  0.00000000e+00,  0.00000000e+00,\n",
       "            0.00000000e+00],\n",
       "          [-1.18187864e+06, -6.05686883e+05, -4.95724935e+04,\n",
       "           -2.69145973e+00, -9.65939028e-02, -1.14037871e-01,\n",
       "            6.61923723e-01, -7.81811338e-02, -4.63920269e-03,\n",
       "           -1.10140784e-01]]),\n",
       "   'emotion dimension': Index(['ATTITUDE', 'INTROSPECTION_ecstasy', 'INTROSPECTION_loathing',\n",
       "          'POLARITY', 'SENSITIVITY', 'SENSITIVITY_eagerness',\n",
       "          'SENSITIVITY_enthusiasm', 'SENSITIVITY_loathing', 'TEMPER',\n",
       "          'TEMPER_calmness'],\n",
       "         dtype='object')}],\n",
       " 2: [{'text': ('But still Germany produces way too much rubbish',\n",
       "    'But still Germany produces way too much rubbish'),\n",
       "   'simulation': array([[-5.96000000e-01,  8.25000000e-01,  0.00000000e+00,\n",
       "            1.05500000e-01,  0.00000000e+00,  0.00000000e+00,\n",
       "            0.00000000e+00,  0.00000000e+00,  0.00000000e+00,\n",
       "            0.00000000e+00],\n",
       "          [-1.73472306e+06,  1.27240477e+06, -2.20137873e-01,\n",
       "            6.78562972e+00,  8.92561004e-02,  1.05135628e-01,\n",
       "            9.59111314e-02,  9.64578752e-02,  9.61523427e-02,\n",
       "            9.61746008e-02]]),\n",
       "   'emotion dimension': Index(['ATTITUDE', 'INTROSPECTION_ecstasy', 'INTROSPECTION_loathing',\n",
       "          'POLARITY', 'SENSITIVITY', 'SENSITIVITY_eagerness',\n",
       "          'SENSITIVITY_enthusiasm', 'SENSITIVITY_loathing', 'TEMPER',\n",
       "          'TEMPER_calmness'],\n",
       "         dtype='object')}],\n",
       " 3: [{'text': ('and too many resources are lost when what actually should be separated and recycled is burnt.',\n",
       "    'and too many resources are lost when what actually should be separated and recycled is burnt.'),\n",
       "   'simulation': array([[ 0.        ,  0.        , -0.899     , -0.2312    ,  0.        ,\n",
       "            0.497     ,  0.918     , -0.856     ,  0.        ,  0.        ],\n",
       "          [-0.48547522, -0.25338086, -0.8580954 , -0.47014395, -0.28569442,\n",
       "            0.15715658,  0.23070153, -0.65797306, -0.20119363, -0.39454201]]),\n",
       "   'emotion dimension': Index(['ATTITUDE', 'INTROSPECTION_ecstasy', 'INTROSPECTION_loathing',\n",
       "          'POLARITY', 'SENSITIVITY', 'SENSITIVITY_eagerness',\n",
       "          'SENSITIVITY_enthusiasm', 'SENSITIVITY_loathing', 'TEMPER',\n",
       "          'TEMPER_calmness'],\n",
       "         dtype='object')}],\n",
       " 4: [{'text': ('We Berliners should take the chance and become pioneers in waste separation!',\n",
       "    'We Berliners should take the chance and become pioneers in waste separation!'),\n",
       "   'simulation': array([[-5.21000000e-01,  9.19500000e-01,  0.00000000e+00,\n",
       "            9.35000000e-02,  0.00000000e+00,  0.00000000e+00,\n",
       "            0.00000000e+00, -8.56000000e-01,  0.00000000e+00,\n",
       "            0.00000000e+00],\n",
       "          [-1.75333615e+06,  1.28215271e+06, -2.94704401e-01,\n",
       "            9.09634889e+00,  7.49135734e-02,  2.75141553e-02,\n",
       "            7.33294085e-02, -6.29604401e-01,  8.12900009e-02,\n",
       "           -7.97606899e-02]]),\n",
       "   'emotion dimension': Index(['ATTITUDE', 'INTROSPECTION_ecstasy', 'INTROSPECTION_loathing',\n",
       "          'POLARITY', 'SENSITIVITY', 'SENSITIVITY_eagerness',\n",
       "          'SENSITIVITY_enthusiasm', 'SENSITIVITY_loathing', 'TEMPER',\n",
       "          'TEMPER_calmness'],\n",
       "         dtype='object')}]}"
      ]
     },
     "execution_count": 24,
     "metadata": {},
     "output_type": "execute_result"
    }
   ],
   "source": [
    "calculate_Flow(df.EDU[0])"
   ]
  },
  {
   "cell_type": "code",
   "execution_count": null,
   "metadata": {},
   "outputs": [],
   "source": []
  }
 ],
 "metadata": {
  "kernelspec": {
   "display_name": ".venv",
   "language": "python",
   "name": "python3"
  },
  "language_info": {
   "codemirror_mode": {
    "name": "ipython",
    "version": 3
   },
   "file_extension": ".py",
   "mimetype": "text/x-python",
   "name": "python",
   "nbconvert_exporter": "python",
   "pygments_lexer": "ipython3",
   "version": "3.10.9"
  }
 },
 "nbformat": 4,
 "nbformat_minor": 2
}
