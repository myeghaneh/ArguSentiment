{
 "cells": [
  {
   "cell_type": "markdown",
   "metadata": {},
   "source": [
    "##### Fluid Dynamics-Inspired Emotional Analysis & Sentiment Flow for Argumentation Mining (AM)\n",
    "- Stance basesd Argument Mining Modeling Using NRC and SneticNet Emotion Analysis\n"
   ]
  },
  {
   "cell_type": "markdown",
   "metadata": {},
   "source": [
    "The idea is to use \"Emotional Analysis\" (NRC,SenticNet, SOCAL) to improve\n",
    "\n",
    "- Stance Claissfication\n",
    "    - https://aclanthology.org/W15-0509.pdf\n",
    "    - https://aclanthology.org/E17-1024.pdf\n",
    "- Fine-Grained Classifcation \n",
    "\n",
    "    - https://aclanthology.org/J11-2001.pdf    (SO-CAL)\n",
    "    - https://github.com/sfu-discourse-lab/SO-CAL\n",
    "- Original of SC \n",
    "    - https://www.cs.cornell.edu/home/llee/papers/sentiment.pdf"
   ]
  },
  {
   "cell_type": "markdown",
   "metadata": {},
   "source": []
  },
  {
   "cell_type": "code",
   "execution_count": 1,
   "metadata": {},
   "outputs": [],
   "source": [
    "import shutil\n",
    "import pandas as pd\n",
    "from SentimentFlow import SpeechProcessor\n",
    "from SentimentFlow import SentimentFlowCalculator\n",
    "#https://github.com.mcas.ms/dpicca/SentimentFlow\n",
    "pd.set_option(\"display.max_colwidth\", None)\n",
    "import numpy as np\n",
    "import matplotlib.pyplot as plt\n",
    "from ipywidgets import interact, interactive, fixed, interact_manual, IntSlider\n",
    "import ipywidgets as widgets\n",
    "import os\n",
    "import spacy\n",
    "from nrclex import NRCLex\n",
    "\n",
    "import pandas as pd\n",
    "import spacy\n",
    "from nrclex import NRCLex\n",
    "import plotly.express as px\n",
    "\n",
    "from sklearn.model_selection import train_test_split\n",
    "from sklearn.ensemble import RandomForestClassifier\n",
    "from sklearn.metrics import accuracy_score, classification_report, confusion_matrix\n",
    "\n",
    "from sklearn.ensemble import RandomForestClassifier\n",
    "from sklearn.svm import SVC\n",
    "from sklearn.dummy import DummyClassifier\n",
    "from sklearn.feature_extraction.text import TfidfVectorizer\n",
    "from sklearn.preprocessing import LabelEncoder\n",
    "\n",
    "from SentimentFlow import SpeechProcessor\n",
    "from SentimentFlow import SentimentFlowCalculator\n",
    "\n",
    "from textblob import TextBlob\n",
    "\n",
    "\n",
    "\n",
    "\n"
   ]
  },
  {
   "cell_type": "markdown",
   "metadata": {},
   "source": [
    "# Argumentative Microtext Part 1"
   ]
  },
  {
   "cell_type": "markdown",
   "metadata": {},
   "source": [
    "we've done a extensive pre-processing on microtext to extract all layers of annotations. The focus is stance classifcation "
   ]
  },
  {
   "cell_type": "code",
   "execution_count": 2,
   "metadata": {},
   "outputs": [],
   "source": [
    "df = pd.read_json(\"../data/dfMT-PC_SA_CP_topicID_AduType.json\") "
   ]
  },
  {
   "cell_type": "code",
   "execution_count": 3,
   "metadata": {},
   "outputs": [
    {
     "name": "stdout",
     "output_type": "stream",
     "text": [
      "<class 'pandas.core.frame.DataFrame'>\n",
      "Index: 112 entries, 0 to 111\n",
      "Data columns (total 6 columns):\n",
      " #   Column     Non-Null Count  Dtype \n",
      "---  ------     --------------  ----- \n",
      " 0   EDU        112 non-null    object\n",
      " 1   adu_type   112 non-null    object\n",
      " 2   topic_id   89 non-null     object\n",
      " 3   Relations  112 non-null    object\n",
      " 4   Label      112 non-null    object\n",
      " 5   STANCE     89 non-null     object\n",
      "dtypes: object(6)\n",
      "memory usage: 6.1+ KB\n"
     ]
    }
   ],
   "source": [
    "df.info()"
   ]
  },
  {
   "cell_type": "code",
   "execution_count": 4,
   "metadata": {},
   "outputs": [
    {
     "data": {
      "text/html": [
       "<div>\n",
       "<style scoped>\n",
       "    .dataframe tbody tr th:only-of-type {\n",
       "        vertical-align: middle;\n",
       "    }\n",
       "\n",
       "    .dataframe tbody tr th {\n",
       "        vertical-align: top;\n",
       "    }\n",
       "\n",
       "    .dataframe thead th {\n",
       "        text-align: right;\n",
       "    }\n",
       "</style>\n",
       "<table border=\"1\" class=\"dataframe\">\n",
       "  <thead>\n",
       "    <tr style=\"text-align: right;\">\n",
       "      <th></th>\n",
       "      <th>EDU</th>\n",
       "      <th>adu_type</th>\n",
       "      <th>topic_id</th>\n",
       "      <th>Relations</th>\n",
       "      <th>Label</th>\n",
       "      <th>STANCE</th>\n",
       "    </tr>\n",
       "  </thead>\n",
       "  <tbody>\n",
       "    <tr>\n",
       "      <th>0</th>\n",
       "      <td>[Yes, it's annoying and cumbersome to separate your rubbish properly all the time., Three different bin bags stink away in the kitchen and have to be sorted into different wheelie bins., But still Germany produces way too much rubbish, and too many resources are lost when what actually should be separated and recycled is burnt., We Berliners should take the chance and become pioneers in waste separation!]</td>\n",
       "      <td>[opp, opp, pro, pro, pro]</td>\n",
       "      <td>waste_separation</td>\n",
       "      <td>[[a1, a5, reb], [a2, a1, sup], [a3, c1, und], [a4, c3, add]]</td>\n",
       "      <td>[0, 0, 0, 0, 1]</td>\n",
       "      <td>pro</td>\n",
       "    </tr>\n",
       "    <tr>\n",
       "      <th>1</th>\n",
       "      <td>[One can hardly move in Friedrichshain or Neukölln these days without permanently scanning the ground for dog dirt., And when bad luck does strike and you step into one of the many 'land mines' you have to painstakingly scrape the remains off your soles., Higher fines are therefore the right measure against negligent, lazy or simply thoughtless dog owners., Of course, first they'd actually need to be caught in the act by public order officers,, but once they have to dig into their pockets, their laziness will sure vanish!]</td>\n",
       "      <td>[pro, pro, pro, opp, pro]</td>\n",
       "      <td>higher_dog_poo_fines</td>\n",
       "      <td>[[a1, a3, sup], [a2, a3, sup], [a4, a3, reb], [a5, c4, und]]</td>\n",
       "      <td>[0, 0, 1, 0, 0]</td>\n",
       "      <td>pro</td>\n",
       "    </tr>\n",
       "    <tr>\n",
       "      <th>2</th>\n",
       "      <td>[Health insurance companies should not cover treatment in complementary medicine, unless the promised effect and its medical benefit have been concretely proven., Yet this very proof is lacking in most cases., Patients do often report relief of their complaints after such treatments., But as long as it is unclear as to how this works, the funds should rather be spent on therapies where one knows with certainty.]</td>\n",
       "      <td>[pro, opp, pro, opp, pro]</td>\n",
       "      <td>health_insurance_cover_complementary_medicine</td>\n",
       "      <td>[[a2, a1, reb], [a3, a2, reb], [a4, a1, reb], [a5, c4, und]]</td>\n",
       "      <td>[1, 0, 0, 0, 0]</td>\n",
       "      <td>con</td>\n",
       "    </tr>\n",
       "    <tr>\n",
       "      <th>3</th>\n",
       "      <td>[Of course there are a number of programmes in public broadcasting that are not worth the licencing fee,, and others, such as “Musikantenstadl” and soap operas, are only interesting to certain audiences., Nevertheless, everybody should contribute to the funding of the public broadcasters in equal measure,, for we need general and independent media., After all we want to get our view of the world neither through the lens of the government nor through that of rich media entrepreneurs.]</td>\n",
       "      <td>[opp, opp, pro, pro, pro]</td>\n",
       "      <td>public_broadcasting_fees_on_demand</td>\n",
       "      <td>[[a1, a3, reb], [a2, a3, reb], [a4, a3, sup], [a5, a4, sup]]</td>\n",
       "      <td>[0, 0, 1, 0, 0]</td>\n",
       "      <td>con</td>\n",
       "    </tr>\n",
       "    <tr>\n",
       "      <th>4</th>\n",
       "      <td>[Intelligence services must urgently be regulated more tightly by parliament;, this should be clear to everyone after the disclosures of Edward Snowden., Granted, those concern primarily the British and American intelligence services,, but the German services evidently do collaborate with them closely., Their tools, data and expertise have been used to keep us under surveillance for a long time.]</td>\n",
       "      <td>[pro, pro, opp, pro, pro]</td>\n",
       "      <td>stricter_regulation_of_intelligence_services</td>\n",
       "      <td>[[a2, a1, sup], [a3, c2, und], [a4, c3, und], [a5, a4, sup]]</td>\n",
       "      <td>[1, 0, 0, 0, 0]</td>\n",
       "      <td>pro</td>\n",
       "    </tr>\n",
       "    <tr>\n",
       "      <th>5</th>\n",
       "      <td>[The death penalty is a legal means that as such is not practicable in Germany., For one thing, inviolable human dignity is anchored in our constitution,, and furthermore no one may have the right to adjudicate upon the death of another human being., Even if many people think that a murderer has already decided on the life or death of another person,, this is precisely the crime that we should not repay with the same.]</td>\n",
       "      <td>[pro, pro, pro, opp, pro]</td>\n",
       "      <td>introduce_capital_punishment</td>\n",
       "      <td>[[a2, a1, sup], [a3, a1, sup], [a4, a1, reb], [a5, c4, und]]</td>\n",
       "      <td>[1, 0, 0, 0, 0]</td>\n",
       "      <td>con</td>\n",
       "    </tr>\n",
       "    <tr>\n",
       "      <th>6</th>\n",
       "      <td>[Dog dirt on the pavement requires my complete, ground-focused attention on my way to work., This results in a lack of alertness in the road traffic comparable to a minor offense of the traffic regulations., That's why causing such obstacles must to be more urgently punished., Dog owners may think that dog dirt is only a harmless secretion of an animal like any other., Yet then they misjudge its impact on road traffic.]</td>\n",
       "      <td>[pro, pro, pro, opp, pro]</td>\n",
       "      <td>higher_dog_poo_fines</td>\n",
       "      <td>[[a1, a2, sup], [a2, a3, sup], [a4, a3, reb], [a5, a4, reb]]</td>\n",
       "      <td>[0, 0, 1, 0, 0]</td>\n",
       "      <td>pro</td>\n",
       "    </tr>\n",
       "    <tr>\n",
       "      <th>7</th>\n",
       "      <td>[Of course it would be nice and simple if after a fun night out with a party acquaintance you could simply take the 'morning-after pill' and feel at ease., But it's not that simple., Perhaps a new life was already created that night., I would kill it without further thought., That's why a visit to the doctor and professional advice should remain mandatory.]</td>\n",
       "      <td>[opp, pro, pro, pro, pro]</td>\n",
       "      <td>over_the_counter_morning_after_pill</td>\n",
       "      <td>[[a1, a5, reb], [a2, a1, reb], [a3, a2, sup], [a4, c3, add]]</td>\n",
       "      <td>[0, 0, 0, 0, 1]</td>\n",
       "      <td>con</td>\n",
       "    </tr>\n",
       "    <tr>\n",
       "      <th>8</th>\n",
       "      <td>[It is unfair and unjustifiable that new tenants have to pay a much higher rent than previous residents., Clearly the landlord has to pay for some repairs before a new lease., But surely these costs could be covered by a minimal increase in rent over the course of the entire lease., All the more so as for an adequate profit the rental rate as compared to the base rent need not be raised for every new lease.]</td>\n",
       "      <td>[pro, opp, pro, pro]</td>\n",
       "      <td>cap_rent_increases</td>\n",
       "      <td>[[a2, a1, reb], [a3, c2, und], [a4, a1, sup]]</td>\n",
       "      <td>[1, 0, 0, 0]</td>\n",
       "      <td>pro</td>\n",
       "    </tr>\n",
       "    <tr>\n",
       "      <th>9</th>\n",
       "      <td>[Alternative treatments should be subsidized in the same way as conventional treatments,, since both methods can lead to the prevention, mitigation or cure of an illness., Besides it should be in the interest of the health insurers to recognize alternative medicine as treatment,, since there is a chance of recovery., It doesn't matter after all that those who administer the treatment don't have 'doctor status'.]</td>\n",
       "      <td>[pro, pro, pro, pro, pro]</td>\n",
       "      <td>health_insurance_cover_complementary_medicine</td>\n",
       "      <td>[[a2, a1, sup], [a3, a1, sup], [a4, a3, sup], [a5, a1, sup]]</td>\n",
       "      <td>[1, 0, 0, 0, 0]</td>\n",
       "      <td>pro</td>\n",
       "    </tr>\n",
       "  </tbody>\n",
       "</table>\n",
       "</div>"
      ],
      "text/plain": [
       "                                                                                                                                                                                                                                                                                                                                                                                                                                                                                                                                                EDU  \\\n",
       "0                                                                                                                          [Yes, it's annoying and cumbersome to separate your rubbish properly all the time., Three different bin bags stink away in the kitchen and have to be sorted into different wheelie bins., But still Germany produces way too much rubbish, and too many resources are lost when what actually should be separated and recycled is burnt., We Berliners should take the chance and become pioneers in waste separation!]   \n",
       "1  [One can hardly move in Friedrichshain or Neukölln these days without permanently scanning the ground for dog dirt., And when bad luck does strike and you step into one of the many 'land mines' you have to painstakingly scrape the remains off your soles., Higher fines are therefore the right measure against negligent, lazy or simply thoughtless dog owners., Of course, first they'd actually need to be caught in the act by public order officers,, but once they have to dig into their pockets, their laziness will sure vanish!]   \n",
       "2                                                                                                                   [Health insurance companies should not cover treatment in complementary medicine, unless the promised effect and its medical benefit have been concretely proven., Yet this very proof is lacking in most cases., Patients do often report relief of their complaints after such treatments., But as long as it is unclear as to how this works, the funds should rather be spent on therapies where one knows with certainty.]   \n",
       "3                                          [Of course there are a number of programmes in public broadcasting that are not worth the licencing fee,, and others, such as “Musikantenstadl” and soap operas, are only interesting to certain audiences., Nevertheless, everybody should contribute to the funding of the public broadcasters in equal measure,, for we need general and independent media., After all we want to get our view of the world neither through the lens of the government nor through that of rich media entrepreneurs.]   \n",
       "4                                                                                                                                   [Intelligence services must urgently be regulated more tightly by parliament;, this should be clear to everyone after the disclosures of Edward Snowden., Granted, those concern primarily the British and American intelligence services,, but the German services evidently do collaborate with them closely., Their tools, data and expertise have been used to keep us under surveillance for a long time.]   \n",
       "5                                                                                                            [The death penalty is a legal means that as such is not practicable in Germany., For one thing, inviolable human dignity is anchored in our constitution,, and furthermore no one may have the right to adjudicate upon the death of another human being., Even if many people think that a murderer has already decided on the life or death of another person,, this is precisely the crime that we should not repay with the same.]   \n",
       "6                                                                                                           [Dog dirt on the pavement requires my complete, ground-focused attention on my way to work., This results in a lack of alertness in the road traffic comparable to a minor offense of the traffic regulations., That's why causing such obstacles must to be more urgently punished., Dog owners may think that dog dirt is only a harmless secretion of an animal like any other., Yet then they misjudge its impact on road traffic.]   \n",
       "7                                                                                                                                                                           [Of course it would be nice and simple if after a fun night out with a party acquaintance you could simply take the 'morning-after pill' and feel at ease., But it's not that simple., Perhaps a new life was already created that night., I would kill it without further thought., That's why a visit to the doctor and professional advice should remain mandatory.]   \n",
       "8                                                                                                                       [It is unfair and unjustifiable that new tenants have to pay a much higher rent than previous residents., Clearly the landlord has to pay for some repairs before a new lease., But surely these costs could be covered by a minimal increase in rent over the course of the entire lease., All the more so as for an adequate profit the rental rate as compared to the base rent need not be raised for every new lease.]   \n",
       "9                                                                                                                   [Alternative treatments should be subsidized in the same way as conventional treatments,, since both methods can lead to the prevention, mitigation or cure of an illness., Besides it should be in the interest of the health insurers to recognize alternative medicine as treatment,, since there is a chance of recovery., It doesn't matter after all that those who administer the treatment don't have 'doctor status'.]   \n",
       "\n",
       "                    adu_type                                       topic_id  \\\n",
       "0  [opp, opp, pro, pro, pro]                               waste_separation   \n",
       "1  [pro, pro, pro, opp, pro]                           higher_dog_poo_fines   \n",
       "2  [pro, opp, pro, opp, pro]  health_insurance_cover_complementary_medicine   \n",
       "3  [opp, opp, pro, pro, pro]             public_broadcasting_fees_on_demand   \n",
       "4  [pro, pro, opp, pro, pro]   stricter_regulation_of_intelligence_services   \n",
       "5  [pro, pro, pro, opp, pro]                   introduce_capital_punishment   \n",
       "6  [pro, pro, pro, opp, pro]                           higher_dog_poo_fines   \n",
       "7  [opp, pro, pro, pro, pro]            over_the_counter_morning_after_pill   \n",
       "8       [pro, opp, pro, pro]                             cap_rent_increases   \n",
       "9  [pro, pro, pro, pro, pro]  health_insurance_cover_complementary_medicine   \n",
       "\n",
       "                                                      Relations  \\\n",
       "0  [[a1, a5, reb], [a2, a1, sup], [a3, c1, und], [a4, c3, add]]   \n",
       "1  [[a1, a3, sup], [a2, a3, sup], [a4, a3, reb], [a5, c4, und]]   \n",
       "2  [[a2, a1, reb], [a3, a2, reb], [a4, a1, reb], [a5, c4, und]]   \n",
       "3  [[a1, a3, reb], [a2, a3, reb], [a4, a3, sup], [a5, a4, sup]]   \n",
       "4  [[a2, a1, sup], [a3, c2, und], [a4, c3, und], [a5, a4, sup]]   \n",
       "5  [[a2, a1, sup], [a3, a1, sup], [a4, a1, reb], [a5, c4, und]]   \n",
       "6  [[a1, a2, sup], [a2, a3, sup], [a4, a3, reb], [a5, a4, reb]]   \n",
       "7  [[a1, a5, reb], [a2, a1, reb], [a3, a2, sup], [a4, c3, add]]   \n",
       "8                 [[a2, a1, reb], [a3, c2, und], [a4, a1, sup]]   \n",
       "9  [[a2, a1, sup], [a3, a1, sup], [a4, a3, sup], [a5, a1, sup]]   \n",
       "\n",
       "             Label STANCE  \n",
       "0  [0, 0, 0, 0, 1]    pro  \n",
       "1  [0, 0, 1, 0, 0]    pro  \n",
       "2  [1, 0, 0, 0, 0]    con  \n",
       "3  [0, 0, 1, 0, 0]    con  \n",
       "4  [1, 0, 0, 0, 0]    pro  \n",
       "5  [1, 0, 0, 0, 0]    con  \n",
       "6  [0, 0, 1, 0, 0]    pro  \n",
       "7  [0, 0, 0, 0, 1]    con  \n",
       "8     [1, 0, 0, 0]    pro  \n",
       "9  [1, 0, 0, 0, 0]    pro  "
      ]
     },
     "execution_count": 4,
     "metadata": {},
     "output_type": "execute_result"
    }
   ],
   "source": [
    "df[0:10]   "
   ]
  },
  {
   "cell_type": "markdown",
   "metadata": {},
   "source": [
    "### A-NRC for emotion analysis  (Davida Package)"
   ]
  },
  {
   "cell_type": "code",
   "execution_count": 14,
   "metadata": {},
   "outputs": [],
   "source": [
    "def calculate_nrc(text):\n",
    "    \"\"\"Calculate NRC emotion frequencies for a given text.\"\"\"\n",
    "    nrc_sentiment = NRCLex(text)\n",
    "    affect_dict = nrc_sentiment.affect_frequencies\n",
    "\n",
    "    base_emotions = ['fear', 'anger', 'trust', 'surprise', \n",
    "                     'positive', 'negative', 'sadness', 'disgust', 'joy', \"anticipation\"]\n",
    "    \n",
    "    for emotion in base_emotions:\n",
    "        if emotion not in affect_dict:\n",
    "            affect_dict[emotion] = 0.0\n",
    "\n",
    "    return {emotion: affect_dict[emotion] for emotion in base_emotions}"
   ]
  },
  {
   "cell_type": "code",
   "execution_count": 15,
   "metadata": {},
   "outputs": [
    {
     "name": "stdout",
     "output_type": "stream",
     "text": [
      "[\"Yes, it's annoying and cumbersome to separate your rubbish properly all the time.\", 'Three different bin bags stink away in the kitchen and have to be sorted into different wheelie bins.', 'But still Germany produces way too much rubbish', 'and too many resources are lost when what actually should be separated and recycled is burnt.', 'We Berliners should take the chance and become pioneers in waste separation!'] \n",
      " ['opp', 'opp', 'pro', 'pro', 'pro']\n"
     ]
    }
   ],
   "source": [
    "print(df.EDU[0],\"\\n\", df.adu_type[0])"
   ]
  },
  {
   "cell_type": "code",
   "execution_count": 16,
   "metadata": {},
   "outputs": [
    {
     "data": {
      "text/plain": [
       "{'fear': 0.0,\n",
       " 'anger': 0.14285714285714285,\n",
       " 'trust': 0.0,\n",
       " 'surprise': 0.0,\n",
       " 'positive': 0.0,\n",
       " 'negative': 0.42857142857142855,\n",
       " 'sadness': 0.14285714285714285,\n",
       " 'disgust': 0.14285714285714285,\n",
       " 'joy': 0.0,\n",
       " 'anticipation': 0.14285714285714285}"
      ]
     },
     "execution_count": 16,
     "metadata": {},
     "output_type": "execute_result"
    }
   ],
   "source": [
    "calculate_nrc(df.EDU[0][0])#which feaure are usefull for stance classfication= "
   ]
  },
  {
   "cell_type": "code",
   "execution_count": 17,
   "metadata": {},
   "outputs": [
    {
     "data": {
      "application/vnd.plotly.v1+json": {
       "config": {
        "plotlyServerURL": "https://plot.ly"
       },
       "data": [
        {
         "coloraxis": "coloraxis",
         "hovertemplate": "ADU Type: %{x}<br>NRC Dimension: %{y}<br>Intensity: %{z}<extra></extra>",
         "name": "0",
         "type": "heatmap",
         "x": [
          "opp",
          "pro"
         ],
         "xaxis": "x",
         "y": [
          "fear",
          "anger",
          "trust",
          "surprise",
          "positive",
          "negative",
          "sadness",
          "disgust",
          "joy",
          "anticipation"
         ],
         "yaxis": "y",
         "z": [
          [
           0.05363416149068322,
           0.059281543372452464
          ],
          [
           0.04004051069703244,
           0.031034270197241372
          ],
          [
           0.12389385783298826,
           0.1338158054067145
          ],
          [
           0.024877984817115253,
           0.03162533348231796
          ],
          [
           0.24262084195997238,
           0.19456268048285785
          ],
          [
           0.15677066942719117,
           0.10881119270808849
          ],
          [
           0.06331987577639751,
           0.035101161874997795
          ],
          [
           0.041490890269151134,
           0.0336529119234219
          ],
          [
           0.036885714285714286,
           0.03675457641643894
          ],
          [
           0.06446549344375431,
           0.08924079021085674
          ]
         ]
        }
       ],
       "layout": {
        "coloraxis": {
         "colorbar": {
          "title": {
           "text": "Intensity"
          }
         },
         "colorscale": [
          [
           0,
           "rgb(103,0,31)"
          ],
          [
           0.1,
           "rgb(178,24,43)"
          ],
          [
           0.2,
           "rgb(214,96,77)"
          ],
          [
           0.3,
           "rgb(244,165,130)"
          ],
          [
           0.4,
           "rgb(253,219,199)"
          ],
          [
           0.5,
           "rgb(247,247,247)"
          ],
          [
           0.6,
           "rgb(209,229,240)"
          ],
          [
           0.7,
           "rgb(146,197,222)"
          ],
          [
           0.8,
           "rgb(67,147,195)"
          ],
          [
           0.9,
           "rgb(33,102,172)"
          ],
          [
           1,
           "rgb(5,48,97)"
          ]
         ]
        },
        "template": {
         "data": {
          "bar": [
           {
            "error_x": {
             "color": "#2a3f5f"
            },
            "error_y": {
             "color": "#2a3f5f"
            },
            "marker": {
             "line": {
              "color": "#E5ECF6",
              "width": 0.5
             },
             "pattern": {
              "fillmode": "overlay",
              "size": 10,
              "solidity": 0.2
             }
            },
            "type": "bar"
           }
          ],
          "barpolar": [
           {
            "marker": {
             "line": {
              "color": "#E5ECF6",
              "width": 0.5
             },
             "pattern": {
              "fillmode": "overlay",
              "size": 10,
              "solidity": 0.2
             }
            },
            "type": "barpolar"
           }
          ],
          "carpet": [
           {
            "aaxis": {
             "endlinecolor": "#2a3f5f",
             "gridcolor": "white",
             "linecolor": "white",
             "minorgridcolor": "white",
             "startlinecolor": "#2a3f5f"
            },
            "baxis": {
             "endlinecolor": "#2a3f5f",
             "gridcolor": "white",
             "linecolor": "white",
             "minorgridcolor": "white",
             "startlinecolor": "#2a3f5f"
            },
            "type": "carpet"
           }
          ],
          "choropleth": [
           {
            "colorbar": {
             "outlinewidth": 0,
             "ticks": ""
            },
            "type": "choropleth"
           }
          ],
          "contour": [
           {
            "colorbar": {
             "outlinewidth": 0,
             "ticks": ""
            },
            "colorscale": [
             [
              0,
              "#0d0887"
             ],
             [
              0.1111111111111111,
              "#46039f"
             ],
             [
              0.2222222222222222,
              "#7201a8"
             ],
             [
              0.3333333333333333,
              "#9c179e"
             ],
             [
              0.4444444444444444,
              "#bd3786"
             ],
             [
              0.5555555555555556,
              "#d8576b"
             ],
             [
              0.6666666666666666,
              "#ed7953"
             ],
             [
              0.7777777777777778,
              "#fb9f3a"
             ],
             [
              0.8888888888888888,
              "#fdca26"
             ],
             [
              1,
              "#f0f921"
             ]
            ],
            "type": "contour"
           }
          ],
          "contourcarpet": [
           {
            "colorbar": {
             "outlinewidth": 0,
             "ticks": ""
            },
            "type": "contourcarpet"
           }
          ],
          "heatmap": [
           {
            "colorbar": {
             "outlinewidth": 0,
             "ticks": ""
            },
            "colorscale": [
             [
              0,
              "#0d0887"
             ],
             [
              0.1111111111111111,
              "#46039f"
             ],
             [
              0.2222222222222222,
              "#7201a8"
             ],
             [
              0.3333333333333333,
              "#9c179e"
             ],
             [
              0.4444444444444444,
              "#bd3786"
             ],
             [
              0.5555555555555556,
              "#d8576b"
             ],
             [
              0.6666666666666666,
              "#ed7953"
             ],
             [
              0.7777777777777778,
              "#fb9f3a"
             ],
             [
              0.8888888888888888,
              "#fdca26"
             ],
             [
              1,
              "#f0f921"
             ]
            ],
            "type": "heatmap"
           }
          ],
          "heatmapgl": [
           {
            "colorbar": {
             "outlinewidth": 0,
             "ticks": ""
            },
            "colorscale": [
             [
              0,
              "#0d0887"
             ],
             [
              0.1111111111111111,
              "#46039f"
             ],
             [
              0.2222222222222222,
              "#7201a8"
             ],
             [
              0.3333333333333333,
              "#9c179e"
             ],
             [
              0.4444444444444444,
              "#bd3786"
             ],
             [
              0.5555555555555556,
              "#d8576b"
             ],
             [
              0.6666666666666666,
              "#ed7953"
             ],
             [
              0.7777777777777778,
              "#fb9f3a"
             ],
             [
              0.8888888888888888,
              "#fdca26"
             ],
             [
              1,
              "#f0f921"
             ]
            ],
            "type": "heatmapgl"
           }
          ],
          "histogram": [
           {
            "marker": {
             "pattern": {
              "fillmode": "overlay",
              "size": 10,
              "solidity": 0.2
             }
            },
            "type": "histogram"
           }
          ],
          "histogram2d": [
           {
            "colorbar": {
             "outlinewidth": 0,
             "ticks": ""
            },
            "colorscale": [
             [
              0,
              "#0d0887"
             ],
             [
              0.1111111111111111,
              "#46039f"
             ],
             [
              0.2222222222222222,
              "#7201a8"
             ],
             [
              0.3333333333333333,
              "#9c179e"
             ],
             [
              0.4444444444444444,
              "#bd3786"
             ],
             [
              0.5555555555555556,
              "#d8576b"
             ],
             [
              0.6666666666666666,
              "#ed7953"
             ],
             [
              0.7777777777777778,
              "#fb9f3a"
             ],
             [
              0.8888888888888888,
              "#fdca26"
             ],
             [
              1,
              "#f0f921"
             ]
            ],
            "type": "histogram2d"
           }
          ],
          "histogram2dcontour": [
           {
            "colorbar": {
             "outlinewidth": 0,
             "ticks": ""
            },
            "colorscale": [
             [
              0,
              "#0d0887"
             ],
             [
              0.1111111111111111,
              "#46039f"
             ],
             [
              0.2222222222222222,
              "#7201a8"
             ],
             [
              0.3333333333333333,
              "#9c179e"
             ],
             [
              0.4444444444444444,
              "#bd3786"
             ],
             [
              0.5555555555555556,
              "#d8576b"
             ],
             [
              0.6666666666666666,
              "#ed7953"
             ],
             [
              0.7777777777777778,
              "#fb9f3a"
             ],
             [
              0.8888888888888888,
              "#fdca26"
             ],
             [
              1,
              "#f0f921"
             ]
            ],
            "type": "histogram2dcontour"
           }
          ],
          "mesh3d": [
           {
            "colorbar": {
             "outlinewidth": 0,
             "ticks": ""
            },
            "type": "mesh3d"
           }
          ],
          "parcoords": [
           {
            "line": {
             "colorbar": {
              "outlinewidth": 0,
              "ticks": ""
             }
            },
            "type": "parcoords"
           }
          ],
          "pie": [
           {
            "automargin": true,
            "type": "pie"
           }
          ],
          "scatter": [
           {
            "fillpattern": {
             "fillmode": "overlay",
             "size": 10,
             "solidity": 0.2
            },
            "type": "scatter"
           }
          ],
          "scatter3d": [
           {
            "line": {
             "colorbar": {
              "outlinewidth": 0,
              "ticks": ""
             }
            },
            "marker": {
             "colorbar": {
              "outlinewidth": 0,
              "ticks": ""
             }
            },
            "type": "scatter3d"
           }
          ],
          "scattercarpet": [
           {
            "marker": {
             "colorbar": {
              "outlinewidth": 0,
              "ticks": ""
             }
            },
            "type": "scattercarpet"
           }
          ],
          "scattergeo": [
           {
            "marker": {
             "colorbar": {
              "outlinewidth": 0,
              "ticks": ""
             }
            },
            "type": "scattergeo"
           }
          ],
          "scattergl": [
           {
            "marker": {
             "colorbar": {
              "outlinewidth": 0,
              "ticks": ""
             }
            },
            "type": "scattergl"
           }
          ],
          "scattermapbox": [
           {
            "marker": {
             "colorbar": {
              "outlinewidth": 0,
              "ticks": ""
             }
            },
            "type": "scattermapbox"
           }
          ],
          "scatterpolar": [
           {
            "marker": {
             "colorbar": {
              "outlinewidth": 0,
              "ticks": ""
             }
            },
            "type": "scatterpolar"
           }
          ],
          "scatterpolargl": [
           {
            "marker": {
             "colorbar": {
              "outlinewidth": 0,
              "ticks": ""
             }
            },
            "type": "scatterpolargl"
           }
          ],
          "scatterternary": [
           {
            "marker": {
             "colorbar": {
              "outlinewidth": 0,
              "ticks": ""
             }
            },
            "type": "scatterternary"
           }
          ],
          "surface": [
           {
            "colorbar": {
             "outlinewidth": 0,
             "ticks": ""
            },
            "colorscale": [
             [
              0,
              "#0d0887"
             ],
             [
              0.1111111111111111,
              "#46039f"
             ],
             [
              0.2222222222222222,
              "#7201a8"
             ],
             [
              0.3333333333333333,
              "#9c179e"
             ],
             [
              0.4444444444444444,
              "#bd3786"
             ],
             [
              0.5555555555555556,
              "#d8576b"
             ],
             [
              0.6666666666666666,
              "#ed7953"
             ],
             [
              0.7777777777777778,
              "#fb9f3a"
             ],
             [
              0.8888888888888888,
              "#fdca26"
             ],
             [
              1,
              "#f0f921"
             ]
            ],
            "type": "surface"
           }
          ],
          "table": [
           {
            "cells": {
             "fill": {
              "color": "#EBF0F8"
             },
             "line": {
              "color": "white"
             }
            },
            "header": {
             "fill": {
              "color": "#C8D4E3"
             },
             "line": {
              "color": "white"
             }
            },
            "type": "table"
           }
          ]
         },
         "layout": {
          "annotationdefaults": {
           "arrowcolor": "#2a3f5f",
           "arrowhead": 0,
           "arrowwidth": 1
          },
          "autotypenumbers": "strict",
          "coloraxis": {
           "colorbar": {
            "outlinewidth": 0,
            "ticks": ""
           }
          },
          "colorscale": {
           "diverging": [
            [
             0,
             "#8e0152"
            ],
            [
             0.1,
             "#c51b7d"
            ],
            [
             0.2,
             "#de77ae"
            ],
            [
             0.3,
             "#f1b6da"
            ],
            [
             0.4,
             "#fde0ef"
            ],
            [
             0.5,
             "#f7f7f7"
            ],
            [
             0.6,
             "#e6f5d0"
            ],
            [
             0.7,
             "#b8e186"
            ],
            [
             0.8,
             "#7fbc41"
            ],
            [
             0.9,
             "#4d9221"
            ],
            [
             1,
             "#276419"
            ]
           ],
           "sequential": [
            [
             0,
             "#0d0887"
            ],
            [
             0.1111111111111111,
             "#46039f"
            ],
            [
             0.2222222222222222,
             "#7201a8"
            ],
            [
             0.3333333333333333,
             "#9c179e"
            ],
            [
             0.4444444444444444,
             "#bd3786"
            ],
            [
             0.5555555555555556,
             "#d8576b"
            ],
            [
             0.6666666666666666,
             "#ed7953"
            ],
            [
             0.7777777777777778,
             "#fb9f3a"
            ],
            [
             0.8888888888888888,
             "#fdca26"
            ],
            [
             1,
             "#f0f921"
            ]
           ],
           "sequentialminus": [
            [
             0,
             "#0d0887"
            ],
            [
             0.1111111111111111,
             "#46039f"
            ],
            [
             0.2222222222222222,
             "#7201a8"
            ],
            [
             0.3333333333333333,
             "#9c179e"
            ],
            [
             0.4444444444444444,
             "#bd3786"
            ],
            [
             0.5555555555555556,
             "#d8576b"
            ],
            [
             0.6666666666666666,
             "#ed7953"
            ],
            [
             0.7777777777777778,
             "#fb9f3a"
            ],
            [
             0.8888888888888888,
             "#fdca26"
            ],
            [
             1,
             "#f0f921"
            ]
           ]
          },
          "colorway": [
           "#636efa",
           "#EF553B",
           "#00cc96",
           "#ab63fa",
           "#FFA15A",
           "#19d3f3",
           "#FF6692",
           "#B6E880",
           "#FF97FF",
           "#FECB52"
          ],
          "font": {
           "color": "#2a3f5f"
          },
          "geo": {
           "bgcolor": "white",
           "lakecolor": "white",
           "landcolor": "#E5ECF6",
           "showlakes": true,
           "showland": true,
           "subunitcolor": "white"
          },
          "hoverlabel": {
           "align": "left"
          },
          "hovermode": "closest",
          "mapbox": {
           "style": "light"
          },
          "paper_bgcolor": "white",
          "plot_bgcolor": "#E5ECF6",
          "polar": {
           "angularaxis": {
            "gridcolor": "white",
            "linecolor": "white",
            "ticks": ""
           },
           "bgcolor": "#E5ECF6",
           "radialaxis": {
            "gridcolor": "white",
            "linecolor": "white",
            "ticks": ""
           }
          },
          "scene": {
           "xaxis": {
            "backgroundcolor": "#E5ECF6",
            "gridcolor": "white",
            "gridwidth": 2,
            "linecolor": "white",
            "showbackground": true,
            "ticks": "",
            "zerolinecolor": "white"
           },
           "yaxis": {
            "backgroundcolor": "#E5ECF6",
            "gridcolor": "white",
            "gridwidth": 2,
            "linecolor": "white",
            "showbackground": true,
            "ticks": "",
            "zerolinecolor": "white"
           },
           "zaxis": {
            "backgroundcolor": "#E5ECF6",
            "gridcolor": "white",
            "gridwidth": 2,
            "linecolor": "white",
            "showbackground": true,
            "ticks": "",
            "zerolinecolor": "white"
           }
          },
          "shapedefaults": {
           "line": {
            "color": "#2a3f5f"
           }
          },
          "ternary": {
           "aaxis": {
            "gridcolor": "white",
            "linecolor": "white",
            "ticks": ""
           },
           "baxis": {
            "gridcolor": "white",
            "linecolor": "white",
            "ticks": ""
           },
           "bgcolor": "#E5ECF6",
           "caxis": {
            "gridcolor": "white",
            "linecolor": "white",
            "ticks": ""
           }
          },
          "title": {
           "x": 0.05
          },
          "xaxis": {
           "automargin": true,
           "gridcolor": "white",
           "linecolor": "white",
           "ticks": "",
           "title": {
            "standoff": 15
           },
           "zerolinecolor": "white",
           "zerolinewidth": 2
          },
          "yaxis": {
           "automargin": true,
           "gridcolor": "white",
           "linecolor": "white",
           "ticks": "",
           "title": {
            "standoff": 15
           },
           "zerolinecolor": "white",
           "zerolinewidth": 2
          }
         }
        },
        "title": {
         "text": "NRC Emotion Intensity by ADU Type"
        },
        "xaxis": {
         "anchor": "y",
         "domain": [
          0,
          1
         ],
         "title": {
          "text": "ADU Type"
         }
        },
        "yaxis": {
         "anchor": "x",
         "autorange": "reversed",
         "domain": [
          0,
          1
         ],
         "title": {
          "text": "NRC Emotion Dimension"
         }
        }
       }
      }
     },
     "metadata": {},
     "output_type": "display_data"
    }
   ],
   "source": [
    "\n",
    "def process_data(df):\n",
    "    \"\"\"Process DataFrame by applying NRC analysis and filtering emotions.\"\"\"\n",
    "    df_exp = df.explode(['EDU', 'adu_type'])\n",
    "    \n",
    "    nrc_features = df_exp['EDU'].apply(lambda x: pd.Series(calculate_nrc(x)))\n",
    "    \n",
    "    return pd.concat([df_exp[['adu_type']], nrc_features], axis=1)\n",
    "\n",
    "def visualize_correlation(processed_df):\n",
    "    \"\"\"Generate a heatmap visualization of NRC emotions by ADU type.\"\"\"\n",
    "    grouped = processed_df.groupby('adu_type').mean().reset_index()\n",
    "    \n",
    "    melted = grouped.melt(id_vars='adu_type', \n",
    "                          var_name='Emotion', \n",
    "                          value_name='Intensity')\n",
    "\n",
    "    fig = px.imshow(\n",
    "        grouped.set_index('adu_type').T,\n",
    "        labels=dict(x=\"ADU Type\", y=\"NRC Dimension\", color=\"Intensity\"),\n",
    "        color_continuous_scale='RdBu',\n",
    "        title=\"NRC Emotion Intensity by ADU Type\",\n",
    "        aspect=\"auto\"\n",
    "    )\n",
    "    \n",
    "    fig.update_layout(\n",
    "        xaxis_title=\"ADU Type\",\n",
    "        yaxis_title=\"NRC Emotion Dimension\",\n",
    "        coloraxis_colorbar=dict(title=\"Intensity\")\n",
    "    )\n",
    "    \n",
    "    return fig\n",
    "\n",
    "processed_df = process_data(df)\n",
    "fig = visualize_correlation(processed_df)\n",
    "fig.show()\n"
   ]
  },
  {
   "cell_type": "markdown",
   "metadata": {},
   "source": [
    "# Argumentative Microtext Part 2"
   ]
  },
  {
   "cell_type": "code",
   "execution_count": 18,
   "metadata": {},
   "outputs": [],
   "source": [
    "df2 = pd.read_json(\"../data/dfMT2-PC_SA_CP_topicID_AduType.json\") "
   ]
  },
  {
   "cell_type": "markdown",
   "metadata": {},
   "source": []
  },
  {
   "cell_type": "code",
   "execution_count": 11,
   "metadata": {},
   "outputs": [
    {
     "name": "stdout",
     "output_type": "stream",
     "text": [
      "<class 'pandas.core.frame.DataFrame'>\n",
      "Index: 171 entries, 0 to 170\n",
      "Data columns (total 6 columns):\n",
      " #   Column     Non-Null Count  Dtype \n",
      "---  ------     --------------  ----- \n",
      " 0   EDU        171 non-null    object\n",
      " 1   adu_type   171 non-null    object\n",
      " 2   topic_id   171 non-null    object\n",
      " 3   Relations  171 non-null    object\n",
      " 4   Label      171 non-null    object\n",
      " 5   STANCE     171 non-null    object\n",
      "dtypes: object(6)\n",
      "memory usage: 9.4+ KB\n"
     ]
    }
   ],
   "source": [
    "df2.info()"
   ]
  },
  {
   "cell_type": "markdown",
   "metadata": {},
   "source": []
  },
  {
   "cell_type": "code",
   "execution_count": null,
   "metadata": {},
   "outputs": [],
   "source": [
    "df3 = pd.read_json(\"../data/df_IBM.json\")   #work wore on extraction "
   ]
  },
  {
   "cell_type": "code",
   "execution_count": 22,
   "metadata": {},
   "outputs": [
    {
     "name": "stdout",
     "output_type": "stream",
     "text": [
      "<class 'pandas.core.frame.DataFrame'>\n",
      "Index: 55 entries, 0 to 54\n",
      "Data columns (total 5 columns):\n",
      " #   Column           Non-Null Count  Dtype \n",
      "---  ------           --------------  ----- \n",
      " 0   topic_id         55 non-null     object\n",
      " 1   EDU              55 non-null     object\n",
      " 2   adu_type         55 non-null     object\n",
      " 3   targetsRelation  55 non-null     object\n",
      " 4   Compatible       55 non-null     object\n",
      "dtypes: object(5)\n",
      "memory usage: 2.6+ KB\n"
     ]
    }
   ],
   "source": [
    "df3.info()"
   ]
  },
  {
   "cell_type": "code",
   "execution_count": 25,
   "metadata": {},
   "outputs": [
    {
     "data": {
      "text/html": [
       "<div>\n",
       "<style scoped>\n",
       "    .dataframe tbody tr th:only-of-type {\n",
       "        vertical-align: middle;\n",
       "    }\n",
       "\n",
       "    .dataframe tbody tr th {\n",
       "        vertical-align: top;\n",
       "    }\n",
       "\n",
       "    .dataframe thead th {\n",
       "        text-align: right;\n",
       "    }\n",
       "</style>\n",
       "<table border=\"1\" class=\"dataframe\">\n",
       "  <thead>\n",
       "    <tr style=\"text-align: right;\">\n",
       "      <th></th>\n",
       "      <th>topic_id</th>\n",
       "      <th>EDU</th>\n",
       "      <th>adu_type</th>\n",
       "      <th>targetsRelation</th>\n",
       "      <th>Compatible</th>\n",
       "    </tr>\n",
       "  </thead>\n",
       "  <tbody>\n",
       "    <tr>\n",
       "      <th>0</th>\n",
       "      <td>the sale of violent video games to minors</td>\n",
       "      <td>[exposure to violent video games causes at least a temporary increase in aggression and that this exposure correlates with aggression in the real world, video game violence is not related to serious aggressive behavior in real life, some violent video games may actually have a prosocial effect in some contexts, exposure to violent video games causes both short term and long term aggression in players and decreases empathy and prosocial behavior, they increase the violent tendencies among youth, have shown no conclusive link between video game usage and violent activity, violent video games are significantly associated with: increased aggressive behavior, thoughts, and affect; increased physiological arousal; and decreased pro-social (helping) behavior, video game publishers unethically train children in the use of weapons and, more importantly, harden them emotionally to the act of murder, violent video games may increase mild forms of aggressive behavior in children and young adults, exposure to violent video games results in increased physiological arousal, aggression-related thoughts and feelings as well as decreased prosocial behavior, no long-term relationship between playing violent video game and youth violence or bullying, aggressive children tend to select more violent video games, not the inverse, no evidence violent games are psychologically harmful to minors, adolescents that don't play video games at all are most at-risk for violent behavior, video game play is part of an adolescent boy's normal social setting, Other biological theories of aggression and violence have specifically excluded video game and other media effects, Reinforcement of sexist stereotypes has also been claimed as an effect of violent video games, a correlation between children playing violent video games and suffering psychological effects, violent video games can increase children's aggression, media influences are too weak and distant to have much influence, violent video games promote violent behavior, attitudes and beliefs by desensitizing an individual to aggression, Excessive exposure to violent video games and other violent media has been linked to aggressive behaviour, neurological link between playing violent video games and aggressive behaviour in children and teenagers, there was no direct link between violent video games and their influence on children, Video games also develop the individual's intelligence, violent games help students deal with stress and aggression, violent games affect students positively and not negatively, many skills can be learned from the gaming experience, it builds practical and intellectual skills, media cannot cause violence because humans have the ability to recognize what is wrong, and what is right, video games have many healthy and positive aspects, they can be a safe outlet for aggression and frustration, violent video games are influencing their children's view about violence, Various games have been accused of causing addiction and even violent behavior, exposure to graphic violence leads to desensitization to committing acts of violence in person, violence in games hardens children to unethical acts, children may imitate aggressive behaviors witnessed in media, children don't automatically imitate aggression, but rather consider the context of aggression, societal media consumption and violent crime rates are not well associated, media violence may increase aggression, evidence for harmful effects were inconclusive, violent video games—especially first-person shooter games—encouraged real-life acts of violence in teenagers, video games allow children to act out crimes, violence in video games is not causally linked with aggressive tendencies, correlations between violent gameplay and some common childhood problems, most children who play violent games do not have problems, many creative, social and emotional benefits from video game play—even games with violent content, not all depictions of violence are even bad to witness, no connection between exposure to media violence and real life violence, heavy exposure to media violence can lead to more aggressive behavior, exposure alone does not cause a child to commit crimes, there is no convincing evidence that prove that media violence cause violent crime or any type of real life violence, violent video games[REF] is related to increased aggressiveness in children, numerous researchers have proposed potential positive effects of video games, computer games cause violence, a correlation between violent content conveyed through media (including videogames) and violent or aggressive behavior, Some serious psychological problems have been attributed to desensitization to violence in video games, video games were protected speech under the First Amendment, there was a connection between video games and violence, content-based regulations are presumptively invalid, no evidence linked video games to youth violence, there was no \"compelling\" link between violent video games and its effects on children, content-based restrictions on games are unconstitutional, parents, not government bureaucrats, have the right to decide what is appropriate for their children, states should have the “right to regulate the sale of video games [that are violent] in order to protect minors, parents should make the decision” about what video games they purchase for their children, and what constitutes “too violent, states do not have the right to decide that some video games are too violent for [minors, violent games cause youth violence, a high degree of relationship between violent games and youth violence, video game violence leads to youth violence, video game content was a form of freedom of expression, there is social utility in expressive and imaginative forms of entertainment, even if they contain violence, there are tangible benefits to violence in action games]</td>\n",
       "      <td>[PRO, CON, CON, PRO, PRO, CON, PRO, PRO, PRO, PRO, CON, CON, CON, CON, CON, CON, PRO, PRO, PRO, CON, PRO, PRO, PRO, CON, CON, CON, CON, CON, CON, CON, CON, PRO, PRO, PRO, PRO, PRO, CON, CON, PRO, CON, PRO, PRO, CON, PRO, CON, CON, CON, CON, PRO, CON, CON, PRO, CON, PRO, PRO, PRO, CON, PRO, CON, CON, CON, CON, CON, PRO, CON, CON, PRO, PRO, PRO, CON, CON, CON]</td>\n",
       "      <td>[1, 1, 1, 1, 1, 1, 1, 1, 1, 1, 1, None, 1, -1, 1, 1, 1, 1, 1, 1, 1, 1, 1, 1, 1, 1, 1, 1, 1, 1, 1, 1, 1, 1, 1, 1, None, 1, 1, None, 1, 1, 1, 1, 1, 1, 1, 1, 1, 1, 1, 1, 1, 1, 1, 1, 1, 1, -1, 1, 1, -1, None, -1, None, None, 1, 1, 1, 1, 1, 1]</td>\n",
       "      <td>[yes, yes, yes, yes, yes, yes, yes, yes, yes, yes, yes, no, yes, yes, yes, yes, yes, yes, yes, yes, yes, yes, yes, yes, yes, yes, yes, yes, yes, yes, yes, yes, yes, yes, yes, yes, no, yes, yes, no, yes, yes, yes, yes, yes, yes, yes, yes, yes, yes, yes, yes, yes, yes, yes, yes, yes, yes, yes, yes, yes, yes, no, yes, no, no, yes, yes, yes, yes, yes, yes]</td>\n",
       "    </tr>\n",
       "  </tbody>\n",
       "</table>\n",
       "</div>"
      ],
      "text/plain": [
       "                                    topic_id  \\\n",
       "0  the sale of violent video games to minors   \n",
       "\n",
       "                                                                                                                                                                                                                                                                                                                                                                                                                                                                                                                                                                                                                                                                                                                                                                                                                                                                                                                                                                                                                                                                                                                                                                                                                                                                                                                                                                                                                                                                                                                                                                                                                                                                                                                                                                                                                                                                                                                                                                                                                                                                                                                                                                                                                                                                                                                                                                                                                                                                                                                                                                                                                                                                                                                                                                                                                                                                                                                                                                                                                                                                                                                                                                                                                                                                                                                                                                                                                                                                                                                                                                                                                                                                                                                                                                                                                                                                                                                                                                                                                                                                                                                                                                                                                                                                                                                                                                                                                                                                                                                                                                                                                                                                                                                                                                                                                                                                                                                                                                                                                                                                                                                                                                                                                                                                                                                                                                                                                                                                                                                                                                                                                                                                                                                                                                                                                                                                                                                                                                                                                                                                                                                                                                            EDU  \\\n",
       "0  [exposure to violent video games causes at least a temporary increase in aggression and that this exposure correlates with aggression in the real world, video game violence is not related to serious aggressive behavior in real life, some violent video games may actually have a prosocial effect in some contexts, exposure to violent video games causes both short term and long term aggression in players and decreases empathy and prosocial behavior, they increase the violent tendencies among youth, have shown no conclusive link between video game usage and violent activity, violent video games are significantly associated with: increased aggressive behavior, thoughts, and affect; increased physiological arousal; and decreased pro-social (helping) behavior, video game publishers unethically train children in the use of weapons and, more importantly, harden them emotionally to the act of murder, violent video games may increase mild forms of aggressive behavior in children and young adults, exposure to violent video games results in increased physiological arousal, aggression-related thoughts and feelings as well as decreased prosocial behavior, no long-term relationship between playing violent video game and youth violence or bullying, aggressive children tend to select more violent video games, not the inverse, no evidence violent games are psychologically harmful to minors, adolescents that don't play video games at all are most at-risk for violent behavior, video game play is part of an adolescent boy's normal social setting, Other biological theories of aggression and violence have specifically excluded video game and other media effects, Reinforcement of sexist stereotypes has also been claimed as an effect of violent video games, a correlation between children playing violent video games and suffering psychological effects, violent video games can increase children's aggression, media influences are too weak and distant to have much influence, violent video games promote violent behavior, attitudes and beliefs by desensitizing an individual to aggression, Excessive exposure to violent video games and other violent media has been linked to aggressive behaviour, neurological link between playing violent video games and aggressive behaviour in children and teenagers, there was no direct link between violent video games and their influence on children, Video games also develop the individual's intelligence, violent games help students deal with stress and aggression, violent games affect students positively and not negatively, many skills can be learned from the gaming experience, it builds practical and intellectual skills, media cannot cause violence because humans have the ability to recognize what is wrong, and what is right, video games have many healthy and positive aspects, they can be a safe outlet for aggression and frustration, violent video games are influencing their children's view about violence, Various games have been accused of causing addiction and even violent behavior, exposure to graphic violence leads to desensitization to committing acts of violence in person, violence in games hardens children to unethical acts, children may imitate aggressive behaviors witnessed in media, children don't automatically imitate aggression, but rather consider the context of aggression, societal media consumption and violent crime rates are not well associated, media violence may increase aggression, evidence for harmful effects were inconclusive, violent video games—especially first-person shooter games—encouraged real-life acts of violence in teenagers, video games allow children to act out crimes, violence in video games is not causally linked with aggressive tendencies, correlations between violent gameplay and some common childhood problems, most children who play violent games do not have problems, many creative, social and emotional benefits from video game play—even games with violent content, not all depictions of violence are even bad to witness, no connection between exposure to media violence and real life violence, heavy exposure to media violence can lead to more aggressive behavior, exposure alone does not cause a child to commit crimes, there is no convincing evidence that prove that media violence cause violent crime or any type of real life violence, violent video games[REF] is related to increased aggressiveness in children, numerous researchers have proposed potential positive effects of video games, computer games cause violence, a correlation between violent content conveyed through media (including videogames) and violent or aggressive behavior, Some serious psychological problems have been attributed to desensitization to violence in video games, video games were protected speech under the First Amendment, there was a connection between video games and violence, content-based regulations are presumptively invalid, no evidence linked video games to youth violence, there was no \"compelling\" link between violent video games and its effects on children, content-based restrictions on games are unconstitutional, parents, not government bureaucrats, have the right to decide what is appropriate for their children, states should have the “right to regulate the sale of video games [that are violent] in order to protect minors, parents should make the decision” about what video games they purchase for their children, and what constitutes “too violent, states do not have the right to decide that some video games are too violent for [minors, violent games cause youth violence, a high degree of relationship between violent games and youth violence, video game violence leads to youth violence, video game content was a form of freedom of expression, there is social utility in expressive and imaginative forms of entertainment, even if they contain violence, there are tangible benefits to violence in action games]   \n",
       "\n",
       "                                                                                                                                                                                                                                                                                                                                                                   adu_type  \\\n",
       "0  [PRO, CON, CON, PRO, PRO, CON, PRO, PRO, PRO, PRO, CON, CON, CON, CON, CON, CON, PRO, PRO, PRO, CON, PRO, PRO, PRO, CON, CON, CON, CON, CON, CON, CON, CON, PRO, PRO, PRO, PRO, PRO, CON, CON, PRO, CON, PRO, PRO, CON, PRO, CON, CON, CON, CON, PRO, CON, CON, PRO, CON, PRO, PRO, PRO, CON, PRO, CON, CON, CON, CON, CON, PRO, CON, CON, PRO, PRO, PRO, CON, CON, CON]   \n",
       "\n",
       "                                                                                                                                                                                                                                  targetsRelation  \\\n",
       "0  [1, 1, 1, 1, 1, 1, 1, 1, 1, 1, 1, None, 1, -1, 1, 1, 1, 1, 1, 1, 1, 1, 1, 1, 1, 1, 1, 1, 1, 1, 1, 1, 1, 1, 1, 1, None, 1, 1, None, 1, 1, 1, 1, 1, 1, 1, 1, 1, 1, 1, 1, 1, 1, 1, 1, 1, 1, -1, 1, 1, -1, None, -1, None, None, 1, 1, 1, 1, 1, 1]   \n",
       "\n",
       "                                                                                                                                                                                                                                                                                                                                                           Compatible  \n",
       "0  [yes, yes, yes, yes, yes, yes, yes, yes, yes, yes, yes, no, yes, yes, yes, yes, yes, yes, yes, yes, yes, yes, yes, yes, yes, yes, yes, yes, yes, yes, yes, yes, yes, yes, yes, yes, no, yes, yes, no, yes, yes, yes, yes, yes, yes, yes, yes, yes, yes, yes, yes, yes, yes, yes, yes, yes, yes, yes, yes, yes, yes, no, yes, no, no, yes, yes, yes, yes, yes, yes]  "
      ]
     },
     "execution_count": 25,
     "metadata": {},
     "output_type": "execute_result"
    }
   ],
   "source": [
    "df3.head(1)"
   ]
  },
  {
   "cell_type": "code",
   "execution_count": null,
   "metadata": {},
   "outputs": [],
   "source": [
    "\n",
    "def convert_list(lst):\n",
    "    return ['pro' if item == 'PRO' else 'opp' for item in lst]\n",
    "\n",
    "df3['adu_type'] = df3['adu_type'].apply(convert_list)"
   ]
  },
  {
   "cell_type": "code",
   "execution_count": 28,
   "metadata": {},
   "outputs": [
    {
     "data": {
      "text/html": [
       "<div>\n",
       "<style scoped>\n",
       "    .dataframe tbody tr th:only-of-type {\n",
       "        vertical-align: middle;\n",
       "    }\n",
       "\n",
       "    .dataframe tbody tr th {\n",
       "        vertical-align: top;\n",
       "    }\n",
       "\n",
       "    .dataframe thead th {\n",
       "        text-align: right;\n",
       "    }\n",
       "</style>\n",
       "<table border=\"1\" class=\"dataframe\">\n",
       "  <thead>\n",
       "    <tr style=\"text-align: right;\">\n",
       "      <th></th>\n",
       "      <th>topic_id</th>\n",
       "      <th>EDU</th>\n",
       "      <th>adu_type</th>\n",
       "      <th>targetsRelation</th>\n",
       "      <th>Compatible</th>\n",
       "    </tr>\n",
       "  </thead>\n",
       "  <tbody>\n",
       "    <tr>\n",
       "      <th>0</th>\n",
       "      <td>the sale of violent video games to minors</td>\n",
       "      <td>[exposure to violent video games causes at least a temporary increase in aggression and that this exposure correlates with aggression in the real world, video game violence is not related to serious aggressive behavior in real life, some violent video games may actually have a prosocial effect in some contexts, exposure to violent video games causes both short term and long term aggression in players and decreases empathy and prosocial behavior, they increase the violent tendencies among youth, have shown no conclusive link between video game usage and violent activity, violent video games are significantly associated with: increased aggressive behavior, thoughts, and affect; increased physiological arousal; and decreased pro-social (helping) behavior, video game publishers unethically train children in the use of weapons and, more importantly, harden them emotionally to the act of murder, violent video games may increase mild forms of aggressive behavior in children and young adults, exposure to violent video games results in increased physiological arousal, aggression-related thoughts and feelings as well as decreased prosocial behavior, no long-term relationship between playing violent video game and youth violence or bullying, aggressive children tend to select more violent video games, not the inverse, no evidence violent games are psychologically harmful to minors, adolescents that don't play video games at all are most at-risk for violent behavior, video game play is part of an adolescent boy's normal social setting, Other biological theories of aggression and violence have specifically excluded video game and other media effects, Reinforcement of sexist stereotypes has also been claimed as an effect of violent video games, a correlation between children playing violent video games and suffering psychological effects, violent video games can increase children's aggression, media influences are too weak and distant to have much influence, violent video games promote violent behavior, attitudes and beliefs by desensitizing an individual to aggression, Excessive exposure to violent video games and other violent media has been linked to aggressive behaviour, neurological link between playing violent video games and aggressive behaviour in children and teenagers, there was no direct link between violent video games and their influence on children, Video games also develop the individual's intelligence, violent games help students deal with stress and aggression, violent games affect students positively and not negatively, many skills can be learned from the gaming experience, it builds practical and intellectual skills, media cannot cause violence because humans have the ability to recognize what is wrong, and what is right, video games have many healthy and positive aspects, they can be a safe outlet for aggression and frustration, violent video games are influencing their children's view about violence, Various games have been accused of causing addiction and even violent behavior, exposure to graphic violence leads to desensitization to committing acts of violence in person, violence in games hardens children to unethical acts, children may imitate aggressive behaviors witnessed in media, children don't automatically imitate aggression, but rather consider the context of aggression, societal media consumption and violent crime rates are not well associated, media violence may increase aggression, evidence for harmful effects were inconclusive, violent video games—especially first-person shooter games—encouraged real-life acts of violence in teenagers, video games allow children to act out crimes, violence in video games is not causally linked with aggressive tendencies, correlations between violent gameplay and some common childhood problems, most children who play violent games do not have problems, many creative, social and emotional benefits from video game play—even games with violent content, not all depictions of violence are even bad to witness, no connection between exposure to media violence and real life violence, heavy exposure to media violence can lead to more aggressive behavior, exposure alone does not cause a child to commit crimes, there is no convincing evidence that prove that media violence cause violent crime or any type of real life violence, violent video games[REF] is related to increased aggressiveness in children, numerous researchers have proposed potential positive effects of video games, computer games cause violence, a correlation between violent content conveyed through media (including videogames) and violent or aggressive behavior, Some serious psychological problems have been attributed to desensitization to violence in video games, video games were protected speech under the First Amendment, there was a connection between video games and violence, content-based regulations are presumptively invalid, no evidence linked video games to youth violence, there was no \"compelling\" link between violent video games and its effects on children, content-based restrictions on games are unconstitutional, parents, not government bureaucrats, have the right to decide what is appropriate for their children, states should have the “right to regulate the sale of video games [that are violent] in order to protect minors, parents should make the decision” about what video games they purchase for their children, and what constitutes “too violent, states do not have the right to decide that some video games are too violent for [minors, violent games cause youth violence, a high degree of relationship between violent games and youth violence, video game violence leads to youth violence, video game content was a form of freedom of expression, there is social utility in expressive and imaginative forms of entertainment, even if they contain violence, there are tangible benefits to violence in action games]</td>\n",
       "      <td>[pro, opp, opp, pro, pro, opp, pro, pro, pro, pro, opp, opp, opp, opp, opp, opp, pro, pro, pro, opp, pro, pro, pro, opp, opp, opp, opp, opp, opp, opp, opp, pro, pro, pro, pro, pro, opp, opp, pro, opp, pro, pro, opp, pro, opp, opp, opp, opp, pro, opp, opp, pro, opp, pro, pro, pro, opp, pro, opp, opp, opp, opp, opp, pro, opp, opp, pro, pro, pro, opp, opp, opp]</td>\n",
       "      <td>[1, 1, 1, 1, 1, 1, 1, 1, 1, 1, 1, None, 1, -1, 1, 1, 1, 1, 1, 1, 1, 1, 1, 1, 1, 1, 1, 1, 1, 1, 1, 1, 1, 1, 1, 1, None, 1, 1, None, 1, 1, 1, 1, 1, 1, 1, 1, 1, 1, 1, 1, 1, 1, 1, 1, 1, 1, -1, 1, 1, -1, None, -1, None, None, 1, 1, 1, 1, 1, 1]</td>\n",
       "      <td>[yes, yes, yes, yes, yes, yes, yes, yes, yes, yes, yes, no, yes, yes, yes, yes, yes, yes, yes, yes, yes, yes, yes, yes, yes, yes, yes, yes, yes, yes, yes, yes, yes, yes, yes, yes, no, yes, yes, no, yes, yes, yes, yes, yes, yes, yes, yes, yes, yes, yes, yes, yes, yes, yes, yes, yes, yes, yes, yes, yes, yes, no, yes, no, no, yes, yes, yes, yes, yes, yes]</td>\n",
       "    </tr>\n",
       "  </tbody>\n",
       "</table>\n",
       "</div>"
      ],
      "text/plain": [
       "                                    topic_id  \\\n",
       "0  the sale of violent video games to minors   \n",
       "\n",
       "                                                                                                                                                                                                                                                                                                                                                                                                                                                                                                                                                                                                                                                                                                                                                                                                                                                                                                                                                                                                                                                                                                                                                                                                                                                                                                                                                                                                                                                                                                                                                                                                                                                                                                                                                                                                                                                                                                                                                                                                                                                                                                                                                                                                                                                                                                                                                                                                                                                                                                                                                                                                                                                                                                                                                                                                                                                                                                                                                                                                                                                                                                                                                                                                                                                                                                                                                                                                                                                                                                                                                                                                                                                                                                                                                                                                                                                                                                                                                                                                                                                                                                                                                                                                                                                                                                                                                                                                                                                                                                                                                                                                                                                                                                                                                                                                                                                                                                                                                                                                                                                                                                                                                                                                                                                                                                                                                                                                                                                                                                                                                                                                                                                                                                                                                                                                                                                                                                                                                                                                                                                                                                                                                                            EDU  \\\n",
       "0  [exposure to violent video games causes at least a temporary increase in aggression and that this exposure correlates with aggression in the real world, video game violence is not related to serious aggressive behavior in real life, some violent video games may actually have a prosocial effect in some contexts, exposure to violent video games causes both short term and long term aggression in players and decreases empathy and prosocial behavior, they increase the violent tendencies among youth, have shown no conclusive link between video game usage and violent activity, violent video games are significantly associated with: increased aggressive behavior, thoughts, and affect; increased physiological arousal; and decreased pro-social (helping) behavior, video game publishers unethically train children in the use of weapons and, more importantly, harden them emotionally to the act of murder, violent video games may increase mild forms of aggressive behavior in children and young adults, exposure to violent video games results in increased physiological arousal, aggression-related thoughts and feelings as well as decreased prosocial behavior, no long-term relationship between playing violent video game and youth violence or bullying, aggressive children tend to select more violent video games, not the inverse, no evidence violent games are psychologically harmful to minors, adolescents that don't play video games at all are most at-risk for violent behavior, video game play is part of an adolescent boy's normal social setting, Other biological theories of aggression and violence have specifically excluded video game and other media effects, Reinforcement of sexist stereotypes has also been claimed as an effect of violent video games, a correlation between children playing violent video games and suffering psychological effects, violent video games can increase children's aggression, media influences are too weak and distant to have much influence, violent video games promote violent behavior, attitudes and beliefs by desensitizing an individual to aggression, Excessive exposure to violent video games and other violent media has been linked to aggressive behaviour, neurological link between playing violent video games and aggressive behaviour in children and teenagers, there was no direct link between violent video games and their influence on children, Video games also develop the individual's intelligence, violent games help students deal with stress and aggression, violent games affect students positively and not negatively, many skills can be learned from the gaming experience, it builds practical and intellectual skills, media cannot cause violence because humans have the ability to recognize what is wrong, and what is right, video games have many healthy and positive aspects, they can be a safe outlet for aggression and frustration, violent video games are influencing their children's view about violence, Various games have been accused of causing addiction and even violent behavior, exposure to graphic violence leads to desensitization to committing acts of violence in person, violence in games hardens children to unethical acts, children may imitate aggressive behaviors witnessed in media, children don't automatically imitate aggression, but rather consider the context of aggression, societal media consumption and violent crime rates are not well associated, media violence may increase aggression, evidence for harmful effects were inconclusive, violent video games—especially first-person shooter games—encouraged real-life acts of violence in teenagers, video games allow children to act out crimes, violence in video games is not causally linked with aggressive tendencies, correlations between violent gameplay and some common childhood problems, most children who play violent games do not have problems, many creative, social and emotional benefits from video game play—even games with violent content, not all depictions of violence are even bad to witness, no connection between exposure to media violence and real life violence, heavy exposure to media violence can lead to more aggressive behavior, exposure alone does not cause a child to commit crimes, there is no convincing evidence that prove that media violence cause violent crime or any type of real life violence, violent video games[REF] is related to increased aggressiveness in children, numerous researchers have proposed potential positive effects of video games, computer games cause violence, a correlation between violent content conveyed through media (including videogames) and violent or aggressive behavior, Some serious psychological problems have been attributed to desensitization to violence in video games, video games were protected speech under the First Amendment, there was a connection between video games and violence, content-based regulations are presumptively invalid, no evidence linked video games to youth violence, there was no \"compelling\" link between violent video games and its effects on children, content-based restrictions on games are unconstitutional, parents, not government bureaucrats, have the right to decide what is appropriate for their children, states should have the “right to regulate the sale of video games [that are violent] in order to protect minors, parents should make the decision” about what video games they purchase for their children, and what constitutes “too violent, states do not have the right to decide that some video games are too violent for [minors, violent games cause youth violence, a high degree of relationship between violent games and youth violence, video game violence leads to youth violence, video game content was a form of freedom of expression, there is social utility in expressive and imaginative forms of entertainment, even if they contain violence, there are tangible benefits to violence in action games]   \n",
       "\n",
       "                                                                                                                                                                                                                                                                                                                                                                   adu_type  \\\n",
       "0  [pro, opp, opp, pro, pro, opp, pro, pro, pro, pro, opp, opp, opp, opp, opp, opp, pro, pro, pro, opp, pro, pro, pro, opp, opp, opp, opp, opp, opp, opp, opp, pro, pro, pro, pro, pro, opp, opp, pro, opp, pro, pro, opp, pro, opp, opp, opp, opp, pro, opp, opp, pro, opp, pro, pro, pro, opp, pro, opp, opp, opp, opp, opp, pro, opp, opp, pro, pro, pro, opp, opp, opp]   \n",
       "\n",
       "                                                                                                                                                                                                                                  targetsRelation  \\\n",
       "0  [1, 1, 1, 1, 1, 1, 1, 1, 1, 1, 1, None, 1, -1, 1, 1, 1, 1, 1, 1, 1, 1, 1, 1, 1, 1, 1, 1, 1, 1, 1, 1, 1, 1, 1, 1, None, 1, 1, None, 1, 1, 1, 1, 1, 1, 1, 1, 1, 1, 1, 1, 1, 1, 1, 1, 1, 1, -1, 1, 1, -1, None, -1, None, None, 1, 1, 1, 1, 1, 1]   \n",
       "\n",
       "                                                                                                                                                                                                                                                                                                                                                           Compatible  \n",
       "0  [yes, yes, yes, yes, yes, yes, yes, yes, yes, yes, yes, no, yes, yes, yes, yes, yes, yes, yes, yes, yes, yes, yes, yes, yes, yes, yes, yes, yes, yes, yes, yes, yes, yes, yes, yes, no, yes, yes, no, yes, yes, yes, yes, yes, yes, yes, yes, yes, yes, yes, yes, yes, yes, yes, yes, yes, yes, yes, yes, yes, yes, no, yes, no, no, yes, yes, yes, yes, yes, yes]  "
      ]
     },
     "execution_count": 28,
     "metadata": {},
     "output_type": "execute_result"
    }
   ],
   "source": [
    "df3.head(1)"
   ]
  },
  {
   "cell_type": "code",
   "execution_count": 12,
   "metadata": {},
   "outputs": [],
   "source": [
    "def classify_pro_opp_RF(df):\n",
    "    df_exp = df.explode(['EDU', 'adu_type'])\n",
    "\n",
    "    X = df_exp['EDU']\n",
    "    y = df_exp['adu_type']\n",
    "\n",
    "    label_encoder = LabelEncoder()\n",
    "    y_encoded = label_encoder.fit_transform(y) \n",
    "    \n",
    "    X_train, X_test, y_train, y_test = train_test_split(X, y_encoded, test_size=0.2, random_state=42)\n",
    "    \n",
    "    vectorizer = TfidfVectorizer(max_features=5000)\n",
    "    X_train_tfidf = vectorizer.fit_transform(X_train)\n",
    "    X_test_tfidf = vectorizer.transform(X_test)\n",
    "\n",
    "    clf = RandomForestClassifier(n_estimators=100, random_state=42, class_weight='balanced')\n",
    "    clf.fit(X_train_tfidf, y_train)\n",
    "    \n",
    "    y_pred_rf = clf.predict(X_test_tfidf)\n",
    "    accuracy_rf = accuracy_score(y_test, y_pred_rf)\n",
    "    class_report_rf = classification_report(y_test, y_pred_rf)\n",
    "    confusion_matrix_rf = confusion_matrix(y_test, y_pred_rf)\n",
    "\n",
    "    print(f\"\\nRandom Forest Accuracy: {accuracy_rf}\")\n",
    "    print(f\"Random Forest Classification Report:\\n{class_report_rf}\")\n",
    "    print(f\"Random Forest Confusion Matrix:\\n{confusion_matrix_rf}\")\n",
    "\n",
    "\n",
    "    majority_classifier = DummyClassifier(strategy='most_frequent')\n",
    "    majority_classifier.fit(X_train_tfidf, y_train)\n",
    "    \n",
    "    y_pred_majority = majority_classifier.predict(X_test_tfidf)\n",
    "    accuracy_majority = accuracy_score(y_test, y_pred_majority)\n",
    "    class_report_majority = classification_report(y_test, y_pred_majority)\n",
    "    confusion_matrix_majority = confusion_matrix(y_test, y_pred_majority)\n",
    "\n",
    "    print(f\"\\nMajority Classifier Accuracy: {accuracy_majority}\")\n",
    "    print(f\"Majority Classifier Classification Report:\\n{class_report_majority}\")\n",
    "    print(f\"Random Forest Confusion Matrix:\\n{confusion_matrix_majority}\")\n",
    "\n",
    "    return accuracy_rf, class_report_rf, accuracy_majority, class_report_majority\n",
    "\n",
    "\n"
   ]
  },
  {
   "cell_type": "code",
   "execution_count": 13,
   "metadata": {},
   "outputs": [
    {
     "name": "stdout",
     "output_type": "stream",
     "text": [
      "\n",
      "Random Forest Accuracy: 0.8017241379310345\n",
      "Random Forest Classification Report:\n",
      "              precision    recall  f1-score   support\n",
      "\n",
      "           0       0.40      0.09      0.15        22\n",
      "           1       0.82      0.97      0.89        94\n",
      "\n",
      "    accuracy                           0.80       116\n",
      "   macro avg       0.61      0.53      0.52       116\n",
      "weighted avg       0.74      0.80      0.75       116\n",
      "\n",
      "Random Forest Confusion Matrix:\n",
      "[[ 2 20]\n",
      " [ 3 91]]\n",
      "\n",
      "Majority Classifier Accuracy: 0.8103448275862069\n",
      "Majority Classifier Classification Report:\n",
      "              precision    recall  f1-score   support\n",
      "\n",
      "           0       0.00      0.00      0.00        22\n",
      "           1       0.81      1.00      0.90        94\n",
      "\n",
      "    accuracy                           0.81       116\n",
      "   macro avg       0.41      0.50      0.45       116\n",
      "weighted avg       0.66      0.81      0.73       116\n",
      "\n",
      "Random Forest Confusion Matrix:\n",
      "[[ 0 22]\n",
      " [ 0 94]]\n"
     ]
    },
    {
     "name": "stderr",
     "output_type": "stream",
     "text": [
      "h:\\moha\\NLP\\AM\\SA\\.venv\\lib\\site-packages\\sklearn\\metrics\\_classification.py:1531: UndefinedMetricWarning:\n",
      "\n",
      "Precision is ill-defined and being set to 0.0 in labels with no predicted samples. Use `zero_division` parameter to control this behavior.\n",
      "\n",
      "h:\\moha\\NLP\\AM\\SA\\.venv\\lib\\site-packages\\sklearn\\metrics\\_classification.py:1531: UndefinedMetricWarning:\n",
      "\n",
      "Precision is ill-defined and being set to 0.0 in labels with no predicted samples. Use `zero_division` parameter to control this behavior.\n",
      "\n",
      "h:\\moha\\NLP\\AM\\SA\\.venv\\lib\\site-packages\\sklearn\\metrics\\_classification.py:1531: UndefinedMetricWarning:\n",
      "\n",
      "Precision is ill-defined and being set to 0.0 in labels with no predicted samples. Use `zero_division` parameter to control this behavior.\n",
      "\n"
     ]
    }
   ],
   "source": [
    "accuracy_rf, class_report_rf, accuracy_majority, class_report_majority = classify_pro_opp_RF(df)\n"
   ]
  },
  {
   "cell_type": "code",
   "execution_count": 31,
   "metadata": {},
   "outputs": [],
   "source": [
    "def handle_mismatched_rows(df):\n",
    "    mismatched_rows = df[df.apply(lambda row: len(row['EDU']) != len(row['adu_type']), axis=1)]\n",
    "    \n",
    "    #if not mismatched_rows.empty:\n",
    "    #    print(f\"Found {len(mismatched_rows)} rows with mismatched list lengths.\")\n",
    "    #    print(mismatched_rows)\n",
    "    \n",
    "    df = df[df.apply(lambda row: len(row['EDU']) == len(row['adu_type']), axis=1)]\n",
    "    \n",
    "    return df"
   ]
  },
  {
   "cell_type": "code",
   "execution_count": 32,
   "metadata": {},
   "outputs": [],
   "source": [
    "df2_new = handle_mismatched_rows(df2)"
   ]
  },
  {
   "cell_type": "code",
   "execution_count": 33,
   "metadata": {},
   "outputs": [
    {
     "name": "stdout",
     "output_type": "stream",
     "text": [
      "<class 'pandas.core.frame.DataFrame'>\n",
      "Index: 144 entries, 0 to 170\n",
      "Data columns (total 6 columns):\n",
      " #   Column     Non-Null Count  Dtype \n",
      "---  ------     --------------  ----- \n",
      " 0   EDU        144 non-null    object\n",
      " 1   adu_type   144 non-null    object\n",
      " 2   topic_id   144 non-null    object\n",
      " 3   Relations  144 non-null    object\n",
      " 4   Label      144 non-null    object\n",
      " 5   STANCE     144 non-null    object\n",
      "dtypes: object(6)\n",
      "memory usage: 7.9+ KB\n"
     ]
    }
   ],
   "source": [
    "df2_new.info()"
   ]
  },
  {
   "cell_type": "code",
   "execution_count": 34,
   "metadata": {},
   "outputs": [
    {
     "name": "stdout",
     "output_type": "stream",
     "text": [
      "\n",
      "Random Forest Accuracy: 0.85\n",
      "Random Forest Classification Report:\n",
      "              precision    recall  f1-score   support\n",
      "\n",
      "           0       0.00      0.00      0.00        23\n",
      "           1       0.86      0.99      0.92       137\n",
      "\n",
      "    accuracy                           0.85       160\n",
      "   macro avg       0.43      0.50      0.46       160\n",
      "weighted avg       0.73      0.85      0.79       160\n",
      "\n",
      "Random Forest Confusion Matrix:\n",
      "[[  0  23]\n",
      " [  1 136]]\n",
      "\n",
      "Majority Classifier Accuracy: 0.85625\n",
      "Majority Classifier Classification Report:\n",
      "              precision    recall  f1-score   support\n",
      "\n",
      "           0       0.00      0.00      0.00        23\n",
      "           1       0.86      1.00      0.92       137\n",
      "\n",
      "    accuracy                           0.86       160\n",
      "   macro avg       0.43      0.50      0.46       160\n",
      "weighted avg       0.73      0.86      0.79       160\n",
      "\n",
      "Random Forest Confusion Matrix:\n",
      "[[  0  23]\n",
      " [  0 137]]\n"
     ]
    },
    {
     "name": "stderr",
     "output_type": "stream",
     "text": [
      "h:\\moha\\NLP\\AM\\SA\\.venv\\lib\\site-packages\\sklearn\\metrics\\_classification.py:1531: UndefinedMetricWarning:\n",
      "\n",
      "Precision is ill-defined and being set to 0.0 in labels with no predicted samples. Use `zero_division` parameter to control this behavior.\n",
      "\n",
      "h:\\moha\\NLP\\AM\\SA\\.venv\\lib\\site-packages\\sklearn\\metrics\\_classification.py:1531: UndefinedMetricWarning:\n",
      "\n",
      "Precision is ill-defined and being set to 0.0 in labels with no predicted samples. Use `zero_division` parameter to control this behavior.\n",
      "\n",
      "h:\\moha\\NLP\\AM\\SA\\.venv\\lib\\site-packages\\sklearn\\metrics\\_classification.py:1531: UndefinedMetricWarning:\n",
      "\n",
      "Precision is ill-defined and being set to 0.0 in labels with no predicted samples. Use `zero_division` parameter to control this behavior.\n",
      "\n"
     ]
    }
   ],
   "source": [
    "accuracy_rf_2, class_report_rf_2, accuracy_majority_2, class_report_majority_2 = classify_pro_opp_RF(df2_new)\n"
   ]
  },
  {
   "cell_type": "markdown",
   "metadata": {},
   "source": [
    "# test SVM model"
   ]
  },
  {
   "cell_type": "code",
   "execution_count": 35,
   "metadata": {},
   "outputs": [],
   "source": [
    "\n",
    "\n",
    "def classify_pro_opp_SVM(df):\n",
    "    df = handle_mismatched_rows(df)\n",
    "    \n",
    "    df_exp = df.explode(['EDU', 'adu_type'])\n",
    "\n",
    "    X = df_exp['EDU']\n",
    "    y = df_exp['adu_type']\n",
    "\n",
    "    label_encoder = LabelEncoder()\n",
    "    y_encoded = label_encoder.fit_transform(y) \n",
    "    \n",
    "    X_train, X_test, y_train, y_test = train_test_split(X, y_encoded, test_size=0.2, random_state=42)\n",
    "    \n",
    "    vectorizer = TfidfVectorizer(max_features=5000)\n",
    "    X_train_tfidf = vectorizer.fit_transform(X_train)\n",
    "    X_test_tfidf = vectorizer.transform(X_test)\n",
    "\n",
    "    clf = SVC(kernel='linear', class_weight='balanced', random_state=42)\n",
    "    clf.fit(X_train_tfidf, y_train)\n",
    "    \n",
    "    y_pred_svm = clf.predict(X_test_tfidf)\n",
    "    accuracy_svm = accuracy_score(y_test, y_pred_svm)\n",
    "    class_report_svm = classification_report(y_test, y_pred_svm)\n",
    "    confusion_matrix_svm = confusion_matrix(y_test, y_pred_svm)\n",
    "\n",
    "    print(f\"\\nSVM Accuracy: {accuracy_svm}\")\n",
    "    print(f\"SVM Classification Report:\\n{class_report_svm}\")\n",
    "    print(f\"SVM Confusion Matrix:\\n{confusion_matrix_svm}\")\n",
    "\n",
    "    majority_classifier = DummyClassifier(strategy='most_frequent')\n",
    "    majority_classifier.fit(X_train_tfidf, y_train)\n",
    "    \n",
    "    y_pred_majority = majority_classifier.predict(X_test_tfidf)\n",
    "    accuracy_majority = accuracy_score(y_test, y_pred_majority)\n",
    "    class_report_majority = classification_report(y_test, y_pred_majority)\n",
    "    confusion_matrix_majority = confusion_matrix(y_test, y_pred_majority)\n",
    "\n",
    "    print(f\"\\nMajority Classifier Accuracy: {accuracy_majority}\")\n",
    "    print(f\"Majority Classifier Classification Report:\\n{class_report_majority}\")\n",
    "    print(f\"Majority Classifier Confusion Matrix:\\n{confusion_matrix_majority}\")\n",
    "\n",
    "    return accuracy_svm, class_report_svm, accuracy_majority, class_report_majority\n"
   ]
  },
  {
   "cell_type": "code",
   "execution_count": 36,
   "metadata": {},
   "outputs": [
    {
     "name": "stdout",
     "output_type": "stream",
     "text": [
      "\n",
      "SVM Accuracy: 0.7672413793103449\n",
      "SVM Classification Report:\n",
      "              precision    recall  f1-score   support\n",
      "\n",
      "           0       0.37      0.32      0.34        22\n",
      "           1       0.85      0.87      0.86        94\n",
      "\n",
      "    accuracy                           0.77       116\n",
      "   macro avg       0.61      0.60      0.60       116\n",
      "weighted avg       0.75      0.77      0.76       116\n",
      "\n",
      "SVM Confusion Matrix:\n",
      "[[ 7 15]\n",
      " [12 82]]\n",
      "\n",
      "Majority Classifier Accuracy: 0.8103448275862069\n",
      "Majority Classifier Classification Report:\n",
      "              precision    recall  f1-score   support\n",
      "\n",
      "           0       0.00      0.00      0.00        22\n",
      "           1       0.81      1.00      0.90        94\n",
      "\n",
      "    accuracy                           0.81       116\n",
      "   macro avg       0.41      0.50      0.45       116\n",
      "weighted avg       0.66      0.81      0.73       116\n",
      "\n",
      "Majority Classifier Confusion Matrix:\n",
      "[[ 0 22]\n",
      " [ 0 94]]\n"
     ]
    },
    {
     "name": "stderr",
     "output_type": "stream",
     "text": [
      "h:\\moha\\NLP\\AM\\SA\\.venv\\lib\\site-packages\\sklearn\\metrics\\_classification.py:1531: UndefinedMetricWarning:\n",
      "\n",
      "Precision is ill-defined and being set to 0.0 in labels with no predicted samples. Use `zero_division` parameter to control this behavior.\n",
      "\n",
      "h:\\moha\\NLP\\AM\\SA\\.venv\\lib\\site-packages\\sklearn\\metrics\\_classification.py:1531: UndefinedMetricWarning:\n",
      "\n",
      "Precision is ill-defined and being set to 0.0 in labels with no predicted samples. Use `zero_division` parameter to control this behavior.\n",
      "\n",
      "h:\\moha\\NLP\\AM\\SA\\.venv\\lib\\site-packages\\sklearn\\metrics\\_classification.py:1531: UndefinedMetricWarning:\n",
      "\n",
      "Precision is ill-defined and being set to 0.0 in labels with no predicted samples. Use `zero_division` parameter to control this behavior.\n",
      "\n"
     ]
    }
   ],
   "source": [
    "accuracy_svm, class_report_svm, accuracy_majority, class_report_majority = classify_pro_opp_SVM(df)"
   ]
  },
  {
   "cell_type": "code",
   "execution_count": 37,
   "metadata": {},
   "outputs": [
    {
     "name": "stdout",
     "output_type": "stream",
     "text": [
      "\n",
      "SVM Accuracy: 0.79375\n",
      "SVM Classification Report:\n",
      "              precision    recall  f1-score   support\n",
      "\n",
      "           0       0.27      0.26      0.27        23\n",
      "           1       0.88      0.88      0.88       137\n",
      "\n",
      "    accuracy                           0.79       160\n",
      "   macro avg       0.57      0.57      0.57       160\n",
      "weighted avg       0.79      0.79      0.79       160\n",
      "\n",
      "SVM Confusion Matrix:\n",
      "[[  6  17]\n",
      " [ 16 121]]\n",
      "\n",
      "Majority Classifier Accuracy: 0.85625\n",
      "Majority Classifier Classification Report:\n",
      "              precision    recall  f1-score   support\n",
      "\n",
      "           0       0.00      0.00      0.00        23\n",
      "           1       0.86      1.00      0.92       137\n",
      "\n",
      "    accuracy                           0.86       160\n",
      "   macro avg       0.43      0.50      0.46       160\n",
      "weighted avg       0.73      0.86      0.79       160\n",
      "\n",
      "Majority Classifier Confusion Matrix:\n",
      "[[  0  23]\n",
      " [  0 137]]\n"
     ]
    },
    {
     "name": "stderr",
     "output_type": "stream",
     "text": [
      "h:\\moha\\NLP\\AM\\SA\\.venv\\lib\\site-packages\\sklearn\\metrics\\_classification.py:1531: UndefinedMetricWarning:\n",
      "\n",
      "Precision is ill-defined and being set to 0.0 in labels with no predicted samples. Use `zero_division` parameter to control this behavior.\n",
      "\n",
      "h:\\moha\\NLP\\AM\\SA\\.venv\\lib\\site-packages\\sklearn\\metrics\\_classification.py:1531: UndefinedMetricWarning:\n",
      "\n",
      "Precision is ill-defined and being set to 0.0 in labels with no predicted samples. Use `zero_division` parameter to control this behavior.\n",
      "\n",
      "h:\\moha\\NLP\\AM\\SA\\.venv\\lib\\site-packages\\sklearn\\metrics\\_classification.py:1531: UndefinedMetricWarning:\n",
      "\n",
      "Precision is ill-defined and being set to 0.0 in labels with no predicted samples. Use `zero_division` parameter to control this behavior.\n",
      "\n"
     ]
    }
   ],
   "source": [
    "accuracy_svm_2, class_report_svm_2, accuracy_majority_2, class_report_majority_2 = classify_pro_opp_SVM(df2)"
   ]
  },
  {
   "cell_type": "code",
   "execution_count": 38,
   "metadata": {},
   "outputs": [
    {
     "name": "stdout",
     "output_type": "stream",
     "text": [
      "\n",
      "SVM Accuracy: 0.6325678496868476\n",
      "SVM Classification Report:\n",
      "              precision    recall  f1-score   support\n",
      "\n",
      "           0       0.54      0.64      0.58       193\n",
      "           1       0.72      0.63      0.67       286\n",
      "\n",
      "    accuracy                           0.63       479\n",
      "   macro avg       0.63      0.63      0.63       479\n",
      "weighted avg       0.65      0.63      0.64       479\n",
      "\n",
      "SVM Confusion Matrix:\n",
      "[[124  69]\n",
      " [107 179]]\n",
      "\n",
      "Majority Classifier Accuracy: 0.5970772442588727\n",
      "Majority Classifier Classification Report:\n",
      "              precision    recall  f1-score   support\n",
      "\n",
      "           0       0.00      0.00      0.00       193\n",
      "           1       0.60      1.00      0.75       286\n",
      "\n",
      "    accuracy                           0.60       479\n",
      "   macro avg       0.30      0.50      0.37       479\n",
      "weighted avg       0.36      0.60      0.45       479\n",
      "\n",
      "Majority Classifier Confusion Matrix:\n",
      "[[  0 193]\n",
      " [  0 286]]\n"
     ]
    },
    {
     "name": "stderr",
     "output_type": "stream",
     "text": [
      "h:\\moha\\NLP\\AM\\SA\\.venv\\lib\\site-packages\\sklearn\\metrics\\_classification.py:1531: UndefinedMetricWarning:\n",
      "\n",
      "Precision is ill-defined and being set to 0.0 in labels with no predicted samples. Use `zero_division` parameter to control this behavior.\n",
      "\n",
      "h:\\moha\\NLP\\AM\\SA\\.venv\\lib\\site-packages\\sklearn\\metrics\\_classification.py:1531: UndefinedMetricWarning:\n",
      "\n",
      "Precision is ill-defined and being set to 0.0 in labels with no predicted samples. Use `zero_division` parameter to control this behavior.\n",
      "\n",
      "h:\\moha\\NLP\\AM\\SA\\.venv\\lib\\site-packages\\sklearn\\metrics\\_classification.py:1531: UndefinedMetricWarning:\n",
      "\n",
      "Precision is ill-defined and being set to 0.0 in labels with no predicted samples. Use `zero_division` parameter to control this behavior.\n",
      "\n"
     ]
    }
   ],
   "source": [
    "accuracy_svm_3, class_report_svm_3, accuracy_majority_3, class_report_majority_3 = classify_pro_opp_SVM(df3)"
   ]
  },
  {
   "cell_type": "markdown",
   "metadata": {},
   "source": [
    "# ADD NRC values as features"
   ]
  },
  {
   "cell_type": "code",
   "execution_count": 39,
   "metadata": {},
   "outputs": [],
   "source": [
    "def classify_pro_opp_SVM_NRC(df):\n",
    "    df = handle_mismatched_rows(df)\n",
    "    \n",
    "    df_exp = df.explode(['EDU', 'adu_type'])\n",
    "\n",
    "    X = df_exp['EDU']\n",
    "    y = df_exp['adu_type']\n",
    "\n",
    "    label_encoder = LabelEncoder()\n",
    "    y_encoded = label_encoder.fit_transform(y)  \n",
    "    \n",
    "    nrc_features = X.apply(lambda text: calculate_nrc(text))\n",
    "    nrc_df = pd.DataFrame(nrc_features.tolist())  \n",
    "    \n",
    "    vectorizer = TfidfVectorizer(max_features=5000)\n",
    "    X_tfidf = vectorizer.fit_transform(X)\n",
    "    \n",
    "    X_combined = np.hstack((X_tfidf.toarray(), nrc_df.to_numpy()))\n",
    "    \n",
    "    X_train, X_test, y_train, y_test = train_test_split(X_combined, y_encoded, test_size=0.2, random_state=42)\n",
    "\n",
    "    clf = SVC(kernel='linear', class_weight='balanced', random_state=42)\n",
    "    clf.fit(X_train, y_train)\n",
    "    \n",
    "    y_pred_svm = clf.predict(X_test)\n",
    "    accuracy_svm = accuracy_score(y_test, y_pred_svm)\n",
    "    class_report_svm = classification_report(y_test, y_pred_svm)\n",
    "    confusion_matrix_svm = confusion_matrix(y_test, y_pred_svm)\n",
    "\n",
    "    print(f\"\\nSVM Accuracy: {accuracy_svm}\")\n",
    "    print(f\"SVM Classification Report:\\n{class_report_svm}\")\n",
    "    print(f\"SVM Confusion Matrix:\\n{confusion_matrix_svm}\")\n",
    "\n",
    "    majority_classifier = DummyClassifier(strategy='most_frequent')\n",
    "    majority_classifier.fit(X_train, y_train)\n",
    "    \n",
    "    y_pred_majority = majority_classifier.predict(X_test)\n",
    "    accuracy_majority = accuracy_score(y_test, y_pred_majority)\n",
    "    class_report_majority = classification_report(y_test, y_pred_majority)\n",
    "    confusion_matrix_majority = confusion_matrix(y_test, y_pred_majority)\n",
    "\n",
    "    print(f\"\\nMajority Classifier Accuracy: {accuracy_majority}\")\n",
    "    print(f\"Majority Classifier Classification Report:\\n{class_report_majority}\")\n",
    "    print(f\"Majority Classifier Confusion Matrix:\\n{confusion_matrix_majority}\")\n",
    "\n",
    "    return accuracy_svm, class_report_svm, accuracy_majority, class_report_majority"
   ]
  },
  {
   "cell_type": "code",
   "execution_count": 40,
   "metadata": {},
   "outputs": [
    {
     "name": "stdout",
     "output_type": "stream",
     "text": [
      "\n",
      "SVM Accuracy: 0.8103448275862069\n",
      "SVM Classification Report:\n",
      "              precision    recall  f1-score   support\n",
      "\n",
      "           0       0.50      0.32      0.39        22\n",
      "           1       0.85      0.93      0.89        94\n",
      "\n",
      "    accuracy                           0.81       116\n",
      "   macro avg       0.68      0.62      0.64       116\n",
      "weighted avg       0.79      0.81      0.79       116\n",
      "\n",
      "SVM Confusion Matrix:\n",
      "[[ 7 15]\n",
      " [ 7 87]]\n",
      "\n",
      "Majority Classifier Accuracy: 0.8103448275862069\n",
      "Majority Classifier Classification Report:\n",
      "              precision    recall  f1-score   support\n",
      "\n",
      "           0       0.00      0.00      0.00        22\n",
      "           1       0.81      1.00      0.90        94\n",
      "\n",
      "    accuracy                           0.81       116\n",
      "   macro avg       0.41      0.50      0.45       116\n",
      "weighted avg       0.66      0.81      0.73       116\n",
      "\n",
      "Majority Classifier Confusion Matrix:\n",
      "[[ 0 22]\n",
      " [ 0 94]]\n"
     ]
    },
    {
     "name": "stderr",
     "output_type": "stream",
     "text": [
      "h:\\moha\\NLP\\AM\\SA\\.venv\\lib\\site-packages\\sklearn\\metrics\\_classification.py:1531: UndefinedMetricWarning:\n",
      "\n",
      "Precision is ill-defined and being set to 0.0 in labels with no predicted samples. Use `zero_division` parameter to control this behavior.\n",
      "\n",
      "h:\\moha\\NLP\\AM\\SA\\.venv\\lib\\site-packages\\sklearn\\metrics\\_classification.py:1531: UndefinedMetricWarning:\n",
      "\n",
      "Precision is ill-defined and being set to 0.0 in labels with no predicted samples. Use `zero_division` parameter to control this behavior.\n",
      "\n",
      "h:\\moha\\NLP\\AM\\SA\\.venv\\lib\\site-packages\\sklearn\\metrics\\_classification.py:1531: UndefinedMetricWarning:\n",
      "\n",
      "Precision is ill-defined and being set to 0.0 in labels with no predicted samples. Use `zero_division` parameter to control this behavior.\n",
      "\n"
     ]
    }
   ],
   "source": [
    "accuracy_svm_nrc, class_report_svm_nrc, accuracy_majority_nrc, class_report_majority_nrc = classify_pro_opp_SVM_NRC(df)"
   ]
  },
  {
   "cell_type": "code",
   "execution_count": 41,
   "metadata": {},
   "outputs": [
    {
     "name": "stdout",
     "output_type": "stream",
     "text": [
      "\n",
      "SVM Accuracy: 0.81875\n",
      "SVM Classification Report:\n",
      "              precision    recall  f1-score   support\n",
      "\n",
      "           0       0.33      0.26      0.29        23\n",
      "           1       0.88      0.91      0.90       137\n",
      "\n",
      "    accuracy                           0.82       160\n",
      "   macro avg       0.61      0.59      0.59       160\n",
      "weighted avg       0.80      0.82      0.81       160\n",
      "\n",
      "SVM Confusion Matrix:\n",
      "[[  6  17]\n",
      " [ 12 125]]\n",
      "\n",
      "Majority Classifier Accuracy: 0.85625\n",
      "Majority Classifier Classification Report:\n",
      "              precision    recall  f1-score   support\n",
      "\n",
      "           0       0.00      0.00      0.00        23\n",
      "           1       0.86      1.00      0.92       137\n",
      "\n",
      "    accuracy                           0.86       160\n",
      "   macro avg       0.43      0.50      0.46       160\n",
      "weighted avg       0.73      0.86      0.79       160\n",
      "\n",
      "Majority Classifier Confusion Matrix:\n",
      "[[  0  23]\n",
      " [  0 137]]\n"
     ]
    },
    {
     "name": "stderr",
     "output_type": "stream",
     "text": [
      "h:\\moha\\NLP\\AM\\SA\\.venv\\lib\\site-packages\\sklearn\\metrics\\_classification.py:1531: UndefinedMetricWarning:\n",
      "\n",
      "Precision is ill-defined and being set to 0.0 in labels with no predicted samples. Use `zero_division` parameter to control this behavior.\n",
      "\n",
      "h:\\moha\\NLP\\AM\\SA\\.venv\\lib\\site-packages\\sklearn\\metrics\\_classification.py:1531: UndefinedMetricWarning:\n",
      "\n",
      "Precision is ill-defined and being set to 0.0 in labels with no predicted samples. Use `zero_division` parameter to control this behavior.\n",
      "\n",
      "h:\\moha\\NLP\\AM\\SA\\.venv\\lib\\site-packages\\sklearn\\metrics\\_classification.py:1531: UndefinedMetricWarning:\n",
      "\n",
      "Precision is ill-defined and being set to 0.0 in labels with no predicted samples. Use `zero_division` parameter to control this behavior.\n",
      "\n"
     ]
    }
   ],
   "source": [
    "accuracy_svm_nrc2, class_report_svm_nrc2, accuracy_majority_nrc2, class_report_majority_nrc2 = classify_pro_opp_SVM_NRC(df2)"
   ]
  },
  {
   "cell_type": "code",
   "execution_count": 43,
   "metadata": {},
   "outputs": [
    {
     "name": "stdout",
     "output_type": "stream",
     "text": [
      "\n",
      "SVM Accuracy: 0.81875\n",
      "SVM Classification Report:\n",
      "              precision    recall  f1-score   support\n",
      "\n",
      "           0       0.33      0.26      0.29        23\n",
      "           1       0.88      0.91      0.90       137\n",
      "\n",
      "    accuracy                           0.82       160\n",
      "   macro avg       0.61      0.59      0.59       160\n",
      "weighted avg       0.80      0.82      0.81       160\n",
      "\n",
      "SVM Confusion Matrix:\n",
      "[[  6  17]\n",
      " [ 12 125]]\n",
      "\n",
      "Majority Classifier Accuracy: 0.85625\n",
      "Majority Classifier Classification Report:\n",
      "              precision    recall  f1-score   support\n",
      "\n",
      "           0       0.00      0.00      0.00        23\n",
      "           1       0.86      1.00      0.92       137\n",
      "\n",
      "    accuracy                           0.86       160\n",
      "   macro avg       0.43      0.50      0.46       160\n",
      "weighted avg       0.73      0.86      0.79       160\n",
      "\n",
      "Majority Classifier Confusion Matrix:\n",
      "[[  0  23]\n",
      " [  0 137]]\n"
     ]
    },
    {
     "name": "stderr",
     "output_type": "stream",
     "text": [
      "h:\\moha\\NLP\\AM\\SA\\.venv\\lib\\site-packages\\sklearn\\metrics\\_classification.py:1531: UndefinedMetricWarning:\n",
      "\n",
      "Precision is ill-defined and being set to 0.0 in labels with no predicted samples. Use `zero_division` parameter to control this behavior.\n",
      "\n",
      "h:\\moha\\NLP\\AM\\SA\\.venv\\lib\\site-packages\\sklearn\\metrics\\_classification.py:1531: UndefinedMetricWarning:\n",
      "\n",
      "Precision is ill-defined and being set to 0.0 in labels with no predicted samples. Use `zero_division` parameter to control this behavior.\n",
      "\n",
      "h:\\moha\\NLP\\AM\\SA\\.venv\\lib\\site-packages\\sklearn\\metrics\\_classification.py:1531: UndefinedMetricWarning:\n",
      "\n",
      "Precision is ill-defined and being set to 0.0 in labels with no predicted samples. Use `zero_division` parameter to control this behavior.\n",
      "\n"
     ]
    }
   ],
   "source": [
    "accuracy_svm_nrc2, class_report_svm_nrc2, accuracy_majority_nrc2, class_report_majority_nrc2 = classify_pro_opp_SVM_NRC(df2)"
   ]
  },
  {
   "cell_type": "code",
   "execution_count": 42,
   "metadata": {},
   "outputs": [
    {
     "name": "stdout",
     "output_type": "stream",
     "text": [
      "\n",
      "SVM Accuracy: 0.6304801670146137\n",
      "SVM Classification Report:\n",
      "              precision    recall  f1-score   support\n",
      "\n",
      "           0       0.54      0.62      0.58       193\n",
      "           1       0.71      0.64      0.67       286\n",
      "\n",
      "    accuracy                           0.63       479\n",
      "   macro avg       0.62      0.63      0.62       479\n",
      "weighted avg       0.64      0.63      0.63       479\n",
      "\n",
      "SVM Confusion Matrix:\n",
      "[[120  73]\n",
      " [104 182]]\n",
      "\n",
      "Majority Classifier Accuracy: 0.5970772442588727\n",
      "Majority Classifier Classification Report:\n",
      "              precision    recall  f1-score   support\n",
      "\n",
      "           0       0.00      0.00      0.00       193\n",
      "           1       0.60      1.00      0.75       286\n",
      "\n",
      "    accuracy                           0.60       479\n",
      "   macro avg       0.30      0.50      0.37       479\n",
      "weighted avg       0.36      0.60      0.45       479\n",
      "\n",
      "Majority Classifier Confusion Matrix:\n",
      "[[  0 193]\n",
      " [  0 286]]\n"
     ]
    },
    {
     "name": "stderr",
     "output_type": "stream",
     "text": [
      "h:\\moha\\NLP\\AM\\SA\\.venv\\lib\\site-packages\\sklearn\\metrics\\_classification.py:1531: UndefinedMetricWarning:\n",
      "\n",
      "Precision is ill-defined and being set to 0.0 in labels with no predicted samples. Use `zero_division` parameter to control this behavior.\n",
      "\n",
      "h:\\moha\\NLP\\AM\\SA\\.venv\\lib\\site-packages\\sklearn\\metrics\\_classification.py:1531: UndefinedMetricWarning:\n",
      "\n",
      "Precision is ill-defined and being set to 0.0 in labels with no predicted samples. Use `zero_division` parameter to control this behavior.\n",
      "\n",
      "h:\\moha\\NLP\\AM\\SA\\.venv\\lib\\site-packages\\sklearn\\metrics\\_classification.py:1531: UndefinedMetricWarning:\n",
      "\n",
      "Precision is ill-defined and being set to 0.0 in labels with no predicted samples. Use `zero_division` parameter to control this behavior.\n",
      "\n"
     ]
    }
   ],
   "source": [
    "accuracy_svm_nrc3, class_report_svm_nrc3, accuracy_majority_nrc3, class_report_majority_nrc3 = classify_pro_opp_SVM_NRC(df3)"
   ]
  },
  {
   "cell_type": "markdown",
   "metadata": {},
   "source": [
    "# ### B-Senticnet for emotion analysis (Davida Package)"
   ]
  },
  {
   "cell_type": "code",
   "execution_count": 44,
   "metadata": {},
   "outputs": [],
   "source": [
    "def calculate_senticnet(text):\n",
    "    processor = SpeechProcessor('../../data/senticnet/senticnet2.tsv')\n",
    "    df_sc_sentiment = processor.process_texts(pd.Series(text)) \n",
    "    print(df_sc_sentiment)\n",
    "    df_sc_sentiment.columns = df_sc_sentiment.columns.str.replace('#', '_')\n",
    "    \n",
    "    # Define expected keys\n",
    "    expected_keys = [\"INTROSPECTION_ecstasy\", \"TEMPER\", \"SENSITIVITY\", \"ATTITUDE\", \"TEMPER_calmness\", \"POLARITY\"]\n",
    "    \n",
    "    # Create dictionary with values, setting missing ones to 0\n",
    "    dict_sc_sentiment = {key: df_sc_sentiment[key].values[0] if key in df_sc_sentiment else 0 for key in expected_keys}\n",
    "\n",
    "    return dict_sc_sentiment\n"
   ]
  },
  {
   "cell_type": "code",
   "execution_count": 45,
   "metadata": {},
   "outputs": [
    {
     "name": "stderr",
     "output_type": "stream",
     "text": [
      "28-Mar-25 15:23:28 - Starting to process\n"
     ]
    },
    {
     "data": {
      "application/vnd.jupyter.widget-view+json": {
       "model_id": "e50af8d1c32f46b9bcd2fb2fcbc8acd6",
       "version_major": 2,
       "version_minor": 0
      },
      "text/plain": [
       "Processing texts:   0%|          | 0/5 [00:00<?, ?it/s]"
      ]
     },
     "metadata": {},
     "output_type": "display_data"
    },
    {
     "name": "stderr",
     "output_type": "stream",
     "text": [
      "28-Mar-25 15:23:31 - Saving results to results/processed_texts.csv\n"
     ]
    },
    {
     "name": "stdout",
     "output_type": "stream",
     "text": [
      "                                                                                                    text  \\\n",
      "0                      Yes, it's annoying and cumbersome to separate your rubbish properly all the time.   \n",
      "1  Three different bin bags stink away in the kitchen and have to be sorted into different wheelie bins.   \n",
      "2                                                        But still Germany produces way too much rubbish   \n",
      "3          and too many resources are lost when what actually should be separated and recycled is burnt.   \n",
      "4                           We Berliners should take the chance and become pioneers in waste separation!   \n",
      "\n",
      "   INTROSPECTION#ecstasy  TEMPER  SENSITIVITY  ATTITUDE  TEMPER#calmness  \\\n",
      "0                 0.8560   -0.33       -0.275    -0.596            0.552   \n",
      "1                 0.9610    0.00        0.000    -0.393            0.000   \n",
      "2                 0.8250    0.00        0.000    -0.596            0.000   \n",
      "3                 0.0000    0.00        0.000     0.000            0.000   \n",
      "4                 0.9195    0.00        0.000    -0.521            0.000   \n",
      "\n",
      "   POLARITY  INTROSPECTION#loathing  SENSITIVITY#enthusiasm  \\\n",
      "0 -0.078000                   0.000                   0.000   \n",
      "1 -0.092833                  -0.828                   0.948   \n",
      "2  0.105500                   0.000                   0.000   \n",
      "3 -0.231200                  -0.899                   0.918   \n",
      "4  0.093500                   0.000                   0.000   \n",
      "\n",
      "   SENSITIVITY#loathing  SENSITIVITY#eagerness  \n",
      "0                 0.000                  0.000  \n",
      "1                 0.000                  0.000  \n",
      "2                 0.000                  0.000  \n",
      "3                -0.856                  0.497  \n",
      "4                -0.856                  0.000  \n"
     ]
    }
   ],
   "source": [
    "processor = SpeechProcessor('../../data/senticnet/senticnet2.tsv')\n",
    "df_sc_sentiment = calculate_senticnet(df.EDU[0])\n"
   ]
  },
  {
   "cell_type": "code",
   "execution_count": 46,
   "metadata": {},
   "outputs": [],
   "source": [
    "def classify_pro_opp_SVM_SENTICNET(df):  #very time consuming, need find a way to loop over the whole df not rows\n",
    "    df = handle_mismatched_rows(df)\n",
    "    \n",
    "    df_exp = df.explode(['EDU', 'adu_type'])\n",
    "\n",
    "    X = df_exp['EDU']\n",
    "    y = df_exp['adu_type']\n",
    "    print(X,y)\n",
    "    label_encoder = LabelEncoder()\n",
    "    y_encoded = label_encoder.fit_transform(y)  \n",
    "    \n",
    "    nrc_features = X.apply(lambda text: calculate_senticnet(text))\n",
    "    nrc_df = pd.DataFrame(nrc_features.tolist())  \n",
    "    \n",
    "    vectorizer = TfidfVectorizer(max_features=5000)\n",
    "    X_tfidf = vectorizer.fit_transform(X)\n",
    "    \n",
    "    X_combined = np.hstack((X_tfidf.toarray(), nrc_df.to_numpy()))\n",
    "    \n",
    "    X_train, X_test, y_train, y_test = train_test_split(X_combined, y_encoded, test_size=0.2, random_state=42)\n",
    "\n",
    "    clf = SVC(kernel='linear', class_weight='balanced', random_state=42)\n",
    "    clf.fit(X_train, y_train)\n",
    "    \n",
    "    y_pred_svm = clf.predict(X_test)\n",
    "    accuracy_svm = accuracy_score(y_test, y_pred_svm)\n",
    "    class_report_svm = classification_report(y_test, y_pred_svm)\n",
    "\n",
    "    print(f\"\\nSVM Accuracy: {accuracy_svm}\")\n",
    "    print(f\"SVM Classification Report:\\n{class_report_svm}\")\n",
    "\n",
    "    majority_classifier = DummyClassifier(strategy='most_frequent')\n",
    "    majority_classifier.fit(X_train, y_train)\n",
    "    \n",
    "    y_pred_majority = majority_classifier.predict(X_test)\n",
    "    accuracy_majority = accuracy_score(y_test, y_pred_majority)\n",
    "    class_report_majority = classification_report(y_test, y_pred_majority)\n",
    "\n",
    "    print(f\"\\nMajority Classifier Accuracy: {accuracy_majority}\")\n",
    "    print(f\"Majority Classifier Classification Report:\\n{class_report_majority}\")\n",
    "\n",
    "    return accuracy_svm, class_report_svm, accuracy_majority, class_report_majority"
   ]
  },
  {
   "cell_type": "code",
   "execution_count": 107,
   "metadata": {},
   "outputs": [
    {
     "name": "stderr",
     "output_type": "stream",
     "text": [
      "26-Mar-25 14:51:51 - Starting to process\n"
     ]
    },
    {
     "data": {
      "application/vnd.jupyter.widget-view+json": {
       "model_id": "32605fcbbe874f45b1d2d52ee52393cc",
       "version_major": 2,
       "version_minor": 0
      },
      "text/plain": [
       "Processing texts:   0%|          | 0/1 [00:00<?, ?it/s]"
      ]
     },
     "metadata": {},
     "output_type": "display_data"
    },
    {
     "name": "stderr",
     "output_type": "stream",
     "text": [
      "26-Mar-25 14:51:51 - Saving results to results/processed_texts.csv\n",
      "26-Mar-25 14:51:51 - Starting to process\n"
     ]
    },
    {
     "data": {
      "application/vnd.jupyter.widget-view+json": {
       "model_id": "bc4d16b96f7343839dd3f1585caca164",
       "version_major": 2,
       "version_minor": 0
      },
      "text/plain": [
       "Processing texts:   0%|          | 0/1 [00:00<?, ?it/s]"
      ]
     },
     "metadata": {},
     "output_type": "display_data"
    },
    {
     "name": "stderr",
     "output_type": "stream",
     "text": [
      "26-Mar-25 14:51:52 - Saving results to results/processed_texts.csv\n",
      "26-Mar-25 14:51:52 - Starting to process\n"
     ]
    },
    {
     "data": {
      "application/vnd.jupyter.widget-view+json": {
       "model_id": "783a1065690744269c31a1fd2b9307f8",
       "version_major": 2,
       "version_minor": 0
      },
      "text/plain": [
       "Processing texts:   0%|          | 0/1 [00:00<?, ?it/s]"
      ]
     },
     "metadata": {},
     "output_type": "display_data"
    },
    {
     "name": "stderr",
     "output_type": "stream",
     "text": [
      "26-Mar-25 14:51:53 - Saving results to results/processed_texts.csv\n",
      "26-Mar-25 14:51:53 - Starting to process\n"
     ]
    },
    {
     "data": {
      "application/vnd.jupyter.widget-view+json": {
       "model_id": "2e35c64c626c4d17b28ed664f9f0099e",
       "version_major": 2,
       "version_minor": 0
      },
      "text/plain": [
       "Processing texts:   0%|          | 0/1 [00:00<?, ?it/s]"
      ]
     },
     "metadata": {},
     "output_type": "display_data"
    },
    {
     "name": "stderr",
     "output_type": "stream",
     "text": [
      "26-Mar-25 14:51:53 - Saving results to results/processed_texts.csv\n",
      "26-Mar-25 14:51:54 - Starting to process\n"
     ]
    },
    {
     "data": {
      "application/vnd.jupyter.widget-view+json": {
       "model_id": "05d8d4baeea54f3098b3c721168b5d8f",
       "version_major": 2,
       "version_minor": 0
      },
      "text/plain": [
       "Processing texts:   0%|          | 0/1 [00:00<?, ?it/s]"
      ]
     },
     "metadata": {},
     "output_type": "display_data"
    },
    {
     "name": "stderr",
     "output_type": "stream",
     "text": [
      "26-Mar-25 14:51:54 - Saving results to results/processed_texts.csv\n",
      "26-Mar-25 14:51:55 - Starting to process\n"
     ]
    },
    {
     "data": {
      "application/vnd.jupyter.widget-view+json": {
       "model_id": "9b63f719feca4f98bc6e501d670ec3e2",
       "version_major": 2,
       "version_minor": 0
      },
      "text/plain": [
       "Processing texts:   0%|          | 0/1 [00:00<?, ?it/s]"
      ]
     },
     "metadata": {},
     "output_type": "display_data"
    },
    {
     "name": "stderr",
     "output_type": "stream",
     "text": [
      "26-Mar-25 14:51:55 - Saving results to results/processed_texts.csv\n",
      "26-Mar-25 14:51:56 - Starting to process\n"
     ]
    },
    {
     "data": {
      "application/vnd.jupyter.widget-view+json": {
       "model_id": "62278c38f5b645b8b6486c5c580f4e9f",
       "version_major": 2,
       "version_minor": 0
      },
      "text/plain": [
       "Processing texts:   0%|          | 0/1 [00:00<?, ?it/s]"
      ]
     },
     "metadata": {},
     "output_type": "display_data"
    },
    {
     "name": "stderr",
     "output_type": "stream",
     "text": [
      "26-Mar-25 14:51:56 - Saving results to results/processed_texts.csv\n",
      "26-Mar-25 14:51:57 - Starting to process\n"
     ]
    },
    {
     "data": {
      "application/vnd.jupyter.widget-view+json": {
       "model_id": "b14e8f3b9e05445e852a2428b9d6bfec",
       "version_major": 2,
       "version_minor": 0
      },
      "text/plain": [
       "Processing texts:   0%|          | 0/1 [00:00<?, ?it/s]"
      ]
     },
     "metadata": {},
     "output_type": "display_data"
    },
    {
     "name": "stderr",
     "output_type": "stream",
     "text": [
      "26-Mar-25 14:51:57 - Saving results to results/processed_texts.csv\n",
      "26-Mar-25 14:51:58 - Starting to process\n"
     ]
    },
    {
     "data": {
      "application/vnd.jupyter.widget-view+json": {
       "model_id": "3ccea681af7b47e4932da483d8e61e4f",
       "version_major": 2,
       "version_minor": 0
      },
      "text/plain": [
       "Processing texts:   0%|          | 0/1 [00:00<?, ?it/s]"
      ]
     },
     "metadata": {},
     "output_type": "display_data"
    },
    {
     "name": "stderr",
     "output_type": "stream",
     "text": [
      "26-Mar-25 14:51:58 - Saving results to results/processed_texts.csv\n",
      "26-Mar-25 14:51:59 - Starting to process\n"
     ]
    },
    {
     "data": {
      "application/vnd.jupyter.widget-view+json": {
       "model_id": "6c80b1da4278493bb540ff8294c01e57",
       "version_major": 2,
       "version_minor": 0
      },
      "text/plain": [
       "Processing texts:   0%|          | 0/1 [00:00<?, ?it/s]"
      ]
     },
     "metadata": {},
     "output_type": "display_data"
    },
    {
     "name": "stderr",
     "output_type": "stream",
     "text": [
      "26-Mar-25 14:51:59 - Saving results to results/processed_texts.csv\n",
      "26-Mar-25 14:52:00 - Starting to process\n"
     ]
    },
    {
     "data": {
      "application/vnd.jupyter.widget-view+json": {
       "model_id": "63fa3c6a34914d86accf044ba2d746d3",
       "version_major": 2,
       "version_minor": 0
      },
      "text/plain": [
       "Processing texts:   0%|          | 0/1 [00:00<?, ?it/s]"
      ]
     },
     "metadata": {},
     "output_type": "display_data"
    },
    {
     "name": "stderr",
     "output_type": "stream",
     "text": [
      "26-Mar-25 14:52:00 - Saving results to results/processed_texts.csv\n",
      "26-Mar-25 14:52:00 - Starting to process\n"
     ]
    },
    {
     "data": {
      "application/vnd.jupyter.widget-view+json": {
       "model_id": "6cde9b4630dc47e5b94a101d30872a2b",
       "version_major": 2,
       "version_minor": 0
      },
      "text/plain": [
       "Processing texts:   0%|          | 0/1 [00:00<?, ?it/s]"
      ]
     },
     "metadata": {},
     "output_type": "display_data"
    },
    {
     "name": "stderr",
     "output_type": "stream",
     "text": [
      "26-Mar-25 14:52:01 - Saving results to results/processed_texts.csv\n",
      "26-Mar-25 14:52:01 - Starting to process\n"
     ]
    },
    {
     "data": {
      "application/vnd.jupyter.widget-view+json": {
       "model_id": "582cf5fd25d14cb695455fe8647de758",
       "version_major": 2,
       "version_minor": 0
      },
      "text/plain": [
       "Processing texts:   0%|          | 0/1 [00:00<?, ?it/s]"
      ]
     },
     "metadata": {},
     "output_type": "display_data"
    },
    {
     "name": "stderr",
     "output_type": "stream",
     "text": [
      "26-Mar-25 14:52:01 - Saving results to results/processed_texts.csv\n",
      "26-Mar-25 14:52:02 - Starting to process\n"
     ]
    },
    {
     "data": {
      "application/vnd.jupyter.widget-view+json": {
       "model_id": "3550fad7a27244bfa3d110d4990719da",
       "version_major": 2,
       "version_minor": 0
      },
      "text/plain": [
       "Processing texts:   0%|          | 0/1 [00:00<?, ?it/s]"
      ]
     },
     "metadata": {},
     "output_type": "display_data"
    },
    {
     "name": "stderr",
     "output_type": "stream",
     "text": [
      "26-Mar-25 14:52:02 - Saving results to results/processed_texts.csv\n",
      "26-Mar-25 14:52:03 - Starting to process\n"
     ]
    },
    {
     "data": {
      "application/vnd.jupyter.widget-view+json": {
       "model_id": "435e218680674879a149ba5a4715b307",
       "version_major": 2,
       "version_minor": 0
      },
      "text/plain": [
       "Processing texts:   0%|          | 0/1 [00:00<?, ?it/s]"
      ]
     },
     "metadata": {},
     "output_type": "display_data"
    },
    {
     "name": "stderr",
     "output_type": "stream",
     "text": [
      "26-Mar-25 14:52:03 - Saving results to results/processed_texts.csv\n",
      "26-Mar-25 14:52:04 - Starting to process\n"
     ]
    },
    {
     "data": {
      "application/vnd.jupyter.widget-view+json": {
       "model_id": "3a465ded2e9240769a18e84eb008578c",
       "version_major": 2,
       "version_minor": 0
      },
      "text/plain": [
       "Processing texts:   0%|          | 0/1 [00:00<?, ?it/s]"
      ]
     },
     "metadata": {},
     "output_type": "display_data"
    },
    {
     "name": "stderr",
     "output_type": "stream",
     "text": [
      "26-Mar-25 14:52:04 - Saving results to results/processed_texts.csv\n",
      "26-Mar-25 14:52:05 - Starting to process\n"
     ]
    },
    {
     "data": {
      "application/vnd.jupyter.widget-view+json": {
       "model_id": "c1838cb7497e435a953bdb2516cdf69c",
       "version_major": 2,
       "version_minor": 0
      },
      "text/plain": [
       "Processing texts:   0%|          | 0/1 [00:00<?, ?it/s]"
      ]
     },
     "metadata": {},
     "output_type": "display_data"
    },
    {
     "name": "stderr",
     "output_type": "stream",
     "text": [
      "26-Mar-25 14:52:05 - Saving results to results/processed_texts.csv\n",
      "26-Mar-25 14:52:06 - Starting to process\n"
     ]
    },
    {
     "data": {
      "application/vnd.jupyter.widget-view+json": {
       "model_id": "3221a73efb9d4262a5ec8bf0161a9643",
       "version_major": 2,
       "version_minor": 0
      },
      "text/plain": [
       "Processing texts:   0%|          | 0/1 [00:00<?, ?it/s]"
      ]
     },
     "metadata": {},
     "output_type": "display_data"
    },
    {
     "name": "stderr",
     "output_type": "stream",
     "text": [
      "26-Mar-25 14:52:06 - Saving results to results/processed_texts.csv\n",
      "26-Mar-25 14:52:07 - Starting to process\n"
     ]
    },
    {
     "data": {
      "application/vnd.jupyter.widget-view+json": {
       "model_id": "7d645de41c7845929b5ee71d7a3bed6c",
       "version_major": 2,
       "version_minor": 0
      },
      "text/plain": [
       "Processing texts:   0%|          | 0/1 [00:00<?, ?it/s]"
      ]
     },
     "metadata": {},
     "output_type": "display_data"
    },
    {
     "name": "stderr",
     "output_type": "stream",
     "text": [
      "26-Mar-25 14:52:07 - Saving results to results/processed_texts.csv\n",
      "26-Mar-25 14:52:07 - Starting to process\n"
     ]
    },
    {
     "data": {
      "application/vnd.jupyter.widget-view+json": {
       "model_id": "5aac199c09a142b99d9c7716c3ddec12",
       "version_major": 2,
       "version_minor": 0
      },
      "text/plain": [
       "Processing texts:   0%|          | 0/1 [00:00<?, ?it/s]"
      ]
     },
     "metadata": {},
     "output_type": "display_data"
    },
    {
     "name": "stderr",
     "output_type": "stream",
     "text": [
      "26-Mar-25 14:52:08 - Saving results to results/processed_texts.csv\n",
      "26-Mar-25 14:52:08 - Starting to process\n"
     ]
    },
    {
     "data": {
      "application/vnd.jupyter.widget-view+json": {
       "model_id": "4a147eca52264053bda0838dbda22caa",
       "version_major": 2,
       "version_minor": 0
      },
      "text/plain": [
       "Processing texts:   0%|          | 0/1 [00:00<?, ?it/s]"
      ]
     },
     "metadata": {},
     "output_type": "display_data"
    },
    {
     "name": "stderr",
     "output_type": "stream",
     "text": [
      "26-Mar-25 14:52:09 - Saving results to results/processed_texts.csv\n",
      "26-Mar-25 14:52:09 - Starting to process\n"
     ]
    },
    {
     "data": {
      "application/vnd.jupyter.widget-view+json": {
       "model_id": "0f3144679f364de8acc29d9801d2147a",
       "version_major": 2,
       "version_minor": 0
      },
      "text/plain": [
       "Processing texts:   0%|          | 0/1 [00:00<?, ?it/s]"
      ]
     },
     "metadata": {},
     "output_type": "display_data"
    },
    {
     "name": "stderr",
     "output_type": "stream",
     "text": [
      "26-Mar-25 14:52:10 - Saving results to results/processed_texts.csv\n",
      "26-Mar-25 14:52:10 - Starting to process\n"
     ]
    },
    {
     "data": {
      "application/vnd.jupyter.widget-view+json": {
       "model_id": "c98d0f350a8e4162882de9801e76535a",
       "version_major": 2,
       "version_minor": 0
      },
      "text/plain": [
       "Processing texts:   0%|          | 0/1 [00:00<?, ?it/s]"
      ]
     },
     "metadata": {},
     "output_type": "display_data"
    },
    {
     "name": "stderr",
     "output_type": "stream",
     "text": [
      "26-Mar-25 14:52:10 - Saving results to results/processed_texts.csv\n",
      "26-Mar-25 14:52:11 - Starting to process\n"
     ]
    },
    {
     "data": {
      "application/vnd.jupyter.widget-view+json": {
       "model_id": "bb5aa56e635343539b85beea2eb10061",
       "version_major": 2,
       "version_minor": 0
      },
      "text/plain": [
       "Processing texts:   0%|          | 0/1 [00:00<?, ?it/s]"
      ]
     },
     "metadata": {},
     "output_type": "display_data"
    },
    {
     "name": "stderr",
     "output_type": "stream",
     "text": [
      "26-Mar-25 14:52:11 - Saving results to results/processed_texts.csv\n",
      "26-Mar-25 14:52:12 - Starting to process\n"
     ]
    },
    {
     "data": {
      "application/vnd.jupyter.widget-view+json": {
       "model_id": "d2aad5da7e03410ca0bb55d526828c57",
       "version_major": 2,
       "version_minor": 0
      },
      "text/plain": [
       "Processing texts:   0%|          | 0/1 [00:00<?, ?it/s]"
      ]
     },
     "metadata": {},
     "output_type": "display_data"
    },
    {
     "name": "stderr",
     "output_type": "stream",
     "text": [
      "26-Mar-25 14:52:12 - Saving results to results/processed_texts.csv\n",
      "26-Mar-25 14:52:13 - Starting to process\n"
     ]
    },
    {
     "data": {
      "application/vnd.jupyter.widget-view+json": {
       "model_id": "7867bde7f119418a966b0472d4fad6ec",
       "version_major": 2,
       "version_minor": 0
      },
      "text/plain": [
       "Processing texts:   0%|          | 0/1 [00:00<?, ?it/s]"
      ]
     },
     "metadata": {},
     "output_type": "display_data"
    },
    {
     "name": "stderr",
     "output_type": "stream",
     "text": [
      "26-Mar-25 14:52:13 - Saving results to results/processed_texts.csv\n",
      "26-Mar-25 14:52:13 - Starting to process\n"
     ]
    },
    {
     "data": {
      "application/vnd.jupyter.widget-view+json": {
       "model_id": "83518be9301d4c3d978bb19137a75cbc",
       "version_major": 2,
       "version_minor": 0
      },
      "text/plain": [
       "Processing texts:   0%|          | 0/1 [00:00<?, ?it/s]"
      ]
     },
     "metadata": {},
     "output_type": "display_data"
    },
    {
     "name": "stderr",
     "output_type": "stream",
     "text": [
      "26-Mar-25 14:52:14 - Saving results to results/processed_texts.csv\n",
      "26-Mar-25 14:52:14 - Starting to process\n"
     ]
    },
    {
     "data": {
      "application/vnd.jupyter.widget-view+json": {
       "model_id": "970566c6a12843a9b9d34c99eeaf8ba9",
       "version_major": 2,
       "version_minor": 0
      },
      "text/plain": [
       "Processing texts:   0%|          | 0/1 [00:00<?, ?it/s]"
      ]
     },
     "metadata": {},
     "output_type": "display_data"
    },
    {
     "name": "stderr",
     "output_type": "stream",
     "text": [
      "26-Mar-25 14:52:15 - Saving results to results/processed_texts.csv\n",
      "26-Mar-25 14:52:15 - Starting to process\n"
     ]
    },
    {
     "data": {
      "application/vnd.jupyter.widget-view+json": {
       "model_id": "52ec0212e3344e96b37db024376d9451",
       "version_major": 2,
       "version_minor": 0
      },
      "text/plain": [
       "Processing texts:   0%|          | 0/1 [00:00<?, ?it/s]"
      ]
     },
     "metadata": {},
     "output_type": "display_data"
    },
    {
     "name": "stderr",
     "output_type": "stream",
     "text": [
      "26-Mar-25 14:52:16 - Saving results to results/processed_texts.csv\n",
      "26-Mar-25 14:52:16 - Starting to process\n"
     ]
    },
    {
     "data": {
      "application/vnd.jupyter.widget-view+json": {
       "model_id": "af8c0c2591e3453db373317d688a1570",
       "version_major": 2,
       "version_minor": 0
      },
      "text/plain": [
       "Processing texts:   0%|          | 0/1 [00:00<?, ?it/s]"
      ]
     },
     "metadata": {},
     "output_type": "display_data"
    },
    {
     "name": "stderr",
     "output_type": "stream",
     "text": [
      "26-Mar-25 14:52:17 - Saving results to results/processed_texts.csv\n",
      "26-Mar-25 14:52:17 - Starting to process\n"
     ]
    },
    {
     "data": {
      "application/vnd.jupyter.widget-view+json": {
       "model_id": "20a5b2348639407390ee8aa02191da12",
       "version_major": 2,
       "version_minor": 0
      },
      "text/plain": [
       "Processing texts:   0%|          | 0/1 [00:00<?, ?it/s]"
      ]
     },
     "metadata": {},
     "output_type": "display_data"
    },
    {
     "name": "stderr",
     "output_type": "stream",
     "text": [
      "26-Mar-25 14:52:18 - Saving results to results/processed_texts.csv\n",
      "26-Mar-25 14:52:18 - Starting to process\n"
     ]
    },
    {
     "data": {
      "application/vnd.jupyter.widget-view+json": {
       "model_id": "e7184623b77d48a68beab3fedc6964d1",
       "version_major": 2,
       "version_minor": 0
      },
      "text/plain": [
       "Processing texts:   0%|          | 0/1 [00:00<?, ?it/s]"
      ]
     },
     "metadata": {},
     "output_type": "display_data"
    },
    {
     "name": "stderr",
     "output_type": "stream",
     "text": [
      "26-Mar-25 14:52:19 - Saving results to results/processed_texts.csv\n",
      "26-Mar-25 14:52:19 - Starting to process\n"
     ]
    },
    {
     "data": {
      "application/vnd.jupyter.widget-view+json": {
       "model_id": "3a33730a98dc4099aa48c3435de6b275",
       "version_major": 2,
       "version_minor": 0
      },
      "text/plain": [
       "Processing texts:   0%|          | 0/1 [00:00<?, ?it/s]"
      ]
     },
     "metadata": {},
     "output_type": "display_data"
    },
    {
     "name": "stderr",
     "output_type": "stream",
     "text": [
      "26-Mar-25 14:52:20 - Saving results to results/processed_texts.csv\n",
      "26-Mar-25 14:52:21 - Starting to process\n"
     ]
    },
    {
     "data": {
      "application/vnd.jupyter.widget-view+json": {
       "model_id": "760f553992a9456987b63c6ef8e25ffc",
       "version_major": 2,
       "version_minor": 0
      },
      "text/plain": [
       "Processing texts:   0%|          | 0/1 [00:00<?, ?it/s]"
      ]
     },
     "metadata": {},
     "output_type": "display_data"
    },
    {
     "name": "stderr",
     "output_type": "stream",
     "text": [
      "26-Mar-25 14:52:21 - Saving results to results/processed_texts.csv\n",
      "26-Mar-25 14:52:21 - Starting to process\n"
     ]
    },
    {
     "data": {
      "application/vnd.jupyter.widget-view+json": {
       "model_id": "773269b9904a4a7e9a4d71d2570a8316",
       "version_major": 2,
       "version_minor": 0
      },
      "text/plain": [
       "Processing texts:   0%|          | 0/1 [00:00<?, ?it/s]"
      ]
     },
     "metadata": {},
     "output_type": "display_data"
    },
    {
     "name": "stderr",
     "output_type": "stream",
     "text": [
      "26-Mar-25 14:52:22 - Saving results to results/processed_texts.csv\n",
      "26-Mar-25 14:52:22 - Starting to process\n"
     ]
    },
    {
     "data": {
      "application/vnd.jupyter.widget-view+json": {
       "model_id": "42d28841e63441bb8dc4761c8e802b12",
       "version_major": 2,
       "version_minor": 0
      },
      "text/plain": [
       "Processing texts:   0%|          | 0/1 [00:00<?, ?it/s]"
      ]
     },
     "metadata": {},
     "output_type": "display_data"
    },
    {
     "name": "stderr",
     "output_type": "stream",
     "text": [
      "26-Mar-25 14:52:23 - Saving results to results/processed_texts.csv\n",
      "26-Mar-25 14:52:24 - Starting to process\n"
     ]
    },
    {
     "data": {
      "application/vnd.jupyter.widget-view+json": {
       "model_id": "6e010400c5a04a2293322b5165dab012",
       "version_major": 2,
       "version_minor": 0
      },
      "text/plain": [
       "Processing texts:   0%|          | 0/1 [00:00<?, ?it/s]"
      ]
     },
     "metadata": {},
     "output_type": "display_data"
    },
    {
     "name": "stderr",
     "output_type": "stream",
     "text": [
      "26-Mar-25 14:52:24 - Saving results to results/processed_texts.csv\n",
      "26-Mar-25 14:52:24 - Starting to process\n"
     ]
    },
    {
     "data": {
      "application/vnd.jupyter.widget-view+json": {
       "model_id": "01aba1e02ae04909a344a8be61fce014",
       "version_major": 2,
       "version_minor": 0
      },
      "text/plain": [
       "Processing texts:   0%|          | 0/1 [00:00<?, ?it/s]"
      ]
     },
     "metadata": {},
     "output_type": "display_data"
    },
    {
     "name": "stderr",
     "output_type": "stream",
     "text": [
      "26-Mar-25 14:52:25 - Saving results to results/processed_texts.csv\n",
      "26-Mar-25 14:52:25 - Starting to process\n"
     ]
    },
    {
     "data": {
      "application/vnd.jupyter.widget-view+json": {
       "model_id": "c0d70c958cf940b083ab9f03aef747e0",
       "version_major": 2,
       "version_minor": 0
      },
      "text/plain": [
       "Processing texts:   0%|          | 0/1 [00:00<?, ?it/s]"
      ]
     },
     "metadata": {},
     "output_type": "display_data"
    },
    {
     "name": "stderr",
     "output_type": "stream",
     "text": [
      "26-Mar-25 14:52:26 - Saving results to results/processed_texts.csv\n",
      "26-Mar-25 14:52:26 - Starting to process\n"
     ]
    },
    {
     "data": {
      "application/vnd.jupyter.widget-view+json": {
       "model_id": "8df1b13ac41c42f9b120fae490d62909",
       "version_major": 2,
       "version_minor": 0
      },
      "text/plain": [
       "Processing texts:   0%|          | 0/1 [00:00<?, ?it/s]"
      ]
     },
     "metadata": {},
     "output_type": "display_data"
    },
    {
     "name": "stderr",
     "output_type": "stream",
     "text": [
      "26-Mar-25 14:52:27 - Saving results to results/processed_texts.csv\n",
      "26-Mar-25 14:52:27 - Starting to process\n"
     ]
    },
    {
     "data": {
      "application/vnd.jupyter.widget-view+json": {
       "model_id": "1c61845b98da4a33b7b86c394732368f",
       "version_major": 2,
       "version_minor": 0
      },
      "text/plain": [
       "Processing texts:   0%|          | 0/1 [00:00<?, ?it/s]"
      ]
     },
     "metadata": {},
     "output_type": "display_data"
    },
    {
     "name": "stderr",
     "output_type": "stream",
     "text": [
      "26-Mar-25 14:52:28 - Saving results to results/processed_texts.csv\n",
      "26-Mar-25 14:52:28 - Starting to process\n"
     ]
    },
    {
     "data": {
      "application/vnd.jupyter.widget-view+json": {
       "model_id": "8e5f099f8b854188ac9589c27dfd8590",
       "version_major": 2,
       "version_minor": 0
      },
      "text/plain": [
       "Processing texts:   0%|          | 0/1 [00:00<?, ?it/s]"
      ]
     },
     "metadata": {},
     "output_type": "display_data"
    },
    {
     "name": "stderr",
     "output_type": "stream",
     "text": [
      "26-Mar-25 14:52:29 - Saving results to results/processed_texts.csv\n",
      "26-Mar-25 14:52:29 - Starting to process\n"
     ]
    },
    {
     "data": {
      "application/vnd.jupyter.widget-view+json": {
       "model_id": "af1ebc0b8426414cb5b536ae6bb5f9a9",
       "version_major": 2,
       "version_minor": 0
      },
      "text/plain": [
       "Processing texts:   0%|          | 0/1 [00:00<?, ?it/s]"
      ]
     },
     "metadata": {},
     "output_type": "display_data"
    },
    {
     "name": "stderr",
     "output_type": "stream",
     "text": [
      "26-Mar-25 14:52:30 - Saving results to results/processed_texts.csv\n",
      "26-Mar-25 14:52:31 - Starting to process\n"
     ]
    },
    {
     "data": {
      "application/vnd.jupyter.widget-view+json": {
       "model_id": "65bc9fe268c948debf4fba4bb74db7c1",
       "version_major": 2,
       "version_minor": 0
      },
      "text/plain": [
       "Processing texts:   0%|          | 0/1 [00:00<?, ?it/s]"
      ]
     },
     "metadata": {},
     "output_type": "display_data"
    },
    {
     "name": "stderr",
     "output_type": "stream",
     "text": [
      "26-Mar-25 14:52:31 - Saving results to results/processed_texts.csv\n",
      "26-Mar-25 14:52:32 - Starting to process\n"
     ]
    },
    {
     "data": {
      "application/vnd.jupyter.widget-view+json": {
       "model_id": "df9200dceb1e48569f2c2703fca45761",
       "version_major": 2,
       "version_minor": 0
      },
      "text/plain": [
       "Processing texts:   0%|          | 0/1 [00:00<?, ?it/s]"
      ]
     },
     "metadata": {},
     "output_type": "display_data"
    },
    {
     "name": "stderr",
     "output_type": "stream",
     "text": [
      "26-Mar-25 14:52:32 - Saving results to results/processed_texts.csv\n",
      "26-Mar-25 14:52:33 - Starting to process\n"
     ]
    },
    {
     "data": {
      "application/vnd.jupyter.widget-view+json": {
       "model_id": "9067b772f8384b7aa3e2415b7040b319",
       "version_major": 2,
       "version_minor": 0
      },
      "text/plain": [
       "Processing texts:   0%|          | 0/1 [00:00<?, ?it/s]"
      ]
     },
     "metadata": {},
     "output_type": "display_data"
    },
    {
     "name": "stderr",
     "output_type": "stream",
     "text": [
      "26-Mar-25 14:52:33 - Saving results to results/processed_texts.csv\n",
      "26-Mar-25 14:52:34 - Starting to process\n"
     ]
    },
    {
     "data": {
      "application/vnd.jupyter.widget-view+json": {
       "model_id": "a234dc38b0de4d33af0d76a46ec0fcc2",
       "version_major": 2,
       "version_minor": 0
      },
      "text/plain": [
       "Processing texts:   0%|          | 0/1 [00:00<?, ?it/s]"
      ]
     },
     "metadata": {},
     "output_type": "display_data"
    },
    {
     "name": "stderr",
     "output_type": "stream",
     "text": [
      "26-Mar-25 14:52:34 - Saving results to results/processed_texts.csv\n",
      "26-Mar-25 14:52:35 - Starting to process\n"
     ]
    },
    {
     "data": {
      "application/vnd.jupyter.widget-view+json": {
       "model_id": "acc4c6f378854e378679866caa6a6400",
       "version_major": 2,
       "version_minor": 0
      },
      "text/plain": [
       "Processing texts:   0%|          | 0/1 [00:00<?, ?it/s]"
      ]
     },
     "metadata": {},
     "output_type": "display_data"
    },
    {
     "name": "stderr",
     "output_type": "stream",
     "text": [
      "26-Mar-25 14:52:35 - Saving results to results/processed_texts.csv\n",
      "26-Mar-25 14:52:36 - Starting to process\n"
     ]
    },
    {
     "data": {
      "application/vnd.jupyter.widget-view+json": {
       "model_id": "74e7e33132314b80b09ba4abcef3d10c",
       "version_major": 2,
       "version_minor": 0
      },
      "text/plain": [
       "Processing texts:   0%|          | 0/1 [00:00<?, ?it/s]"
      ]
     },
     "metadata": {},
     "output_type": "display_data"
    },
    {
     "name": "stderr",
     "output_type": "stream",
     "text": [
      "26-Mar-25 14:52:36 - Saving results to results/processed_texts.csv\n",
      "26-Mar-25 14:52:37 - Starting to process\n"
     ]
    },
    {
     "data": {
      "application/vnd.jupyter.widget-view+json": {
       "model_id": "28acf25de6164f9e86238813e0aeb43a",
       "version_major": 2,
       "version_minor": 0
      },
      "text/plain": [
       "Processing texts:   0%|          | 0/1 [00:00<?, ?it/s]"
      ]
     },
     "metadata": {},
     "output_type": "display_data"
    },
    {
     "name": "stderr",
     "output_type": "stream",
     "text": [
      "26-Mar-25 14:52:37 - Saving results to results/processed_texts.csv\n",
      "26-Mar-25 14:52:38 - Starting to process\n"
     ]
    },
    {
     "data": {
      "application/vnd.jupyter.widget-view+json": {
       "model_id": "7a90805c6e0f40548d9cbb28e93a4648",
       "version_major": 2,
       "version_minor": 0
      },
      "text/plain": [
       "Processing texts:   0%|          | 0/1 [00:00<?, ?it/s]"
      ]
     },
     "metadata": {},
     "output_type": "display_data"
    },
    {
     "name": "stderr",
     "output_type": "stream",
     "text": [
      "26-Mar-25 14:52:38 - Saving results to results/processed_texts.csv\n",
      "26-Mar-25 14:52:39 - Starting to process\n"
     ]
    },
    {
     "data": {
      "application/vnd.jupyter.widget-view+json": {
       "model_id": "baea67937cf34a4c9cf151f3d47d1302",
       "version_major": 2,
       "version_minor": 0
      },
      "text/plain": [
       "Processing texts:   0%|          | 0/1 [00:00<?, ?it/s]"
      ]
     },
     "metadata": {},
     "output_type": "display_data"
    },
    {
     "name": "stderr",
     "output_type": "stream",
     "text": [
      "26-Mar-25 14:52:39 - Saving results to results/processed_texts.csv\n",
      "26-Mar-25 14:52:40 - Starting to process\n"
     ]
    },
    {
     "data": {
      "application/vnd.jupyter.widget-view+json": {
       "model_id": "25089574cb784d91b1e60fe8cad8592f",
       "version_major": 2,
       "version_minor": 0
      },
      "text/plain": [
       "Processing texts:   0%|          | 0/1 [00:00<?, ?it/s]"
      ]
     },
     "metadata": {},
     "output_type": "display_data"
    },
    {
     "name": "stderr",
     "output_type": "stream",
     "text": [
      "26-Mar-25 14:52:40 - Saving results to results/processed_texts.csv\n",
      "26-Mar-25 14:52:41 - Starting to process\n"
     ]
    },
    {
     "data": {
      "application/vnd.jupyter.widget-view+json": {
       "model_id": "eb44bc85523a49868d0a96cdbb5f4c5e",
       "version_major": 2,
       "version_minor": 0
      },
      "text/plain": [
       "Processing texts:   0%|          | 0/1 [00:00<?, ?it/s]"
      ]
     },
     "metadata": {},
     "output_type": "display_data"
    },
    {
     "name": "stderr",
     "output_type": "stream",
     "text": [
      "26-Mar-25 14:52:41 - Saving results to results/processed_texts.csv\n",
      "26-Mar-25 14:52:42 - Starting to process\n"
     ]
    },
    {
     "data": {
      "application/vnd.jupyter.widget-view+json": {
       "model_id": "4402c344b8c34c0883f4ada83f25712f",
       "version_major": 2,
       "version_minor": 0
      },
      "text/plain": [
       "Processing texts:   0%|          | 0/1 [00:00<?, ?it/s]"
      ]
     },
     "metadata": {},
     "output_type": "display_data"
    },
    {
     "name": "stderr",
     "output_type": "stream",
     "text": [
      "26-Mar-25 14:52:43 - Saving results to results/processed_texts.csv\n",
      "26-Mar-25 14:52:43 - Starting to process\n"
     ]
    },
    {
     "data": {
      "application/vnd.jupyter.widget-view+json": {
       "model_id": "44e5591c00904c75bdfdfd45b016ed84",
       "version_major": 2,
       "version_minor": 0
      },
      "text/plain": [
       "Processing texts:   0%|          | 0/1 [00:00<?, ?it/s]"
      ]
     },
     "metadata": {},
     "output_type": "display_data"
    },
    {
     "name": "stderr",
     "output_type": "stream",
     "text": [
      "26-Mar-25 14:52:44 - Saving results to results/processed_texts.csv\n",
      "26-Mar-25 14:52:45 - Starting to process\n"
     ]
    },
    {
     "data": {
      "application/vnd.jupyter.widget-view+json": {
       "model_id": "105f5195dc3243cd92ec0083ba092147",
       "version_major": 2,
       "version_minor": 0
      },
      "text/plain": [
       "Processing texts:   0%|          | 0/1 [00:00<?, ?it/s]"
      ]
     },
     "metadata": {},
     "output_type": "display_data"
    },
    {
     "name": "stderr",
     "output_type": "stream",
     "text": [
      "26-Mar-25 14:52:45 - Saving results to results/processed_texts.csv\n",
      "26-Mar-25 14:52:46 - Starting to process\n"
     ]
    },
    {
     "data": {
      "application/vnd.jupyter.widget-view+json": {
       "model_id": "c8d1072ebdf84e099760dbb738020f97",
       "version_major": 2,
       "version_minor": 0
      },
      "text/plain": [
       "Processing texts:   0%|          | 0/1 [00:00<?, ?it/s]"
      ]
     },
     "metadata": {},
     "output_type": "display_data"
    },
    {
     "name": "stderr",
     "output_type": "stream",
     "text": [
      "26-Mar-25 14:52:46 - Saving results to results/processed_texts.csv\n",
      "26-Mar-25 14:52:47 - Starting to process\n"
     ]
    },
    {
     "data": {
      "application/vnd.jupyter.widget-view+json": {
       "model_id": "152ed37165f94d12825fc94db6b2b542",
       "version_major": 2,
       "version_minor": 0
      },
      "text/plain": [
       "Processing texts:   0%|          | 0/1 [00:00<?, ?it/s]"
      ]
     },
     "metadata": {},
     "output_type": "display_data"
    },
    {
     "name": "stderr",
     "output_type": "stream",
     "text": [
      "26-Mar-25 14:52:47 - Saving results to results/processed_texts.csv\n",
      "26-Mar-25 14:52:48 - Starting to process\n"
     ]
    },
    {
     "data": {
      "application/vnd.jupyter.widget-view+json": {
       "model_id": "b87190380e1d4e019211011b94a36728",
       "version_major": 2,
       "version_minor": 0
      },
      "text/plain": [
       "Processing texts:   0%|          | 0/1 [00:00<?, ?it/s]"
      ]
     },
     "metadata": {},
     "output_type": "display_data"
    },
    {
     "name": "stderr",
     "output_type": "stream",
     "text": [
      "26-Mar-25 14:52:48 - Saving results to results/processed_texts.csv\n",
      "26-Mar-25 14:52:49 - Starting to process\n"
     ]
    },
    {
     "data": {
      "application/vnd.jupyter.widget-view+json": {
       "model_id": "424486991cfc4339a61f6ea2c6a6f528",
       "version_major": 2,
       "version_minor": 0
      },
      "text/plain": [
       "Processing texts:   0%|          | 0/1 [00:00<?, ?it/s]"
      ]
     },
     "metadata": {},
     "output_type": "display_data"
    },
    {
     "name": "stderr",
     "output_type": "stream",
     "text": [
      "26-Mar-25 14:52:49 - Saving results to results/processed_texts.csv\n",
      "26-Mar-25 14:52:50 - Starting to process\n"
     ]
    },
    {
     "data": {
      "application/vnd.jupyter.widget-view+json": {
       "model_id": "c5fcfe51f15049a5b1c6a42aca2c83f2",
       "version_major": 2,
       "version_minor": 0
      },
      "text/plain": [
       "Processing texts:   0%|          | 0/1 [00:00<?, ?it/s]"
      ]
     },
     "metadata": {},
     "output_type": "display_data"
    },
    {
     "name": "stderr",
     "output_type": "stream",
     "text": [
      "26-Mar-25 14:52:50 - Saving results to results/processed_texts.csv\n",
      "26-Mar-25 14:52:51 - Starting to process\n"
     ]
    },
    {
     "data": {
      "application/vnd.jupyter.widget-view+json": {
       "model_id": "bd06d0a841c04fc9b863ee863f51eba3",
       "version_major": 2,
       "version_minor": 0
      },
      "text/plain": [
       "Processing texts:   0%|          | 0/1 [00:00<?, ?it/s]"
      ]
     },
     "metadata": {},
     "output_type": "display_data"
    },
    {
     "name": "stderr",
     "output_type": "stream",
     "text": [
      "26-Mar-25 14:52:51 - Saving results to results/processed_texts.csv\n",
      "26-Mar-25 14:52:52 - Starting to process\n"
     ]
    },
    {
     "data": {
      "application/vnd.jupyter.widget-view+json": {
       "model_id": "e4b558e706064325bb487af719c79aa9",
       "version_major": 2,
       "version_minor": 0
      },
      "text/plain": [
       "Processing texts:   0%|          | 0/1 [00:00<?, ?it/s]"
      ]
     },
     "metadata": {},
     "output_type": "display_data"
    },
    {
     "name": "stderr",
     "output_type": "stream",
     "text": [
      "26-Mar-25 14:52:52 - Saving results to results/processed_texts.csv\n",
      "26-Mar-25 14:52:53 - Starting to process\n"
     ]
    },
    {
     "data": {
      "application/vnd.jupyter.widget-view+json": {
       "model_id": "96b4073f9234419a9c6598f56637b275",
       "version_major": 2,
       "version_minor": 0
      },
      "text/plain": [
       "Processing texts:   0%|          | 0/1 [00:00<?, ?it/s]"
      ]
     },
     "metadata": {},
     "output_type": "display_data"
    },
    {
     "name": "stderr",
     "output_type": "stream",
     "text": [
      "26-Mar-25 14:52:54 - Saving results to results/processed_texts.csv\n",
      "26-Mar-25 14:52:54 - Starting to process\n"
     ]
    },
    {
     "data": {
      "application/vnd.jupyter.widget-view+json": {
       "model_id": "efc6498d4da940d099af3f95ef94b658",
       "version_major": 2,
       "version_minor": 0
      },
      "text/plain": [
       "Processing texts:   0%|          | 0/1 [00:00<?, ?it/s]"
      ]
     },
     "metadata": {},
     "output_type": "display_data"
    },
    {
     "name": "stderr",
     "output_type": "stream",
     "text": [
      "26-Mar-25 14:52:55 - Saving results to results/processed_texts.csv\n",
      "26-Mar-25 14:52:55 - Starting to process\n"
     ]
    },
    {
     "data": {
      "application/vnd.jupyter.widget-view+json": {
       "model_id": "7747e196c2c64b1997ca78ebbb46920b",
       "version_major": 2,
       "version_minor": 0
      },
      "text/plain": [
       "Processing texts:   0%|          | 0/1 [00:00<?, ?it/s]"
      ]
     },
     "metadata": {},
     "output_type": "display_data"
    },
    {
     "name": "stderr",
     "output_type": "stream",
     "text": [
      "26-Mar-25 14:52:56 - Saving results to results/processed_texts.csv\n",
      "26-Mar-25 14:52:57 - Starting to process\n"
     ]
    },
    {
     "data": {
      "application/vnd.jupyter.widget-view+json": {
       "model_id": "b77c299c11e74bef8d5ad51ec3b4858d",
       "version_major": 2,
       "version_minor": 0
      },
      "text/plain": [
       "Processing texts:   0%|          | 0/1 [00:00<?, ?it/s]"
      ]
     },
     "metadata": {},
     "output_type": "display_data"
    },
    {
     "name": "stderr",
     "output_type": "stream",
     "text": [
      "26-Mar-25 14:52:57 - Saving results to results/processed_texts.csv\n",
      "26-Mar-25 14:52:58 - Starting to process\n"
     ]
    },
    {
     "data": {
      "application/vnd.jupyter.widget-view+json": {
       "model_id": "5efa6be711be486cb803fbc6d435ca17",
       "version_major": 2,
       "version_minor": 0
      },
      "text/plain": [
       "Processing texts:   0%|          | 0/1 [00:00<?, ?it/s]"
      ]
     },
     "metadata": {},
     "output_type": "display_data"
    },
    {
     "name": "stderr",
     "output_type": "stream",
     "text": [
      "26-Mar-25 14:52:58 - Saving results to results/processed_texts.csv\n",
      "26-Mar-25 14:52:59 - Starting to process\n"
     ]
    },
    {
     "data": {
      "application/vnd.jupyter.widget-view+json": {
       "model_id": "27604cfbb07e4338a17470ad6c4347a5",
       "version_major": 2,
       "version_minor": 0
      },
      "text/plain": [
       "Processing texts:   0%|          | 0/1 [00:00<?, ?it/s]"
      ]
     },
     "metadata": {},
     "output_type": "display_data"
    },
    {
     "name": "stderr",
     "output_type": "stream",
     "text": [
      "26-Mar-25 14:52:59 - Saving results to results/processed_texts.csv\n",
      "26-Mar-25 14:53:00 - Starting to process\n"
     ]
    },
    {
     "data": {
      "application/vnd.jupyter.widget-view+json": {
       "model_id": "0d701a047fa94393a6ee1bbc7d2205f5",
       "version_major": 2,
       "version_minor": 0
      },
      "text/plain": [
       "Processing texts:   0%|          | 0/1 [00:00<?, ?it/s]"
      ]
     },
     "metadata": {},
     "output_type": "display_data"
    },
    {
     "name": "stderr",
     "output_type": "stream",
     "text": [
      "26-Mar-25 14:53:00 - Saving results to results/processed_texts.csv\n",
      "26-Mar-25 14:53:01 - Starting to process\n"
     ]
    },
    {
     "data": {
      "application/vnd.jupyter.widget-view+json": {
       "model_id": "be4eb1ec4f3142fba8cb9126249865b1",
       "version_major": 2,
       "version_minor": 0
      },
      "text/plain": [
       "Processing texts:   0%|          | 0/1 [00:00<?, ?it/s]"
      ]
     },
     "metadata": {},
     "output_type": "display_data"
    },
    {
     "name": "stderr",
     "output_type": "stream",
     "text": [
      "26-Mar-25 14:53:02 - Saving results to results/processed_texts.csv\n",
      "26-Mar-25 14:53:02 - Starting to process\n"
     ]
    },
    {
     "data": {
      "application/vnd.jupyter.widget-view+json": {
       "model_id": "1644ca92038e44daad8d959438ff3c34",
       "version_major": 2,
       "version_minor": 0
      },
      "text/plain": [
       "Processing texts:   0%|          | 0/1 [00:00<?, ?it/s]"
      ]
     },
     "metadata": {},
     "output_type": "display_data"
    },
    {
     "name": "stderr",
     "output_type": "stream",
     "text": [
      "26-Mar-25 14:53:03 - Saving results to results/processed_texts.csv\n",
      "26-Mar-25 14:53:04 - Starting to process\n"
     ]
    },
    {
     "data": {
      "application/vnd.jupyter.widget-view+json": {
       "model_id": "d9a8965e2328445580690df637ca2f5c",
       "version_major": 2,
       "version_minor": 0
      },
      "text/plain": [
       "Processing texts:   0%|          | 0/1 [00:00<?, ?it/s]"
      ]
     },
     "metadata": {},
     "output_type": "display_data"
    },
    {
     "name": "stderr",
     "output_type": "stream",
     "text": [
      "26-Mar-25 14:53:04 - Saving results to results/processed_texts.csv\n",
      "26-Mar-25 14:53:05 - Starting to process\n"
     ]
    },
    {
     "data": {
      "application/vnd.jupyter.widget-view+json": {
       "model_id": "eaf38505e96d43ce9891e207b8f7a153",
       "version_major": 2,
       "version_minor": 0
      },
      "text/plain": [
       "Processing texts:   0%|          | 0/1 [00:00<?, ?it/s]"
      ]
     },
     "metadata": {},
     "output_type": "display_data"
    },
    {
     "name": "stderr",
     "output_type": "stream",
     "text": [
      "26-Mar-25 14:53:05 - Saving results to results/processed_texts.csv\n",
      "26-Mar-25 14:53:06 - Starting to process\n"
     ]
    },
    {
     "data": {
      "application/vnd.jupyter.widget-view+json": {
       "model_id": "064ee8dc695f452d9b046709146273ad",
       "version_major": 2,
       "version_minor": 0
      },
      "text/plain": [
       "Processing texts:   0%|          | 0/1 [00:00<?, ?it/s]"
      ]
     },
     "metadata": {},
     "output_type": "display_data"
    },
    {
     "name": "stderr",
     "output_type": "stream",
     "text": [
      "26-Mar-25 14:53:06 - Saving results to results/processed_texts.csv\n",
      "26-Mar-25 14:53:07 - Starting to process\n"
     ]
    },
    {
     "data": {
      "application/vnd.jupyter.widget-view+json": {
       "model_id": "246cb54ab13647119b6e583a80703ad9",
       "version_major": 2,
       "version_minor": 0
      },
      "text/plain": [
       "Processing texts:   0%|          | 0/1 [00:00<?, ?it/s]"
      ]
     },
     "metadata": {},
     "output_type": "display_data"
    },
    {
     "name": "stderr",
     "output_type": "stream",
     "text": [
      "26-Mar-25 14:53:07 - Saving results to results/processed_texts.csv\n",
      "26-Mar-25 14:53:08 - Starting to process\n"
     ]
    },
    {
     "data": {
      "application/vnd.jupyter.widget-view+json": {
       "model_id": "eace62e40f644e589a22272d91db9e5f",
       "version_major": 2,
       "version_minor": 0
      },
      "text/plain": [
       "Processing texts:   0%|          | 0/1 [00:00<?, ?it/s]"
      ]
     },
     "metadata": {},
     "output_type": "display_data"
    },
    {
     "name": "stderr",
     "output_type": "stream",
     "text": [
      "26-Mar-25 14:53:08 - Saving results to results/processed_texts.csv\n",
      "26-Mar-25 14:53:09 - Starting to process\n"
     ]
    },
    {
     "data": {
      "application/vnd.jupyter.widget-view+json": {
       "model_id": "4e5811260b664996b622e2baa4387b6e",
       "version_major": 2,
       "version_minor": 0
      },
      "text/plain": [
       "Processing texts:   0%|          | 0/1 [00:00<?, ?it/s]"
      ]
     },
     "metadata": {},
     "output_type": "display_data"
    },
    {
     "name": "stderr",
     "output_type": "stream",
     "text": [
      "26-Mar-25 14:53:09 - Saving results to results/processed_texts.csv\n",
      "26-Mar-25 14:53:10 - Starting to process\n"
     ]
    },
    {
     "data": {
      "application/vnd.jupyter.widget-view+json": {
       "model_id": "a58a55c979ef40a6adfa6bfbdc0d87f2",
       "version_major": 2,
       "version_minor": 0
      },
      "text/plain": [
       "Processing texts:   0%|          | 0/1 [00:00<?, ?it/s]"
      ]
     },
     "metadata": {},
     "output_type": "display_data"
    },
    {
     "name": "stderr",
     "output_type": "stream",
     "text": [
      "26-Mar-25 14:53:10 - Saving results to results/processed_texts.csv\n",
      "26-Mar-25 14:53:11 - Starting to process\n"
     ]
    },
    {
     "data": {
      "application/vnd.jupyter.widget-view+json": {
       "model_id": "fdcd5952c5f346e6a8ef76ac3f06823b",
       "version_major": 2,
       "version_minor": 0
      },
      "text/plain": [
       "Processing texts:   0%|          | 0/1 [00:00<?, ?it/s]"
      ]
     },
     "metadata": {},
     "output_type": "display_data"
    },
    {
     "name": "stderr",
     "output_type": "stream",
     "text": [
      "26-Mar-25 14:53:11 - Saving results to results/processed_texts.csv\n",
      "26-Mar-25 14:53:12 - Starting to process\n"
     ]
    },
    {
     "data": {
      "application/vnd.jupyter.widget-view+json": {
       "model_id": "003424089c5d4c30891de853abb0f7d8",
       "version_major": 2,
       "version_minor": 0
      },
      "text/plain": [
       "Processing texts:   0%|          | 0/1 [00:00<?, ?it/s]"
      ]
     },
     "metadata": {},
     "output_type": "display_data"
    },
    {
     "name": "stderr",
     "output_type": "stream",
     "text": [
      "26-Mar-25 14:53:12 - Saving results to results/processed_texts.csv\n",
      "26-Mar-25 14:53:13 - Starting to process\n"
     ]
    },
    {
     "data": {
      "application/vnd.jupyter.widget-view+json": {
       "model_id": "36ca007e40e14f2d8eb4daeef04a36e2",
       "version_major": 2,
       "version_minor": 0
      },
      "text/plain": [
       "Processing texts:   0%|          | 0/1 [00:00<?, ?it/s]"
      ]
     },
     "metadata": {},
     "output_type": "display_data"
    },
    {
     "name": "stderr",
     "output_type": "stream",
     "text": [
      "26-Mar-25 14:53:13 - Saving results to results/processed_texts.csv\n",
      "26-Mar-25 14:53:14 - Starting to process\n"
     ]
    },
    {
     "data": {
      "application/vnd.jupyter.widget-view+json": {
       "model_id": "c83de1617ad149d184fbd39389747b38",
       "version_major": 2,
       "version_minor": 0
      },
      "text/plain": [
       "Processing texts:   0%|          | 0/1 [00:00<?, ?it/s]"
      ]
     },
     "metadata": {},
     "output_type": "display_data"
    },
    {
     "name": "stderr",
     "output_type": "stream",
     "text": [
      "26-Mar-25 14:53:14 - Saving results to results/processed_texts.csv\n",
      "26-Mar-25 14:53:15 - Starting to process\n"
     ]
    },
    {
     "data": {
      "application/vnd.jupyter.widget-view+json": {
       "model_id": "b0e44824e0ba4893bfdd1bcaa65a71af",
       "version_major": 2,
       "version_minor": 0
      },
      "text/plain": [
       "Processing texts:   0%|          | 0/1 [00:00<?, ?it/s]"
      ]
     },
     "metadata": {},
     "output_type": "display_data"
    },
    {
     "name": "stderr",
     "output_type": "stream",
     "text": [
      "26-Mar-25 14:53:15 - Saving results to results/processed_texts.csv\n",
      "26-Mar-25 14:53:16 - Starting to process\n"
     ]
    },
    {
     "data": {
      "application/vnd.jupyter.widget-view+json": {
       "model_id": "afad5d3ab85e4e3985cfd78fe37ffcde",
       "version_major": 2,
       "version_minor": 0
      },
      "text/plain": [
       "Processing texts:   0%|          | 0/1 [00:00<?, ?it/s]"
      ]
     },
     "metadata": {},
     "output_type": "display_data"
    },
    {
     "name": "stderr",
     "output_type": "stream",
     "text": [
      "26-Mar-25 14:53:16 - Saving results to results/processed_texts.csv\n",
      "26-Mar-25 14:53:17 - Starting to process\n"
     ]
    },
    {
     "data": {
      "application/vnd.jupyter.widget-view+json": {
       "model_id": "b2e30926ed6040b68c728a543f87e131",
       "version_major": 2,
       "version_minor": 0
      },
      "text/plain": [
       "Processing texts:   0%|          | 0/1 [00:00<?, ?it/s]"
      ]
     },
     "metadata": {},
     "output_type": "display_data"
    },
    {
     "name": "stderr",
     "output_type": "stream",
     "text": [
      "26-Mar-25 14:53:18 - Saving results to results/processed_texts.csv\n",
      "26-Mar-25 14:53:19 - Starting to process\n"
     ]
    },
    {
     "data": {
      "application/vnd.jupyter.widget-view+json": {
       "model_id": "286f60c3ddcc4defadce08b7e4c85a3c",
       "version_major": 2,
       "version_minor": 0
      },
      "text/plain": [
       "Processing texts:   0%|          | 0/1 [00:00<?, ?it/s]"
      ]
     },
     "metadata": {},
     "output_type": "display_data"
    },
    {
     "name": "stderr",
     "output_type": "stream",
     "text": [
      "26-Mar-25 14:53:19 - Saving results to results/processed_texts.csv\n",
      "26-Mar-25 14:53:20 - Starting to process\n"
     ]
    },
    {
     "data": {
      "application/vnd.jupyter.widget-view+json": {
       "model_id": "d1fe3abac15b47d184b1e860b84d4382",
       "version_major": 2,
       "version_minor": 0
      },
      "text/plain": [
       "Processing texts:   0%|          | 0/1 [00:00<?, ?it/s]"
      ]
     },
     "metadata": {},
     "output_type": "display_data"
    },
    {
     "name": "stderr",
     "output_type": "stream",
     "text": [
      "26-Mar-25 14:53:20 - Saving results to results/processed_texts.csv\n",
      "26-Mar-25 14:53:21 - Starting to process\n"
     ]
    },
    {
     "data": {
      "application/vnd.jupyter.widget-view+json": {
       "model_id": "f7a2eca93d5d4af19deb5de438da6cab",
       "version_major": 2,
       "version_minor": 0
      },
      "text/plain": [
       "Processing texts:   0%|          | 0/1 [00:00<?, ?it/s]"
      ]
     },
     "metadata": {},
     "output_type": "display_data"
    },
    {
     "name": "stderr",
     "output_type": "stream",
     "text": [
      "26-Mar-25 14:53:21 - Saving results to results/processed_texts.csv\n",
      "26-Mar-25 14:53:22 - Starting to process\n"
     ]
    },
    {
     "data": {
      "application/vnd.jupyter.widget-view+json": {
       "model_id": "625ef08461c94bdc9bcc53f46b131149",
       "version_major": 2,
       "version_minor": 0
      },
      "text/plain": [
       "Processing texts:   0%|          | 0/1 [00:00<?, ?it/s]"
      ]
     },
     "metadata": {},
     "output_type": "display_data"
    },
    {
     "name": "stderr",
     "output_type": "stream",
     "text": [
      "26-Mar-25 14:53:22 - Saving results to results/processed_texts.csv\n",
      "26-Mar-25 14:53:23 - Starting to process\n"
     ]
    },
    {
     "data": {
      "application/vnd.jupyter.widget-view+json": {
       "model_id": "eef67431e8aa4ef78f1d14e6e211b589",
       "version_major": 2,
       "version_minor": 0
      },
      "text/plain": [
       "Processing texts:   0%|          | 0/1 [00:00<?, ?it/s]"
      ]
     },
     "metadata": {},
     "output_type": "display_data"
    },
    {
     "name": "stderr",
     "output_type": "stream",
     "text": [
      "26-Mar-25 14:53:23 - Saving results to results/processed_texts.csv\n",
      "26-Mar-25 14:53:24 - Starting to process\n"
     ]
    },
    {
     "data": {
      "application/vnd.jupyter.widget-view+json": {
       "model_id": "d89eee4533d1495ca29ee0109a06ef9a",
       "version_major": 2,
       "version_minor": 0
      },
      "text/plain": [
       "Processing texts:   0%|          | 0/1 [00:00<?, ?it/s]"
      ]
     },
     "metadata": {},
     "output_type": "display_data"
    },
    {
     "name": "stderr",
     "output_type": "stream",
     "text": [
      "26-Mar-25 14:53:24 - Saving results to results/processed_texts.csv\n",
      "26-Mar-25 14:53:25 - Starting to process\n"
     ]
    },
    {
     "data": {
      "application/vnd.jupyter.widget-view+json": {
       "model_id": "eeea1e486b064d60a179ca7ecd090fe1",
       "version_major": 2,
       "version_minor": 0
      },
      "text/plain": [
       "Processing texts:   0%|          | 0/1 [00:00<?, ?it/s]"
      ]
     },
     "metadata": {},
     "output_type": "display_data"
    },
    {
     "name": "stderr",
     "output_type": "stream",
     "text": [
      "26-Mar-25 14:53:25 - Saving results to results/processed_texts.csv\n",
      "26-Mar-25 14:53:26 - Starting to process\n"
     ]
    },
    {
     "data": {
      "application/vnd.jupyter.widget-view+json": {
       "model_id": "ebafbd6159c140018267d8ceaf5c8771",
       "version_major": 2,
       "version_minor": 0
      },
      "text/plain": [
       "Processing texts:   0%|          | 0/1 [00:00<?, ?it/s]"
      ]
     },
     "metadata": {},
     "output_type": "display_data"
    },
    {
     "name": "stderr",
     "output_type": "stream",
     "text": [
      "26-Mar-25 14:53:26 - Saving results to results/processed_texts.csv\n",
      "26-Mar-25 14:53:26 - Starting to process\n"
     ]
    },
    {
     "data": {
      "application/vnd.jupyter.widget-view+json": {
       "model_id": "db9a844f854d4bf0b444811326a0479f",
       "version_major": 2,
       "version_minor": 0
      },
      "text/plain": [
       "Processing texts:   0%|          | 0/1 [00:00<?, ?it/s]"
      ]
     },
     "metadata": {},
     "output_type": "display_data"
    },
    {
     "name": "stderr",
     "output_type": "stream",
     "text": [
      "26-Mar-25 14:53:27 - Saving results to results/processed_texts.csv\n",
      "26-Mar-25 14:53:27 - Starting to process\n"
     ]
    },
    {
     "data": {
      "application/vnd.jupyter.widget-view+json": {
       "model_id": "6a7fdf6dddbb40dcad99cb85c79945c5",
       "version_major": 2,
       "version_minor": 0
      },
      "text/plain": [
       "Processing texts:   0%|          | 0/1 [00:00<?, ?it/s]"
      ]
     },
     "metadata": {},
     "output_type": "display_data"
    },
    {
     "name": "stderr",
     "output_type": "stream",
     "text": [
      "26-Mar-25 14:53:27 - Saving results to results/processed_texts.csv\n",
      "26-Mar-25 14:53:28 - Starting to process\n"
     ]
    },
    {
     "data": {
      "application/vnd.jupyter.widget-view+json": {
       "model_id": "f7db8c0dcec441f2943156030b0a9299",
       "version_major": 2,
       "version_minor": 0
      },
      "text/plain": [
       "Processing texts:   0%|          | 0/1 [00:00<?, ?it/s]"
      ]
     },
     "metadata": {},
     "output_type": "display_data"
    },
    {
     "name": "stderr",
     "output_type": "stream",
     "text": [
      "26-Mar-25 14:53:28 - Saving results to results/processed_texts.csv\n",
      "26-Mar-25 14:53:29 - Starting to process\n"
     ]
    },
    {
     "data": {
      "application/vnd.jupyter.widget-view+json": {
       "model_id": "2cd8cf5851f444f49b8c0eaf2773da0b",
       "version_major": 2,
       "version_minor": 0
      },
      "text/plain": [
       "Processing texts:   0%|          | 0/1 [00:00<?, ?it/s]"
      ]
     },
     "metadata": {},
     "output_type": "display_data"
    },
    {
     "name": "stderr",
     "output_type": "stream",
     "text": [
      "26-Mar-25 14:53:29 - Saving results to results/processed_texts.csv\n",
      "26-Mar-25 14:53:30 - Starting to process\n"
     ]
    },
    {
     "data": {
      "application/vnd.jupyter.widget-view+json": {
       "model_id": "596aacb4c2d84870b8c6f9308a87b401",
       "version_major": 2,
       "version_minor": 0
      },
      "text/plain": [
       "Processing texts:   0%|          | 0/1 [00:00<?, ?it/s]"
      ]
     },
     "metadata": {},
     "output_type": "display_data"
    },
    {
     "name": "stderr",
     "output_type": "stream",
     "text": [
      "26-Mar-25 14:53:30 - Saving results to results/processed_texts.csv\n",
      "26-Mar-25 14:53:31 - Starting to process\n"
     ]
    },
    {
     "data": {
      "application/vnd.jupyter.widget-view+json": {
       "model_id": "0e7b6c7d406e4ae69fb172a75b54afce",
       "version_major": 2,
       "version_minor": 0
      },
      "text/plain": [
       "Processing texts:   0%|          | 0/1 [00:00<?, ?it/s]"
      ]
     },
     "metadata": {},
     "output_type": "display_data"
    },
    {
     "name": "stderr",
     "output_type": "stream",
     "text": [
      "26-Mar-25 14:53:31 - Saving results to results/processed_texts.csv\n",
      "26-Mar-25 14:53:31 - Starting to process\n"
     ]
    },
    {
     "data": {
      "application/vnd.jupyter.widget-view+json": {
       "model_id": "f9cb8f25977f4ef0968683afdc5e415f",
       "version_major": 2,
       "version_minor": 0
      },
      "text/plain": [
       "Processing texts:   0%|          | 0/1 [00:00<?, ?it/s]"
      ]
     },
     "metadata": {},
     "output_type": "display_data"
    },
    {
     "name": "stderr",
     "output_type": "stream",
     "text": [
      "26-Mar-25 14:53:31 - Saving results to results/processed_texts.csv\n",
      "26-Mar-25 14:53:32 - Starting to process\n"
     ]
    },
    {
     "data": {
      "application/vnd.jupyter.widget-view+json": {
       "model_id": "4ca0e5d37c314724ab6679f67b0be4df",
       "version_major": 2,
       "version_minor": 0
      },
      "text/plain": [
       "Processing texts:   0%|          | 0/1 [00:00<?, ?it/s]"
      ]
     },
     "metadata": {},
     "output_type": "display_data"
    },
    {
     "name": "stderr",
     "output_type": "stream",
     "text": [
      "26-Mar-25 14:53:32 - Saving results to results/processed_texts.csv\n",
      "26-Mar-25 14:53:33 - Starting to process\n"
     ]
    },
    {
     "data": {
      "application/vnd.jupyter.widget-view+json": {
       "model_id": "f63ea3ad616e4294a9c16873ffbb99a7",
       "version_major": 2,
       "version_minor": 0
      },
      "text/plain": [
       "Processing texts:   0%|          | 0/1 [00:00<?, ?it/s]"
      ]
     },
     "metadata": {},
     "output_type": "display_data"
    },
    {
     "name": "stderr",
     "output_type": "stream",
     "text": [
      "26-Mar-25 14:53:33 - Saving results to results/processed_texts.csv\n",
      "26-Mar-25 14:53:33 - Starting to process\n"
     ]
    },
    {
     "data": {
      "application/vnd.jupyter.widget-view+json": {
       "model_id": "bdf67f92289f4db0b84512a8b0973d41",
       "version_major": 2,
       "version_minor": 0
      },
      "text/plain": [
       "Processing texts:   0%|          | 0/1 [00:00<?, ?it/s]"
      ]
     },
     "metadata": {},
     "output_type": "display_data"
    },
    {
     "name": "stderr",
     "output_type": "stream",
     "text": [
      "26-Mar-25 14:53:34 - Saving results to results/processed_texts.csv\n",
      "26-Mar-25 14:53:34 - Starting to process\n"
     ]
    },
    {
     "data": {
      "application/vnd.jupyter.widget-view+json": {
       "model_id": "a2a2cd0f4b9f4065baf631337f173f22",
       "version_major": 2,
       "version_minor": 0
      },
      "text/plain": [
       "Processing texts:   0%|          | 0/1 [00:00<?, ?it/s]"
      ]
     },
     "metadata": {},
     "output_type": "display_data"
    },
    {
     "name": "stderr",
     "output_type": "stream",
     "text": [
      "26-Mar-25 14:53:35 - Saving results to results/processed_texts.csv\n",
      "26-Mar-25 14:53:35 - Starting to process\n"
     ]
    },
    {
     "data": {
      "application/vnd.jupyter.widget-view+json": {
       "model_id": "df2935a85b4245429d4b6cee78a05160",
       "version_major": 2,
       "version_minor": 0
      },
      "text/plain": [
       "Processing texts:   0%|          | 0/1 [00:00<?, ?it/s]"
      ]
     },
     "metadata": {},
     "output_type": "display_data"
    },
    {
     "name": "stderr",
     "output_type": "stream",
     "text": [
      "26-Mar-25 14:53:35 - Saving results to results/processed_texts.csv\n",
      "26-Mar-25 14:53:36 - Starting to process\n"
     ]
    },
    {
     "data": {
      "application/vnd.jupyter.widget-view+json": {
       "model_id": "21ee2fc2395d4c1fbd48ce6bd746c090",
       "version_major": 2,
       "version_minor": 0
      },
      "text/plain": [
       "Processing texts:   0%|          | 0/1 [00:00<?, ?it/s]"
      ]
     },
     "metadata": {},
     "output_type": "display_data"
    },
    {
     "name": "stderr",
     "output_type": "stream",
     "text": [
      "26-Mar-25 14:53:37 - Saving results to results/processed_texts.csv\n",
      "26-Mar-25 14:53:37 - Starting to process\n"
     ]
    },
    {
     "data": {
      "application/vnd.jupyter.widget-view+json": {
       "model_id": "c4278ca815924b51afe5078ceda41bbe",
       "version_major": 2,
       "version_minor": 0
      },
      "text/plain": [
       "Processing texts:   0%|          | 0/1 [00:00<?, ?it/s]"
      ]
     },
     "metadata": {},
     "output_type": "display_data"
    },
    {
     "name": "stderr",
     "output_type": "stream",
     "text": [
      "26-Mar-25 14:53:38 - Saving results to results/processed_texts.csv\n",
      "26-Mar-25 14:53:38 - Starting to process\n"
     ]
    },
    {
     "data": {
      "application/vnd.jupyter.widget-view+json": {
       "model_id": "274b9b14e0b34d808714f56358b1c175",
       "version_major": 2,
       "version_minor": 0
      },
      "text/plain": [
       "Processing texts:   0%|          | 0/1 [00:00<?, ?it/s]"
      ]
     },
     "metadata": {},
     "output_type": "display_data"
    },
    {
     "name": "stderr",
     "output_type": "stream",
     "text": [
      "26-Mar-25 14:53:38 - Saving results to results/processed_texts.csv\n",
      "26-Mar-25 14:53:39 - Starting to process\n"
     ]
    },
    {
     "data": {
      "application/vnd.jupyter.widget-view+json": {
       "model_id": "362c0f0950f048ca87c3050b025b62f4",
       "version_major": 2,
       "version_minor": 0
      },
      "text/plain": [
       "Processing texts:   0%|          | 0/1 [00:00<?, ?it/s]"
      ]
     },
     "metadata": {},
     "output_type": "display_data"
    },
    {
     "name": "stderr",
     "output_type": "stream",
     "text": [
      "26-Mar-25 14:53:40 - Saving results to results/processed_texts.csv\n",
      "26-Mar-25 14:53:40 - Starting to process\n"
     ]
    },
    {
     "data": {
      "application/vnd.jupyter.widget-view+json": {
       "model_id": "049a4a671c1d4f7cac2bf0bb952e1feb",
       "version_major": 2,
       "version_minor": 0
      },
      "text/plain": [
       "Processing texts:   0%|          | 0/1 [00:00<?, ?it/s]"
      ]
     },
     "metadata": {},
     "output_type": "display_data"
    },
    {
     "name": "stderr",
     "output_type": "stream",
     "text": [
      "26-Mar-25 14:53:40 - Saving results to results/processed_texts.csv\n",
      "26-Mar-25 14:53:41 - Starting to process\n"
     ]
    },
    {
     "data": {
      "application/vnd.jupyter.widget-view+json": {
       "model_id": "62aa39c12c3e4699a835db14f6a8dd9a",
       "version_major": 2,
       "version_minor": 0
      },
      "text/plain": [
       "Processing texts:   0%|          | 0/1 [00:00<?, ?it/s]"
      ]
     },
     "metadata": {},
     "output_type": "display_data"
    },
    {
     "name": "stderr",
     "output_type": "stream",
     "text": [
      "26-Mar-25 14:53:41 - Saving results to results/processed_texts.csv\n",
      "26-Mar-25 14:53:42 - Starting to process\n"
     ]
    },
    {
     "data": {
      "application/vnd.jupyter.widget-view+json": {
       "model_id": "f96b53c672234cc0a076bee283df146f",
       "version_major": 2,
       "version_minor": 0
      },
      "text/plain": [
       "Processing texts:   0%|          | 0/1 [00:00<?, ?it/s]"
      ]
     },
     "metadata": {},
     "output_type": "display_data"
    },
    {
     "name": "stderr",
     "output_type": "stream",
     "text": [
      "26-Mar-25 14:53:42 - Saving results to results/processed_texts.csv\n",
      "26-Mar-25 14:53:43 - Starting to process\n"
     ]
    },
    {
     "data": {
      "application/vnd.jupyter.widget-view+json": {
       "model_id": "612e58292b2f4d4ea10754797c6b59d4",
       "version_major": 2,
       "version_minor": 0
      },
      "text/plain": [
       "Processing texts:   0%|          | 0/1 [00:00<?, ?it/s]"
      ]
     },
     "metadata": {},
     "output_type": "display_data"
    },
    {
     "name": "stderr",
     "output_type": "stream",
     "text": [
      "26-Mar-25 14:53:43 - Saving results to results/processed_texts.csv\n",
      "26-Mar-25 14:53:44 - Starting to process\n"
     ]
    },
    {
     "data": {
      "application/vnd.jupyter.widget-view+json": {
       "model_id": "170c446b1f2c4f759a7384d3b0fc1e26",
       "version_major": 2,
       "version_minor": 0
      },
      "text/plain": [
       "Processing texts:   0%|          | 0/1 [00:00<?, ?it/s]"
      ]
     },
     "metadata": {},
     "output_type": "display_data"
    },
    {
     "name": "stderr",
     "output_type": "stream",
     "text": [
      "26-Mar-25 14:53:44 - Saving results to results/processed_texts.csv\n",
      "26-Mar-25 14:53:45 - Starting to process\n"
     ]
    },
    {
     "data": {
      "application/vnd.jupyter.widget-view+json": {
       "model_id": "15943de673d64643ac5e85b122c05f7a",
       "version_major": 2,
       "version_minor": 0
      },
      "text/plain": [
       "Processing texts:   0%|          | 0/1 [00:00<?, ?it/s]"
      ]
     },
     "metadata": {},
     "output_type": "display_data"
    },
    {
     "name": "stderr",
     "output_type": "stream",
     "text": [
      "26-Mar-25 14:53:45 - Saving results to results/processed_texts.csv\n",
      "26-Mar-25 14:53:46 - Starting to process\n"
     ]
    },
    {
     "data": {
      "application/vnd.jupyter.widget-view+json": {
       "model_id": "3205893b807c49f687893b6bc4bf4507",
       "version_major": 2,
       "version_minor": 0
      },
      "text/plain": [
       "Processing texts:   0%|          | 0/1 [00:00<?, ?it/s]"
      ]
     },
     "metadata": {},
     "output_type": "display_data"
    },
    {
     "name": "stderr",
     "output_type": "stream",
     "text": [
      "26-Mar-25 14:53:46 - Saving results to results/processed_texts.csv\n",
      "26-Mar-25 14:53:47 - Starting to process\n"
     ]
    },
    {
     "data": {
      "application/vnd.jupyter.widget-view+json": {
       "model_id": "9cc744ff8e5340fa966bb389478d595e",
       "version_major": 2,
       "version_minor": 0
      },
      "text/plain": [
       "Processing texts:   0%|          | 0/1 [00:00<?, ?it/s]"
      ]
     },
     "metadata": {},
     "output_type": "display_data"
    },
    {
     "name": "stderr",
     "output_type": "stream",
     "text": [
      "26-Mar-25 14:53:47 - Saving results to results/processed_texts.csv\n",
      "26-Mar-25 14:53:48 - Starting to process\n"
     ]
    },
    {
     "data": {
      "application/vnd.jupyter.widget-view+json": {
       "model_id": "8a65415b063240b99fdb57395fc80a69",
       "version_major": 2,
       "version_minor": 0
      },
      "text/plain": [
       "Processing texts:   0%|          | 0/1 [00:00<?, ?it/s]"
      ]
     },
     "metadata": {},
     "output_type": "display_data"
    },
    {
     "name": "stderr",
     "output_type": "stream",
     "text": [
      "26-Mar-25 14:53:48 - Saving results to results/processed_texts.csv\n",
      "26-Mar-25 14:53:49 - Starting to process\n"
     ]
    },
    {
     "data": {
      "application/vnd.jupyter.widget-view+json": {
       "model_id": "36b9734f36c44b4d8b54740c113df27b",
       "version_major": 2,
       "version_minor": 0
      },
      "text/plain": [
       "Processing texts:   0%|          | 0/1 [00:00<?, ?it/s]"
      ]
     },
     "metadata": {},
     "output_type": "display_data"
    },
    {
     "name": "stderr",
     "output_type": "stream",
     "text": [
      "26-Mar-25 14:53:49 - Saving results to results/processed_texts.csv\n",
      "26-Mar-25 14:53:49 - Starting to process\n"
     ]
    },
    {
     "data": {
      "application/vnd.jupyter.widget-view+json": {
       "model_id": "66a43e6eba1349e086abca5776611c72",
       "version_major": 2,
       "version_minor": 0
      },
      "text/plain": [
       "Processing texts:   0%|          | 0/1 [00:00<?, ?it/s]"
      ]
     },
     "metadata": {},
     "output_type": "display_data"
    },
    {
     "name": "stderr",
     "output_type": "stream",
     "text": [
      "26-Mar-25 14:53:50 - Saving results to results/processed_texts.csv\n",
      "26-Mar-25 14:53:50 - Starting to process\n"
     ]
    },
    {
     "data": {
      "application/vnd.jupyter.widget-view+json": {
       "model_id": "05eb24691e0345caa07e48f8c9323f8d",
       "version_major": 2,
       "version_minor": 0
      },
      "text/plain": [
       "Processing texts:   0%|          | 0/1 [00:00<?, ?it/s]"
      ]
     },
     "metadata": {},
     "output_type": "display_data"
    },
    {
     "name": "stderr",
     "output_type": "stream",
     "text": [
      "26-Mar-25 14:53:51 - Saving results to results/processed_texts.csv\n",
      "26-Mar-25 14:53:52 - Starting to process\n"
     ]
    },
    {
     "data": {
      "application/vnd.jupyter.widget-view+json": {
       "model_id": "1ef5120bd6c54337ac015401871c1f52",
       "version_major": 2,
       "version_minor": 0
      },
      "text/plain": [
       "Processing texts:   0%|          | 0/1 [00:00<?, ?it/s]"
      ]
     },
     "metadata": {},
     "output_type": "display_data"
    },
    {
     "name": "stderr",
     "output_type": "stream",
     "text": [
      "26-Mar-25 14:53:52 - Saving results to results/processed_texts.csv\n",
      "26-Mar-25 14:53:53 - Starting to process\n"
     ]
    },
    {
     "data": {
      "application/vnd.jupyter.widget-view+json": {
       "model_id": "6febc52142b44db3ba95ae93f5854b3e",
       "version_major": 2,
       "version_minor": 0
      },
      "text/plain": [
       "Processing texts:   0%|          | 0/1 [00:00<?, ?it/s]"
      ]
     },
     "metadata": {},
     "output_type": "display_data"
    },
    {
     "name": "stderr",
     "output_type": "stream",
     "text": [
      "26-Mar-25 14:53:53 - Saving results to results/processed_texts.csv\n",
      "26-Mar-25 14:53:54 - Starting to process\n"
     ]
    },
    {
     "data": {
      "application/vnd.jupyter.widget-view+json": {
       "model_id": "ecc0a38c9a6f46f4b6c5525ef9d5f5ac",
       "version_major": 2,
       "version_minor": 0
      },
      "text/plain": [
       "Processing texts:   0%|          | 0/1 [00:00<?, ?it/s]"
      ]
     },
     "metadata": {},
     "output_type": "display_data"
    },
    {
     "name": "stderr",
     "output_type": "stream",
     "text": [
      "26-Mar-25 14:53:54 - Saving results to results/processed_texts.csv\n",
      "26-Mar-25 14:53:55 - Starting to process\n"
     ]
    },
    {
     "data": {
      "application/vnd.jupyter.widget-view+json": {
       "model_id": "ad2224b4c1664b4696871a05dcaa4a0b",
       "version_major": 2,
       "version_minor": 0
      },
      "text/plain": [
       "Processing texts:   0%|          | 0/1 [00:00<?, ?it/s]"
      ]
     },
     "metadata": {},
     "output_type": "display_data"
    },
    {
     "name": "stderr",
     "output_type": "stream",
     "text": [
      "26-Mar-25 14:53:55 - Saving results to results/processed_texts.csv\n",
      "26-Mar-25 14:53:56 - Starting to process\n"
     ]
    },
    {
     "data": {
      "application/vnd.jupyter.widget-view+json": {
       "model_id": "0185223e9177452389af0a44263b1e9f",
       "version_major": 2,
       "version_minor": 0
      },
      "text/plain": [
       "Processing texts:   0%|          | 0/1 [00:00<?, ?it/s]"
      ]
     },
     "metadata": {},
     "output_type": "display_data"
    },
    {
     "name": "stderr",
     "output_type": "stream",
     "text": [
      "26-Mar-25 14:53:56 - Saving results to results/processed_texts.csv\n",
      "26-Mar-25 14:53:56 - Starting to process\n"
     ]
    },
    {
     "data": {
      "application/vnd.jupyter.widget-view+json": {
       "model_id": "4409d657824041199803141ed9125170",
       "version_major": 2,
       "version_minor": 0
      },
      "text/plain": [
       "Processing texts:   0%|          | 0/1 [00:00<?, ?it/s]"
      ]
     },
     "metadata": {},
     "output_type": "display_data"
    },
    {
     "name": "stderr",
     "output_type": "stream",
     "text": [
      "26-Mar-25 14:53:57 - Saving results to results/processed_texts.csv\n",
      "26-Mar-25 14:53:57 - Starting to process\n"
     ]
    },
    {
     "data": {
      "application/vnd.jupyter.widget-view+json": {
       "model_id": "68d8cbce686f4431b9525075aed22d04",
       "version_major": 2,
       "version_minor": 0
      },
      "text/plain": [
       "Processing texts:   0%|          | 0/1 [00:00<?, ?it/s]"
      ]
     },
     "metadata": {},
     "output_type": "display_data"
    },
    {
     "name": "stderr",
     "output_type": "stream",
     "text": [
      "26-Mar-25 14:53:58 - Saving results to results/processed_texts.csv\n",
      "26-Mar-25 14:53:58 - Starting to process\n"
     ]
    },
    {
     "data": {
      "application/vnd.jupyter.widget-view+json": {
       "model_id": "6def80b3d7b24c2e8c43550ad679580c",
       "version_major": 2,
       "version_minor": 0
      },
      "text/plain": [
       "Processing texts:   0%|          | 0/1 [00:00<?, ?it/s]"
      ]
     },
     "metadata": {},
     "output_type": "display_data"
    },
    {
     "name": "stderr",
     "output_type": "stream",
     "text": [
      "26-Mar-25 14:53:59 - Saving results to results/processed_texts.csv\n",
      "26-Mar-25 14:53:59 - Starting to process\n"
     ]
    },
    {
     "data": {
      "application/vnd.jupyter.widget-view+json": {
       "model_id": "09e51e3c03d6462bab0f630df7f284cd",
       "version_major": 2,
       "version_minor": 0
      },
      "text/plain": [
       "Processing texts:   0%|          | 0/1 [00:00<?, ?it/s]"
      ]
     },
     "metadata": {},
     "output_type": "display_data"
    },
    {
     "name": "stderr",
     "output_type": "stream",
     "text": [
      "26-Mar-25 14:54:00 - Saving results to results/processed_texts.csv\n",
      "26-Mar-25 14:54:00 - Starting to process\n"
     ]
    },
    {
     "data": {
      "application/vnd.jupyter.widget-view+json": {
       "model_id": "673b7fcae80e4317a0ae0088c32ceb3a",
       "version_major": 2,
       "version_minor": 0
      },
      "text/plain": [
       "Processing texts:   0%|          | 0/1 [00:00<?, ?it/s]"
      ]
     },
     "metadata": {},
     "output_type": "display_data"
    },
    {
     "name": "stderr",
     "output_type": "stream",
     "text": [
      "26-Mar-25 14:54:01 - Saving results to results/processed_texts.csv\n",
      "26-Mar-25 14:54:01 - Starting to process\n"
     ]
    },
    {
     "data": {
      "application/vnd.jupyter.widget-view+json": {
       "model_id": "a81729700ff4458ba5d0ef9162992c8a",
       "version_major": 2,
       "version_minor": 0
      },
      "text/plain": [
       "Processing texts:   0%|          | 0/1 [00:00<?, ?it/s]"
      ]
     },
     "metadata": {},
     "output_type": "display_data"
    },
    {
     "name": "stderr",
     "output_type": "stream",
     "text": [
      "26-Mar-25 14:54:02 - Saving results to results/processed_texts.csv\n",
      "26-Mar-25 14:54:02 - Starting to process\n"
     ]
    },
    {
     "data": {
      "application/vnd.jupyter.widget-view+json": {
       "model_id": "41119d6e07144b2f8cf0264de5ed4b7e",
       "version_major": 2,
       "version_minor": 0
      },
      "text/plain": [
       "Processing texts:   0%|          | 0/1 [00:00<?, ?it/s]"
      ]
     },
     "metadata": {},
     "output_type": "display_data"
    },
    {
     "name": "stderr",
     "output_type": "stream",
     "text": [
      "26-Mar-25 14:54:03 - Saving results to results/processed_texts.csv\n",
      "26-Mar-25 14:54:03 - Starting to process\n"
     ]
    },
    {
     "data": {
      "application/vnd.jupyter.widget-view+json": {
       "model_id": "69be93cdd4774019a6162860b27f1557",
       "version_major": 2,
       "version_minor": 0
      },
      "text/plain": [
       "Processing texts:   0%|          | 0/1 [00:00<?, ?it/s]"
      ]
     },
     "metadata": {},
     "output_type": "display_data"
    },
    {
     "name": "stderr",
     "output_type": "stream",
     "text": [
      "26-Mar-25 14:54:03 - Saving results to results/processed_texts.csv\n",
      "26-Mar-25 14:54:04 - Starting to process\n"
     ]
    },
    {
     "data": {
      "application/vnd.jupyter.widget-view+json": {
       "model_id": "4de4afc87f6b4d58849417d62f5c039f",
       "version_major": 2,
       "version_minor": 0
      },
      "text/plain": [
       "Processing texts:   0%|          | 0/1 [00:00<?, ?it/s]"
      ]
     },
     "metadata": {},
     "output_type": "display_data"
    },
    {
     "name": "stderr",
     "output_type": "stream",
     "text": [
      "26-Mar-25 14:54:04 - Saving results to results/processed_texts.csv\n",
      "26-Mar-25 14:54:05 - Starting to process\n"
     ]
    },
    {
     "data": {
      "application/vnd.jupyter.widget-view+json": {
       "model_id": "68625da2e723474ab6431b8fc56779d8",
       "version_major": 2,
       "version_minor": 0
      },
      "text/plain": [
       "Processing texts:   0%|          | 0/1 [00:00<?, ?it/s]"
      ]
     },
     "metadata": {},
     "output_type": "display_data"
    },
    {
     "name": "stderr",
     "output_type": "stream",
     "text": [
      "26-Mar-25 14:54:05 - Saving results to results/processed_texts.csv\n",
      "26-Mar-25 14:54:06 - Starting to process\n"
     ]
    },
    {
     "data": {
      "application/vnd.jupyter.widget-view+json": {
       "model_id": "b11248b547614fe7a37edc6aa1d2e167",
       "version_major": 2,
       "version_minor": 0
      },
      "text/plain": [
       "Processing texts:   0%|          | 0/1 [00:00<?, ?it/s]"
      ]
     },
     "metadata": {},
     "output_type": "display_data"
    },
    {
     "name": "stderr",
     "output_type": "stream",
     "text": [
      "26-Mar-25 14:54:06 - Saving results to results/processed_texts.csv\n",
      "26-Mar-25 14:54:08 - Starting to process\n"
     ]
    },
    {
     "data": {
      "application/vnd.jupyter.widget-view+json": {
       "model_id": "006d3525c2fb430085d0f6eb0b6fbf31",
       "version_major": 2,
       "version_minor": 0
      },
      "text/plain": [
       "Processing texts:   0%|          | 0/1 [00:00<?, ?it/s]"
      ]
     },
     "metadata": {},
     "output_type": "display_data"
    },
    {
     "name": "stderr",
     "output_type": "stream",
     "text": [
      "26-Mar-25 14:54:09 - Saving results to results/processed_texts.csv\n",
      "26-Mar-25 14:54:10 - Starting to process\n"
     ]
    },
    {
     "data": {
      "application/vnd.jupyter.widget-view+json": {
       "model_id": "184c95d5108b4d3484b6fd3f2379d9b4",
       "version_major": 2,
       "version_minor": 0
      },
      "text/plain": [
       "Processing texts:   0%|          | 0/1 [00:00<?, ?it/s]"
      ]
     },
     "metadata": {},
     "output_type": "display_data"
    },
    {
     "name": "stderr",
     "output_type": "stream",
     "text": [
      "26-Mar-25 14:54:11 - Saving results to results/processed_texts.csv\n",
      "26-Mar-25 14:54:13 - Starting to process\n"
     ]
    },
    {
     "data": {
      "application/vnd.jupyter.widget-view+json": {
       "model_id": "5e35fde727bc443bb869197d5da5bc40",
       "version_major": 2,
       "version_minor": 0
      },
      "text/plain": [
       "Processing texts:   0%|          | 0/1 [00:00<?, ?it/s]"
      ]
     },
     "metadata": {},
     "output_type": "display_data"
    },
    {
     "name": "stderr",
     "output_type": "stream",
     "text": [
      "26-Mar-25 14:54:14 - Saving results to results/processed_texts.csv\n",
      "26-Mar-25 14:54:15 - Starting to process\n"
     ]
    },
    {
     "data": {
      "application/vnd.jupyter.widget-view+json": {
       "model_id": "9fa0e0b9982942dbb5edcf80e456eb41",
       "version_major": 2,
       "version_minor": 0
      },
      "text/plain": [
       "Processing texts:   0%|          | 0/1 [00:00<?, ?it/s]"
      ]
     },
     "metadata": {},
     "output_type": "display_data"
    },
    {
     "name": "stderr",
     "output_type": "stream",
     "text": [
      "26-Mar-25 14:54:16 - Saving results to results/processed_texts.csv\n",
      "26-Mar-25 14:54:18 - Starting to process\n"
     ]
    },
    {
     "data": {
      "application/vnd.jupyter.widget-view+json": {
       "model_id": "1dde27f850f440cfa26dbc8327a67606",
       "version_major": 2,
       "version_minor": 0
      },
      "text/plain": [
       "Processing texts:   0%|          | 0/1 [00:00<?, ?it/s]"
      ]
     },
     "metadata": {},
     "output_type": "display_data"
    },
    {
     "name": "stderr",
     "output_type": "stream",
     "text": [
      "26-Mar-25 14:54:19 - Saving results to results/processed_texts.csv\n",
      "26-Mar-25 14:54:21 - Starting to process\n"
     ]
    },
    {
     "data": {
      "application/vnd.jupyter.widget-view+json": {
       "model_id": "5efe53bd09e74d7b8f73734ffbc5f0e2",
       "version_major": 2,
       "version_minor": 0
      },
      "text/plain": [
       "Processing texts:   0%|          | 0/1 [00:00<?, ?it/s]"
      ]
     },
     "metadata": {},
     "output_type": "display_data"
    },
    {
     "name": "stderr",
     "output_type": "stream",
     "text": [
      "26-Mar-25 14:54:21 - Saving results to results/processed_texts.csv\n",
      "26-Mar-25 14:54:23 - Starting to process\n"
     ]
    },
    {
     "data": {
      "application/vnd.jupyter.widget-view+json": {
       "model_id": "c9977d0cf90343beb311543c5e1f8566",
       "version_major": 2,
       "version_minor": 0
      },
      "text/plain": [
       "Processing texts:   0%|          | 0/1 [00:00<?, ?it/s]"
      ]
     },
     "metadata": {},
     "output_type": "display_data"
    },
    {
     "name": "stderr",
     "output_type": "stream",
     "text": [
      "26-Mar-25 14:54:24 - Saving results to results/processed_texts.csv\n",
      "26-Mar-25 14:54:25 - Starting to process\n"
     ]
    },
    {
     "data": {
      "application/vnd.jupyter.widget-view+json": {
       "model_id": "cc238ff8413a44aeaac33a8764a29652",
       "version_major": 2,
       "version_minor": 0
      },
      "text/plain": [
       "Processing texts:   0%|          | 0/1 [00:00<?, ?it/s]"
      ]
     },
     "metadata": {},
     "output_type": "display_data"
    },
    {
     "name": "stderr",
     "output_type": "stream",
     "text": [
      "26-Mar-25 14:54:26 - Saving results to results/processed_texts.csv\n",
      "26-Mar-25 14:54:28 - Starting to process\n"
     ]
    },
    {
     "data": {
      "application/vnd.jupyter.widget-view+json": {
       "model_id": "2a1f0dd8ac464c4dac21f2ca3111cf75",
       "version_major": 2,
       "version_minor": 0
      },
      "text/plain": [
       "Processing texts:   0%|          | 0/1 [00:00<?, ?it/s]"
      ]
     },
     "metadata": {},
     "output_type": "display_data"
    },
    {
     "name": "stderr",
     "output_type": "stream",
     "text": [
      "26-Mar-25 14:54:29 - Saving results to results/processed_texts.csv\n",
      "26-Mar-25 14:54:30 - Starting to process\n"
     ]
    },
    {
     "data": {
      "application/vnd.jupyter.widget-view+json": {
       "model_id": "ef8b915906ae427e98da65333c0ac330",
       "version_major": 2,
       "version_minor": 0
      },
      "text/plain": [
       "Processing texts:   0%|          | 0/1 [00:00<?, ?it/s]"
      ]
     },
     "metadata": {},
     "output_type": "display_data"
    },
    {
     "name": "stderr",
     "output_type": "stream",
     "text": [
      "26-Mar-25 14:54:31 - Saving results to results/processed_texts.csv\n",
      "26-Mar-25 14:54:33 - Starting to process\n"
     ]
    },
    {
     "data": {
      "application/vnd.jupyter.widget-view+json": {
       "model_id": "1ddfc6a5c70a4f688c2c239a5dcc1b44",
       "version_major": 2,
       "version_minor": 0
      },
      "text/plain": [
       "Processing texts:   0%|          | 0/1 [00:00<?, ?it/s]"
      ]
     },
     "metadata": {},
     "output_type": "display_data"
    },
    {
     "name": "stderr",
     "output_type": "stream",
     "text": [
      "26-Mar-25 14:54:34 - Saving results to results/processed_texts.csv\n",
      "26-Mar-25 14:54:35 - Starting to process\n"
     ]
    },
    {
     "data": {
      "application/vnd.jupyter.widget-view+json": {
       "model_id": "63611fa8b9b148de9e25cd76751d82cd",
       "version_major": 2,
       "version_minor": 0
      },
      "text/plain": [
       "Processing texts:   0%|          | 0/1 [00:00<?, ?it/s]"
      ]
     },
     "metadata": {},
     "output_type": "display_data"
    },
    {
     "name": "stderr",
     "output_type": "stream",
     "text": [
      "26-Mar-25 14:54:36 - Saving results to results/processed_texts.csv\n",
      "26-Mar-25 14:54:37 - Starting to process\n"
     ]
    },
    {
     "data": {
      "application/vnd.jupyter.widget-view+json": {
       "model_id": "c8d0e0a7b4fe4db38569f0ea78d4c632",
       "version_major": 2,
       "version_minor": 0
      },
      "text/plain": [
       "Processing texts:   0%|          | 0/1 [00:00<?, ?it/s]"
      ]
     },
     "metadata": {},
     "output_type": "display_data"
    },
    {
     "name": "stderr",
     "output_type": "stream",
     "text": [
      "26-Mar-25 14:54:38 - Saving results to results/processed_texts.csv\n",
      "26-Mar-25 14:54:40 - Starting to process\n"
     ]
    },
    {
     "data": {
      "application/vnd.jupyter.widget-view+json": {
       "model_id": "94702f3ebe664814a1aa0035bc7ca48a",
       "version_major": 2,
       "version_minor": 0
      },
      "text/plain": [
       "Processing texts:   0%|          | 0/1 [00:00<?, ?it/s]"
      ]
     },
     "metadata": {},
     "output_type": "display_data"
    },
    {
     "name": "stderr",
     "output_type": "stream",
     "text": [
      "26-Mar-25 14:54:40 - Saving results to results/processed_texts.csv\n",
      "26-Mar-25 14:54:42 - Starting to process\n"
     ]
    },
    {
     "data": {
      "application/vnd.jupyter.widget-view+json": {
       "model_id": "ae5d495476574d888cbc96a266e8ca10",
       "version_major": 2,
       "version_minor": 0
      },
      "text/plain": [
       "Processing texts:   0%|          | 0/1 [00:00<?, ?it/s]"
      ]
     },
     "metadata": {},
     "output_type": "display_data"
    },
    {
     "name": "stderr",
     "output_type": "stream",
     "text": [
      "26-Mar-25 14:54:42 - Saving results to results/processed_texts.csv\n",
      "26-Mar-25 14:54:44 - Starting to process\n"
     ]
    },
    {
     "data": {
      "application/vnd.jupyter.widget-view+json": {
       "model_id": "b2f9d8449abb46e188aff9f1bb7eba02",
       "version_major": 2,
       "version_minor": 0
      },
      "text/plain": [
       "Processing texts:   0%|          | 0/1 [00:00<?, ?it/s]"
      ]
     },
     "metadata": {},
     "output_type": "display_data"
    },
    {
     "name": "stderr",
     "output_type": "stream",
     "text": [
      "26-Mar-25 14:54:45 - Saving results to results/processed_texts.csv\n",
      "26-Mar-25 14:54:46 - Starting to process\n"
     ]
    },
    {
     "data": {
      "application/vnd.jupyter.widget-view+json": {
       "model_id": "d4a09ca306634a9583b95d9de3a84eae",
       "version_major": 2,
       "version_minor": 0
      },
      "text/plain": [
       "Processing texts:   0%|          | 0/1 [00:00<?, ?it/s]"
      ]
     },
     "metadata": {},
     "output_type": "display_data"
    },
    {
     "name": "stderr",
     "output_type": "stream",
     "text": [
      "26-Mar-25 14:54:47 - Saving results to results/processed_texts.csv\n",
      "26-Mar-25 14:54:49 - Starting to process\n"
     ]
    },
    {
     "data": {
      "application/vnd.jupyter.widget-view+json": {
       "model_id": "26058dae111e44e7b78123fbbce6d232",
       "version_major": 2,
       "version_minor": 0
      },
      "text/plain": [
       "Processing texts:   0%|          | 0/1 [00:00<?, ?it/s]"
      ]
     },
     "metadata": {},
     "output_type": "display_data"
    },
    {
     "name": "stderr",
     "output_type": "stream",
     "text": [
      "26-Mar-25 14:54:50 - Saving results to results/processed_texts.csv\n",
      "26-Mar-25 14:54:51 - Starting to process\n"
     ]
    },
    {
     "data": {
      "application/vnd.jupyter.widget-view+json": {
       "model_id": "de72be2b4f984c1a8b2284c9a2b118d8",
       "version_major": 2,
       "version_minor": 0
      },
      "text/plain": [
       "Processing texts:   0%|          | 0/1 [00:00<?, ?it/s]"
      ]
     },
     "metadata": {},
     "output_type": "display_data"
    },
    {
     "name": "stderr",
     "output_type": "stream",
     "text": [
      "26-Mar-25 14:54:52 - Saving results to results/processed_texts.csv\n",
      "26-Mar-25 14:54:53 - Starting to process\n"
     ]
    },
    {
     "data": {
      "application/vnd.jupyter.widget-view+json": {
       "model_id": "10d59e15f88f4856a86b4b7e007452fa",
       "version_major": 2,
       "version_minor": 0
      },
      "text/plain": [
       "Processing texts:   0%|          | 0/1 [00:00<?, ?it/s]"
      ]
     },
     "metadata": {},
     "output_type": "display_data"
    },
    {
     "name": "stderr",
     "output_type": "stream",
     "text": [
      "26-Mar-25 14:54:54 - Saving results to results/processed_texts.csv\n",
      "26-Mar-25 14:54:56 - Starting to process\n"
     ]
    },
    {
     "data": {
      "application/vnd.jupyter.widget-view+json": {
       "model_id": "6eca86141c0c45c1829f6f7e5cd3ab62",
       "version_major": 2,
       "version_minor": 0
      },
      "text/plain": [
       "Processing texts:   0%|          | 0/1 [00:00<?, ?it/s]"
      ]
     },
     "metadata": {},
     "output_type": "display_data"
    },
    {
     "name": "stderr",
     "output_type": "stream",
     "text": [
      "26-Mar-25 14:54:56 - Saving results to results/processed_texts.csv\n",
      "26-Mar-25 14:54:58 - Starting to process\n"
     ]
    },
    {
     "data": {
      "application/vnd.jupyter.widget-view+json": {
       "model_id": "12eea5f03f6e45578bc430f63c5a3489",
       "version_major": 2,
       "version_minor": 0
      },
      "text/plain": [
       "Processing texts:   0%|          | 0/1 [00:00<?, ?it/s]"
      ]
     },
     "metadata": {},
     "output_type": "display_data"
    },
    {
     "name": "stderr",
     "output_type": "stream",
     "text": [
      "26-Mar-25 14:54:58 - Saving results to results/processed_texts.csv\n",
      "26-Mar-25 14:55:00 - Starting to process\n"
     ]
    },
    {
     "data": {
      "application/vnd.jupyter.widget-view+json": {
       "model_id": "8a4cbf8e0d5c4cc88beba60811d3e379",
       "version_major": 2,
       "version_minor": 0
      },
      "text/plain": [
       "Processing texts:   0%|          | 0/1 [00:00<?, ?it/s]"
      ]
     },
     "metadata": {},
     "output_type": "display_data"
    },
    {
     "name": "stderr",
     "output_type": "stream",
     "text": [
      "26-Mar-25 14:55:01 - Saving results to results/processed_texts.csv\n",
      "26-Mar-25 14:55:02 - Starting to process\n"
     ]
    },
    {
     "data": {
      "application/vnd.jupyter.widget-view+json": {
       "model_id": "1fd587c7047947ae80d370752031ecef",
       "version_major": 2,
       "version_minor": 0
      },
      "text/plain": [
       "Processing texts:   0%|          | 0/1 [00:00<?, ?it/s]"
      ]
     },
     "metadata": {},
     "output_type": "display_data"
    },
    {
     "name": "stderr",
     "output_type": "stream",
     "text": [
      "26-Mar-25 14:55:03 - Saving results to results/processed_texts.csv\n",
      "26-Mar-25 14:55:05 - Starting to process\n"
     ]
    },
    {
     "data": {
      "application/vnd.jupyter.widget-view+json": {
       "model_id": "3123f01e8ce847c1ad2912244af5434a",
       "version_major": 2,
       "version_minor": 0
      },
      "text/plain": [
       "Processing texts:   0%|          | 0/1 [00:00<?, ?it/s]"
      ]
     },
     "metadata": {},
     "output_type": "display_data"
    },
    {
     "name": "stderr",
     "output_type": "stream",
     "text": [
      "26-Mar-25 14:55:05 - Saving results to results/processed_texts.csv\n",
      "26-Mar-25 14:55:07 - Starting to process\n"
     ]
    },
    {
     "data": {
      "application/vnd.jupyter.widget-view+json": {
       "model_id": "b8ed767dba114a2699c370559fbddd71",
       "version_major": 2,
       "version_minor": 0
      },
      "text/plain": [
       "Processing texts:   0%|          | 0/1 [00:00<?, ?it/s]"
      ]
     },
     "metadata": {},
     "output_type": "display_data"
    },
    {
     "name": "stderr",
     "output_type": "stream",
     "text": [
      "26-Mar-25 14:55:07 - Saving results to results/processed_texts.csv\n",
      "26-Mar-25 14:55:09 - Starting to process\n"
     ]
    },
    {
     "data": {
      "application/vnd.jupyter.widget-view+json": {
       "model_id": "d0cb0865a0594ab6866b2e2f325dcc1d",
       "version_major": 2,
       "version_minor": 0
      },
      "text/plain": [
       "Processing texts:   0%|          | 0/1 [00:00<?, ?it/s]"
      ]
     },
     "metadata": {},
     "output_type": "display_data"
    },
    {
     "name": "stderr",
     "output_type": "stream",
     "text": [
      "26-Mar-25 14:55:10 - Saving results to results/processed_texts.csv\n",
      "26-Mar-25 14:55:12 - Starting to process\n"
     ]
    },
    {
     "data": {
      "application/vnd.jupyter.widget-view+json": {
       "model_id": "592a32a2069a4ebfad273518ba2d1eb4",
       "version_major": 2,
       "version_minor": 0
      },
      "text/plain": [
       "Processing texts:   0%|          | 0/1 [00:00<?, ?it/s]"
      ]
     },
     "metadata": {},
     "output_type": "display_data"
    },
    {
     "name": "stderr",
     "output_type": "stream",
     "text": [
      "26-Mar-25 14:55:12 - Saving results to results/processed_texts.csv\n",
      "26-Mar-25 14:55:14 - Starting to process\n"
     ]
    },
    {
     "data": {
      "application/vnd.jupyter.widget-view+json": {
       "model_id": "451c7099e29a47c3b56df31d5e7dcf56",
       "version_major": 2,
       "version_minor": 0
      },
      "text/plain": [
       "Processing texts:   0%|          | 0/1 [00:00<?, ?it/s]"
      ]
     },
     "metadata": {},
     "output_type": "display_data"
    },
    {
     "name": "stderr",
     "output_type": "stream",
     "text": [
      "26-Mar-25 14:55:15 - Saving results to results/processed_texts.csv\n",
      "26-Mar-25 14:55:17 - Starting to process\n"
     ]
    },
    {
     "data": {
      "application/vnd.jupyter.widget-view+json": {
       "model_id": "9107d3814e554bcda2a586e010e4f62f",
       "version_major": 2,
       "version_minor": 0
      },
      "text/plain": [
       "Processing texts:   0%|          | 0/1 [00:00<?, ?it/s]"
      ]
     },
     "metadata": {},
     "output_type": "display_data"
    },
    {
     "name": "stderr",
     "output_type": "stream",
     "text": [
      "26-Mar-25 14:55:18 - Saving results to results/processed_texts.csv\n",
      "26-Mar-25 14:55:19 - Starting to process\n"
     ]
    },
    {
     "data": {
      "application/vnd.jupyter.widget-view+json": {
       "model_id": "50111e8ddbce478c8fc9887f7921f82d",
       "version_major": 2,
       "version_minor": 0
      },
      "text/plain": [
       "Processing texts:   0%|          | 0/1 [00:00<?, ?it/s]"
      ]
     },
     "metadata": {},
     "output_type": "display_data"
    },
    {
     "name": "stderr",
     "output_type": "stream",
     "text": [
      "26-Mar-25 14:55:20 - Saving results to results/processed_texts.csv\n",
      "26-Mar-25 14:55:22 - Starting to process\n"
     ]
    },
    {
     "data": {
      "application/vnd.jupyter.widget-view+json": {
       "model_id": "fb40339c07b54bc5955587ea31fe350e",
       "version_major": 2,
       "version_minor": 0
      },
      "text/plain": [
       "Processing texts:   0%|          | 0/1 [00:00<?, ?it/s]"
      ]
     },
     "metadata": {},
     "output_type": "display_data"
    },
    {
     "name": "stderr",
     "output_type": "stream",
     "text": [
      "26-Mar-25 14:55:23 - Saving results to results/processed_texts.csv\n",
      "26-Mar-25 14:55:24 - Starting to process\n"
     ]
    },
    {
     "data": {
      "application/vnd.jupyter.widget-view+json": {
       "model_id": "7e341a20e9fb469fad05169c5f3070b2",
       "version_major": 2,
       "version_minor": 0
      },
      "text/plain": [
       "Processing texts:   0%|          | 0/1 [00:00<?, ?it/s]"
      ]
     },
     "metadata": {},
     "output_type": "display_data"
    },
    {
     "name": "stderr",
     "output_type": "stream",
     "text": [
      "26-Mar-25 14:55:25 - Saving results to results/processed_texts.csv\n",
      "26-Mar-25 14:55:26 - Starting to process\n"
     ]
    },
    {
     "data": {
      "application/vnd.jupyter.widget-view+json": {
       "model_id": "4d018fd253184f3bafb5a7098e77b64b",
       "version_major": 2,
       "version_minor": 0
      },
      "text/plain": [
       "Processing texts:   0%|          | 0/1 [00:00<?, ?it/s]"
      ]
     },
     "metadata": {},
     "output_type": "display_data"
    },
    {
     "name": "stderr",
     "output_type": "stream",
     "text": [
      "26-Mar-25 14:55:27 - Saving results to results/processed_texts.csv\n",
      "26-Mar-25 14:55:29 - Starting to process\n"
     ]
    },
    {
     "data": {
      "application/vnd.jupyter.widget-view+json": {
       "model_id": "feb98671e26246078160bbc60190c563",
       "version_major": 2,
       "version_minor": 0
      },
      "text/plain": [
       "Processing texts:   0%|          | 0/1 [00:00<?, ?it/s]"
      ]
     },
     "metadata": {},
     "output_type": "display_data"
    },
    {
     "name": "stderr",
     "output_type": "stream",
     "text": [
      "26-Mar-25 14:55:29 - Saving results to results/processed_texts.csv\n",
      "26-Mar-25 14:55:31 - Starting to process\n"
     ]
    },
    {
     "data": {
      "application/vnd.jupyter.widget-view+json": {
       "model_id": "237ef8460b1f439da6f1b3e8275e3fcf",
       "version_major": 2,
       "version_minor": 0
      },
      "text/plain": [
       "Processing texts:   0%|          | 0/1 [00:00<?, ?it/s]"
      ]
     },
     "metadata": {},
     "output_type": "display_data"
    },
    {
     "name": "stderr",
     "output_type": "stream",
     "text": [
      "26-Mar-25 14:55:32 - Saving results to results/processed_texts.csv\n",
      "26-Mar-25 14:55:33 - Starting to process\n"
     ]
    },
    {
     "data": {
      "application/vnd.jupyter.widget-view+json": {
       "model_id": "f865d56308614b5192ae5e03630dfb9b",
       "version_major": 2,
       "version_minor": 0
      },
      "text/plain": [
       "Processing texts:   0%|          | 0/1 [00:00<?, ?it/s]"
      ]
     },
     "metadata": {},
     "output_type": "display_data"
    },
    {
     "name": "stderr",
     "output_type": "stream",
     "text": [
      "26-Mar-25 14:55:34 - Saving results to results/processed_texts.csv\n",
      "26-Mar-25 14:55:36 - Starting to process\n"
     ]
    },
    {
     "data": {
      "application/vnd.jupyter.widget-view+json": {
       "model_id": "bd0dd9a8c8b14d29a96d7df98dbcb936",
       "version_major": 2,
       "version_minor": 0
      },
      "text/plain": [
       "Processing texts:   0%|          | 0/1 [00:00<?, ?it/s]"
      ]
     },
     "metadata": {},
     "output_type": "display_data"
    },
    {
     "name": "stderr",
     "output_type": "stream",
     "text": [
      "26-Mar-25 14:55:37 - Saving results to results/processed_texts.csv\n",
      "26-Mar-25 14:55:38 - Starting to process\n"
     ]
    },
    {
     "data": {
      "application/vnd.jupyter.widget-view+json": {
       "model_id": "ec1d265f014b4cd38bddf3e70ef1f444",
       "version_major": 2,
       "version_minor": 0
      },
      "text/plain": [
       "Processing texts:   0%|          | 0/1 [00:00<?, ?it/s]"
      ]
     },
     "metadata": {},
     "output_type": "display_data"
    },
    {
     "name": "stderr",
     "output_type": "stream",
     "text": [
      "26-Mar-25 14:55:39 - Saving results to results/processed_texts.csv\n",
      "26-Mar-25 14:55:41 - Starting to process\n"
     ]
    },
    {
     "data": {
      "application/vnd.jupyter.widget-view+json": {
       "model_id": "cfc37cacb225429cb99e51c9c6ac8ea6",
       "version_major": 2,
       "version_minor": 0
      },
      "text/plain": [
       "Processing texts:   0%|          | 0/1 [00:00<?, ?it/s]"
      ]
     },
     "metadata": {},
     "output_type": "display_data"
    },
    {
     "name": "stderr",
     "output_type": "stream",
     "text": [
      "26-Mar-25 14:55:42 - Saving results to results/processed_texts.csv\n",
      "26-Mar-25 14:55:43 - Starting to process\n"
     ]
    },
    {
     "data": {
      "application/vnd.jupyter.widget-view+json": {
       "model_id": "263da9c3ac7f43d5a3c11c89a3c06ae6",
       "version_major": 2,
       "version_minor": 0
      },
      "text/plain": [
       "Processing texts:   0%|          | 0/1 [00:00<?, ?it/s]"
      ]
     },
     "metadata": {},
     "output_type": "display_data"
    },
    {
     "name": "stderr",
     "output_type": "stream",
     "text": [
      "26-Mar-25 14:55:44 - Saving results to results/processed_texts.csv\n",
      "26-Mar-25 14:55:46 - Starting to process\n"
     ]
    },
    {
     "data": {
      "application/vnd.jupyter.widget-view+json": {
       "model_id": "8dc1c55c0b6f4211853f01a319c1afe3",
       "version_major": 2,
       "version_minor": 0
      },
      "text/plain": [
       "Processing texts:   0%|          | 0/1 [00:00<?, ?it/s]"
      ]
     },
     "metadata": {},
     "output_type": "display_data"
    },
    {
     "name": "stderr",
     "output_type": "stream",
     "text": [
      "26-Mar-25 14:55:46 - Saving results to results/processed_texts.csv\n",
      "26-Mar-25 14:55:48 - Starting to process\n"
     ]
    },
    {
     "data": {
      "application/vnd.jupyter.widget-view+json": {
       "model_id": "a1bd3efedd584f419c38a7bd043eb8a6",
       "version_major": 2,
       "version_minor": 0
      },
      "text/plain": [
       "Processing texts:   0%|          | 0/1 [00:00<?, ?it/s]"
      ]
     },
     "metadata": {},
     "output_type": "display_data"
    },
    {
     "name": "stderr",
     "output_type": "stream",
     "text": [
      "26-Mar-25 14:55:49 - Saving results to results/processed_texts.csv\n",
      "26-Mar-25 14:55:50 - Starting to process\n"
     ]
    },
    {
     "data": {
      "application/vnd.jupyter.widget-view+json": {
       "model_id": "7ca678b7303d4bd381e8901a573c9208",
       "version_major": 2,
       "version_minor": 0
      },
      "text/plain": [
       "Processing texts:   0%|          | 0/1 [00:00<?, ?it/s]"
      ]
     },
     "metadata": {},
     "output_type": "display_data"
    },
    {
     "name": "stderr",
     "output_type": "stream",
     "text": [
      "26-Mar-25 14:55:51 - Saving results to results/processed_texts.csv\n",
      "26-Mar-25 14:55:53 - Starting to process\n"
     ]
    },
    {
     "data": {
      "application/vnd.jupyter.widget-view+json": {
       "model_id": "c3d79f0c56ce41b1b2529bc0eceb02a4",
       "version_major": 2,
       "version_minor": 0
      },
      "text/plain": [
       "Processing texts:   0%|          | 0/1 [00:00<?, ?it/s]"
      ]
     },
     "metadata": {},
     "output_type": "display_data"
    },
    {
     "name": "stderr",
     "output_type": "stream",
     "text": [
      "26-Mar-25 14:55:54 - Saving results to results/processed_texts.csv\n",
      "26-Mar-25 14:55:55 - Starting to process\n"
     ]
    },
    {
     "data": {
      "application/vnd.jupyter.widget-view+json": {
       "model_id": "89bb1a4869844df1a0efb5297e045b8b",
       "version_major": 2,
       "version_minor": 0
      },
      "text/plain": [
       "Processing texts:   0%|          | 0/1 [00:00<?, ?it/s]"
      ]
     },
     "metadata": {},
     "output_type": "display_data"
    },
    {
     "name": "stderr",
     "output_type": "stream",
     "text": [
      "26-Mar-25 14:55:56 - Saving results to results/processed_texts.csv\n",
      "26-Mar-25 14:55:57 - Starting to process\n"
     ]
    },
    {
     "data": {
      "application/vnd.jupyter.widget-view+json": {
       "model_id": "148af44eccc34132b90fb12562830d5e",
       "version_major": 2,
       "version_minor": 0
      },
      "text/plain": [
       "Processing texts:   0%|          | 0/1 [00:00<?, ?it/s]"
      ]
     },
     "metadata": {},
     "output_type": "display_data"
    },
    {
     "name": "stderr",
     "output_type": "stream",
     "text": [
      "26-Mar-25 14:55:59 - Saving results to results/processed_texts.csv\n",
      "26-Mar-25 14:56:01 - Starting to process\n"
     ]
    },
    {
     "data": {
      "application/vnd.jupyter.widget-view+json": {
       "model_id": "016c1f79c9914673b7f9bcd016d5154e",
       "version_major": 2,
       "version_minor": 0
      },
      "text/plain": [
       "Processing texts:   0%|          | 0/1 [00:00<?, ?it/s]"
      ]
     },
     "metadata": {},
     "output_type": "display_data"
    },
    {
     "name": "stderr",
     "output_type": "stream",
     "text": [
      "26-Mar-25 14:56:01 - Saving results to results/processed_texts.csv\n",
      "26-Mar-25 14:56:03 - Starting to process\n"
     ]
    },
    {
     "data": {
      "application/vnd.jupyter.widget-view+json": {
       "model_id": "79a1a8422f054488948b02d58e4bf3a1",
       "version_major": 2,
       "version_minor": 0
      },
      "text/plain": [
       "Processing texts:   0%|          | 0/1 [00:00<?, ?it/s]"
      ]
     },
     "metadata": {},
     "output_type": "display_data"
    },
    {
     "name": "stderr",
     "output_type": "stream",
     "text": [
      "26-Mar-25 14:56:04 - Saving results to results/processed_texts.csv\n",
      "26-Mar-25 14:56:05 - Starting to process\n"
     ]
    },
    {
     "data": {
      "application/vnd.jupyter.widget-view+json": {
       "model_id": "dd845ea93ccb4eca8299c6f8e4214d75",
       "version_major": 2,
       "version_minor": 0
      },
      "text/plain": [
       "Processing texts:   0%|          | 0/1 [00:00<?, ?it/s]"
      ]
     },
     "metadata": {},
     "output_type": "display_data"
    },
    {
     "name": "stderr",
     "output_type": "stream",
     "text": [
      "26-Mar-25 14:56:06 - Saving results to results/processed_texts.csv\n",
      "26-Mar-25 14:56:07 - Starting to process\n"
     ]
    },
    {
     "data": {
      "application/vnd.jupyter.widget-view+json": {
       "model_id": "d646b3729c1f490697fca6637dd91f81",
       "version_major": 2,
       "version_minor": 0
      },
      "text/plain": [
       "Processing texts:   0%|          | 0/1 [00:00<?, ?it/s]"
      ]
     },
     "metadata": {},
     "output_type": "display_data"
    },
    {
     "name": "stderr",
     "output_type": "stream",
     "text": [
      "26-Mar-25 14:56:09 - Saving results to results/processed_texts.csv\n",
      "26-Mar-25 14:56:10 - Starting to process\n"
     ]
    },
    {
     "data": {
      "application/vnd.jupyter.widget-view+json": {
       "model_id": "94441e52e06a48ebafff6a2a348b5385",
       "version_major": 2,
       "version_minor": 0
      },
      "text/plain": [
       "Processing texts:   0%|          | 0/1 [00:00<?, ?it/s]"
      ]
     },
     "metadata": {},
     "output_type": "display_data"
    },
    {
     "name": "stderr",
     "output_type": "stream",
     "text": [
      "26-Mar-25 14:56:11 - Saving results to results/processed_texts.csv\n",
      "26-Mar-25 14:56:13 - Starting to process\n"
     ]
    },
    {
     "data": {
      "application/vnd.jupyter.widget-view+json": {
       "model_id": "442036f366124ea2acba1e473591449f",
       "version_major": 2,
       "version_minor": 0
      },
      "text/plain": [
       "Processing texts:   0%|          | 0/1 [00:00<?, ?it/s]"
      ]
     },
     "metadata": {},
     "output_type": "display_data"
    },
    {
     "name": "stderr",
     "output_type": "stream",
     "text": [
      "26-Mar-25 14:56:14 - Saving results to results/processed_texts.csv\n",
      "26-Mar-25 14:56:16 - Starting to process\n"
     ]
    },
    {
     "data": {
      "application/vnd.jupyter.widget-view+json": {
       "model_id": "311e329bd52748a792861c4b72d3859a",
       "version_major": 2,
       "version_minor": 0
      },
      "text/plain": [
       "Processing texts:   0%|          | 0/1 [00:00<?, ?it/s]"
      ]
     },
     "metadata": {},
     "output_type": "display_data"
    },
    {
     "name": "stderr",
     "output_type": "stream",
     "text": [
      "26-Mar-25 14:56:17 - Saving results to results/processed_texts.csv\n",
      "26-Mar-25 14:56:18 - Starting to process\n"
     ]
    },
    {
     "data": {
      "application/vnd.jupyter.widget-view+json": {
       "model_id": "c6e2aa768ff24881ba485db08cd02ebf",
       "version_major": 2,
       "version_minor": 0
      },
      "text/plain": [
       "Processing texts:   0%|          | 0/1 [00:00<?, ?it/s]"
      ]
     },
     "metadata": {},
     "output_type": "display_data"
    },
    {
     "name": "stderr",
     "output_type": "stream",
     "text": [
      "26-Mar-25 14:56:19 - Saving results to results/processed_texts.csv\n",
      "26-Mar-25 14:56:21 - Starting to process\n"
     ]
    },
    {
     "data": {
      "application/vnd.jupyter.widget-view+json": {
       "model_id": "e9250f5af9bc453b934b91dbca6fb3b3",
       "version_major": 2,
       "version_minor": 0
      },
      "text/plain": [
       "Processing texts:   0%|          | 0/1 [00:00<?, ?it/s]"
      ]
     },
     "metadata": {},
     "output_type": "display_data"
    },
    {
     "name": "stderr",
     "output_type": "stream",
     "text": [
      "26-Mar-25 14:56:22 - Saving results to results/processed_texts.csv\n",
      "26-Mar-25 14:56:23 - Starting to process\n"
     ]
    },
    {
     "data": {
      "application/vnd.jupyter.widget-view+json": {
       "model_id": "b1079b35302244ad98d6dd5fe7c0f84b",
       "version_major": 2,
       "version_minor": 0
      },
      "text/plain": [
       "Processing texts:   0%|          | 0/1 [00:00<?, ?it/s]"
      ]
     },
     "metadata": {},
     "output_type": "display_data"
    },
    {
     "name": "stderr",
     "output_type": "stream",
     "text": [
      "26-Mar-25 14:56:25 - Saving results to results/processed_texts.csv\n",
      "26-Mar-25 14:56:26 - Starting to process\n"
     ]
    },
    {
     "data": {
      "application/vnd.jupyter.widget-view+json": {
       "model_id": "98910d730b1f44a290a2997da7827975",
       "version_major": 2,
       "version_minor": 0
      },
      "text/plain": [
       "Processing texts:   0%|          | 0/1 [00:00<?, ?it/s]"
      ]
     },
     "metadata": {},
     "output_type": "display_data"
    },
    {
     "name": "stderr",
     "output_type": "stream",
     "text": [
      "26-Mar-25 14:56:27 - Saving results to results/processed_texts.csv\n",
      "26-Mar-25 14:56:29 - Starting to process\n"
     ]
    },
    {
     "data": {
      "application/vnd.jupyter.widget-view+json": {
       "model_id": "cc02aed22bd24bcfb47b94f5374e0a27",
       "version_major": 2,
       "version_minor": 0
      },
      "text/plain": [
       "Processing texts:   0%|          | 0/1 [00:00<?, ?it/s]"
      ]
     },
     "metadata": {},
     "output_type": "display_data"
    },
    {
     "name": "stderr",
     "output_type": "stream",
     "text": [
      "26-Mar-25 14:56:30 - Saving results to results/processed_texts.csv\n",
      "26-Mar-25 14:56:31 - Starting to process\n"
     ]
    },
    {
     "data": {
      "application/vnd.jupyter.widget-view+json": {
       "model_id": "446a0d6a2c9b41c387fcdc2706444299",
       "version_major": 2,
       "version_minor": 0
      },
      "text/plain": [
       "Processing texts:   0%|          | 0/1 [00:00<?, ?it/s]"
      ]
     },
     "metadata": {},
     "output_type": "display_data"
    },
    {
     "name": "stderr",
     "output_type": "stream",
     "text": [
      "26-Mar-25 14:56:32 - Saving results to results/processed_texts.csv\n",
      "26-Mar-25 14:56:34 - Starting to process\n"
     ]
    },
    {
     "data": {
      "application/vnd.jupyter.widget-view+json": {
       "model_id": "21354e7a9511427093610ff67e5ca317",
       "version_major": 2,
       "version_minor": 0
      },
      "text/plain": [
       "Processing texts:   0%|          | 0/1 [00:00<?, ?it/s]"
      ]
     },
     "metadata": {},
     "output_type": "display_data"
    },
    {
     "name": "stderr",
     "output_type": "stream",
     "text": [
      "26-Mar-25 14:56:35 - Saving results to results/processed_texts.csv\n",
      "26-Mar-25 14:56:37 - Starting to process\n"
     ]
    },
    {
     "data": {
      "application/vnd.jupyter.widget-view+json": {
       "model_id": "6bf2825ec7ab486c9c7e1dfcfd058106",
       "version_major": 2,
       "version_minor": 0
      },
      "text/plain": [
       "Processing texts:   0%|          | 0/1 [00:00<?, ?it/s]"
      ]
     },
     "metadata": {},
     "output_type": "display_data"
    },
    {
     "name": "stderr",
     "output_type": "stream",
     "text": [
      "26-Mar-25 14:56:38 - Saving results to results/processed_texts.csv\n",
      "26-Mar-25 14:56:39 - Starting to process\n"
     ]
    },
    {
     "data": {
      "application/vnd.jupyter.widget-view+json": {
       "model_id": "a8a0c4f909334667bf80d6f71e67bfb2",
       "version_major": 2,
       "version_minor": 0
      },
      "text/plain": [
       "Processing texts:   0%|          | 0/1 [00:00<?, ?it/s]"
      ]
     },
     "metadata": {},
     "output_type": "display_data"
    },
    {
     "name": "stderr",
     "output_type": "stream",
     "text": [
      "26-Mar-25 14:56:40 - Saving results to results/processed_texts.csv\n",
      "26-Mar-25 14:56:41 - Starting to process\n"
     ]
    },
    {
     "data": {
      "application/vnd.jupyter.widget-view+json": {
       "model_id": "ab5b5af41e5048889c6743ec91a7635f",
       "version_major": 2,
       "version_minor": 0
      },
      "text/plain": [
       "Processing texts:   0%|          | 0/1 [00:00<?, ?it/s]"
      ]
     },
     "metadata": {},
     "output_type": "display_data"
    },
    {
     "name": "stderr",
     "output_type": "stream",
     "text": [
      "26-Mar-25 14:56:42 - Saving results to results/processed_texts.csv\n",
      "26-Mar-25 14:56:43 - Starting to process\n"
     ]
    },
    {
     "data": {
      "application/vnd.jupyter.widget-view+json": {
       "model_id": "2f0aadc2a2194ca4bfea2e8dff6d0b42",
       "version_major": 2,
       "version_minor": 0
      },
      "text/plain": [
       "Processing texts:   0%|          | 0/1 [00:00<?, ?it/s]"
      ]
     },
     "metadata": {},
     "output_type": "display_data"
    },
    {
     "name": "stderr",
     "output_type": "stream",
     "text": [
      "26-Mar-25 14:56:44 - Saving results to results/processed_texts.csv\n",
      "26-Mar-25 14:56:46 - Starting to process\n"
     ]
    },
    {
     "data": {
      "application/vnd.jupyter.widget-view+json": {
       "model_id": "82f797c7ecb44130a9b1ae1ed3a7b7b5",
       "version_major": 2,
       "version_minor": 0
      },
      "text/plain": [
       "Processing texts:   0%|          | 0/1 [00:00<?, ?it/s]"
      ]
     },
     "metadata": {},
     "output_type": "display_data"
    },
    {
     "name": "stderr",
     "output_type": "stream",
     "text": [
      "26-Mar-25 14:56:47 - Saving results to results/processed_texts.csv\n",
      "26-Mar-25 14:56:49 - Starting to process\n"
     ]
    },
    {
     "data": {
      "application/vnd.jupyter.widget-view+json": {
       "model_id": "e50d71f184a64973ac23bf53d8430059",
       "version_major": 2,
       "version_minor": 0
      },
      "text/plain": [
       "Processing texts:   0%|          | 0/1 [00:00<?, ?it/s]"
      ]
     },
     "metadata": {},
     "output_type": "display_data"
    },
    {
     "name": "stderr",
     "output_type": "stream",
     "text": [
      "26-Mar-25 14:56:49 - Saving results to results/processed_texts.csv\n",
      "26-Mar-25 14:56:51 - Starting to process\n"
     ]
    },
    {
     "data": {
      "application/vnd.jupyter.widget-view+json": {
       "model_id": "e66a63302df341a79f37b9d805a785c7",
       "version_major": 2,
       "version_minor": 0
      },
      "text/plain": [
       "Processing texts:   0%|          | 0/1 [00:00<?, ?it/s]"
      ]
     },
     "metadata": {},
     "output_type": "display_data"
    },
    {
     "name": "stderr",
     "output_type": "stream",
     "text": [
      "26-Mar-25 14:56:52 - Saving results to results/processed_texts.csv\n",
      "26-Mar-25 14:56:53 - Starting to process\n"
     ]
    },
    {
     "data": {
      "application/vnd.jupyter.widget-view+json": {
       "model_id": "fa35df5603964620838bddb36b9cbf23",
       "version_major": 2,
       "version_minor": 0
      },
      "text/plain": [
       "Processing texts:   0%|          | 0/1 [00:00<?, ?it/s]"
      ]
     },
     "metadata": {},
     "output_type": "display_data"
    },
    {
     "name": "stderr",
     "output_type": "stream",
     "text": [
      "26-Mar-25 14:56:54 - Saving results to results/processed_texts.csv\n",
      "26-Mar-25 14:56:56 - Starting to process\n"
     ]
    },
    {
     "data": {
      "application/vnd.jupyter.widget-view+json": {
       "model_id": "2541dee6edc941169e349152fb571755",
       "version_major": 2,
       "version_minor": 0
      },
      "text/plain": [
       "Processing texts:   0%|          | 0/1 [00:00<?, ?it/s]"
      ]
     },
     "metadata": {},
     "output_type": "display_data"
    },
    {
     "name": "stderr",
     "output_type": "stream",
     "text": [
      "26-Mar-25 14:56:57 - Saving results to results/processed_texts.csv\n",
      "26-Mar-25 14:56:59 - Starting to process\n"
     ]
    },
    {
     "data": {
      "application/vnd.jupyter.widget-view+json": {
       "model_id": "89bd545252054741a2a826c3d3f34b16",
       "version_major": 2,
       "version_minor": 0
      },
      "text/plain": [
       "Processing texts:   0%|          | 0/1 [00:00<?, ?it/s]"
      ]
     },
     "metadata": {},
     "output_type": "display_data"
    },
    {
     "name": "stderr",
     "output_type": "stream",
     "text": [
      "26-Mar-25 14:57:00 - Saving results to results/processed_texts.csv\n",
      "26-Mar-25 14:57:02 - Starting to process\n"
     ]
    },
    {
     "data": {
      "application/vnd.jupyter.widget-view+json": {
       "model_id": "fca4af71a12b41fe86127734ad7c4860",
       "version_major": 2,
       "version_minor": 0
      },
      "text/plain": [
       "Processing texts:   0%|          | 0/1 [00:00<?, ?it/s]"
      ]
     },
     "metadata": {},
     "output_type": "display_data"
    },
    {
     "name": "stderr",
     "output_type": "stream",
     "text": [
      "26-Mar-25 14:57:03 - Saving results to results/processed_texts.csv\n",
      "26-Mar-25 14:57:04 - Starting to process\n"
     ]
    },
    {
     "data": {
      "application/vnd.jupyter.widget-view+json": {
       "model_id": "5effa4ef8aa749569ba6224694308b02",
       "version_major": 2,
       "version_minor": 0
      },
      "text/plain": [
       "Processing texts:   0%|          | 0/1 [00:00<?, ?it/s]"
      ]
     },
     "metadata": {},
     "output_type": "display_data"
    },
    {
     "name": "stderr",
     "output_type": "stream",
     "text": [
      "26-Mar-25 14:57:05 - Saving results to results/processed_texts.csv\n",
      "26-Mar-25 14:57:06 - Starting to process\n"
     ]
    },
    {
     "data": {
      "application/vnd.jupyter.widget-view+json": {
       "model_id": "221d58d9687e4c34876919ecabffb89e",
       "version_major": 2,
       "version_minor": 0
      },
      "text/plain": [
       "Processing texts:   0%|          | 0/1 [00:00<?, ?it/s]"
      ]
     },
     "metadata": {},
     "output_type": "display_data"
    },
    {
     "name": "stderr",
     "output_type": "stream",
     "text": [
      "26-Mar-25 14:57:07 - Saving results to results/processed_texts.csv\n",
      "26-Mar-25 14:57:08 - Starting to process\n"
     ]
    },
    {
     "data": {
      "application/vnd.jupyter.widget-view+json": {
       "model_id": "f97f1e3257c34614b0ce9f56865f950f",
       "version_major": 2,
       "version_minor": 0
      },
      "text/plain": [
       "Processing texts:   0%|          | 0/1 [00:00<?, ?it/s]"
      ]
     },
     "metadata": {},
     "output_type": "display_data"
    },
    {
     "name": "stderr",
     "output_type": "stream",
     "text": [
      "26-Mar-25 14:57:09 - Saving results to results/processed_texts.csv\n",
      "26-Mar-25 14:57:10 - Starting to process\n"
     ]
    },
    {
     "data": {
      "application/vnd.jupyter.widget-view+json": {
       "model_id": "ffd37ae615a34775981474441027dadd",
       "version_major": 2,
       "version_minor": 0
      },
      "text/plain": [
       "Processing texts:   0%|          | 0/1 [00:00<?, ?it/s]"
      ]
     },
     "metadata": {},
     "output_type": "display_data"
    },
    {
     "name": "stderr",
     "output_type": "stream",
     "text": [
      "26-Mar-25 14:57:11 - Saving results to results/processed_texts.csv\n",
      "26-Mar-25 14:57:13 - Starting to process\n"
     ]
    },
    {
     "data": {
      "application/vnd.jupyter.widget-view+json": {
       "model_id": "b80a961740424ec0876e8b976d5863ef",
       "version_major": 2,
       "version_minor": 0
      },
      "text/plain": [
       "Processing texts:   0%|          | 0/1 [00:00<?, ?it/s]"
      ]
     },
     "metadata": {},
     "output_type": "display_data"
    },
    {
     "name": "stderr",
     "output_type": "stream",
     "text": [
      "26-Mar-25 14:57:14 - Saving results to results/processed_texts.csv\n",
      "26-Mar-25 14:57:16 - Starting to process\n"
     ]
    },
    {
     "data": {
      "application/vnd.jupyter.widget-view+json": {
       "model_id": "91b5ce336a3d40c792bc68a8acce6fcb",
       "version_major": 2,
       "version_minor": 0
      },
      "text/plain": [
       "Processing texts:   0%|          | 0/1 [00:00<?, ?it/s]"
      ]
     },
     "metadata": {},
     "output_type": "display_data"
    },
    {
     "name": "stderr",
     "output_type": "stream",
     "text": [
      "26-Mar-25 14:57:16 - Saving results to results/processed_texts.csv\n",
      "26-Mar-25 14:57:18 - Starting to process\n"
     ]
    },
    {
     "data": {
      "application/vnd.jupyter.widget-view+json": {
       "model_id": "b8c53e15713b46ddba560c7d151f914c",
       "version_major": 2,
       "version_minor": 0
      },
      "text/plain": [
       "Processing texts:   0%|          | 0/1 [00:00<?, ?it/s]"
      ]
     },
     "metadata": {},
     "output_type": "display_data"
    },
    {
     "name": "stderr",
     "output_type": "stream",
     "text": [
      "26-Mar-25 14:57:19 - Saving results to results/processed_texts.csv\n",
      "26-Mar-25 14:57:20 - Starting to process\n"
     ]
    },
    {
     "data": {
      "application/vnd.jupyter.widget-view+json": {
       "model_id": "2cc24174c444403283202f4058f5e470",
       "version_major": 2,
       "version_minor": 0
      },
      "text/plain": [
       "Processing texts:   0%|          | 0/1 [00:00<?, ?it/s]"
      ]
     },
     "metadata": {},
     "output_type": "display_data"
    },
    {
     "name": "stderr",
     "output_type": "stream",
     "text": [
      "26-Mar-25 14:57:21 - Saving results to results/processed_texts.csv\n",
      "26-Mar-25 14:57:22 - Starting to process\n"
     ]
    },
    {
     "data": {
      "application/vnd.jupyter.widget-view+json": {
       "model_id": "d86bfbff26af49dba21c2ca7ec817298",
       "version_major": 2,
       "version_minor": 0
      },
      "text/plain": [
       "Processing texts:   0%|          | 0/1 [00:00<?, ?it/s]"
      ]
     },
     "metadata": {},
     "output_type": "display_data"
    },
    {
     "name": "stderr",
     "output_type": "stream",
     "text": [
      "26-Mar-25 14:57:23 - Saving results to results/processed_texts.csv\n",
      "26-Mar-25 14:57:25 - Starting to process\n"
     ]
    },
    {
     "data": {
      "application/vnd.jupyter.widget-view+json": {
       "model_id": "d59f9694228049c58a1d06caad377d98",
       "version_major": 2,
       "version_minor": 0
      },
      "text/plain": [
       "Processing texts:   0%|          | 0/1 [00:00<?, ?it/s]"
      ]
     },
     "metadata": {},
     "output_type": "display_data"
    },
    {
     "name": "stderr",
     "output_type": "stream",
     "text": [
      "26-Mar-25 14:57:25 - Saving results to results/processed_texts.csv\n",
      "26-Mar-25 14:57:27 - Starting to process\n"
     ]
    },
    {
     "data": {
      "application/vnd.jupyter.widget-view+json": {
       "model_id": "c72101e1f40e4cf3bc77faac8b86a2fd",
       "version_major": 2,
       "version_minor": 0
      },
      "text/plain": [
       "Processing texts:   0%|          | 0/1 [00:00<?, ?it/s]"
      ]
     },
     "metadata": {},
     "output_type": "display_data"
    },
    {
     "name": "stderr",
     "output_type": "stream",
     "text": [
      "26-Mar-25 14:57:27 - Saving results to results/processed_texts.csv\n",
      "26-Mar-25 14:57:29 - Starting to process\n"
     ]
    },
    {
     "data": {
      "application/vnd.jupyter.widget-view+json": {
       "model_id": "6a1172c8fdf44b5181a1a3ff9ca0653a",
       "version_major": 2,
       "version_minor": 0
      },
      "text/plain": [
       "Processing texts:   0%|          | 0/1 [00:00<?, ?it/s]"
      ]
     },
     "metadata": {},
     "output_type": "display_data"
    },
    {
     "name": "stderr",
     "output_type": "stream",
     "text": [
      "26-Mar-25 14:57:29 - Saving results to results/processed_texts.csv\n",
      "26-Mar-25 14:57:31 - Starting to process\n"
     ]
    },
    {
     "data": {
      "application/vnd.jupyter.widget-view+json": {
       "model_id": "6f4269592a3c49c4be5ae3c736bf549f",
       "version_major": 2,
       "version_minor": 0
      },
      "text/plain": [
       "Processing texts:   0%|          | 0/1 [00:00<?, ?it/s]"
      ]
     },
     "metadata": {},
     "output_type": "display_data"
    },
    {
     "name": "stderr",
     "output_type": "stream",
     "text": [
      "26-Mar-25 14:57:32 - Saving results to results/processed_texts.csv\n",
      "26-Mar-25 14:57:34 - Starting to process\n"
     ]
    },
    {
     "data": {
      "application/vnd.jupyter.widget-view+json": {
       "model_id": "0274fca624164e968f5f57c4276d6ffb",
       "version_major": 2,
       "version_minor": 0
      },
      "text/plain": [
       "Processing texts:   0%|          | 0/1 [00:00<?, ?it/s]"
      ]
     },
     "metadata": {},
     "output_type": "display_data"
    },
    {
     "name": "stderr",
     "output_type": "stream",
     "text": [
      "26-Mar-25 14:57:34 - Saving results to results/processed_texts.csv\n",
      "26-Mar-25 14:57:36 - Starting to process\n"
     ]
    },
    {
     "data": {
      "application/vnd.jupyter.widget-view+json": {
       "model_id": "9b580fa4caea491c9aaef861a6ede269",
       "version_major": 2,
       "version_minor": 0
      },
      "text/plain": [
       "Processing texts:   0%|          | 0/1 [00:00<?, ?it/s]"
      ]
     },
     "metadata": {},
     "output_type": "display_data"
    },
    {
     "name": "stderr",
     "output_type": "stream",
     "text": [
      "26-Mar-25 14:57:37 - Saving results to results/processed_texts.csv\n",
      "26-Mar-25 14:57:38 - Starting to process\n"
     ]
    },
    {
     "data": {
      "application/vnd.jupyter.widget-view+json": {
       "model_id": "bbcf23b46dd647b4a593578c90fae9a4",
       "version_major": 2,
       "version_minor": 0
      },
      "text/plain": [
       "Processing texts:   0%|          | 0/1 [00:00<?, ?it/s]"
      ]
     },
     "metadata": {},
     "output_type": "display_data"
    },
    {
     "name": "stderr",
     "output_type": "stream",
     "text": [
      "26-Mar-25 14:57:39 - Saving results to results/processed_texts.csv\n",
      "26-Mar-25 14:57:41 - Starting to process\n"
     ]
    },
    {
     "data": {
      "application/vnd.jupyter.widget-view+json": {
       "model_id": "e1f99a2827ea4dcba323589f3b1d2bc9",
       "version_major": 2,
       "version_minor": 0
      },
      "text/plain": [
       "Processing texts:   0%|          | 0/1 [00:00<?, ?it/s]"
      ]
     },
     "metadata": {},
     "output_type": "display_data"
    },
    {
     "name": "stderr",
     "output_type": "stream",
     "text": [
      "26-Mar-25 14:57:41 - Saving results to results/processed_texts.csv\n",
      "26-Mar-25 14:57:43 - Starting to process\n"
     ]
    },
    {
     "data": {
      "application/vnd.jupyter.widget-view+json": {
       "model_id": "6e1969bc4c4b4cb5a695c9b732485686",
       "version_major": 2,
       "version_minor": 0
      },
      "text/plain": [
       "Processing texts:   0%|          | 0/1 [00:00<?, ?it/s]"
      ]
     },
     "metadata": {},
     "output_type": "display_data"
    },
    {
     "name": "stderr",
     "output_type": "stream",
     "text": [
      "26-Mar-25 14:57:44 - Saving results to results/processed_texts.csv\n",
      "26-Mar-25 14:57:45 - Starting to process\n"
     ]
    },
    {
     "data": {
      "application/vnd.jupyter.widget-view+json": {
       "model_id": "8568106588894ad2bc7efd5470c109e8",
       "version_major": 2,
       "version_minor": 0
      },
      "text/plain": [
       "Processing texts:   0%|          | 0/1 [00:00<?, ?it/s]"
      ]
     },
     "metadata": {},
     "output_type": "display_data"
    },
    {
     "name": "stderr",
     "output_type": "stream",
     "text": [
      "26-Mar-25 14:57:46 - Saving results to results/processed_texts.csv\n",
      "26-Mar-25 14:57:48 - Starting to process\n"
     ]
    },
    {
     "data": {
      "application/vnd.jupyter.widget-view+json": {
       "model_id": "1d23016f851e411da6cfb8d329693d4e",
       "version_major": 2,
       "version_minor": 0
      },
      "text/plain": [
       "Processing texts:   0%|          | 0/1 [00:00<?, ?it/s]"
      ]
     },
     "metadata": {},
     "output_type": "display_data"
    },
    {
     "name": "stderr",
     "output_type": "stream",
     "text": [
      "26-Mar-25 14:57:49 - Saving results to results/processed_texts.csv\n",
      "26-Mar-25 14:57:50 - Starting to process\n"
     ]
    },
    {
     "data": {
      "application/vnd.jupyter.widget-view+json": {
       "model_id": "77e02296f06849cfad21dd7d2d1cff12",
       "version_major": 2,
       "version_minor": 0
      },
      "text/plain": [
       "Processing texts:   0%|          | 0/1 [00:00<?, ?it/s]"
      ]
     },
     "metadata": {},
     "output_type": "display_data"
    },
    {
     "name": "stderr",
     "output_type": "stream",
     "text": [
      "26-Mar-25 14:57:50 - Saving results to results/processed_texts.csv\n",
      "26-Mar-25 14:57:52 - Starting to process\n"
     ]
    },
    {
     "data": {
      "application/vnd.jupyter.widget-view+json": {
       "model_id": "a47749dc8d324d16830dd53ad26e38d4",
       "version_major": 2,
       "version_minor": 0
      },
      "text/plain": [
       "Processing texts:   0%|          | 0/1 [00:00<?, ?it/s]"
      ]
     },
     "metadata": {},
     "output_type": "display_data"
    },
    {
     "name": "stderr",
     "output_type": "stream",
     "text": [
      "26-Mar-25 14:57:53 - Saving results to results/processed_texts.csv\n",
      "26-Mar-25 14:57:54 - Starting to process\n"
     ]
    },
    {
     "data": {
      "application/vnd.jupyter.widget-view+json": {
       "model_id": "f7c607d930e24bf79274f5caccf65fa0",
       "version_major": 2,
       "version_minor": 0
      },
      "text/plain": [
       "Processing texts:   0%|          | 0/1 [00:00<?, ?it/s]"
      ]
     },
     "metadata": {},
     "output_type": "display_data"
    },
    {
     "name": "stderr",
     "output_type": "stream",
     "text": [
      "26-Mar-25 14:57:55 - Saving results to results/processed_texts.csv\n",
      "26-Mar-25 14:57:56 - Starting to process\n"
     ]
    },
    {
     "data": {
      "application/vnd.jupyter.widget-view+json": {
       "model_id": "f285dad26d2c40e1afe9adcfd60ec463",
       "version_major": 2,
       "version_minor": 0
      },
      "text/plain": [
       "Processing texts:   0%|          | 0/1 [00:00<?, ?it/s]"
      ]
     },
     "metadata": {},
     "output_type": "display_data"
    },
    {
     "name": "stderr",
     "output_type": "stream",
     "text": [
      "26-Mar-25 14:57:56 - Saving results to results/processed_texts.csv\n",
      "26-Mar-25 14:57:58 - Starting to process\n"
     ]
    },
    {
     "data": {
      "application/vnd.jupyter.widget-view+json": {
       "model_id": "6007a707b472488e8f979341fd95a8b3",
       "version_major": 2,
       "version_minor": 0
      },
      "text/plain": [
       "Processing texts:   0%|          | 0/1 [00:00<?, ?it/s]"
      ]
     },
     "metadata": {},
     "output_type": "display_data"
    },
    {
     "name": "stderr",
     "output_type": "stream",
     "text": [
      "26-Mar-25 14:57:59 - Saving results to results/processed_texts.csv\n",
      "26-Mar-25 14:58:00 - Starting to process\n"
     ]
    },
    {
     "data": {
      "application/vnd.jupyter.widget-view+json": {
       "model_id": "cd154036464d4c0cb6910d2cbb50c485",
       "version_major": 2,
       "version_minor": 0
      },
      "text/plain": [
       "Processing texts:   0%|          | 0/1 [00:00<?, ?it/s]"
      ]
     },
     "metadata": {},
     "output_type": "display_data"
    },
    {
     "name": "stderr",
     "output_type": "stream",
     "text": [
      "26-Mar-25 14:58:00 - Saving results to results/processed_texts.csv\n",
      "26-Mar-25 14:58:01 - Starting to process\n"
     ]
    },
    {
     "data": {
      "application/vnd.jupyter.widget-view+json": {
       "model_id": "341b77aa12be44e5a2e6f635f4810887",
       "version_major": 2,
       "version_minor": 0
      },
      "text/plain": [
       "Processing texts:   0%|          | 0/1 [00:00<?, ?it/s]"
      ]
     },
     "metadata": {},
     "output_type": "display_data"
    },
    {
     "name": "stderr",
     "output_type": "stream",
     "text": [
      "26-Mar-25 14:58:02 - Saving results to results/processed_texts.csv\n",
      "26-Mar-25 14:58:03 - Starting to process\n"
     ]
    },
    {
     "data": {
      "application/vnd.jupyter.widget-view+json": {
       "model_id": "a56a03b5b14a4c18a04d8eeccf2af5e1",
       "version_major": 2,
       "version_minor": 0
      },
      "text/plain": [
       "Processing texts:   0%|          | 0/1 [00:00<?, ?it/s]"
      ]
     },
     "metadata": {},
     "output_type": "display_data"
    },
    {
     "name": "stderr",
     "output_type": "stream",
     "text": [
      "26-Mar-25 14:58:04 - Saving results to results/processed_texts.csv\n",
      "26-Mar-25 14:58:05 - Starting to process\n"
     ]
    },
    {
     "data": {
      "application/vnd.jupyter.widget-view+json": {
       "model_id": "cbf1521a87d74cb1b7dad2d52c8c0bb9",
       "version_major": 2,
       "version_minor": 0
      },
      "text/plain": [
       "Processing texts:   0%|          | 0/1 [00:00<?, ?it/s]"
      ]
     },
     "metadata": {},
     "output_type": "display_data"
    },
    {
     "name": "stderr",
     "output_type": "stream",
     "text": [
      "26-Mar-25 14:58:06 - Saving results to results/processed_texts.csv\n",
      "26-Mar-25 14:58:08 - Starting to process\n"
     ]
    },
    {
     "data": {
      "application/vnd.jupyter.widget-view+json": {
       "model_id": "73c22ad77fa449cd8020777a3c50ff65",
       "version_major": 2,
       "version_minor": 0
      },
      "text/plain": [
       "Processing texts:   0%|          | 0/1 [00:00<?, ?it/s]"
      ]
     },
     "metadata": {},
     "output_type": "display_data"
    },
    {
     "name": "stderr",
     "output_type": "stream",
     "text": [
      "26-Mar-25 14:58:08 - Saving results to results/processed_texts.csv\n",
      "26-Mar-25 14:58:10 - Starting to process\n"
     ]
    },
    {
     "data": {
      "application/vnd.jupyter.widget-view+json": {
       "model_id": "4e751d699ca74fd78e088a0b96b49875",
       "version_major": 2,
       "version_minor": 0
      },
      "text/plain": [
       "Processing texts:   0%|          | 0/1 [00:00<?, ?it/s]"
      ]
     },
     "metadata": {},
     "output_type": "display_data"
    },
    {
     "name": "stderr",
     "output_type": "stream",
     "text": [
      "26-Mar-25 14:58:10 - Saving results to results/processed_texts.csv\n",
      "26-Mar-25 14:58:12 - Starting to process\n"
     ]
    },
    {
     "data": {
      "application/vnd.jupyter.widget-view+json": {
       "model_id": "cd4f0359e03d4dd7a3ca0f7078e0650d",
       "version_major": 2,
       "version_minor": 0
      },
      "text/plain": [
       "Processing texts:   0%|          | 0/1 [00:00<?, ?it/s]"
      ]
     },
     "metadata": {},
     "output_type": "display_data"
    },
    {
     "name": "stderr",
     "output_type": "stream",
     "text": [
      "26-Mar-25 14:58:13 - Saving results to results/processed_texts.csv\n",
      "26-Mar-25 14:58:15 - Starting to process\n"
     ]
    },
    {
     "data": {
      "application/vnd.jupyter.widget-view+json": {
       "model_id": "3f54af55877a4ab4863050fa77303a9d",
       "version_major": 2,
       "version_minor": 0
      },
      "text/plain": [
       "Processing texts:   0%|          | 0/1 [00:00<?, ?it/s]"
      ]
     },
     "metadata": {},
     "output_type": "display_data"
    },
    {
     "name": "stderr",
     "output_type": "stream",
     "text": [
      "26-Mar-25 14:58:16 - Saving results to results/processed_texts.csv\n",
      "26-Mar-25 14:58:18 - Starting to process\n"
     ]
    },
    {
     "data": {
      "application/vnd.jupyter.widget-view+json": {
       "model_id": "6de5e4de50354e8c92856b93b09e85d5",
       "version_major": 2,
       "version_minor": 0
      },
      "text/plain": [
       "Processing texts:   0%|          | 0/1 [00:00<?, ?it/s]"
      ]
     },
     "metadata": {},
     "output_type": "display_data"
    },
    {
     "name": "stderr",
     "output_type": "stream",
     "text": [
      "26-Mar-25 14:58:20 - Saving results to results/processed_texts.csv\n",
      "26-Mar-25 14:58:22 - Starting to process\n"
     ]
    },
    {
     "data": {
      "application/vnd.jupyter.widget-view+json": {
       "model_id": "1fa78a487bdf4a38bc9566a5d33d6876",
       "version_major": 2,
       "version_minor": 0
      },
      "text/plain": [
       "Processing texts:   0%|          | 0/1 [00:00<?, ?it/s]"
      ]
     },
     "metadata": {},
     "output_type": "display_data"
    },
    {
     "name": "stderr",
     "output_type": "stream",
     "text": [
      "26-Mar-25 14:58:23 - Saving results to results/processed_texts.csv\n",
      "26-Mar-25 14:58:26 - Starting to process\n"
     ]
    },
    {
     "data": {
      "application/vnd.jupyter.widget-view+json": {
       "model_id": "85dbdce83def4a3aa9a0e214ea072096",
       "version_major": 2,
       "version_minor": 0
      },
      "text/plain": [
       "Processing texts:   0%|          | 0/1 [00:00<?, ?it/s]"
      ]
     },
     "metadata": {},
     "output_type": "display_data"
    },
    {
     "name": "stderr",
     "output_type": "stream",
     "text": [
      "26-Mar-25 14:58:27 - Saving results to results/processed_texts.csv\n",
      "26-Mar-25 14:58:29 - Starting to process\n"
     ]
    },
    {
     "data": {
      "application/vnd.jupyter.widget-view+json": {
       "model_id": "a765bc362d8642349bb8e6fcba212213",
       "version_major": 2,
       "version_minor": 0
      },
      "text/plain": [
       "Processing texts:   0%|          | 0/1 [00:00<?, ?it/s]"
      ]
     },
     "metadata": {},
     "output_type": "display_data"
    },
    {
     "name": "stderr",
     "output_type": "stream",
     "text": [
      "26-Mar-25 14:58:31 - Saving results to results/processed_texts.csv\n",
      "26-Mar-25 14:58:33 - Starting to process\n"
     ]
    },
    {
     "data": {
      "application/vnd.jupyter.widget-view+json": {
       "model_id": "5249178a2f144ad8b9f3ae61d4ebd87f",
       "version_major": 2,
       "version_minor": 0
      },
      "text/plain": [
       "Processing texts:   0%|          | 0/1 [00:00<?, ?it/s]"
      ]
     },
     "metadata": {},
     "output_type": "display_data"
    },
    {
     "name": "stderr",
     "output_type": "stream",
     "text": [
      "26-Mar-25 14:58:35 - Saving results to results/processed_texts.csv\n",
      "26-Mar-25 14:58:37 - Starting to process\n"
     ]
    },
    {
     "data": {
      "application/vnd.jupyter.widget-view+json": {
       "model_id": "7c1c15d81a8548abb5bc629ad0a5b6ed",
       "version_major": 2,
       "version_minor": 0
      },
      "text/plain": [
       "Processing texts:   0%|          | 0/1 [00:00<?, ?it/s]"
      ]
     },
     "metadata": {},
     "output_type": "display_data"
    },
    {
     "name": "stderr",
     "output_type": "stream",
     "text": [
      "26-Mar-25 14:58:38 - Saving results to results/processed_texts.csv\n",
      "26-Mar-25 14:58:40 - Starting to process\n"
     ]
    },
    {
     "data": {
      "application/vnd.jupyter.widget-view+json": {
       "model_id": "ccfebfb0f6774064980ef616109a07e5",
       "version_major": 2,
       "version_minor": 0
      },
      "text/plain": [
       "Processing texts:   0%|          | 0/1 [00:00<?, ?it/s]"
      ]
     },
     "metadata": {},
     "output_type": "display_data"
    },
    {
     "name": "stderr",
     "output_type": "stream",
     "text": [
      "26-Mar-25 14:58:42 - Saving results to results/processed_texts.csv\n",
      "26-Mar-25 14:58:44 - Starting to process\n"
     ]
    },
    {
     "data": {
      "application/vnd.jupyter.widget-view+json": {
       "model_id": "e06134a7c82942eab6dd644b6c246af8",
       "version_major": 2,
       "version_minor": 0
      },
      "text/plain": [
       "Processing texts:   0%|          | 0/1 [00:00<?, ?it/s]"
      ]
     },
     "metadata": {},
     "output_type": "display_data"
    },
    {
     "name": "stderr",
     "output_type": "stream",
     "text": [
      "26-Mar-25 14:58:45 - Saving results to results/processed_texts.csv\n",
      "26-Mar-25 14:58:47 - Starting to process\n"
     ]
    },
    {
     "data": {
      "application/vnd.jupyter.widget-view+json": {
       "model_id": "d4d1c69194aa417ea49af4e195a9368b",
       "version_major": 2,
       "version_minor": 0
      },
      "text/plain": [
       "Processing texts:   0%|          | 0/1 [00:00<?, ?it/s]"
      ]
     },
     "metadata": {},
     "output_type": "display_data"
    },
    {
     "name": "stderr",
     "output_type": "stream",
     "text": [
      "26-Mar-25 14:58:48 - Saving results to results/processed_texts.csv\n",
      "26-Mar-25 14:58:50 - Starting to process\n"
     ]
    },
    {
     "data": {
      "application/vnd.jupyter.widget-view+json": {
       "model_id": "cabc29051a2b4897b45ac625fbb3406e",
       "version_major": 2,
       "version_minor": 0
      },
      "text/plain": [
       "Processing texts:   0%|          | 0/1 [00:00<?, ?it/s]"
      ]
     },
     "metadata": {},
     "output_type": "display_data"
    },
    {
     "name": "stderr",
     "output_type": "stream",
     "text": [
      "26-Mar-25 14:58:51 - Saving results to results/processed_texts.csv\n",
      "26-Mar-25 14:58:52 - Starting to process\n"
     ]
    },
    {
     "data": {
      "application/vnd.jupyter.widget-view+json": {
       "model_id": "cfc3c4b0a5494ecabf5451424409f044",
       "version_major": 2,
       "version_minor": 0
      },
      "text/plain": [
       "Processing texts:   0%|          | 0/1 [00:00<?, ?it/s]"
      ]
     },
     "metadata": {},
     "output_type": "display_data"
    },
    {
     "name": "stderr",
     "output_type": "stream",
     "text": [
      "26-Mar-25 14:58:54 - Saving results to results/processed_texts.csv\n",
      "26-Mar-25 14:58:55 - Starting to process\n"
     ]
    },
    {
     "data": {
      "application/vnd.jupyter.widget-view+json": {
       "model_id": "c03734470e63475dbd79bac25df7e5d4",
       "version_major": 2,
       "version_minor": 0
      },
      "text/plain": [
       "Processing texts:   0%|          | 0/1 [00:00<?, ?it/s]"
      ]
     },
     "metadata": {},
     "output_type": "display_data"
    },
    {
     "name": "stderr",
     "output_type": "stream",
     "text": [
      "26-Mar-25 14:58:56 - Saving results to results/processed_texts.csv\n",
      "26-Mar-25 14:58:58 - Starting to process\n"
     ]
    },
    {
     "data": {
      "application/vnd.jupyter.widget-view+json": {
       "model_id": "f418dab630ab47bcbfb2877031d97b19",
       "version_major": 2,
       "version_minor": 0
      },
      "text/plain": [
       "Processing texts:   0%|          | 0/1 [00:00<?, ?it/s]"
      ]
     },
     "metadata": {},
     "output_type": "display_data"
    },
    {
     "name": "stderr",
     "output_type": "stream",
     "text": [
      "26-Mar-25 14:58:59 - Saving results to results/processed_texts.csv\n",
      "26-Mar-25 14:59:00 - Starting to process\n"
     ]
    },
    {
     "data": {
      "application/vnd.jupyter.widget-view+json": {
       "model_id": "923d5caf3f1d4b639b3cfa919e537191",
       "version_major": 2,
       "version_minor": 0
      },
      "text/plain": [
       "Processing texts:   0%|          | 0/1 [00:00<?, ?it/s]"
      ]
     },
     "metadata": {},
     "output_type": "display_data"
    },
    {
     "name": "stderr",
     "output_type": "stream",
     "text": [
      "26-Mar-25 14:59:01 - Saving results to results/processed_texts.csv\n",
      "26-Mar-25 14:59:02 - Starting to process\n"
     ]
    },
    {
     "data": {
      "application/vnd.jupyter.widget-view+json": {
       "model_id": "30f48747ef034a73a4fd28949da80904",
       "version_major": 2,
       "version_minor": 0
      },
      "text/plain": [
       "Processing texts:   0%|          | 0/1 [00:00<?, ?it/s]"
      ]
     },
     "metadata": {},
     "output_type": "display_data"
    },
    {
     "name": "stderr",
     "output_type": "stream",
     "text": [
      "26-Mar-25 14:59:03 - Saving results to results/processed_texts.csv\n",
      "26-Mar-25 14:59:04 - Starting to process\n"
     ]
    },
    {
     "data": {
      "application/vnd.jupyter.widget-view+json": {
       "model_id": "2dcbea574415450994160896de72b9fd",
       "version_major": 2,
       "version_minor": 0
      },
      "text/plain": [
       "Processing texts:   0%|          | 0/1 [00:00<?, ?it/s]"
      ]
     },
     "metadata": {},
     "output_type": "display_data"
    },
    {
     "name": "stderr",
     "output_type": "stream",
     "text": [
      "26-Mar-25 14:59:05 - Saving results to results/processed_texts.csv\n",
      "26-Mar-25 14:59:08 - Starting to process\n"
     ]
    },
    {
     "data": {
      "application/vnd.jupyter.widget-view+json": {
       "model_id": "b017a88509e84599bf615041e4ccadfa",
       "version_major": 2,
       "version_minor": 0
      },
      "text/plain": [
       "Processing texts:   0%|          | 0/1 [00:00<?, ?it/s]"
      ]
     },
     "metadata": {},
     "output_type": "display_data"
    },
    {
     "name": "stderr",
     "output_type": "stream",
     "text": [
      "26-Mar-25 14:59:09 - Saving results to results/processed_texts.csv\n",
      "26-Mar-25 14:59:11 - Starting to process\n"
     ]
    },
    {
     "data": {
      "application/vnd.jupyter.widget-view+json": {
       "model_id": "8e848ee8d5554e2a82052d4b42ac4b59",
       "version_major": 2,
       "version_minor": 0
      },
      "text/plain": [
       "Processing texts:   0%|          | 0/1 [00:00<?, ?it/s]"
      ]
     },
     "metadata": {},
     "output_type": "display_data"
    },
    {
     "name": "stderr",
     "output_type": "stream",
     "text": [
      "26-Mar-25 14:59:13 - Saving results to results/processed_texts.csv\n",
      "26-Mar-25 14:59:15 - Starting to process\n"
     ]
    },
    {
     "data": {
      "application/vnd.jupyter.widget-view+json": {
       "model_id": "8274f77dd45b49848e22a50a7fb6971f",
       "version_major": 2,
       "version_minor": 0
      },
      "text/plain": [
       "Processing texts:   0%|          | 0/1 [00:00<?, ?it/s]"
      ]
     },
     "metadata": {},
     "output_type": "display_data"
    },
    {
     "name": "stderr",
     "output_type": "stream",
     "text": [
      "26-Mar-25 14:59:16 - Saving results to results/processed_texts.csv\n",
      "26-Mar-25 14:59:18 - Starting to process\n"
     ]
    },
    {
     "data": {
      "application/vnd.jupyter.widget-view+json": {
       "model_id": "149c7342a55040ffa3858fd3e6e41a80",
       "version_major": 2,
       "version_minor": 0
      },
      "text/plain": [
       "Processing texts:   0%|          | 0/1 [00:00<?, ?it/s]"
      ]
     },
     "metadata": {},
     "output_type": "display_data"
    },
    {
     "name": "stderr",
     "output_type": "stream",
     "text": [
      "26-Mar-25 14:59:20 - Saving results to results/processed_texts.csv\n",
      "26-Mar-25 14:59:23 - Starting to process\n"
     ]
    },
    {
     "data": {
      "application/vnd.jupyter.widget-view+json": {
       "model_id": "cf37838f117446ef86dd7ec1a1d74648",
       "version_major": 2,
       "version_minor": 0
      },
      "text/plain": [
       "Processing texts:   0%|          | 0/1 [00:00<?, ?it/s]"
      ]
     },
     "metadata": {},
     "output_type": "display_data"
    },
    {
     "name": "stderr",
     "output_type": "stream",
     "text": [
      "26-Mar-25 14:59:23 - Saving results to results/processed_texts.csv\n",
      "26-Mar-25 14:59:26 - Starting to process\n"
     ]
    },
    {
     "data": {
      "application/vnd.jupyter.widget-view+json": {
       "model_id": "e52c378cc19240cb85225856d546be23",
       "version_major": 2,
       "version_minor": 0
      },
      "text/plain": [
       "Processing texts:   0%|          | 0/1 [00:00<?, ?it/s]"
      ]
     },
     "metadata": {},
     "output_type": "display_data"
    },
    {
     "name": "stderr",
     "output_type": "stream",
     "text": [
      "26-Mar-25 14:59:27 - Saving results to results/processed_texts.csv\n",
      "26-Mar-25 14:59:29 - Starting to process\n"
     ]
    },
    {
     "data": {
      "application/vnd.jupyter.widget-view+json": {
       "model_id": "c174fb865c564389b8e36db74a63a666",
       "version_major": 2,
       "version_minor": 0
      },
      "text/plain": [
       "Processing texts:   0%|          | 0/1 [00:00<?, ?it/s]"
      ]
     },
     "metadata": {},
     "output_type": "display_data"
    },
    {
     "name": "stderr",
     "output_type": "stream",
     "text": [
      "26-Mar-25 14:59:31 - Saving results to results/processed_texts.csv\n",
      "26-Mar-25 14:59:33 - Starting to process\n"
     ]
    },
    {
     "data": {
      "application/vnd.jupyter.widget-view+json": {
       "model_id": "3f31ee4b49234710bb723234d6adefc6",
       "version_major": 2,
       "version_minor": 0
      },
      "text/plain": [
       "Processing texts:   0%|          | 0/1 [00:00<?, ?it/s]"
      ]
     },
     "metadata": {},
     "output_type": "display_data"
    },
    {
     "name": "stderr",
     "output_type": "stream",
     "text": [
      "26-Mar-25 14:59:35 - Saving results to results/processed_texts.csv\n",
      "26-Mar-25 14:59:37 - Starting to process\n"
     ]
    },
    {
     "data": {
      "application/vnd.jupyter.widget-view+json": {
       "model_id": "458406f28236496281a525a319007ed2",
       "version_major": 2,
       "version_minor": 0
      },
      "text/plain": [
       "Processing texts:   0%|          | 0/1 [00:00<?, ?it/s]"
      ]
     },
     "metadata": {},
     "output_type": "display_data"
    },
    {
     "name": "stderr",
     "output_type": "stream",
     "text": [
      "26-Mar-25 14:59:38 - Saving results to results/processed_texts.csv\n",
      "26-Mar-25 14:59:40 - Starting to process\n"
     ]
    },
    {
     "data": {
      "application/vnd.jupyter.widget-view+json": {
       "model_id": "4a788c58c61443aba641054c5a9227a6",
       "version_major": 2,
       "version_minor": 0
      },
      "text/plain": [
       "Processing texts:   0%|          | 0/1 [00:00<?, ?it/s]"
      ]
     },
     "metadata": {},
     "output_type": "display_data"
    },
    {
     "name": "stderr",
     "output_type": "stream",
     "text": [
      "26-Mar-25 14:59:42 - Saving results to results/processed_texts.csv\n",
      "26-Mar-25 14:59:45 - Starting to process\n"
     ]
    },
    {
     "data": {
      "application/vnd.jupyter.widget-view+json": {
       "model_id": "e20cd1d7c2ec4a14922d63d09f775a6f",
       "version_major": 2,
       "version_minor": 0
      },
      "text/plain": [
       "Processing texts:   0%|          | 0/1 [00:00<?, ?it/s]"
      ]
     },
     "metadata": {},
     "output_type": "display_data"
    },
    {
     "name": "stderr",
     "output_type": "stream",
     "text": [
      "26-Mar-25 14:59:46 - Saving results to results/processed_texts.csv\n",
      "26-Mar-25 14:59:48 - Starting to process\n"
     ]
    },
    {
     "data": {
      "application/vnd.jupyter.widget-view+json": {
       "model_id": "e7b97177523446079e65c3b6d4e13b14",
       "version_major": 2,
       "version_minor": 0
      },
      "text/plain": [
       "Processing texts:   0%|          | 0/1 [00:00<?, ?it/s]"
      ]
     },
     "metadata": {},
     "output_type": "display_data"
    },
    {
     "name": "stderr",
     "output_type": "stream",
     "text": [
      "26-Mar-25 14:59:50 - Saving results to results/processed_texts.csv\n",
      "26-Mar-25 14:59:53 - Starting to process\n"
     ]
    },
    {
     "data": {
      "application/vnd.jupyter.widget-view+json": {
       "model_id": "11f9366f1a604786b7e951a57c624e6e",
       "version_major": 2,
       "version_minor": 0
      },
      "text/plain": [
       "Processing texts:   0%|          | 0/1 [00:00<?, ?it/s]"
      ]
     },
     "metadata": {},
     "output_type": "display_data"
    },
    {
     "name": "stderr",
     "output_type": "stream",
     "text": [
      "26-Mar-25 14:59:54 - Saving results to results/processed_texts.csv\n",
      "26-Mar-25 14:59:56 - Starting to process\n"
     ]
    },
    {
     "data": {
      "application/vnd.jupyter.widget-view+json": {
       "model_id": "4315009df53c4fb8b4645eb7c05c75e4",
       "version_major": 2,
       "version_minor": 0
      },
      "text/plain": [
       "Processing texts:   0%|          | 0/1 [00:00<?, ?it/s]"
      ]
     },
     "metadata": {},
     "output_type": "display_data"
    },
    {
     "name": "stderr",
     "output_type": "stream",
     "text": [
      "26-Mar-25 14:59:58 - Saving results to results/processed_texts.csv\n",
      "26-Mar-25 15:00:01 - Starting to process\n"
     ]
    },
    {
     "data": {
      "application/vnd.jupyter.widget-view+json": {
       "model_id": "11dd4820a6764c53b659969d547e1062",
       "version_major": 2,
       "version_minor": 0
      },
      "text/plain": [
       "Processing texts:   0%|          | 0/1 [00:00<?, ?it/s]"
      ]
     },
     "metadata": {},
     "output_type": "display_data"
    },
    {
     "name": "stderr",
     "output_type": "stream",
     "text": [
      "26-Mar-25 15:00:02 - Saving results to results/processed_texts.csv\n",
      "26-Mar-25 15:00:04 - Starting to process\n"
     ]
    },
    {
     "data": {
      "application/vnd.jupyter.widget-view+json": {
       "model_id": "aa09a774a378416d8289519fcb216b8a",
       "version_major": 2,
       "version_minor": 0
      },
      "text/plain": [
       "Processing texts:   0%|          | 0/1 [00:00<?, ?it/s]"
      ]
     },
     "metadata": {},
     "output_type": "display_data"
    },
    {
     "name": "stderr",
     "output_type": "stream",
     "text": [
      "26-Mar-25 15:00:06 - Saving results to results/processed_texts.csv\n",
      "26-Mar-25 15:00:08 - Starting to process\n"
     ]
    },
    {
     "data": {
      "application/vnd.jupyter.widget-view+json": {
       "model_id": "6e896e4171b0430798814102cfdc0dac",
       "version_major": 2,
       "version_minor": 0
      },
      "text/plain": [
       "Processing texts:   0%|          | 0/1 [00:00<?, ?it/s]"
      ]
     },
     "metadata": {},
     "output_type": "display_data"
    },
    {
     "name": "stderr",
     "output_type": "stream",
     "text": [
      "26-Mar-25 15:00:10 - Saving results to results/processed_texts.csv\n",
      "26-Mar-25 15:00:12 - Starting to process\n"
     ]
    },
    {
     "data": {
      "application/vnd.jupyter.widget-view+json": {
       "model_id": "3d6aa43171b740dea523dfbf4fcf74ae",
       "version_major": 2,
       "version_minor": 0
      },
      "text/plain": [
       "Processing texts:   0%|          | 0/1 [00:00<?, ?it/s]"
      ]
     },
     "metadata": {},
     "output_type": "display_data"
    },
    {
     "name": "stderr",
     "output_type": "stream",
     "text": [
      "26-Mar-25 15:00:14 - Saving results to results/processed_texts.csv\n",
      "26-Mar-25 15:00:16 - Starting to process\n"
     ]
    },
    {
     "data": {
      "application/vnd.jupyter.widget-view+json": {
       "model_id": "f7451f38e23747f0b5919fa91fbc837f",
       "version_major": 2,
       "version_minor": 0
      },
      "text/plain": [
       "Processing texts:   0%|          | 0/1 [00:00<?, ?it/s]"
      ]
     },
     "metadata": {},
     "output_type": "display_data"
    },
    {
     "name": "stderr",
     "output_type": "stream",
     "text": [
      "26-Mar-25 15:00:17 - Saving results to results/processed_texts.csv\n",
      "26-Mar-25 15:00:19 - Starting to process\n"
     ]
    },
    {
     "data": {
      "application/vnd.jupyter.widget-view+json": {
       "model_id": "c24d1ae1b67e48a589ef3f97fec3e4d0",
       "version_major": 2,
       "version_minor": 0
      },
      "text/plain": [
       "Processing texts:   0%|          | 0/1 [00:00<?, ?it/s]"
      ]
     },
     "metadata": {},
     "output_type": "display_data"
    },
    {
     "name": "stderr",
     "output_type": "stream",
     "text": [
      "26-Mar-25 15:00:20 - Saving results to results/processed_texts.csv\n",
      "26-Mar-25 15:00:22 - Starting to process\n"
     ]
    },
    {
     "data": {
      "application/vnd.jupyter.widget-view+json": {
       "model_id": "f6798a45fd5841a89d9eb6250e57ce4d",
       "version_major": 2,
       "version_minor": 0
      },
      "text/plain": [
       "Processing texts:   0%|          | 0/1 [00:00<?, ?it/s]"
      ]
     },
     "metadata": {},
     "output_type": "display_data"
    },
    {
     "name": "stderr",
     "output_type": "stream",
     "text": [
      "26-Mar-25 15:00:24 - Saving results to results/processed_texts.csv\n",
      "26-Mar-25 15:00:26 - Starting to process\n"
     ]
    },
    {
     "data": {
      "application/vnd.jupyter.widget-view+json": {
       "model_id": "fb45477a4d3146e28bff7b82e3318739",
       "version_major": 2,
       "version_minor": 0
      },
      "text/plain": [
       "Processing texts:   0%|          | 0/1 [00:00<?, ?it/s]"
      ]
     },
     "metadata": {},
     "output_type": "display_data"
    },
    {
     "name": "stderr",
     "output_type": "stream",
     "text": [
      "26-Mar-25 15:00:29 - Saving results to results/processed_texts.csv\n",
      "26-Mar-25 15:00:31 - Starting to process\n"
     ]
    },
    {
     "data": {
      "application/vnd.jupyter.widget-view+json": {
       "model_id": "e565e27f1d144e88b91cc83271f03055",
       "version_major": 2,
       "version_minor": 0
      },
      "text/plain": [
       "Processing texts:   0%|          | 0/1 [00:00<?, ?it/s]"
      ]
     },
     "metadata": {},
     "output_type": "display_data"
    },
    {
     "name": "stderr",
     "output_type": "stream",
     "text": [
      "26-Mar-25 15:00:34 - Saving results to results/processed_texts.csv\n",
      "26-Mar-25 15:00:36 - Starting to process\n"
     ]
    },
    {
     "data": {
      "application/vnd.jupyter.widget-view+json": {
       "model_id": "f64434db2ead4ff780dfa11776dc5e94",
       "version_major": 2,
       "version_minor": 0
      },
      "text/plain": [
       "Processing texts:   0%|          | 0/1 [00:00<?, ?it/s]"
      ]
     },
     "metadata": {},
     "output_type": "display_data"
    },
    {
     "name": "stderr",
     "output_type": "stream",
     "text": [
      "26-Mar-25 15:00:38 - Saving results to results/processed_texts.csv\n",
      "26-Mar-25 15:00:40 - Starting to process\n"
     ]
    },
    {
     "data": {
      "application/vnd.jupyter.widget-view+json": {
       "model_id": "ab3125e7cec74b89aa38ada98b0d5e0b",
       "version_major": 2,
       "version_minor": 0
      },
      "text/plain": [
       "Processing texts:   0%|          | 0/1 [00:00<?, ?it/s]"
      ]
     },
     "metadata": {},
     "output_type": "display_data"
    },
    {
     "name": "stderr",
     "output_type": "stream",
     "text": [
      "26-Mar-25 15:00:42 - Saving results to results/processed_texts.csv\n",
      "26-Mar-25 15:00:44 - Starting to process\n"
     ]
    },
    {
     "data": {
      "application/vnd.jupyter.widget-view+json": {
       "model_id": "c05d971edef649b191638de8fe589186",
       "version_major": 2,
       "version_minor": 0
      },
      "text/plain": [
       "Processing texts:   0%|          | 0/1 [00:00<?, ?it/s]"
      ]
     },
     "metadata": {},
     "output_type": "display_data"
    },
    {
     "name": "stderr",
     "output_type": "stream",
     "text": [
      "26-Mar-25 15:00:45 - Saving results to results/processed_texts.csv\n",
      "26-Mar-25 15:00:47 - Starting to process\n"
     ]
    },
    {
     "data": {
      "application/vnd.jupyter.widget-view+json": {
       "model_id": "29c35a133bb9419ea805cc3e74e6fa7c",
       "version_major": 2,
       "version_minor": 0
      },
      "text/plain": [
       "Processing texts:   0%|          | 0/1 [00:00<?, ?it/s]"
      ]
     },
     "metadata": {},
     "output_type": "display_data"
    },
    {
     "name": "stderr",
     "output_type": "stream",
     "text": [
      "26-Mar-25 15:00:48 - Saving results to results/processed_texts.csv\n",
      "26-Mar-25 15:00:51 - Starting to process\n"
     ]
    },
    {
     "data": {
      "application/vnd.jupyter.widget-view+json": {
       "model_id": "e7d9046cf4394cd5ac156efda2354ae2",
       "version_major": 2,
       "version_minor": 0
      },
      "text/plain": [
       "Processing texts:   0%|          | 0/1 [00:00<?, ?it/s]"
      ]
     },
     "metadata": {},
     "output_type": "display_data"
    },
    {
     "name": "stderr",
     "output_type": "stream",
     "text": [
      "26-Mar-25 15:00:54 - Saving results to results/processed_texts.csv\n",
      "26-Mar-25 15:00:56 - Starting to process\n"
     ]
    },
    {
     "data": {
      "application/vnd.jupyter.widget-view+json": {
       "model_id": "4750f8be65744b38b4a05cb757d740fb",
       "version_major": 2,
       "version_minor": 0
      },
      "text/plain": [
       "Processing texts:   0%|          | 0/1 [00:00<?, ?it/s]"
      ]
     },
     "metadata": {},
     "output_type": "display_data"
    },
    {
     "name": "stderr",
     "output_type": "stream",
     "text": [
      "26-Mar-25 15:00:57 - Saving results to results/processed_texts.csv\n",
      "26-Mar-25 15:00:58 - Starting to process\n"
     ]
    },
    {
     "data": {
      "application/vnd.jupyter.widget-view+json": {
       "model_id": "e6582134381e4b2197775af1ea9da019",
       "version_major": 2,
       "version_minor": 0
      },
      "text/plain": [
       "Processing texts:   0%|          | 0/1 [00:00<?, ?it/s]"
      ]
     },
     "metadata": {},
     "output_type": "display_data"
    },
    {
     "name": "stderr",
     "output_type": "stream",
     "text": [
      "26-Mar-25 15:00:59 - Saving results to results/processed_texts.csv\n",
      "26-Mar-25 15:01:00 - Starting to process\n"
     ]
    },
    {
     "data": {
      "application/vnd.jupyter.widget-view+json": {
       "model_id": "546cdb10fdd648f6843696ebbf0266b4",
       "version_major": 2,
       "version_minor": 0
      },
      "text/plain": [
       "Processing texts:   0%|          | 0/1 [00:00<?, ?it/s]"
      ]
     },
     "metadata": {},
     "output_type": "display_data"
    },
    {
     "name": "stderr",
     "output_type": "stream",
     "text": [
      "26-Mar-25 15:01:02 - Saving results to results/processed_texts.csv\n",
      "26-Mar-25 15:01:04 - Starting to process\n"
     ]
    },
    {
     "data": {
      "application/vnd.jupyter.widget-view+json": {
       "model_id": "c602aa30ddc8484bb37f6fdc46ada0f4",
       "version_major": 2,
       "version_minor": 0
      },
      "text/plain": [
       "Processing texts:   0%|          | 0/1 [00:00<?, ?it/s]"
      ]
     },
     "metadata": {},
     "output_type": "display_data"
    },
    {
     "name": "stderr",
     "output_type": "stream",
     "text": [
      "26-Mar-25 15:01:05 - Saving results to results/processed_texts.csv\n",
      "26-Mar-25 15:01:06 - Starting to process\n"
     ]
    },
    {
     "data": {
      "application/vnd.jupyter.widget-view+json": {
       "model_id": "3ff6634c7c6b449a968e7fc2235f7e59",
       "version_major": 2,
       "version_minor": 0
      },
      "text/plain": [
       "Processing texts:   0%|          | 0/1 [00:00<?, ?it/s]"
      ]
     },
     "metadata": {},
     "output_type": "display_data"
    },
    {
     "name": "stderr",
     "output_type": "stream",
     "text": [
      "26-Mar-25 15:01:07 - Saving results to results/processed_texts.csv\n",
      "26-Mar-25 15:01:09 - Starting to process\n"
     ]
    },
    {
     "data": {
      "application/vnd.jupyter.widget-view+json": {
       "model_id": "5e74b3f501014e1a80486cfebf0456a0",
       "version_major": 2,
       "version_minor": 0
      },
      "text/plain": [
       "Processing texts:   0%|          | 0/1 [00:00<?, ?it/s]"
      ]
     },
     "metadata": {},
     "output_type": "display_data"
    },
    {
     "name": "stderr",
     "output_type": "stream",
     "text": [
      "26-Mar-25 15:01:09 - Saving results to results/processed_texts.csv\n",
      "26-Mar-25 15:01:10 - Starting to process\n"
     ]
    },
    {
     "data": {
      "application/vnd.jupyter.widget-view+json": {
       "model_id": "3af4301a73824d5593c539a41946467d",
       "version_major": 2,
       "version_minor": 0
      },
      "text/plain": [
       "Processing texts:   0%|          | 0/1 [00:00<?, ?it/s]"
      ]
     },
     "metadata": {},
     "output_type": "display_data"
    },
    {
     "name": "stderr",
     "output_type": "stream",
     "text": [
      "26-Mar-25 15:01:10 - Saving results to results/processed_texts.csv\n",
      "26-Mar-25 15:01:11 - Starting to process\n"
     ]
    },
    {
     "data": {
      "application/vnd.jupyter.widget-view+json": {
       "model_id": "1205c1ac43254addbc2ab0b54b5ad669",
       "version_major": 2,
       "version_minor": 0
      },
      "text/plain": [
       "Processing texts:   0%|          | 0/1 [00:00<?, ?it/s]"
      ]
     },
     "metadata": {},
     "output_type": "display_data"
    },
    {
     "name": "stderr",
     "output_type": "stream",
     "text": [
      "26-Mar-25 15:01:11 - Saving results to results/processed_texts.csv\n",
      "26-Mar-25 15:01:12 - Starting to process\n"
     ]
    },
    {
     "data": {
      "application/vnd.jupyter.widget-view+json": {
       "model_id": "490a925ecf2840a7aad46230626d1ffa",
       "version_major": 2,
       "version_minor": 0
      },
      "text/plain": [
       "Processing texts:   0%|          | 0/1 [00:00<?, ?it/s]"
      ]
     },
     "metadata": {},
     "output_type": "display_data"
    },
    {
     "name": "stderr",
     "output_type": "stream",
     "text": [
      "26-Mar-25 15:01:13 - Saving results to results/processed_texts.csv\n",
      "26-Mar-25 15:01:13 - Starting to process\n"
     ]
    },
    {
     "data": {
      "application/vnd.jupyter.widget-view+json": {
       "model_id": "04ab34532ab04964bbf309d534dba6b4",
       "version_major": 2,
       "version_minor": 0
      },
      "text/plain": [
       "Processing texts:   0%|          | 0/1 [00:00<?, ?it/s]"
      ]
     },
     "metadata": {},
     "output_type": "display_data"
    },
    {
     "name": "stderr",
     "output_type": "stream",
     "text": [
      "26-Mar-25 15:01:14 - Saving results to results/processed_texts.csv\n",
      "26-Mar-25 15:01:14 - Starting to process\n"
     ]
    },
    {
     "data": {
      "application/vnd.jupyter.widget-view+json": {
       "model_id": "a5f9ca95c40e403db527e7041e54bfa5",
       "version_major": 2,
       "version_minor": 0
      },
      "text/plain": [
       "Processing texts:   0%|          | 0/1 [00:00<?, ?it/s]"
      ]
     },
     "metadata": {},
     "output_type": "display_data"
    },
    {
     "name": "stderr",
     "output_type": "stream",
     "text": [
      "26-Mar-25 15:01:14 - Saving results to results/processed_texts.csv\n",
      "26-Mar-25 15:01:15 - Starting to process\n"
     ]
    },
    {
     "data": {
      "application/vnd.jupyter.widget-view+json": {
       "model_id": "caa3f2b768bd4f169cd4e48adef46001",
       "version_major": 2,
       "version_minor": 0
      },
      "text/plain": [
       "Processing texts:   0%|          | 0/1 [00:00<?, ?it/s]"
      ]
     },
     "metadata": {},
     "output_type": "display_data"
    },
    {
     "name": "stderr",
     "output_type": "stream",
     "text": [
      "26-Mar-25 15:01:15 - Saving results to results/processed_texts.csv\n",
      "26-Mar-25 15:01:16 - Starting to process\n"
     ]
    },
    {
     "data": {
      "application/vnd.jupyter.widget-view+json": {
       "model_id": "c5b65cc8dacd42189578d4f8f52d6c0f",
       "version_major": 2,
       "version_minor": 0
      },
      "text/plain": [
       "Processing texts:   0%|          | 0/1 [00:00<?, ?it/s]"
      ]
     },
     "metadata": {},
     "output_type": "display_data"
    },
    {
     "name": "stderr",
     "output_type": "stream",
     "text": [
      "26-Mar-25 15:01:16 - Saving results to results/processed_texts.csv\n",
      "26-Mar-25 15:01:16 - Starting to process\n"
     ]
    },
    {
     "data": {
      "application/vnd.jupyter.widget-view+json": {
       "model_id": "fe598cfc0416449b964aae4218c916d1",
       "version_major": 2,
       "version_minor": 0
      },
      "text/plain": [
       "Processing texts:   0%|          | 0/1 [00:00<?, ?it/s]"
      ]
     },
     "metadata": {},
     "output_type": "display_data"
    },
    {
     "name": "stderr",
     "output_type": "stream",
     "text": [
      "26-Mar-25 15:01:17 - Saving results to results/processed_texts.csv\n",
      "26-Mar-25 15:01:18 - Starting to process\n"
     ]
    },
    {
     "data": {
      "application/vnd.jupyter.widget-view+json": {
       "model_id": "77db26fc37ac46c0a92a671621404b06",
       "version_major": 2,
       "version_minor": 0
      },
      "text/plain": [
       "Processing texts:   0%|          | 0/1 [00:00<?, ?it/s]"
      ]
     },
     "metadata": {},
     "output_type": "display_data"
    },
    {
     "name": "stderr",
     "output_type": "stream",
     "text": [
      "26-Mar-25 15:01:18 - Saving results to results/processed_texts.csv\n",
      "26-Mar-25 15:01:18 - Starting to process\n"
     ]
    },
    {
     "data": {
      "application/vnd.jupyter.widget-view+json": {
       "model_id": "50d02ecda88d4eaeac80457967308bdc",
       "version_major": 2,
       "version_minor": 0
      },
      "text/plain": [
       "Processing texts:   0%|          | 0/1 [00:00<?, ?it/s]"
      ]
     },
     "metadata": {},
     "output_type": "display_data"
    },
    {
     "name": "stderr",
     "output_type": "stream",
     "text": [
      "26-Mar-25 15:01:19 - Saving results to results/processed_texts.csv\n",
      "26-Mar-25 15:01:20 - Starting to process\n"
     ]
    },
    {
     "data": {
      "application/vnd.jupyter.widget-view+json": {
       "model_id": "3fe124eaf92241e39e7df8b70c556442",
       "version_major": 2,
       "version_minor": 0
      },
      "text/plain": [
       "Processing texts:   0%|          | 0/1 [00:00<?, ?it/s]"
      ]
     },
     "metadata": {},
     "output_type": "display_data"
    },
    {
     "name": "stderr",
     "output_type": "stream",
     "text": [
      "26-Mar-25 15:01:20 - Saving results to results/processed_texts.csv\n",
      "26-Mar-25 15:01:21 - Starting to process\n"
     ]
    },
    {
     "data": {
      "application/vnd.jupyter.widget-view+json": {
       "model_id": "989ea90520154a7a8257cfa09d367472",
       "version_major": 2,
       "version_minor": 0
      },
      "text/plain": [
       "Processing texts:   0%|          | 0/1 [00:00<?, ?it/s]"
      ]
     },
     "metadata": {},
     "output_type": "display_data"
    },
    {
     "name": "stderr",
     "output_type": "stream",
     "text": [
      "26-Mar-25 15:01:21 - Saving results to results/processed_texts.csv\n",
      "26-Mar-25 15:01:22 - Starting to process\n"
     ]
    },
    {
     "data": {
      "application/vnd.jupyter.widget-view+json": {
       "model_id": "8f923ab9d07b402489021592c6eefcce",
       "version_major": 2,
       "version_minor": 0
      },
      "text/plain": [
       "Processing texts:   0%|          | 0/1 [00:00<?, ?it/s]"
      ]
     },
     "metadata": {},
     "output_type": "display_data"
    },
    {
     "name": "stderr",
     "output_type": "stream",
     "text": [
      "26-Mar-25 15:01:22 - Saving results to results/processed_texts.csv\n",
      "26-Mar-25 15:01:23 - Starting to process\n"
     ]
    },
    {
     "data": {
      "application/vnd.jupyter.widget-view+json": {
       "model_id": "7a95d2af96864ca7b76870daa1546795",
       "version_major": 2,
       "version_minor": 0
      },
      "text/plain": [
       "Processing texts:   0%|          | 0/1 [00:00<?, ?it/s]"
      ]
     },
     "metadata": {},
     "output_type": "display_data"
    },
    {
     "name": "stderr",
     "output_type": "stream",
     "text": [
      "26-Mar-25 15:01:23 - Saving results to results/processed_texts.csv\n",
      "26-Mar-25 15:01:24 - Starting to process\n"
     ]
    },
    {
     "data": {
      "application/vnd.jupyter.widget-view+json": {
       "model_id": "b0a9c6f573a646539fa7180034e79932",
       "version_major": 2,
       "version_minor": 0
      },
      "text/plain": [
       "Processing texts:   0%|          | 0/1 [00:00<?, ?it/s]"
      ]
     },
     "metadata": {},
     "output_type": "display_data"
    },
    {
     "name": "stderr",
     "output_type": "stream",
     "text": [
      "26-Mar-25 15:01:24 - Saving results to results/processed_texts.csv\n",
      "26-Mar-25 15:01:25 - Starting to process\n"
     ]
    },
    {
     "data": {
      "application/vnd.jupyter.widget-view+json": {
       "model_id": "14ae92b4bc4a4043bad9ff2867f659f4",
       "version_major": 2,
       "version_minor": 0
      },
      "text/plain": [
       "Processing texts:   0%|          | 0/1 [00:00<?, ?it/s]"
      ]
     },
     "metadata": {},
     "output_type": "display_data"
    },
    {
     "name": "stderr",
     "output_type": "stream",
     "text": [
      "26-Mar-25 15:01:25 - Saving results to results/processed_texts.csv\n",
      "26-Mar-25 15:01:26 - Starting to process\n"
     ]
    },
    {
     "data": {
      "application/vnd.jupyter.widget-view+json": {
       "model_id": "bf858d37df1a4e879069ffeb66b49901",
       "version_major": 2,
       "version_minor": 0
      },
      "text/plain": [
       "Processing texts:   0%|          | 0/1 [00:00<?, ?it/s]"
      ]
     },
     "metadata": {},
     "output_type": "display_data"
    },
    {
     "name": "stderr",
     "output_type": "stream",
     "text": [
      "26-Mar-25 15:01:26 - Saving results to results/processed_texts.csv\n",
      "26-Mar-25 15:01:27 - Starting to process\n"
     ]
    },
    {
     "data": {
      "application/vnd.jupyter.widget-view+json": {
       "model_id": "0b2dece43e584b73b80f07152270d94f",
       "version_major": 2,
       "version_minor": 0
      },
      "text/plain": [
       "Processing texts:   0%|          | 0/1 [00:00<?, ?it/s]"
      ]
     },
     "metadata": {},
     "output_type": "display_data"
    },
    {
     "name": "stderr",
     "output_type": "stream",
     "text": [
      "26-Mar-25 15:01:27 - Saving results to results/processed_texts.csv\n",
      "26-Mar-25 15:01:28 - Starting to process\n"
     ]
    },
    {
     "data": {
      "application/vnd.jupyter.widget-view+json": {
       "model_id": "8e3d77ac83b24c79b1eb70524925bc00",
       "version_major": 2,
       "version_minor": 0
      },
      "text/plain": [
       "Processing texts:   0%|          | 0/1 [00:00<?, ?it/s]"
      ]
     },
     "metadata": {},
     "output_type": "display_data"
    },
    {
     "name": "stderr",
     "output_type": "stream",
     "text": [
      "26-Mar-25 15:01:28 - Saving results to results/processed_texts.csv\n",
      "26-Mar-25 15:01:29 - Starting to process\n"
     ]
    },
    {
     "data": {
      "application/vnd.jupyter.widget-view+json": {
       "model_id": "bdeee4f5eddc48c3baf2124d271b720e",
       "version_major": 2,
       "version_minor": 0
      },
      "text/plain": [
       "Processing texts:   0%|          | 0/1 [00:00<?, ?it/s]"
      ]
     },
     "metadata": {},
     "output_type": "display_data"
    },
    {
     "name": "stderr",
     "output_type": "stream",
     "text": [
      "26-Mar-25 15:01:29 - Saving results to results/processed_texts.csv\n",
      "26-Mar-25 15:01:30 - Starting to process\n"
     ]
    },
    {
     "data": {
      "application/vnd.jupyter.widget-view+json": {
       "model_id": "ebe11f6caf7e4bf2be04da48ec9cfbc1",
       "version_major": 2,
       "version_minor": 0
      },
      "text/plain": [
       "Processing texts:   0%|          | 0/1 [00:00<?, ?it/s]"
      ]
     },
     "metadata": {},
     "output_type": "display_data"
    },
    {
     "name": "stderr",
     "output_type": "stream",
     "text": [
      "26-Mar-25 15:01:30 - Saving results to results/processed_texts.csv\n",
      "26-Mar-25 15:01:31 - Starting to process\n"
     ]
    },
    {
     "data": {
      "application/vnd.jupyter.widget-view+json": {
       "model_id": "01dddc192a2745689479495fffc6626f",
       "version_major": 2,
       "version_minor": 0
      },
      "text/plain": [
       "Processing texts:   0%|          | 0/1 [00:00<?, ?it/s]"
      ]
     },
     "metadata": {},
     "output_type": "display_data"
    },
    {
     "name": "stderr",
     "output_type": "stream",
     "text": [
      "26-Mar-25 15:01:31 - Saving results to results/processed_texts.csv\n",
      "26-Mar-25 15:01:32 - Starting to process\n"
     ]
    },
    {
     "data": {
      "application/vnd.jupyter.widget-view+json": {
       "model_id": "a43f38a0016b46459d173f984fad64ae",
       "version_major": 2,
       "version_minor": 0
      },
      "text/plain": [
       "Processing texts:   0%|          | 0/1 [00:00<?, ?it/s]"
      ]
     },
     "metadata": {},
     "output_type": "display_data"
    },
    {
     "name": "stderr",
     "output_type": "stream",
     "text": [
      "26-Mar-25 15:01:32 - Saving results to results/processed_texts.csv\n",
      "26-Mar-25 15:01:33 - Starting to process\n"
     ]
    },
    {
     "data": {
      "application/vnd.jupyter.widget-view+json": {
       "model_id": "820e7fcb614c441382f903f3f7f0fb47",
       "version_major": 2,
       "version_minor": 0
      },
      "text/plain": [
       "Processing texts:   0%|          | 0/1 [00:00<?, ?it/s]"
      ]
     },
     "metadata": {},
     "output_type": "display_data"
    },
    {
     "name": "stderr",
     "output_type": "stream",
     "text": [
      "26-Mar-25 15:01:33 - Saving results to results/processed_texts.csv\n",
      "26-Mar-25 15:01:33 - Starting to process\n"
     ]
    },
    {
     "data": {
      "application/vnd.jupyter.widget-view+json": {
       "model_id": "0b36cf84f76f4e35980a974e72fdb9fd",
       "version_major": 2,
       "version_minor": 0
      },
      "text/plain": [
       "Processing texts:   0%|          | 0/1 [00:00<?, ?it/s]"
      ]
     },
     "metadata": {},
     "output_type": "display_data"
    },
    {
     "name": "stderr",
     "output_type": "stream",
     "text": [
      "26-Mar-25 15:01:34 - Saving results to results/processed_texts.csv\n",
      "26-Mar-25 15:01:34 - Starting to process\n"
     ]
    },
    {
     "data": {
      "application/vnd.jupyter.widget-view+json": {
       "model_id": "db36420a35f84a0a9a47eb6d22861df4",
       "version_major": 2,
       "version_minor": 0
      },
      "text/plain": [
       "Processing texts:   0%|          | 0/1 [00:00<?, ?it/s]"
      ]
     },
     "metadata": {},
     "output_type": "display_data"
    },
    {
     "name": "stderr",
     "output_type": "stream",
     "text": [
      "26-Mar-25 15:01:34 - Saving results to results/processed_texts.csv\n",
      "26-Mar-25 15:01:35 - Starting to process\n"
     ]
    },
    {
     "data": {
      "application/vnd.jupyter.widget-view+json": {
       "model_id": "b4282f19ddb94dc49c34965483663626",
       "version_major": 2,
       "version_minor": 0
      },
      "text/plain": [
       "Processing texts:   0%|          | 0/1 [00:00<?, ?it/s]"
      ]
     },
     "metadata": {},
     "output_type": "display_data"
    },
    {
     "name": "stderr",
     "output_type": "stream",
     "text": [
      "26-Mar-25 15:01:35 - Saving results to results/processed_texts.csv\n",
      "26-Mar-25 15:01:36 - Starting to process\n"
     ]
    },
    {
     "data": {
      "application/vnd.jupyter.widget-view+json": {
       "model_id": "e246ceed438a432fba8fc9337a85502c",
       "version_major": 2,
       "version_minor": 0
      },
      "text/plain": [
       "Processing texts:   0%|          | 0/1 [00:00<?, ?it/s]"
      ]
     },
     "metadata": {},
     "output_type": "display_data"
    },
    {
     "name": "stderr",
     "output_type": "stream",
     "text": [
      "26-Mar-25 15:01:36 - Saving results to results/processed_texts.csv\n",
      "26-Mar-25 15:01:37 - Starting to process\n"
     ]
    },
    {
     "data": {
      "application/vnd.jupyter.widget-view+json": {
       "model_id": "9460c3a62b6d4a10b024152ba4dfd20a",
       "version_major": 2,
       "version_minor": 0
      },
      "text/plain": [
       "Processing texts:   0%|          | 0/1 [00:00<?, ?it/s]"
      ]
     },
     "metadata": {},
     "output_type": "display_data"
    },
    {
     "name": "stderr",
     "output_type": "stream",
     "text": [
      "26-Mar-25 15:01:37 - Saving results to results/processed_texts.csv\n",
      "26-Mar-25 15:01:38 - Starting to process\n"
     ]
    },
    {
     "data": {
      "application/vnd.jupyter.widget-view+json": {
       "model_id": "63b78dac541e41ef9f7aa1b7aada4fdc",
       "version_major": 2,
       "version_minor": 0
      },
      "text/plain": [
       "Processing texts:   0%|          | 0/1 [00:00<?, ?it/s]"
      ]
     },
     "metadata": {},
     "output_type": "display_data"
    },
    {
     "name": "stderr",
     "output_type": "stream",
     "text": [
      "26-Mar-25 15:01:38 - Saving results to results/processed_texts.csv\n",
      "26-Mar-25 15:01:39 - Starting to process\n"
     ]
    },
    {
     "data": {
      "application/vnd.jupyter.widget-view+json": {
       "model_id": "5f95a496d36347b49cd3933ae5899b27",
       "version_major": 2,
       "version_minor": 0
      },
      "text/plain": [
       "Processing texts:   0%|          | 0/1 [00:00<?, ?it/s]"
      ]
     },
     "metadata": {},
     "output_type": "display_data"
    },
    {
     "name": "stderr",
     "output_type": "stream",
     "text": [
      "26-Mar-25 15:01:39 - Saving results to results/processed_texts.csv\n",
      "26-Mar-25 15:01:40 - Starting to process\n"
     ]
    },
    {
     "data": {
      "application/vnd.jupyter.widget-view+json": {
       "model_id": "8a5da7bf6f90424e925ff5cd26cb9cb3",
       "version_major": 2,
       "version_minor": 0
      },
      "text/plain": [
       "Processing texts:   0%|          | 0/1 [00:00<?, ?it/s]"
      ]
     },
     "metadata": {},
     "output_type": "display_data"
    },
    {
     "name": "stderr",
     "output_type": "stream",
     "text": [
      "26-Mar-25 15:01:40 - Saving results to results/processed_texts.csv\n",
      "26-Mar-25 15:01:41 - Starting to process\n"
     ]
    },
    {
     "data": {
      "application/vnd.jupyter.widget-view+json": {
       "model_id": "370b1942b1604d50b911f8cc2bbdda27",
       "version_major": 2,
       "version_minor": 0
      },
      "text/plain": [
       "Processing texts:   0%|          | 0/1 [00:00<?, ?it/s]"
      ]
     },
     "metadata": {},
     "output_type": "display_data"
    },
    {
     "name": "stderr",
     "output_type": "stream",
     "text": [
      "26-Mar-25 15:01:41 - Saving results to results/processed_texts.csv\n",
      "26-Mar-25 15:01:42 - Starting to process\n"
     ]
    },
    {
     "data": {
      "application/vnd.jupyter.widget-view+json": {
       "model_id": "0e0ead42ae184915b9fd0c2dbd73a005",
       "version_major": 2,
       "version_minor": 0
      },
      "text/plain": [
       "Processing texts:   0%|          | 0/1 [00:00<?, ?it/s]"
      ]
     },
     "metadata": {},
     "output_type": "display_data"
    },
    {
     "name": "stderr",
     "output_type": "stream",
     "text": [
      "26-Mar-25 15:01:42 - Saving results to results/processed_texts.csv\n",
      "26-Mar-25 15:01:43 - Starting to process\n"
     ]
    },
    {
     "data": {
      "application/vnd.jupyter.widget-view+json": {
       "model_id": "dbb5120d12b147518f6a14e2bfd2158b",
       "version_major": 2,
       "version_minor": 0
      },
      "text/plain": [
       "Processing texts:   0%|          | 0/1 [00:00<?, ?it/s]"
      ]
     },
     "metadata": {},
     "output_type": "display_data"
    },
    {
     "name": "stderr",
     "output_type": "stream",
     "text": [
      "26-Mar-25 15:01:43 - Saving results to results/processed_texts.csv\n",
      "26-Mar-25 15:01:43 - Starting to process\n"
     ]
    },
    {
     "data": {
      "application/vnd.jupyter.widget-view+json": {
       "model_id": "d684fea5c4244b479f319338ee2a3c4c",
       "version_major": 2,
       "version_minor": 0
      },
      "text/plain": [
       "Processing texts:   0%|          | 0/1 [00:00<?, ?it/s]"
      ]
     },
     "metadata": {},
     "output_type": "display_data"
    },
    {
     "name": "stderr",
     "output_type": "stream",
     "text": [
      "26-Mar-25 15:01:44 - Saving results to results/processed_texts.csv\n",
      "26-Mar-25 15:01:44 - Starting to process\n"
     ]
    },
    {
     "data": {
      "application/vnd.jupyter.widget-view+json": {
       "model_id": "1306de58e7384e15ba48e00aa7fd2778",
       "version_major": 2,
       "version_minor": 0
      },
      "text/plain": [
       "Processing texts:   0%|          | 0/1 [00:00<?, ?it/s]"
      ]
     },
     "metadata": {},
     "output_type": "display_data"
    },
    {
     "name": "stderr",
     "output_type": "stream",
     "text": [
      "26-Mar-25 15:01:45 - Saving results to results/processed_texts.csv\n",
      "26-Mar-25 15:01:45 - Starting to process\n"
     ]
    },
    {
     "data": {
      "application/vnd.jupyter.widget-view+json": {
       "model_id": "fa160c408c744ed294bcdfb74ecc5bc8",
       "version_major": 2,
       "version_minor": 0
      },
      "text/plain": [
       "Processing texts:   0%|          | 0/1 [00:00<?, ?it/s]"
      ]
     },
     "metadata": {},
     "output_type": "display_data"
    },
    {
     "name": "stderr",
     "output_type": "stream",
     "text": [
      "26-Mar-25 15:01:46 - Saving results to results/processed_texts.csv\n",
      "26-Mar-25 15:01:46 - Starting to process\n"
     ]
    },
    {
     "data": {
      "application/vnd.jupyter.widget-view+json": {
       "model_id": "d50745382da84d23a4429d8a857b2e0b",
       "version_major": 2,
       "version_minor": 0
      },
      "text/plain": [
       "Processing texts:   0%|          | 0/1 [00:00<?, ?it/s]"
      ]
     },
     "metadata": {},
     "output_type": "display_data"
    },
    {
     "name": "stderr",
     "output_type": "stream",
     "text": [
      "26-Mar-25 15:01:47 - Saving results to results/processed_texts.csv\n",
      "26-Mar-25 15:01:47 - Starting to process\n"
     ]
    },
    {
     "data": {
      "application/vnd.jupyter.widget-view+json": {
       "model_id": "874f76bb118c423f879cb3790881cf05",
       "version_major": 2,
       "version_minor": 0
      },
      "text/plain": [
       "Processing texts:   0%|          | 0/1 [00:00<?, ?it/s]"
      ]
     },
     "metadata": {},
     "output_type": "display_data"
    },
    {
     "name": "stderr",
     "output_type": "stream",
     "text": [
      "26-Mar-25 15:01:48 - Saving results to results/processed_texts.csv\n",
      "26-Mar-25 15:01:48 - Starting to process\n"
     ]
    },
    {
     "data": {
      "application/vnd.jupyter.widget-view+json": {
       "model_id": "8f9bf81c2eb44293b14eaa37e39fb05f",
       "version_major": 2,
       "version_minor": 0
      },
      "text/plain": [
       "Processing texts:   0%|          | 0/1 [00:00<?, ?it/s]"
      ]
     },
     "metadata": {},
     "output_type": "display_data"
    },
    {
     "name": "stderr",
     "output_type": "stream",
     "text": [
      "26-Mar-25 15:01:48 - Saving results to results/processed_texts.csv\n",
      "26-Mar-25 15:01:49 - Starting to process\n"
     ]
    },
    {
     "data": {
      "application/vnd.jupyter.widget-view+json": {
       "model_id": "47e9c903ff0743e4882999f1bb8f7572",
       "version_major": 2,
       "version_minor": 0
      },
      "text/plain": [
       "Processing texts:   0%|          | 0/1 [00:00<?, ?it/s]"
      ]
     },
     "metadata": {},
     "output_type": "display_data"
    },
    {
     "name": "stderr",
     "output_type": "stream",
     "text": [
      "26-Mar-25 15:01:50 - Saving results to results/processed_texts.csv\n",
      "26-Mar-25 15:01:50 - Starting to process\n"
     ]
    },
    {
     "data": {
      "application/vnd.jupyter.widget-view+json": {
       "model_id": "065e85714cbc4e57b9fa1faf624a95b6",
       "version_major": 2,
       "version_minor": 0
      },
      "text/plain": [
       "Processing texts:   0%|          | 0/1 [00:00<?, ?it/s]"
      ]
     },
     "metadata": {},
     "output_type": "display_data"
    },
    {
     "name": "stderr",
     "output_type": "stream",
     "text": [
      "26-Mar-25 15:01:50 - Saving results to results/processed_texts.csv\n",
      "26-Mar-25 15:01:51 - Starting to process\n"
     ]
    },
    {
     "data": {
      "application/vnd.jupyter.widget-view+json": {
       "model_id": "915fcbe47c24445686ec4296e838d6d3",
       "version_major": 2,
       "version_minor": 0
      },
      "text/plain": [
       "Processing texts:   0%|          | 0/1 [00:00<?, ?it/s]"
      ]
     },
     "metadata": {},
     "output_type": "display_data"
    },
    {
     "name": "stderr",
     "output_type": "stream",
     "text": [
      "26-Mar-25 15:01:51 - Saving results to results/processed_texts.csv\n",
      "26-Mar-25 15:01:52 - Starting to process\n"
     ]
    },
    {
     "data": {
      "application/vnd.jupyter.widget-view+json": {
       "model_id": "1fa9e2ced3f946a4b0066008cebf52e2",
       "version_major": 2,
       "version_minor": 0
      },
      "text/plain": [
       "Processing texts:   0%|          | 0/1 [00:00<?, ?it/s]"
      ]
     },
     "metadata": {},
     "output_type": "display_data"
    },
    {
     "name": "stderr",
     "output_type": "stream",
     "text": [
      "26-Mar-25 15:01:52 - Saving results to results/processed_texts.csv\n",
      "26-Mar-25 15:01:53 - Starting to process\n"
     ]
    },
    {
     "data": {
      "application/vnd.jupyter.widget-view+json": {
       "model_id": "44b319d8396b4527a4a16232a19f5b3a",
       "version_major": 2,
       "version_minor": 0
      },
      "text/plain": [
       "Processing texts:   0%|          | 0/1 [00:00<?, ?it/s]"
      ]
     },
     "metadata": {},
     "output_type": "display_data"
    },
    {
     "name": "stderr",
     "output_type": "stream",
     "text": [
      "26-Mar-25 15:01:53 - Saving results to results/processed_texts.csv\n",
      "26-Mar-25 15:01:54 - Starting to process\n"
     ]
    },
    {
     "data": {
      "application/vnd.jupyter.widget-view+json": {
       "model_id": "7b44af40fbdd4c4780f1143276ef20e2",
       "version_major": 2,
       "version_minor": 0
      },
      "text/plain": [
       "Processing texts:   0%|          | 0/1 [00:00<?, ?it/s]"
      ]
     },
     "metadata": {},
     "output_type": "display_data"
    },
    {
     "name": "stderr",
     "output_type": "stream",
     "text": [
      "26-Mar-25 15:01:54 - Saving results to results/processed_texts.csv\n",
      "26-Mar-25 15:01:55 - Starting to process\n"
     ]
    },
    {
     "data": {
      "application/vnd.jupyter.widget-view+json": {
       "model_id": "29b4605377694d4499f2b20d364c512b",
       "version_major": 2,
       "version_minor": 0
      },
      "text/plain": [
       "Processing texts:   0%|          | 0/1 [00:00<?, ?it/s]"
      ]
     },
     "metadata": {},
     "output_type": "display_data"
    },
    {
     "name": "stderr",
     "output_type": "stream",
     "text": [
      "26-Mar-25 15:01:55 - Saving results to results/processed_texts.csv\n",
      "26-Mar-25 15:01:56 - Starting to process\n"
     ]
    },
    {
     "data": {
      "application/vnd.jupyter.widget-view+json": {
       "model_id": "1a480df8d6e1419ba2e699429a282410",
       "version_major": 2,
       "version_minor": 0
      },
      "text/plain": [
       "Processing texts:   0%|          | 0/1 [00:00<?, ?it/s]"
      ]
     },
     "metadata": {},
     "output_type": "display_data"
    },
    {
     "name": "stderr",
     "output_type": "stream",
     "text": [
      "26-Mar-25 15:01:56 - Saving results to results/processed_texts.csv\n",
      "26-Mar-25 15:01:57 - Starting to process\n"
     ]
    },
    {
     "data": {
      "application/vnd.jupyter.widget-view+json": {
       "model_id": "a2ea65ec5336410aa9d8c1ff6b8d0769",
       "version_major": 2,
       "version_minor": 0
      },
      "text/plain": [
       "Processing texts:   0%|          | 0/1 [00:00<?, ?it/s]"
      ]
     },
     "metadata": {},
     "output_type": "display_data"
    },
    {
     "name": "stderr",
     "output_type": "stream",
     "text": [
      "26-Mar-25 15:01:57 - Saving results to results/processed_texts.csv\n",
      "26-Mar-25 15:01:57 - Starting to process\n"
     ]
    },
    {
     "data": {
      "application/vnd.jupyter.widget-view+json": {
       "model_id": "c16607741cc84bd487750f9a50514895",
       "version_major": 2,
       "version_minor": 0
      },
      "text/plain": [
       "Processing texts:   0%|          | 0/1 [00:00<?, ?it/s]"
      ]
     },
     "metadata": {},
     "output_type": "display_data"
    },
    {
     "name": "stderr",
     "output_type": "stream",
     "text": [
      "26-Mar-25 15:01:58 - Saving results to results/processed_texts.csv\n",
      "26-Mar-25 15:01:58 - Starting to process\n"
     ]
    },
    {
     "data": {
      "application/vnd.jupyter.widget-view+json": {
       "model_id": "6ff4a0b06bfb403791b554a883396d80",
       "version_major": 2,
       "version_minor": 0
      },
      "text/plain": [
       "Processing texts:   0%|          | 0/1 [00:00<?, ?it/s]"
      ]
     },
     "metadata": {},
     "output_type": "display_data"
    },
    {
     "name": "stderr",
     "output_type": "stream",
     "text": [
      "26-Mar-25 15:01:59 - Saving results to results/processed_texts.csv\n",
      "26-Mar-25 15:01:59 - Starting to process\n"
     ]
    },
    {
     "data": {
      "application/vnd.jupyter.widget-view+json": {
       "model_id": "43a680f3771f44c88ddfee90af195d1e",
       "version_major": 2,
       "version_minor": 0
      },
      "text/plain": [
       "Processing texts:   0%|          | 0/1 [00:00<?, ?it/s]"
      ]
     },
     "metadata": {},
     "output_type": "display_data"
    },
    {
     "name": "stderr",
     "output_type": "stream",
     "text": [
      "26-Mar-25 15:02:00 - Saving results to results/processed_texts.csv\n",
      "26-Mar-25 15:02:00 - Starting to process\n"
     ]
    },
    {
     "data": {
      "application/vnd.jupyter.widget-view+json": {
       "model_id": "dd2d5b75b24347c6a7b797f85e17ef40",
       "version_major": 2,
       "version_minor": 0
      },
      "text/plain": [
       "Processing texts:   0%|          | 0/1 [00:00<?, ?it/s]"
      ]
     },
     "metadata": {},
     "output_type": "display_data"
    },
    {
     "name": "stderr",
     "output_type": "stream",
     "text": [
      "26-Mar-25 15:02:01 - Saving results to results/processed_texts.csv\n",
      "26-Mar-25 15:02:01 - Starting to process\n"
     ]
    },
    {
     "data": {
      "application/vnd.jupyter.widget-view+json": {
       "model_id": "d4bc4b5eff16474d9ebdd729ed0556fe",
       "version_major": 2,
       "version_minor": 0
      },
      "text/plain": [
       "Processing texts:   0%|          | 0/1 [00:00<?, ?it/s]"
      ]
     },
     "metadata": {},
     "output_type": "display_data"
    },
    {
     "name": "stderr",
     "output_type": "stream",
     "text": [
      "26-Mar-25 15:02:01 - Saving results to results/processed_texts.csv\n",
      "26-Mar-25 15:02:02 - Starting to process\n"
     ]
    },
    {
     "data": {
      "application/vnd.jupyter.widget-view+json": {
       "model_id": "04f96a171bef4429919e74b46bff998b",
       "version_major": 2,
       "version_minor": 0
      },
      "text/plain": [
       "Processing texts:   0%|          | 0/1 [00:00<?, ?it/s]"
      ]
     },
     "metadata": {},
     "output_type": "display_data"
    },
    {
     "name": "stderr",
     "output_type": "stream",
     "text": [
      "26-Mar-25 15:02:02 - Saving results to results/processed_texts.csv\n",
      "26-Mar-25 15:02:03 - Starting to process\n"
     ]
    },
    {
     "data": {
      "application/vnd.jupyter.widget-view+json": {
       "model_id": "14e7c7d748954c4cac0e8ced1fa32a32",
       "version_major": 2,
       "version_minor": 0
      },
      "text/plain": [
       "Processing texts:   0%|          | 0/1 [00:00<?, ?it/s]"
      ]
     },
     "metadata": {},
     "output_type": "display_data"
    },
    {
     "name": "stderr",
     "output_type": "stream",
     "text": [
      "26-Mar-25 15:02:03 - Saving results to results/processed_texts.csv\n",
      "26-Mar-25 15:02:04 - Starting to process\n"
     ]
    },
    {
     "data": {
      "application/vnd.jupyter.widget-view+json": {
       "model_id": "b2b60ddd905b4e9db67f65e066a5b55a",
       "version_major": 2,
       "version_minor": 0
      },
      "text/plain": [
       "Processing texts:   0%|          | 0/1 [00:00<?, ?it/s]"
      ]
     },
     "metadata": {},
     "output_type": "display_data"
    },
    {
     "name": "stderr",
     "output_type": "stream",
     "text": [
      "26-Mar-25 15:02:04 - Saving results to results/processed_texts.csv\n",
      "26-Mar-25 15:02:05 - Starting to process\n"
     ]
    },
    {
     "data": {
      "application/vnd.jupyter.widget-view+json": {
       "model_id": "b49c808fa6fc4804a70b570a69ba9bc1",
       "version_major": 2,
       "version_minor": 0
      },
      "text/plain": [
       "Processing texts:   0%|          | 0/1 [00:00<?, ?it/s]"
      ]
     },
     "metadata": {},
     "output_type": "display_data"
    },
    {
     "name": "stderr",
     "output_type": "stream",
     "text": [
      "26-Mar-25 15:02:05 - Saving results to results/processed_texts.csv\n",
      "26-Mar-25 15:02:06 - Starting to process\n"
     ]
    },
    {
     "data": {
      "application/vnd.jupyter.widget-view+json": {
       "model_id": "944f929a21344fb0b256ee44e6289bd9",
       "version_major": 2,
       "version_minor": 0
      },
      "text/plain": [
       "Processing texts:   0%|          | 0/1 [00:00<?, ?it/s]"
      ]
     },
     "metadata": {},
     "output_type": "display_data"
    },
    {
     "name": "stderr",
     "output_type": "stream",
     "text": [
      "26-Mar-25 15:02:06 - Saving results to results/processed_texts.csv\n",
      "26-Mar-25 15:02:07 - Starting to process\n"
     ]
    },
    {
     "data": {
      "application/vnd.jupyter.widget-view+json": {
       "model_id": "5d34b49be8114d3a88238e8ce55d5165",
       "version_major": 2,
       "version_minor": 0
      },
      "text/plain": [
       "Processing texts:   0%|          | 0/1 [00:00<?, ?it/s]"
      ]
     },
     "metadata": {},
     "output_type": "display_data"
    },
    {
     "name": "stderr",
     "output_type": "stream",
     "text": [
      "26-Mar-25 15:02:07 - Saving results to results/processed_texts.csv\n",
      "26-Mar-25 15:02:08 - Starting to process\n"
     ]
    },
    {
     "data": {
      "application/vnd.jupyter.widget-view+json": {
       "model_id": "d757a8f7e7b44410adacc73fc78cde43",
       "version_major": 2,
       "version_minor": 0
      },
      "text/plain": [
       "Processing texts:   0%|          | 0/1 [00:00<?, ?it/s]"
      ]
     },
     "metadata": {},
     "output_type": "display_data"
    },
    {
     "name": "stderr",
     "output_type": "stream",
     "text": [
      "26-Mar-25 15:02:08 - Saving results to results/processed_texts.csv\n",
      "26-Mar-25 15:02:09 - Starting to process\n"
     ]
    },
    {
     "data": {
      "application/vnd.jupyter.widget-view+json": {
       "model_id": "b76ffa7d5edd463f897ce9cdfbb01b1f",
       "version_major": 2,
       "version_minor": 0
      },
      "text/plain": [
       "Processing texts:   0%|          | 0/1 [00:00<?, ?it/s]"
      ]
     },
     "metadata": {},
     "output_type": "display_data"
    },
    {
     "name": "stderr",
     "output_type": "stream",
     "text": [
      "26-Mar-25 15:02:09 - Saving results to results/processed_texts.csv\n",
      "26-Mar-25 15:02:09 - Starting to process\n"
     ]
    },
    {
     "data": {
      "application/vnd.jupyter.widget-view+json": {
       "model_id": "d4051501b19845ee9d5390719992e960",
       "version_major": 2,
       "version_minor": 0
      },
      "text/plain": [
       "Processing texts:   0%|          | 0/1 [00:00<?, ?it/s]"
      ]
     },
     "metadata": {},
     "output_type": "display_data"
    },
    {
     "name": "stderr",
     "output_type": "stream",
     "text": [
      "26-Mar-25 15:02:10 - Saving results to results/processed_texts.csv\n",
      "26-Mar-25 15:02:10 - Starting to process\n"
     ]
    },
    {
     "data": {
      "application/vnd.jupyter.widget-view+json": {
       "model_id": "971effe577b247489ec44af378141720",
       "version_major": 2,
       "version_minor": 0
      },
      "text/plain": [
       "Processing texts:   0%|          | 0/1 [00:00<?, ?it/s]"
      ]
     },
     "metadata": {},
     "output_type": "display_data"
    },
    {
     "name": "stderr",
     "output_type": "stream",
     "text": [
      "26-Mar-25 15:02:10 - Saving results to results/processed_texts.csv\n",
      "26-Mar-25 15:02:11 - Starting to process\n"
     ]
    },
    {
     "data": {
      "application/vnd.jupyter.widget-view+json": {
       "model_id": "359552791c0d49d19a140a72a9083268",
       "version_major": 2,
       "version_minor": 0
      },
      "text/plain": [
       "Processing texts:   0%|          | 0/1 [00:00<?, ?it/s]"
      ]
     },
     "metadata": {},
     "output_type": "display_data"
    },
    {
     "name": "stderr",
     "output_type": "stream",
     "text": [
      "26-Mar-25 15:02:11 - Saving results to results/processed_texts.csv\n",
      "26-Mar-25 15:02:12 - Starting to process\n"
     ]
    },
    {
     "data": {
      "application/vnd.jupyter.widget-view+json": {
       "model_id": "fc86c2f07af74b3a83ac69ec6fe3853f",
       "version_major": 2,
       "version_minor": 0
      },
      "text/plain": [
       "Processing texts:   0%|          | 0/1 [00:00<?, ?it/s]"
      ]
     },
     "metadata": {},
     "output_type": "display_data"
    },
    {
     "name": "stderr",
     "output_type": "stream",
     "text": [
      "26-Mar-25 15:02:12 - Saving results to results/processed_texts.csv\n",
      "26-Mar-25 15:02:13 - Starting to process\n"
     ]
    },
    {
     "data": {
      "application/vnd.jupyter.widget-view+json": {
       "model_id": "8ee8ed01bf134c9fbcdb87ff64dd1fd1",
       "version_major": 2,
       "version_minor": 0
      },
      "text/plain": [
       "Processing texts:   0%|          | 0/1 [00:00<?, ?it/s]"
      ]
     },
     "metadata": {},
     "output_type": "display_data"
    },
    {
     "name": "stderr",
     "output_type": "stream",
     "text": [
      "26-Mar-25 15:02:13 - Saving results to results/processed_texts.csv\n",
      "26-Mar-25 15:02:14 - Starting to process\n"
     ]
    },
    {
     "data": {
      "application/vnd.jupyter.widget-view+json": {
       "model_id": "dbe013d40e2f4791a4a0f5acba040454",
       "version_major": 2,
       "version_minor": 0
      },
      "text/plain": [
       "Processing texts:   0%|          | 0/1 [00:00<?, ?it/s]"
      ]
     },
     "metadata": {},
     "output_type": "display_data"
    },
    {
     "name": "stderr",
     "output_type": "stream",
     "text": [
      "26-Mar-25 15:02:14 - Saving results to results/processed_texts.csv\n",
      "26-Mar-25 15:02:15 - Starting to process\n"
     ]
    },
    {
     "data": {
      "application/vnd.jupyter.widget-view+json": {
       "model_id": "9a77f253006e42b1b1cf5078cd5b4866",
       "version_major": 2,
       "version_minor": 0
      },
      "text/plain": [
       "Processing texts:   0%|          | 0/1 [00:00<?, ?it/s]"
      ]
     },
     "metadata": {},
     "output_type": "display_data"
    },
    {
     "name": "stderr",
     "output_type": "stream",
     "text": [
      "26-Mar-25 15:02:15 - Saving results to results/processed_texts.csv\n",
      "26-Mar-25 15:02:15 - Starting to process\n"
     ]
    },
    {
     "data": {
      "application/vnd.jupyter.widget-view+json": {
       "model_id": "894f5fdb60034016b914d7c2d32fc72c",
       "version_major": 2,
       "version_minor": 0
      },
      "text/plain": [
       "Processing texts:   0%|          | 0/1 [00:00<?, ?it/s]"
      ]
     },
     "metadata": {},
     "output_type": "display_data"
    },
    {
     "name": "stderr",
     "output_type": "stream",
     "text": [
      "26-Mar-25 15:02:16 - Saving results to results/processed_texts.csv\n",
      "26-Mar-25 15:02:16 - Starting to process\n"
     ]
    },
    {
     "data": {
      "application/vnd.jupyter.widget-view+json": {
       "model_id": "1be0e6483ce7446c8d5ec949f1c34fb0",
       "version_major": 2,
       "version_minor": 0
      },
      "text/plain": [
       "Processing texts:   0%|          | 0/1 [00:00<?, ?it/s]"
      ]
     },
     "metadata": {},
     "output_type": "display_data"
    },
    {
     "name": "stderr",
     "output_type": "stream",
     "text": [
      "26-Mar-25 15:02:17 - Saving results to results/processed_texts.csv\n",
      "26-Mar-25 15:02:17 - Starting to process\n"
     ]
    },
    {
     "data": {
      "application/vnd.jupyter.widget-view+json": {
       "model_id": "94498957dfd24ce5b4860143022f23ff",
       "version_major": 2,
       "version_minor": 0
      },
      "text/plain": [
       "Processing texts:   0%|          | 0/1 [00:00<?, ?it/s]"
      ]
     },
     "metadata": {},
     "output_type": "display_data"
    },
    {
     "name": "stderr",
     "output_type": "stream",
     "text": [
      "26-Mar-25 15:02:18 - Saving results to results/processed_texts.csv\n",
      "26-Mar-25 15:02:18 - Starting to process\n"
     ]
    },
    {
     "data": {
      "application/vnd.jupyter.widget-view+json": {
       "model_id": "9f35d3110bb24d18bc583a0904eec6df",
       "version_major": 2,
       "version_minor": 0
      },
      "text/plain": [
       "Processing texts:   0%|          | 0/1 [00:00<?, ?it/s]"
      ]
     },
     "metadata": {},
     "output_type": "display_data"
    },
    {
     "name": "stderr",
     "output_type": "stream",
     "text": [
      "26-Mar-25 15:02:19 - Saving results to results/processed_texts.csv\n",
      "26-Mar-25 15:02:19 - Starting to process\n"
     ]
    },
    {
     "data": {
      "application/vnd.jupyter.widget-view+json": {
       "model_id": "64bd7a2c97cc4767a4e7d5966f9c03e5",
       "version_major": 2,
       "version_minor": 0
      },
      "text/plain": [
       "Processing texts:   0%|          | 0/1 [00:00<?, ?it/s]"
      ]
     },
     "metadata": {},
     "output_type": "display_data"
    },
    {
     "name": "stderr",
     "output_type": "stream",
     "text": [
      "26-Mar-25 15:02:20 - Saving results to results/processed_texts.csv\n",
      "26-Mar-25 15:02:20 - Starting to process\n"
     ]
    },
    {
     "data": {
      "application/vnd.jupyter.widget-view+json": {
       "model_id": "fe69d2e3987544d695807e04a4fa256a",
       "version_major": 2,
       "version_minor": 0
      },
      "text/plain": [
       "Processing texts:   0%|          | 0/1 [00:00<?, ?it/s]"
      ]
     },
     "metadata": {},
     "output_type": "display_data"
    },
    {
     "name": "stderr",
     "output_type": "stream",
     "text": [
      "26-Mar-25 15:02:20 - Saving results to results/processed_texts.csv\n",
      "26-Mar-25 15:02:21 - Starting to process\n"
     ]
    },
    {
     "data": {
      "application/vnd.jupyter.widget-view+json": {
       "model_id": "2ec00ff3456840c9acba8194f2fff5f4",
       "version_major": 2,
       "version_minor": 0
      },
      "text/plain": [
       "Processing texts:   0%|          | 0/1 [00:00<?, ?it/s]"
      ]
     },
     "metadata": {},
     "output_type": "display_data"
    },
    {
     "name": "stderr",
     "output_type": "stream",
     "text": [
      "26-Mar-25 15:02:21 - Saving results to results/processed_texts.csv\n",
      "26-Mar-25 15:02:22 - Starting to process\n"
     ]
    },
    {
     "data": {
      "application/vnd.jupyter.widget-view+json": {
       "model_id": "c48522a4a2b94b2a8f482f7c93b5d9fd",
       "version_major": 2,
       "version_minor": 0
      },
      "text/plain": [
       "Processing texts:   0%|          | 0/1 [00:00<?, ?it/s]"
      ]
     },
     "metadata": {},
     "output_type": "display_data"
    },
    {
     "name": "stderr",
     "output_type": "stream",
     "text": [
      "26-Mar-25 15:02:22 - Saving results to results/processed_texts.csv\n",
      "26-Mar-25 15:02:23 - Starting to process\n"
     ]
    },
    {
     "data": {
      "application/vnd.jupyter.widget-view+json": {
       "model_id": "9386f512ddd54b008d5d9ee026e1f99f",
       "version_major": 2,
       "version_minor": 0
      },
      "text/plain": [
       "Processing texts:   0%|          | 0/1 [00:00<?, ?it/s]"
      ]
     },
     "metadata": {},
     "output_type": "display_data"
    },
    {
     "name": "stderr",
     "output_type": "stream",
     "text": [
      "26-Mar-25 15:02:23 - Saving results to results/processed_texts.csv\n",
      "26-Mar-25 15:02:24 - Starting to process\n"
     ]
    },
    {
     "data": {
      "application/vnd.jupyter.widget-view+json": {
       "model_id": "9d989bf7347e404f9f23a73ec1efae14",
       "version_major": 2,
       "version_minor": 0
      },
      "text/plain": [
       "Processing texts:   0%|          | 0/1 [00:00<?, ?it/s]"
      ]
     },
     "metadata": {},
     "output_type": "display_data"
    },
    {
     "name": "stderr",
     "output_type": "stream",
     "text": [
      "26-Mar-25 15:02:24 - Saving results to results/processed_texts.csv\n",
      "26-Mar-25 15:02:24 - Starting to process\n"
     ]
    },
    {
     "data": {
      "application/vnd.jupyter.widget-view+json": {
       "model_id": "bc682a79e3fd4bda9a7d3aad6179306d",
       "version_major": 2,
       "version_minor": 0
      },
      "text/plain": [
       "Processing texts:   0%|          | 0/1 [00:00<?, ?it/s]"
      ]
     },
     "metadata": {},
     "output_type": "display_data"
    },
    {
     "name": "stderr",
     "output_type": "stream",
     "text": [
      "26-Mar-25 15:02:25 - Saving results to results/processed_texts.csv\n",
      "26-Mar-25 15:02:25 - Starting to process\n"
     ]
    },
    {
     "data": {
      "application/vnd.jupyter.widget-view+json": {
       "model_id": "148951df6da24b6aacbfafd94693518f",
       "version_major": 2,
       "version_minor": 0
      },
      "text/plain": [
       "Processing texts:   0%|          | 0/1 [00:00<?, ?it/s]"
      ]
     },
     "metadata": {},
     "output_type": "display_data"
    },
    {
     "name": "stderr",
     "output_type": "stream",
     "text": [
      "26-Mar-25 15:02:25 - Saving results to results/processed_texts.csv\n",
      "26-Mar-25 15:02:26 - Starting to process\n"
     ]
    },
    {
     "data": {
      "application/vnd.jupyter.widget-view+json": {
       "model_id": "c0ab6753663342e38a43b3d771ea292f",
       "version_major": 2,
       "version_minor": 0
      },
      "text/plain": [
       "Processing texts:   0%|          | 0/1 [00:00<?, ?it/s]"
      ]
     },
     "metadata": {},
     "output_type": "display_data"
    },
    {
     "name": "stderr",
     "output_type": "stream",
     "text": [
      "26-Mar-25 15:02:27 - Saving results to results/processed_texts.csv\n",
      "26-Mar-25 15:02:27 - Starting to process\n"
     ]
    },
    {
     "data": {
      "application/vnd.jupyter.widget-view+json": {
       "model_id": "439ac19cdb7046ffb90fd2ddca95861d",
       "version_major": 2,
       "version_minor": 0
      },
      "text/plain": [
       "Processing texts:   0%|          | 0/1 [00:00<?, ?it/s]"
      ]
     },
     "metadata": {},
     "output_type": "display_data"
    },
    {
     "name": "stderr",
     "output_type": "stream",
     "text": [
      "26-Mar-25 15:02:28 - Saving results to results/processed_texts.csv\n",
      "26-Mar-25 15:02:28 - Starting to process\n"
     ]
    },
    {
     "data": {
      "application/vnd.jupyter.widget-view+json": {
       "model_id": "e7e7e2b3823e425cb896dddca79c935d",
       "version_major": 2,
       "version_minor": 0
      },
      "text/plain": [
       "Processing texts:   0%|          | 0/1 [00:00<?, ?it/s]"
      ]
     },
     "metadata": {},
     "output_type": "display_data"
    },
    {
     "name": "stderr",
     "output_type": "stream",
     "text": [
      "26-Mar-25 15:02:29 - Saving results to results/processed_texts.csv\n",
      "26-Mar-25 15:02:29 - Starting to process\n"
     ]
    },
    {
     "data": {
      "application/vnd.jupyter.widget-view+json": {
       "model_id": "513eab1dc9804478ba65c6ff73425f73",
       "version_major": 2,
       "version_minor": 0
      },
      "text/plain": [
       "Processing texts:   0%|          | 0/1 [00:00<?, ?it/s]"
      ]
     },
     "metadata": {},
     "output_type": "display_data"
    },
    {
     "name": "stderr",
     "output_type": "stream",
     "text": [
      "26-Mar-25 15:02:29 - Saving results to results/processed_texts.csv\n",
      "26-Mar-25 15:02:30 - Starting to process\n"
     ]
    },
    {
     "data": {
      "application/vnd.jupyter.widget-view+json": {
       "model_id": "ac64cad9c0b7433ca7c1592213075e29",
       "version_major": 2,
       "version_minor": 0
      },
      "text/plain": [
       "Processing texts:   0%|          | 0/1 [00:00<?, ?it/s]"
      ]
     },
     "metadata": {},
     "output_type": "display_data"
    },
    {
     "name": "stderr",
     "output_type": "stream",
     "text": [
      "26-Mar-25 15:02:30 - Saving results to results/processed_texts.csv\n",
      "26-Mar-25 15:02:31 - Starting to process\n"
     ]
    },
    {
     "data": {
      "application/vnd.jupyter.widget-view+json": {
       "model_id": "020e2f08561c4375abaece110bbff87d",
       "version_major": 2,
       "version_minor": 0
      },
      "text/plain": [
       "Processing texts:   0%|          | 0/1 [00:00<?, ?it/s]"
      ]
     },
     "metadata": {},
     "output_type": "display_data"
    },
    {
     "name": "stderr",
     "output_type": "stream",
     "text": [
      "26-Mar-25 15:02:31 - Saving results to results/processed_texts.csv\n",
      "26-Mar-25 15:02:32 - Starting to process\n"
     ]
    },
    {
     "data": {
      "application/vnd.jupyter.widget-view+json": {
       "model_id": "cfc4e86813ad4bec9dc1a1fe98819434",
       "version_major": 2,
       "version_minor": 0
      },
      "text/plain": [
       "Processing texts:   0%|          | 0/1 [00:00<?, ?it/s]"
      ]
     },
     "metadata": {},
     "output_type": "display_data"
    },
    {
     "name": "stderr",
     "output_type": "stream",
     "text": [
      "26-Mar-25 15:02:32 - Saving results to results/processed_texts.csv\n",
      "26-Mar-25 15:02:33 - Starting to process\n"
     ]
    },
    {
     "data": {
      "application/vnd.jupyter.widget-view+json": {
       "model_id": "1dede58d0c7e4a389bb6ca93479b107e",
       "version_major": 2,
       "version_minor": 0
      },
      "text/plain": [
       "Processing texts:   0%|          | 0/1 [00:00<?, ?it/s]"
      ]
     },
     "metadata": {},
     "output_type": "display_data"
    },
    {
     "name": "stderr",
     "output_type": "stream",
     "text": [
      "26-Mar-25 15:02:33 - Saving results to results/processed_texts.csv\n",
      "26-Mar-25 15:02:34 - Starting to process\n"
     ]
    },
    {
     "data": {
      "application/vnd.jupyter.widget-view+json": {
       "model_id": "eb2d983c0b464a4b85168794c62463ad",
       "version_major": 2,
       "version_minor": 0
      },
      "text/plain": [
       "Processing texts:   0%|          | 0/1 [00:00<?, ?it/s]"
      ]
     },
     "metadata": {},
     "output_type": "display_data"
    },
    {
     "name": "stderr",
     "output_type": "stream",
     "text": [
      "26-Mar-25 15:02:34 - Saving results to results/processed_texts.csv\n",
      "26-Mar-25 15:02:35 - Starting to process\n"
     ]
    },
    {
     "data": {
      "application/vnd.jupyter.widget-view+json": {
       "model_id": "d4e9fdf77a1e413aa48808c0b15f8056",
       "version_major": 2,
       "version_minor": 0
      },
      "text/plain": [
       "Processing texts:   0%|          | 0/1 [00:00<?, ?it/s]"
      ]
     },
     "metadata": {},
     "output_type": "display_data"
    },
    {
     "name": "stderr",
     "output_type": "stream",
     "text": [
      "26-Mar-25 15:02:35 - Saving results to results/processed_texts.csv\n",
      "26-Mar-25 15:02:36 - Starting to process\n"
     ]
    },
    {
     "data": {
      "application/vnd.jupyter.widget-view+json": {
       "model_id": "9b45ad3c2acd4182b69f06fc447e0b29",
       "version_major": 2,
       "version_minor": 0
      },
      "text/plain": [
       "Processing texts:   0%|          | 0/1 [00:00<?, ?it/s]"
      ]
     },
     "metadata": {},
     "output_type": "display_data"
    },
    {
     "name": "stderr",
     "output_type": "stream",
     "text": [
      "26-Mar-25 15:02:36 - Saving results to results/processed_texts.csv\n",
      "26-Mar-25 15:02:37 - Starting to process\n"
     ]
    },
    {
     "data": {
      "application/vnd.jupyter.widget-view+json": {
       "model_id": "be40caa77d99450fa625090d1ec2814a",
       "version_major": 2,
       "version_minor": 0
      },
      "text/plain": [
       "Processing texts:   0%|          | 0/1 [00:00<?, ?it/s]"
      ]
     },
     "metadata": {},
     "output_type": "display_data"
    },
    {
     "name": "stderr",
     "output_type": "stream",
     "text": [
      "26-Mar-25 15:02:37 - Saving results to results/processed_texts.csv\n",
      "26-Mar-25 15:02:38 - Starting to process\n"
     ]
    },
    {
     "data": {
      "application/vnd.jupyter.widget-view+json": {
       "model_id": "33e3538c8a104fdbad01d6a4bebc8d93",
       "version_major": 2,
       "version_minor": 0
      },
      "text/plain": [
       "Processing texts:   0%|          | 0/1 [00:00<?, ?it/s]"
      ]
     },
     "metadata": {},
     "output_type": "display_data"
    },
    {
     "name": "stderr",
     "output_type": "stream",
     "text": [
      "26-Mar-25 15:02:38 - Saving results to results/processed_texts.csv\n",
      "26-Mar-25 15:02:39 - Starting to process\n"
     ]
    },
    {
     "data": {
      "application/vnd.jupyter.widget-view+json": {
       "model_id": "7f6edd5ca9c2464ea3d93639e10ad042",
       "version_major": 2,
       "version_minor": 0
      },
      "text/plain": [
       "Processing texts:   0%|          | 0/1 [00:00<?, ?it/s]"
      ]
     },
     "metadata": {},
     "output_type": "display_data"
    },
    {
     "name": "stderr",
     "output_type": "stream",
     "text": [
      "26-Mar-25 15:02:39 - Saving results to results/processed_texts.csv\n",
      "26-Mar-25 15:02:40 - Starting to process\n"
     ]
    },
    {
     "data": {
      "application/vnd.jupyter.widget-view+json": {
       "model_id": "d501cf21f1e7464caad8431677eb1826",
       "version_major": 2,
       "version_minor": 0
      },
      "text/plain": [
       "Processing texts:   0%|          | 0/1 [00:00<?, ?it/s]"
      ]
     },
     "metadata": {},
     "output_type": "display_data"
    },
    {
     "name": "stderr",
     "output_type": "stream",
     "text": [
      "26-Mar-25 15:02:40 - Saving results to results/processed_texts.csv\n",
      "26-Mar-25 15:02:40 - Starting to process\n"
     ]
    },
    {
     "data": {
      "application/vnd.jupyter.widget-view+json": {
       "model_id": "f65305ad571f4cadbcaad5a4a459b4be",
       "version_major": 2,
       "version_minor": 0
      },
      "text/plain": [
       "Processing texts:   0%|          | 0/1 [00:00<?, ?it/s]"
      ]
     },
     "metadata": {},
     "output_type": "display_data"
    },
    {
     "name": "stderr",
     "output_type": "stream",
     "text": [
      "26-Mar-25 15:02:41 - Saving results to results/processed_texts.csv\n",
      "26-Mar-25 15:02:41 - Starting to process\n"
     ]
    },
    {
     "data": {
      "application/vnd.jupyter.widget-view+json": {
       "model_id": "50d30071d6b14b93ae36d67e52dd4d14",
       "version_major": 2,
       "version_minor": 0
      },
      "text/plain": [
       "Processing texts:   0%|          | 0/1 [00:00<?, ?it/s]"
      ]
     },
     "metadata": {},
     "output_type": "display_data"
    },
    {
     "name": "stderr",
     "output_type": "stream",
     "text": [
      "26-Mar-25 15:02:42 - Saving results to results/processed_texts.csv\n",
      "26-Mar-25 15:02:42 - Starting to process\n"
     ]
    },
    {
     "data": {
      "application/vnd.jupyter.widget-view+json": {
       "model_id": "b66702caf551400b903245e3d5c12f5a",
       "version_major": 2,
       "version_minor": 0
      },
      "text/plain": [
       "Processing texts:   0%|          | 0/1 [00:00<?, ?it/s]"
      ]
     },
     "metadata": {},
     "output_type": "display_data"
    },
    {
     "name": "stderr",
     "output_type": "stream",
     "text": [
      "26-Mar-25 15:02:43 - Saving results to results/processed_texts.csv\n",
      "26-Mar-25 15:02:43 - Starting to process\n"
     ]
    },
    {
     "data": {
      "application/vnd.jupyter.widget-view+json": {
       "model_id": "ecd9b13b82dc4c658c871462c0aebf5f",
       "version_major": 2,
       "version_minor": 0
      },
      "text/plain": [
       "Processing texts:   0%|          | 0/1 [00:00<?, ?it/s]"
      ]
     },
     "metadata": {},
     "output_type": "display_data"
    },
    {
     "name": "stderr",
     "output_type": "stream",
     "text": [
      "26-Mar-25 15:02:43 - Saving results to results/processed_texts.csv\n",
      "26-Mar-25 15:02:44 - Starting to process\n"
     ]
    },
    {
     "data": {
      "application/vnd.jupyter.widget-view+json": {
       "model_id": "53a85481c6f743aa8b061243925c34a6",
       "version_major": 2,
       "version_minor": 0
      },
      "text/plain": [
       "Processing texts:   0%|          | 0/1 [00:00<?, ?it/s]"
      ]
     },
     "metadata": {},
     "output_type": "display_data"
    },
    {
     "name": "stderr",
     "output_type": "stream",
     "text": [
      "26-Mar-25 15:02:44 - Saving results to results/processed_texts.csv\n",
      "26-Mar-25 15:02:45 - Starting to process\n"
     ]
    },
    {
     "data": {
      "application/vnd.jupyter.widget-view+json": {
       "model_id": "31b3aac5da8144de9352f99a0fccb316",
       "version_major": 2,
       "version_minor": 0
      },
      "text/plain": [
       "Processing texts:   0%|          | 0/1 [00:00<?, ?it/s]"
      ]
     },
     "metadata": {},
     "output_type": "display_data"
    },
    {
     "name": "stderr",
     "output_type": "stream",
     "text": [
      "26-Mar-25 15:02:45 - Saving results to results/processed_texts.csv\n",
      "26-Mar-25 15:02:46 - Starting to process\n"
     ]
    },
    {
     "data": {
      "application/vnd.jupyter.widget-view+json": {
       "model_id": "b60332e48a334857a5245b4d7f9d723d",
       "version_major": 2,
       "version_minor": 0
      },
      "text/plain": [
       "Processing texts:   0%|          | 0/1 [00:00<?, ?it/s]"
      ]
     },
     "metadata": {},
     "output_type": "display_data"
    },
    {
     "name": "stderr",
     "output_type": "stream",
     "text": [
      "26-Mar-25 15:02:46 - Saving results to results/processed_texts.csv\n",
      "26-Mar-25 15:02:46 - Starting to process\n"
     ]
    },
    {
     "data": {
      "application/vnd.jupyter.widget-view+json": {
       "model_id": "96a8c1c10918479bb297bb9715ded871",
       "version_major": 2,
       "version_minor": 0
      },
      "text/plain": [
       "Processing texts:   0%|          | 0/1 [00:00<?, ?it/s]"
      ]
     },
     "metadata": {},
     "output_type": "display_data"
    },
    {
     "name": "stderr",
     "output_type": "stream",
     "text": [
      "26-Mar-25 15:02:47 - Saving results to results/processed_texts.csv\n",
      "26-Mar-25 15:02:47 - Starting to process\n"
     ]
    },
    {
     "data": {
      "application/vnd.jupyter.widget-view+json": {
       "model_id": "1ccad569c6d4428b9050aa92e8b621b3",
       "version_major": 2,
       "version_minor": 0
      },
      "text/plain": [
       "Processing texts:   0%|          | 0/1 [00:00<?, ?it/s]"
      ]
     },
     "metadata": {},
     "output_type": "display_data"
    },
    {
     "name": "stderr",
     "output_type": "stream",
     "text": [
      "26-Mar-25 15:02:48 - Saving results to results/processed_texts.csv\n",
      "26-Mar-25 15:02:48 - Starting to process\n"
     ]
    },
    {
     "data": {
      "application/vnd.jupyter.widget-view+json": {
       "model_id": "fbd5d6f49aa44944bce1d48c93c37bee",
       "version_major": 2,
       "version_minor": 0
      },
      "text/plain": [
       "Processing texts:   0%|          | 0/1 [00:00<?, ?it/s]"
      ]
     },
     "metadata": {},
     "output_type": "display_data"
    },
    {
     "name": "stderr",
     "output_type": "stream",
     "text": [
      "26-Mar-25 15:02:49 - Saving results to results/processed_texts.csv\n",
      "26-Mar-25 15:02:49 - Starting to process\n"
     ]
    },
    {
     "data": {
      "application/vnd.jupyter.widget-view+json": {
       "model_id": "06d1fafee09a46a48a8fb985f65ac52d",
       "version_major": 2,
       "version_minor": 0
      },
      "text/plain": [
       "Processing texts:   0%|          | 0/1 [00:00<?, ?it/s]"
      ]
     },
     "metadata": {},
     "output_type": "display_data"
    },
    {
     "name": "stderr",
     "output_type": "stream",
     "text": [
      "26-Mar-25 15:02:49 - Saving results to results/processed_texts.csv\n",
      "26-Mar-25 15:02:50 - Starting to process\n"
     ]
    },
    {
     "data": {
      "application/vnd.jupyter.widget-view+json": {
       "model_id": "7329c918f756424e969caf4f356f797e",
       "version_major": 2,
       "version_minor": 0
      },
      "text/plain": [
       "Processing texts:   0%|          | 0/1 [00:00<?, ?it/s]"
      ]
     },
     "metadata": {},
     "output_type": "display_data"
    },
    {
     "name": "stderr",
     "output_type": "stream",
     "text": [
      "26-Mar-25 15:02:50 - Saving results to results/processed_texts.csv\n",
      "26-Mar-25 15:02:51 - Starting to process\n"
     ]
    },
    {
     "data": {
      "application/vnd.jupyter.widget-view+json": {
       "model_id": "05c13b4cfa704c27a1a670e795667a23",
       "version_major": 2,
       "version_minor": 0
      },
      "text/plain": [
       "Processing texts:   0%|          | 0/1 [00:00<?, ?it/s]"
      ]
     },
     "metadata": {},
     "output_type": "display_data"
    },
    {
     "name": "stderr",
     "output_type": "stream",
     "text": [
      "26-Mar-25 15:02:51 - Saving results to results/processed_texts.csv\n",
      "26-Mar-25 15:02:52 - Starting to process\n"
     ]
    },
    {
     "data": {
      "application/vnd.jupyter.widget-view+json": {
       "model_id": "bf42540615354934b78ee088f94acb6e",
       "version_major": 2,
       "version_minor": 0
      },
      "text/plain": [
       "Processing texts:   0%|          | 0/1 [00:00<?, ?it/s]"
      ]
     },
     "metadata": {},
     "output_type": "display_data"
    },
    {
     "name": "stderr",
     "output_type": "stream",
     "text": [
      "26-Mar-25 15:02:52 - Saving results to results/processed_texts.csv\n",
      "26-Mar-25 15:02:53 - Starting to process\n"
     ]
    },
    {
     "data": {
      "application/vnd.jupyter.widget-view+json": {
       "model_id": "ef1e299fd94f43aab29e2a4fb73977cd",
       "version_major": 2,
       "version_minor": 0
      },
      "text/plain": [
       "Processing texts:   0%|          | 0/1 [00:00<?, ?it/s]"
      ]
     },
     "metadata": {},
     "output_type": "display_data"
    },
    {
     "name": "stderr",
     "output_type": "stream",
     "text": [
      "26-Mar-25 15:02:53 - Saving results to results/processed_texts.csv\n",
      "26-Mar-25 15:02:54 - Starting to process\n"
     ]
    },
    {
     "data": {
      "application/vnd.jupyter.widget-view+json": {
       "model_id": "699206148f4c4f91a137ee792bc43a64",
       "version_major": 2,
       "version_minor": 0
      },
      "text/plain": [
       "Processing texts:   0%|          | 0/1 [00:00<?, ?it/s]"
      ]
     },
     "metadata": {},
     "output_type": "display_data"
    },
    {
     "name": "stderr",
     "output_type": "stream",
     "text": [
      "26-Mar-25 15:02:54 - Saving results to results/processed_texts.csv\n",
      "26-Mar-25 15:02:55 - Starting to process\n"
     ]
    },
    {
     "data": {
      "application/vnd.jupyter.widget-view+json": {
       "model_id": "7f4d0c8d66684d48a3c8504c0ea33e51",
       "version_major": 2,
       "version_minor": 0
      },
      "text/plain": [
       "Processing texts:   0%|          | 0/1 [00:00<?, ?it/s]"
      ]
     },
     "metadata": {},
     "output_type": "display_data"
    },
    {
     "name": "stderr",
     "output_type": "stream",
     "text": [
      "26-Mar-25 15:02:55 - Saving results to results/processed_texts.csv\n",
      "26-Mar-25 15:02:56 - Starting to process\n"
     ]
    },
    {
     "data": {
      "application/vnd.jupyter.widget-view+json": {
       "model_id": "2d216e1018554de5983371301c48c9fd",
       "version_major": 2,
       "version_minor": 0
      },
      "text/plain": [
       "Processing texts:   0%|          | 0/1 [00:00<?, ?it/s]"
      ]
     },
     "metadata": {},
     "output_type": "display_data"
    },
    {
     "name": "stderr",
     "output_type": "stream",
     "text": [
      "26-Mar-25 15:02:56 - Saving results to results/processed_texts.csv\n",
      "26-Mar-25 15:02:57 - Starting to process\n"
     ]
    },
    {
     "data": {
      "application/vnd.jupyter.widget-view+json": {
       "model_id": "9886b23240624653af2e8be6dbd82f7b",
       "version_major": 2,
       "version_minor": 0
      },
      "text/plain": [
       "Processing texts:   0%|          | 0/1 [00:00<?, ?it/s]"
      ]
     },
     "metadata": {},
     "output_type": "display_data"
    },
    {
     "name": "stderr",
     "output_type": "stream",
     "text": [
      "26-Mar-25 15:02:57 - Saving results to results/processed_texts.csv\n",
      "26-Mar-25 15:02:58 - Starting to process\n"
     ]
    },
    {
     "data": {
      "application/vnd.jupyter.widget-view+json": {
       "model_id": "2eb88b3e738b43188455ca07d98361e3",
       "version_major": 2,
       "version_minor": 0
      },
      "text/plain": [
       "Processing texts:   0%|          | 0/1 [00:00<?, ?it/s]"
      ]
     },
     "metadata": {},
     "output_type": "display_data"
    },
    {
     "name": "stderr",
     "output_type": "stream",
     "text": [
      "26-Mar-25 15:02:58 - Saving results to results/processed_texts.csv\n",
      "26-Mar-25 15:02:59 - Starting to process\n"
     ]
    },
    {
     "data": {
      "application/vnd.jupyter.widget-view+json": {
       "model_id": "3a54830c2c6f4191bab94d2ce6e72ebb",
       "version_major": 2,
       "version_minor": 0
      },
      "text/plain": [
       "Processing texts:   0%|          | 0/1 [00:00<?, ?it/s]"
      ]
     },
     "metadata": {},
     "output_type": "display_data"
    },
    {
     "name": "stderr",
     "output_type": "stream",
     "text": [
      "26-Mar-25 15:02:59 - Saving results to results/processed_texts.csv\n",
      "26-Mar-25 15:03:00 - Starting to process\n"
     ]
    },
    {
     "data": {
      "application/vnd.jupyter.widget-view+json": {
       "model_id": "5a236371f12049dd8d77df8fd74be6eb",
       "version_major": 2,
       "version_minor": 0
      },
      "text/plain": [
       "Processing texts:   0%|          | 0/1 [00:00<?, ?it/s]"
      ]
     },
     "metadata": {},
     "output_type": "display_data"
    },
    {
     "name": "stderr",
     "output_type": "stream",
     "text": [
      "26-Mar-25 15:03:01 - Saving results to results/processed_texts.csv\n",
      "26-Mar-25 15:03:01 - Starting to process\n"
     ]
    },
    {
     "data": {
      "application/vnd.jupyter.widget-view+json": {
       "model_id": "d538e980ea5e4a21a0d8bcbc0dc88516",
       "version_major": 2,
       "version_minor": 0
      },
      "text/plain": [
       "Processing texts:   0%|          | 0/1 [00:00<?, ?it/s]"
      ]
     },
     "metadata": {},
     "output_type": "display_data"
    },
    {
     "name": "stderr",
     "output_type": "stream",
     "text": [
      "26-Mar-25 15:03:01 - Saving results to results/processed_texts.csv\n",
      "26-Mar-25 15:03:02 - Starting to process\n"
     ]
    },
    {
     "data": {
      "application/vnd.jupyter.widget-view+json": {
       "model_id": "48e65384b0cd4eb09140f1d023b74d73",
       "version_major": 2,
       "version_minor": 0
      },
      "text/plain": [
       "Processing texts:   0%|          | 0/1 [00:00<?, ?it/s]"
      ]
     },
     "metadata": {},
     "output_type": "display_data"
    },
    {
     "name": "stderr",
     "output_type": "stream",
     "text": [
      "26-Mar-25 15:03:02 - Saving results to results/processed_texts.csv\n",
      "26-Mar-25 15:03:03 - Starting to process\n"
     ]
    },
    {
     "data": {
      "application/vnd.jupyter.widget-view+json": {
       "model_id": "7733d152be374a03a6ce04ba54250c8f",
       "version_major": 2,
       "version_minor": 0
      },
      "text/plain": [
       "Processing texts:   0%|          | 0/1 [00:00<?, ?it/s]"
      ]
     },
     "metadata": {},
     "output_type": "display_data"
    },
    {
     "name": "stderr",
     "output_type": "stream",
     "text": [
      "26-Mar-25 15:03:03 - Saving results to results/processed_texts.csv\n",
      "26-Mar-25 15:03:04 - Starting to process\n"
     ]
    },
    {
     "data": {
      "application/vnd.jupyter.widget-view+json": {
       "model_id": "d90555fc7f5d41739e40116fdd47b4a6",
       "version_major": 2,
       "version_minor": 0
      },
      "text/plain": [
       "Processing texts:   0%|          | 0/1 [00:00<?, ?it/s]"
      ]
     },
     "metadata": {},
     "output_type": "display_data"
    },
    {
     "name": "stderr",
     "output_type": "stream",
     "text": [
      "26-Mar-25 15:03:04 - Saving results to results/processed_texts.csv\n",
      "26-Mar-25 15:03:05 - Starting to process\n"
     ]
    },
    {
     "data": {
      "application/vnd.jupyter.widget-view+json": {
       "model_id": "fe63e84b784443408fb7ec1c9004ea6b",
       "version_major": 2,
       "version_minor": 0
      },
      "text/plain": [
       "Processing texts:   0%|          | 0/1 [00:00<?, ?it/s]"
      ]
     },
     "metadata": {},
     "output_type": "display_data"
    },
    {
     "name": "stderr",
     "output_type": "stream",
     "text": [
      "26-Mar-25 15:03:05 - Saving results to results/processed_texts.csv\n",
      "26-Mar-25 15:03:06 - Starting to process\n"
     ]
    },
    {
     "data": {
      "application/vnd.jupyter.widget-view+json": {
       "model_id": "d847e135c4a1411ea6b47d3f0a8e2063",
       "version_major": 2,
       "version_minor": 0
      },
      "text/plain": [
       "Processing texts:   0%|          | 0/1 [00:00<?, ?it/s]"
      ]
     },
     "metadata": {},
     "output_type": "display_data"
    },
    {
     "name": "stderr",
     "output_type": "stream",
     "text": [
      "26-Mar-25 15:03:06 - Saving results to results/processed_texts.csv\n",
      "26-Mar-25 15:03:07 - Starting to process\n"
     ]
    },
    {
     "data": {
      "application/vnd.jupyter.widget-view+json": {
       "model_id": "096306e2cde5486c8ea06c1839554c0d",
       "version_major": 2,
       "version_minor": 0
      },
      "text/plain": [
       "Processing texts:   0%|          | 0/1 [00:00<?, ?it/s]"
      ]
     },
     "metadata": {},
     "output_type": "display_data"
    },
    {
     "name": "stderr",
     "output_type": "stream",
     "text": [
      "26-Mar-25 15:03:07 - Saving results to results/processed_texts.csv\n",
      "26-Mar-25 15:03:07 - Starting to process\n"
     ]
    },
    {
     "data": {
      "application/vnd.jupyter.widget-view+json": {
       "model_id": "bd4747e0e790495eba270f263d157ef1",
       "version_major": 2,
       "version_minor": 0
      },
      "text/plain": [
       "Processing texts:   0%|          | 0/1 [00:00<?, ?it/s]"
      ]
     },
     "metadata": {},
     "output_type": "display_data"
    },
    {
     "name": "stderr",
     "output_type": "stream",
     "text": [
      "26-Mar-25 15:03:08 - Saving results to results/processed_texts.csv\n",
      "26-Mar-25 15:03:08 - Starting to process\n"
     ]
    },
    {
     "data": {
      "application/vnd.jupyter.widget-view+json": {
       "model_id": "ca7cddccbc2a4e2c9ba6ba4bed5d88f6",
       "version_major": 2,
       "version_minor": 0
      },
      "text/plain": [
       "Processing texts:   0%|          | 0/1 [00:00<?, ?it/s]"
      ]
     },
     "metadata": {},
     "output_type": "display_data"
    },
    {
     "name": "stderr",
     "output_type": "stream",
     "text": [
      "26-Mar-25 15:03:09 - Saving results to results/processed_texts.csv\n",
      "26-Mar-25 15:03:09 - Starting to process\n"
     ]
    },
    {
     "data": {
      "application/vnd.jupyter.widget-view+json": {
       "model_id": "1e6f478df118437ebe49bf37cdb33f29",
       "version_major": 2,
       "version_minor": 0
      },
      "text/plain": [
       "Processing texts:   0%|          | 0/1 [00:00<?, ?it/s]"
      ]
     },
     "metadata": {},
     "output_type": "display_data"
    },
    {
     "name": "stderr",
     "output_type": "stream",
     "text": [
      "26-Mar-25 15:03:10 - Saving results to results/processed_texts.csv\n",
      "26-Mar-25 15:03:10 - Starting to process\n"
     ]
    },
    {
     "data": {
      "application/vnd.jupyter.widget-view+json": {
       "model_id": "2c5bd74117344677bcd2fcc24aaa0a9c",
       "version_major": 2,
       "version_minor": 0
      },
      "text/plain": [
       "Processing texts:   0%|          | 0/1 [00:00<?, ?it/s]"
      ]
     },
     "metadata": {},
     "output_type": "display_data"
    },
    {
     "name": "stderr",
     "output_type": "stream",
     "text": [
      "26-Mar-25 15:03:11 - Saving results to results/processed_texts.csv\n",
      "26-Mar-25 15:03:11 - Starting to process\n"
     ]
    },
    {
     "data": {
      "application/vnd.jupyter.widget-view+json": {
       "model_id": "325b78234bae4ee3b337606e566770c6",
       "version_major": 2,
       "version_minor": 0
      },
      "text/plain": [
       "Processing texts:   0%|          | 0/1 [00:00<?, ?it/s]"
      ]
     },
     "metadata": {},
     "output_type": "display_data"
    },
    {
     "name": "stderr",
     "output_type": "stream",
     "text": [
      "26-Mar-25 15:03:12 - Saving results to results/processed_texts.csv\n",
      "26-Mar-25 15:03:12 - Starting to process\n"
     ]
    },
    {
     "data": {
      "application/vnd.jupyter.widget-view+json": {
       "model_id": "98f7014ca4f44319b217931315351545",
       "version_major": 2,
       "version_minor": 0
      },
      "text/plain": [
       "Processing texts:   0%|          | 0/1 [00:00<?, ?it/s]"
      ]
     },
     "metadata": {},
     "output_type": "display_data"
    },
    {
     "name": "stderr",
     "output_type": "stream",
     "text": [
      "26-Mar-25 15:03:12 - Saving results to results/processed_texts.csv\n",
      "26-Mar-25 15:03:13 - Starting to process\n"
     ]
    },
    {
     "data": {
      "application/vnd.jupyter.widget-view+json": {
       "model_id": "ff81781a6e284d57926ddc3bf859bcb9",
       "version_major": 2,
       "version_minor": 0
      },
      "text/plain": [
       "Processing texts:   0%|          | 0/1 [00:00<?, ?it/s]"
      ]
     },
     "metadata": {},
     "output_type": "display_data"
    },
    {
     "name": "stderr",
     "output_type": "stream",
     "text": [
      "26-Mar-25 15:03:13 - Saving results to results/processed_texts.csv\n",
      "26-Mar-25 15:03:14 - Starting to process\n"
     ]
    },
    {
     "data": {
      "application/vnd.jupyter.widget-view+json": {
       "model_id": "99fa64cc4cd74d7b953ea1495faeefda",
       "version_major": 2,
       "version_minor": 0
      },
      "text/plain": [
       "Processing texts:   0%|          | 0/1 [00:00<?, ?it/s]"
      ]
     },
     "metadata": {},
     "output_type": "display_data"
    },
    {
     "name": "stderr",
     "output_type": "stream",
     "text": [
      "26-Mar-25 15:03:14 - Saving results to results/processed_texts.csv\n",
      "26-Mar-25 15:03:15 - Starting to process\n"
     ]
    },
    {
     "data": {
      "application/vnd.jupyter.widget-view+json": {
       "model_id": "1b954d5d65c2494ea0f280dd2a0e801f",
       "version_major": 2,
       "version_minor": 0
      },
      "text/plain": [
       "Processing texts:   0%|          | 0/1 [00:00<?, ?it/s]"
      ]
     },
     "metadata": {},
     "output_type": "display_data"
    },
    {
     "name": "stderr",
     "output_type": "stream",
     "text": [
      "26-Mar-25 15:03:15 - Saving results to results/processed_texts.csv\n",
      "26-Mar-25 15:03:16 - Starting to process\n"
     ]
    },
    {
     "data": {
      "application/vnd.jupyter.widget-view+json": {
       "model_id": "7f3246647a204b24be422f7981c4e374",
       "version_major": 2,
       "version_minor": 0
      },
      "text/plain": [
       "Processing texts:   0%|          | 0/1 [00:00<?, ?it/s]"
      ]
     },
     "metadata": {},
     "output_type": "display_data"
    },
    {
     "name": "stderr",
     "output_type": "stream",
     "text": [
      "26-Mar-25 15:03:16 - Saving results to results/processed_texts.csv\n",
      "26-Mar-25 15:03:17 - Starting to process\n"
     ]
    },
    {
     "data": {
      "application/vnd.jupyter.widget-view+json": {
       "model_id": "24274ab770ef472baa75e40f3922ccac",
       "version_major": 2,
       "version_minor": 0
      },
      "text/plain": [
       "Processing texts:   0%|          | 0/1 [00:00<?, ?it/s]"
      ]
     },
     "metadata": {},
     "output_type": "display_data"
    },
    {
     "name": "stderr",
     "output_type": "stream",
     "text": [
      "26-Mar-25 15:03:17 - Saving results to results/processed_texts.csv\n",
      "26-Mar-25 15:03:18 - Starting to process\n"
     ]
    },
    {
     "data": {
      "application/vnd.jupyter.widget-view+json": {
       "model_id": "e65014edc1a048a683dc6f4daead1234",
       "version_major": 2,
       "version_minor": 0
      },
      "text/plain": [
       "Processing texts:   0%|          | 0/1 [00:00<?, ?it/s]"
      ]
     },
     "metadata": {},
     "output_type": "display_data"
    },
    {
     "name": "stderr",
     "output_type": "stream",
     "text": [
      "26-Mar-25 15:03:18 - Saving results to results/processed_texts.csv\n",
      "26-Mar-25 15:03:19 - Starting to process\n"
     ]
    },
    {
     "data": {
      "application/vnd.jupyter.widget-view+json": {
       "model_id": "3ed6ba61f36044b098418bee7362b681",
       "version_major": 2,
       "version_minor": 0
      },
      "text/plain": [
       "Processing texts:   0%|          | 0/1 [00:00<?, ?it/s]"
      ]
     },
     "metadata": {},
     "output_type": "display_data"
    },
    {
     "name": "stderr",
     "output_type": "stream",
     "text": [
      "26-Mar-25 15:03:19 - Saving results to results/processed_texts.csv\n",
      "26-Mar-25 15:03:20 - Starting to process\n"
     ]
    },
    {
     "data": {
      "application/vnd.jupyter.widget-view+json": {
       "model_id": "56f24beb5a644b869f95c8fe9fc7eab3",
       "version_major": 2,
       "version_minor": 0
      },
      "text/plain": [
       "Processing texts:   0%|          | 0/1 [00:00<?, ?it/s]"
      ]
     },
     "metadata": {},
     "output_type": "display_data"
    },
    {
     "name": "stderr",
     "output_type": "stream",
     "text": [
      "26-Mar-25 15:03:20 - Saving results to results/processed_texts.csv\n",
      "26-Mar-25 15:03:20 - Starting to process\n"
     ]
    },
    {
     "data": {
      "application/vnd.jupyter.widget-view+json": {
       "model_id": "472e65570d174ff397aabbf4a2bde77d",
       "version_major": 2,
       "version_minor": 0
      },
      "text/plain": [
       "Processing texts:   0%|          | 0/1 [00:00<?, ?it/s]"
      ]
     },
     "metadata": {},
     "output_type": "display_data"
    },
    {
     "name": "stderr",
     "output_type": "stream",
     "text": [
      "26-Mar-25 15:03:21 - Saving results to results/processed_texts.csv\n",
      "26-Mar-25 15:03:21 - Starting to process\n"
     ]
    },
    {
     "data": {
      "application/vnd.jupyter.widget-view+json": {
       "model_id": "c62e20267acf4dcfbb774633769f9610",
       "version_major": 2,
       "version_minor": 0
      },
      "text/plain": [
       "Processing texts:   0%|          | 0/1 [00:00<?, ?it/s]"
      ]
     },
     "metadata": {},
     "output_type": "display_data"
    },
    {
     "name": "stderr",
     "output_type": "stream",
     "text": [
      "26-Mar-25 15:03:22 - Saving results to results/processed_texts.csv\n",
      "26-Mar-25 15:03:22 - Starting to process\n"
     ]
    },
    {
     "data": {
      "application/vnd.jupyter.widget-view+json": {
       "model_id": "25bf0ca9a4674c7d82121b985c47fe0e",
       "version_major": 2,
       "version_minor": 0
      },
      "text/plain": [
       "Processing texts:   0%|          | 0/1 [00:00<?, ?it/s]"
      ]
     },
     "metadata": {},
     "output_type": "display_data"
    },
    {
     "name": "stderr",
     "output_type": "stream",
     "text": [
      "26-Mar-25 15:03:23 - Saving results to results/processed_texts.csv\n",
      "26-Mar-25 15:03:23 - Starting to process\n"
     ]
    },
    {
     "data": {
      "application/vnd.jupyter.widget-view+json": {
       "model_id": "844208dcfc8c402b9bf1c7d9a55a1df2",
       "version_major": 2,
       "version_minor": 0
      },
      "text/plain": [
       "Processing texts:   0%|          | 0/1 [00:00<?, ?it/s]"
      ]
     },
     "metadata": {},
     "output_type": "display_data"
    },
    {
     "name": "stderr",
     "output_type": "stream",
     "text": [
      "26-Mar-25 15:03:24 - Saving results to results/processed_texts.csv\n",
      "26-Mar-25 15:03:24 - Starting to process\n"
     ]
    },
    {
     "data": {
      "application/vnd.jupyter.widget-view+json": {
       "model_id": "ae9c3e584fad4055b17975211f5e8ab2",
       "version_major": 2,
       "version_minor": 0
      },
      "text/plain": [
       "Processing texts:   0%|          | 0/1 [00:00<?, ?it/s]"
      ]
     },
     "metadata": {},
     "output_type": "display_data"
    },
    {
     "name": "stderr",
     "output_type": "stream",
     "text": [
      "26-Mar-25 15:03:25 - Saving results to results/processed_texts.csv\n",
      "26-Mar-25 15:03:25 - Starting to process\n"
     ]
    },
    {
     "data": {
      "application/vnd.jupyter.widget-view+json": {
       "model_id": "b173e779d8314aa1bb16a274583ff1ec",
       "version_major": 2,
       "version_minor": 0
      },
      "text/plain": [
       "Processing texts:   0%|          | 0/1 [00:00<?, ?it/s]"
      ]
     },
     "metadata": {},
     "output_type": "display_data"
    },
    {
     "name": "stderr",
     "output_type": "stream",
     "text": [
      "26-Mar-25 15:03:26 - Saving results to results/processed_texts.csv\n",
      "26-Mar-25 15:03:26 - Starting to process\n"
     ]
    },
    {
     "data": {
      "application/vnd.jupyter.widget-view+json": {
       "model_id": "8f4e1413195d4bd0ae7d9ce6e4ba3939",
       "version_major": 2,
       "version_minor": 0
      },
      "text/plain": [
       "Processing texts:   0%|          | 0/1 [00:00<?, ?it/s]"
      ]
     },
     "metadata": {},
     "output_type": "display_data"
    },
    {
     "name": "stderr",
     "output_type": "stream",
     "text": [
      "26-Mar-25 15:03:27 - Saving results to results/processed_texts.csv\n",
      "26-Mar-25 15:03:27 - Starting to process\n"
     ]
    },
    {
     "data": {
      "application/vnd.jupyter.widget-view+json": {
       "model_id": "d7d094a791b14ca69eca99ee2fc0321a",
       "version_major": 2,
       "version_minor": 0
      },
      "text/plain": [
       "Processing texts:   0%|          | 0/1 [00:00<?, ?it/s]"
      ]
     },
     "metadata": {},
     "output_type": "display_data"
    },
    {
     "name": "stderr",
     "output_type": "stream",
     "text": [
      "26-Mar-25 15:03:28 - Saving results to results/processed_texts.csv\n",
      "26-Mar-25 15:03:28 - Starting to process\n"
     ]
    },
    {
     "data": {
      "application/vnd.jupyter.widget-view+json": {
       "model_id": "d74d06d120384e55ac3998c90cfb14aa",
       "version_major": 2,
       "version_minor": 0
      },
      "text/plain": [
       "Processing texts:   0%|          | 0/1 [00:00<?, ?it/s]"
      ]
     },
     "metadata": {},
     "output_type": "display_data"
    },
    {
     "name": "stderr",
     "output_type": "stream",
     "text": [
      "26-Mar-25 15:03:29 - Saving results to results/processed_texts.csv\n",
      "26-Mar-25 15:03:29 - Starting to process\n"
     ]
    },
    {
     "data": {
      "application/vnd.jupyter.widget-view+json": {
       "model_id": "43a21b06a192459b8e82b18b2852b726",
       "version_major": 2,
       "version_minor": 0
      },
      "text/plain": [
       "Processing texts:   0%|          | 0/1 [00:00<?, ?it/s]"
      ]
     },
     "metadata": {},
     "output_type": "display_data"
    },
    {
     "name": "stderr",
     "output_type": "stream",
     "text": [
      "26-Mar-25 15:03:30 - Saving results to results/processed_texts.csv\n",
      "26-Mar-25 15:03:30 - Starting to process\n"
     ]
    },
    {
     "data": {
      "application/vnd.jupyter.widget-view+json": {
       "model_id": "779e525d40a54092b9117af45d025df1",
       "version_major": 2,
       "version_minor": 0
      },
      "text/plain": [
       "Processing texts:   0%|          | 0/1 [00:00<?, ?it/s]"
      ]
     },
     "metadata": {},
     "output_type": "display_data"
    },
    {
     "name": "stderr",
     "output_type": "stream",
     "text": [
      "26-Mar-25 15:03:31 - Saving results to results/processed_texts.csv\n",
      "26-Mar-25 15:03:31 - Starting to process\n"
     ]
    },
    {
     "data": {
      "application/vnd.jupyter.widget-view+json": {
       "model_id": "8ba1f07b462a4912affd34288c2146a4",
       "version_major": 2,
       "version_minor": 0
      },
      "text/plain": [
       "Processing texts:   0%|          | 0/1 [00:00<?, ?it/s]"
      ]
     },
     "metadata": {},
     "output_type": "display_data"
    },
    {
     "name": "stderr",
     "output_type": "stream",
     "text": [
      "26-Mar-25 15:03:32 - Saving results to results/processed_texts.csv\n",
      "26-Mar-25 15:03:32 - Starting to process\n"
     ]
    },
    {
     "data": {
      "application/vnd.jupyter.widget-view+json": {
       "model_id": "f1db70b7593f43dbb034e2c4658697f0",
       "version_major": 2,
       "version_minor": 0
      },
      "text/plain": [
       "Processing texts:   0%|          | 0/1 [00:00<?, ?it/s]"
      ]
     },
     "metadata": {},
     "output_type": "display_data"
    },
    {
     "name": "stderr",
     "output_type": "stream",
     "text": [
      "26-Mar-25 15:03:33 - Saving results to results/processed_texts.csv\n",
      "26-Mar-25 15:03:33 - Starting to process\n"
     ]
    },
    {
     "data": {
      "application/vnd.jupyter.widget-view+json": {
       "model_id": "b8714570ad9c4e2cafa8e5d777fa34b2",
       "version_major": 2,
       "version_minor": 0
      },
      "text/plain": [
       "Processing texts:   0%|          | 0/1 [00:00<?, ?it/s]"
      ]
     },
     "metadata": {},
     "output_type": "display_data"
    },
    {
     "name": "stderr",
     "output_type": "stream",
     "text": [
      "26-Mar-25 15:03:34 - Saving results to results/processed_texts.csv\n",
      "26-Mar-25 15:03:34 - Starting to process\n"
     ]
    },
    {
     "data": {
      "application/vnd.jupyter.widget-view+json": {
       "model_id": "f49d081bf06c4319a6f9b6f18bd1526a",
       "version_major": 2,
       "version_minor": 0
      },
      "text/plain": [
       "Processing texts:   0%|          | 0/1 [00:00<?, ?it/s]"
      ]
     },
     "metadata": {},
     "output_type": "display_data"
    },
    {
     "name": "stderr",
     "output_type": "stream",
     "text": [
      "26-Mar-25 15:03:35 - Saving results to results/processed_texts.csv\n",
      "26-Mar-25 15:03:36 - Starting to process\n"
     ]
    },
    {
     "data": {
      "application/vnd.jupyter.widget-view+json": {
       "model_id": "934de90068524e75aec1e57b1a14f7ab",
       "version_major": 2,
       "version_minor": 0
      },
      "text/plain": [
       "Processing texts:   0%|          | 0/1 [00:00<?, ?it/s]"
      ]
     },
     "metadata": {},
     "output_type": "display_data"
    },
    {
     "name": "stderr",
     "output_type": "stream",
     "text": [
      "26-Mar-25 15:03:36 - Saving results to results/processed_texts.csv\n",
      "26-Mar-25 15:03:37 - Starting to process\n"
     ]
    },
    {
     "data": {
      "application/vnd.jupyter.widget-view+json": {
       "model_id": "5480b6001c2d41b0b9f89fa7c6424bc6",
       "version_major": 2,
       "version_minor": 0
      },
      "text/plain": [
       "Processing texts:   0%|          | 0/1 [00:00<?, ?it/s]"
      ]
     },
     "metadata": {},
     "output_type": "display_data"
    },
    {
     "name": "stderr",
     "output_type": "stream",
     "text": [
      "26-Mar-25 15:03:37 - Saving results to results/processed_texts.csv\n",
      "26-Mar-25 15:03:38 - Starting to process\n"
     ]
    },
    {
     "data": {
      "application/vnd.jupyter.widget-view+json": {
       "model_id": "863e747245e245d996203014a22387b7",
       "version_major": 2,
       "version_minor": 0
      },
      "text/plain": [
       "Processing texts:   0%|          | 0/1 [00:00<?, ?it/s]"
      ]
     },
     "metadata": {},
     "output_type": "display_data"
    },
    {
     "name": "stderr",
     "output_type": "stream",
     "text": [
      "26-Mar-25 15:03:38 - Saving results to results/processed_texts.csv\n",
      "26-Mar-25 15:03:39 - Starting to process\n"
     ]
    },
    {
     "data": {
      "application/vnd.jupyter.widget-view+json": {
       "model_id": "a15d69f3d610492f8268dae06194f854",
       "version_major": 2,
       "version_minor": 0
      },
      "text/plain": [
       "Processing texts:   0%|          | 0/1 [00:00<?, ?it/s]"
      ]
     },
     "metadata": {},
     "output_type": "display_data"
    },
    {
     "name": "stderr",
     "output_type": "stream",
     "text": [
      "26-Mar-25 15:03:39 - Saving results to results/processed_texts.csv\n",
      "26-Mar-25 15:03:40 - Starting to process\n"
     ]
    },
    {
     "data": {
      "application/vnd.jupyter.widget-view+json": {
       "model_id": "5631ead13d4d487c9e2f82d0b0271b18",
       "version_major": 2,
       "version_minor": 0
      },
      "text/plain": [
       "Processing texts:   0%|          | 0/1 [00:00<?, ?it/s]"
      ]
     },
     "metadata": {},
     "output_type": "display_data"
    },
    {
     "name": "stderr",
     "output_type": "stream",
     "text": [
      "26-Mar-25 15:03:41 - Saving results to results/processed_texts.csv\n",
      "26-Mar-25 15:03:41 - Starting to process\n"
     ]
    },
    {
     "data": {
      "application/vnd.jupyter.widget-view+json": {
       "model_id": "36466d8d0b1044ada8518912311f4597",
       "version_major": 2,
       "version_minor": 0
      },
      "text/plain": [
       "Processing texts:   0%|          | 0/1 [00:00<?, ?it/s]"
      ]
     },
     "metadata": {},
     "output_type": "display_data"
    },
    {
     "name": "stderr",
     "output_type": "stream",
     "text": [
      "26-Mar-25 15:03:42 - Saving results to results/processed_texts.csv\n",
      "26-Mar-25 15:03:42 - Starting to process\n"
     ]
    },
    {
     "data": {
      "application/vnd.jupyter.widget-view+json": {
       "model_id": "93215c682b5d43c892261669234e0ab9",
       "version_major": 2,
       "version_minor": 0
      },
      "text/plain": [
       "Processing texts:   0%|          | 0/1 [00:00<?, ?it/s]"
      ]
     },
     "metadata": {},
     "output_type": "display_data"
    },
    {
     "name": "stderr",
     "output_type": "stream",
     "text": [
      "26-Mar-25 15:03:42 - Saving results to results/processed_texts.csv\n",
      "26-Mar-25 15:03:43 - Starting to process\n"
     ]
    },
    {
     "data": {
      "application/vnd.jupyter.widget-view+json": {
       "model_id": "030ee1fb10994fb69d5a68eae086df31",
       "version_major": 2,
       "version_minor": 0
      },
      "text/plain": [
       "Processing texts:   0%|          | 0/1 [00:00<?, ?it/s]"
      ]
     },
     "metadata": {},
     "output_type": "display_data"
    },
    {
     "name": "stderr",
     "output_type": "stream",
     "text": [
      "26-Mar-25 15:03:43 - Saving results to results/processed_texts.csv\n",
      "26-Mar-25 15:03:44 - Starting to process\n"
     ]
    },
    {
     "data": {
      "application/vnd.jupyter.widget-view+json": {
       "model_id": "b3d3b642872d48da85c7433d2809037b",
       "version_major": 2,
       "version_minor": 0
      },
      "text/plain": [
       "Processing texts:   0%|          | 0/1 [00:00<?, ?it/s]"
      ]
     },
     "metadata": {},
     "output_type": "display_data"
    },
    {
     "name": "stderr",
     "output_type": "stream",
     "text": [
      "26-Mar-25 15:03:44 - Saving results to results/processed_texts.csv\n",
      "26-Mar-25 15:03:45 - Starting to process\n"
     ]
    },
    {
     "data": {
      "application/vnd.jupyter.widget-view+json": {
       "model_id": "bfc03a63c51f4ceca39e4c0b571d6971",
       "version_major": 2,
       "version_minor": 0
      },
      "text/plain": [
       "Processing texts:   0%|          | 0/1 [00:00<?, ?it/s]"
      ]
     },
     "metadata": {},
     "output_type": "display_data"
    },
    {
     "name": "stderr",
     "output_type": "stream",
     "text": [
      "26-Mar-25 15:03:45 - Saving results to results/processed_texts.csv\n",
      "26-Mar-25 15:03:46 - Starting to process\n"
     ]
    },
    {
     "data": {
      "application/vnd.jupyter.widget-view+json": {
       "model_id": "ae93feb41a5f4d2895754269d1b37556",
       "version_major": 2,
       "version_minor": 0
      },
      "text/plain": [
       "Processing texts:   0%|          | 0/1 [00:00<?, ?it/s]"
      ]
     },
     "metadata": {},
     "output_type": "display_data"
    },
    {
     "name": "stderr",
     "output_type": "stream",
     "text": [
      "26-Mar-25 15:03:46 - Saving results to results/processed_texts.csv\n",
      "26-Mar-25 15:03:47 - Starting to process\n"
     ]
    },
    {
     "data": {
      "application/vnd.jupyter.widget-view+json": {
       "model_id": "81ea54ceb1e849d58c619db978725053",
       "version_major": 2,
       "version_minor": 0
      },
      "text/plain": [
       "Processing texts:   0%|          | 0/1 [00:00<?, ?it/s]"
      ]
     },
     "metadata": {},
     "output_type": "display_data"
    },
    {
     "name": "stderr",
     "output_type": "stream",
     "text": [
      "26-Mar-25 15:03:47 - Saving results to results/processed_texts.csv\n",
      "26-Mar-25 15:03:48 - Starting to process\n"
     ]
    },
    {
     "data": {
      "application/vnd.jupyter.widget-view+json": {
       "model_id": "ac63bffd31484026b17edafa7fc0fabc",
       "version_major": 2,
       "version_minor": 0
      },
      "text/plain": [
       "Processing texts:   0%|          | 0/1 [00:00<?, ?it/s]"
      ]
     },
     "metadata": {},
     "output_type": "display_data"
    },
    {
     "name": "stderr",
     "output_type": "stream",
     "text": [
      "26-Mar-25 15:03:48 - Saving results to results/processed_texts.csv\n",
      "26-Mar-25 15:03:49 - Starting to process\n"
     ]
    },
    {
     "data": {
      "application/vnd.jupyter.widget-view+json": {
       "model_id": "4b30ca78fd6148eb9f38f7e4a01cb738",
       "version_major": 2,
       "version_minor": 0
      },
      "text/plain": [
       "Processing texts:   0%|          | 0/1 [00:00<?, ?it/s]"
      ]
     },
     "metadata": {},
     "output_type": "display_data"
    },
    {
     "name": "stderr",
     "output_type": "stream",
     "text": [
      "26-Mar-25 15:03:49 - Saving results to results/processed_texts.csv\n",
      "26-Mar-25 15:03:50 - Starting to process\n"
     ]
    },
    {
     "data": {
      "application/vnd.jupyter.widget-view+json": {
       "model_id": "6ce5d8c6b2ce4ac0a980a78343f8fc4e",
       "version_major": 2,
       "version_minor": 0
      },
      "text/plain": [
       "Processing texts:   0%|          | 0/1 [00:00<?, ?it/s]"
      ]
     },
     "metadata": {},
     "output_type": "display_data"
    },
    {
     "name": "stderr",
     "output_type": "stream",
     "text": [
      "26-Mar-25 15:03:50 - Saving results to results/processed_texts.csv\n",
      "26-Mar-25 15:03:50 - Starting to process\n"
     ]
    },
    {
     "data": {
      "application/vnd.jupyter.widget-view+json": {
       "model_id": "493c4f7a61b647baae5f02e4fed6433b",
       "version_major": 2,
       "version_minor": 0
      },
      "text/plain": [
       "Processing texts:   0%|          | 0/1 [00:00<?, ?it/s]"
      ]
     },
     "metadata": {},
     "output_type": "display_data"
    },
    {
     "name": "stderr",
     "output_type": "stream",
     "text": [
      "26-Mar-25 15:03:51 - Saving results to results/processed_texts.csv\n",
      "26-Mar-25 15:03:51 - Starting to process\n"
     ]
    },
    {
     "data": {
      "application/vnd.jupyter.widget-view+json": {
       "model_id": "1f6406f376cd4638b1d550b9d8555c0d",
       "version_major": 2,
       "version_minor": 0
      },
      "text/plain": [
       "Processing texts:   0%|          | 0/1 [00:00<?, ?it/s]"
      ]
     },
     "metadata": {},
     "output_type": "display_data"
    },
    {
     "name": "stderr",
     "output_type": "stream",
     "text": [
      "26-Mar-25 15:03:52 - Saving results to results/processed_texts.csv\n",
      "26-Mar-25 15:03:52 - Starting to process\n"
     ]
    },
    {
     "data": {
      "application/vnd.jupyter.widget-view+json": {
       "model_id": "59e336da9512499b8b5875a3549987e4",
       "version_major": 2,
       "version_minor": 0
      },
      "text/plain": [
       "Processing texts:   0%|          | 0/1 [00:00<?, ?it/s]"
      ]
     },
     "metadata": {},
     "output_type": "display_data"
    },
    {
     "name": "stderr",
     "output_type": "stream",
     "text": [
      "26-Mar-25 15:03:53 - Saving results to results/processed_texts.csv\n",
      "26-Mar-25 15:03:53 - Starting to process\n"
     ]
    },
    {
     "data": {
      "application/vnd.jupyter.widget-view+json": {
       "model_id": "ade24d281fdd4e1881b32e484ee6e858",
       "version_major": 2,
       "version_minor": 0
      },
      "text/plain": [
       "Processing texts:   0%|          | 0/1 [00:00<?, ?it/s]"
      ]
     },
     "metadata": {},
     "output_type": "display_data"
    },
    {
     "name": "stderr",
     "output_type": "stream",
     "text": [
      "26-Mar-25 15:03:54 - Saving results to results/processed_texts.csv\n",
      "26-Mar-25 15:03:54 - Starting to process\n"
     ]
    },
    {
     "data": {
      "application/vnd.jupyter.widget-view+json": {
       "model_id": "24102149a1e243b1b4754c0e6ac240d2",
       "version_major": 2,
       "version_minor": 0
      },
      "text/plain": [
       "Processing texts:   0%|          | 0/1 [00:00<?, ?it/s]"
      ]
     },
     "metadata": {},
     "output_type": "display_data"
    },
    {
     "name": "stderr",
     "output_type": "stream",
     "text": [
      "26-Mar-25 15:03:55 - Saving results to results/processed_texts.csv\n",
      "26-Mar-25 15:03:55 - Starting to process\n"
     ]
    },
    {
     "data": {
      "application/vnd.jupyter.widget-view+json": {
       "model_id": "7aff712d2dbc48f1b17872d5893c542c",
       "version_major": 2,
       "version_minor": 0
      },
      "text/plain": [
       "Processing texts:   0%|          | 0/1 [00:00<?, ?it/s]"
      ]
     },
     "metadata": {},
     "output_type": "display_data"
    },
    {
     "name": "stderr",
     "output_type": "stream",
     "text": [
      "26-Mar-25 15:03:56 - Saving results to results/processed_texts.csv\n",
      "26-Mar-25 15:03:57 - Starting to process\n"
     ]
    },
    {
     "data": {
      "application/vnd.jupyter.widget-view+json": {
       "model_id": "069248c6ecbc4bfaa33da49d8f6df4b0",
       "version_major": 2,
       "version_minor": 0
      },
      "text/plain": [
       "Processing texts:   0%|          | 0/1 [00:00<?, ?it/s]"
      ]
     },
     "metadata": {},
     "output_type": "display_data"
    },
    {
     "name": "stderr",
     "output_type": "stream",
     "text": [
      "26-Mar-25 15:03:57 - Saving results to results/processed_texts.csv\n",
      "26-Mar-25 15:03:58 - Starting to process\n"
     ]
    },
    {
     "data": {
      "application/vnd.jupyter.widget-view+json": {
       "model_id": "5208c2e53f1548d0ae09df60ae088aaf",
       "version_major": 2,
       "version_minor": 0
      },
      "text/plain": [
       "Processing texts:   0%|          | 0/1 [00:00<?, ?it/s]"
      ]
     },
     "metadata": {},
     "output_type": "display_data"
    },
    {
     "name": "stderr",
     "output_type": "stream",
     "text": [
      "26-Mar-25 15:03:58 - Saving results to results/processed_texts.csv\n",
      "26-Mar-25 15:03:59 - Starting to process\n"
     ]
    },
    {
     "data": {
      "application/vnd.jupyter.widget-view+json": {
       "model_id": "0f5452f4def040eb867d67251f8dcefd",
       "version_major": 2,
       "version_minor": 0
      },
      "text/plain": [
       "Processing texts:   0%|          | 0/1 [00:00<?, ?it/s]"
      ]
     },
     "metadata": {},
     "output_type": "display_data"
    },
    {
     "name": "stderr",
     "output_type": "stream",
     "text": [
      "26-Mar-25 15:04:00 - Saving results to results/processed_texts.csv\n",
      "26-Mar-25 15:04:00 - Starting to process\n"
     ]
    },
    {
     "data": {
      "application/vnd.jupyter.widget-view+json": {
       "model_id": "a02bc021d44b4aadbb256d428cc22f68",
       "version_major": 2,
       "version_minor": 0
      },
      "text/plain": [
       "Processing texts:   0%|          | 0/1 [00:00<?, ?it/s]"
      ]
     },
     "metadata": {},
     "output_type": "display_data"
    },
    {
     "name": "stderr",
     "output_type": "stream",
     "text": [
      "26-Mar-25 15:04:01 - Saving results to results/processed_texts.csv\n",
      "26-Mar-25 15:04:01 - Starting to process\n"
     ]
    },
    {
     "data": {
      "application/vnd.jupyter.widget-view+json": {
       "model_id": "b33972a8a9c542ffb112392ef1442b81",
       "version_major": 2,
       "version_minor": 0
      },
      "text/plain": [
       "Processing texts:   0%|          | 0/1 [00:00<?, ?it/s]"
      ]
     },
     "metadata": {},
     "output_type": "display_data"
    },
    {
     "name": "stderr",
     "output_type": "stream",
     "text": [
      "26-Mar-25 15:04:02 - Saving results to results/processed_texts.csv\n",
      "26-Mar-25 15:04:02 - Starting to process\n"
     ]
    },
    {
     "data": {
      "application/vnd.jupyter.widget-view+json": {
       "model_id": "da680b79d9ce4e46843c7eb3782c7b64",
       "version_major": 2,
       "version_minor": 0
      },
      "text/plain": [
       "Processing texts:   0%|          | 0/1 [00:00<?, ?it/s]"
      ]
     },
     "metadata": {},
     "output_type": "display_data"
    },
    {
     "name": "stderr",
     "output_type": "stream",
     "text": [
      "26-Mar-25 15:04:02 - Saving results to results/processed_texts.csv\n",
      "26-Mar-25 15:04:03 - Starting to process\n"
     ]
    },
    {
     "data": {
      "application/vnd.jupyter.widget-view+json": {
       "model_id": "fec1e842b1db4c988b5097e4c4e3d6d1",
       "version_major": 2,
       "version_minor": 0
      },
      "text/plain": [
       "Processing texts:   0%|          | 0/1 [00:00<?, ?it/s]"
      ]
     },
     "metadata": {},
     "output_type": "display_data"
    },
    {
     "name": "stderr",
     "output_type": "stream",
     "text": [
      "26-Mar-25 15:04:04 - Saving results to results/processed_texts.csv\n",
      "26-Mar-25 15:04:04 - Starting to process\n"
     ]
    },
    {
     "data": {
      "application/vnd.jupyter.widget-view+json": {
       "model_id": "6912e129b26f424aa8351cbff4ce4555",
       "version_major": 2,
       "version_minor": 0
      },
      "text/plain": [
       "Processing texts:   0%|          | 0/1 [00:00<?, ?it/s]"
      ]
     },
     "metadata": {},
     "output_type": "display_data"
    },
    {
     "name": "stderr",
     "output_type": "stream",
     "text": [
      "26-Mar-25 15:04:05 - Saving results to results/processed_texts.csv\n",
      "26-Mar-25 15:04:06 - Starting to process\n"
     ]
    },
    {
     "data": {
      "application/vnd.jupyter.widget-view+json": {
       "model_id": "9b561c36c8cb4d3789b59dd749cc4be9",
       "version_major": 2,
       "version_minor": 0
      },
      "text/plain": [
       "Processing texts:   0%|          | 0/1 [00:00<?, ?it/s]"
      ]
     },
     "metadata": {},
     "output_type": "display_data"
    },
    {
     "name": "stderr",
     "output_type": "stream",
     "text": [
      "26-Mar-25 15:04:06 - Saving results to results/processed_texts.csv\n",
      "26-Mar-25 15:04:07 - Starting to process\n"
     ]
    },
    {
     "data": {
      "application/vnd.jupyter.widget-view+json": {
       "model_id": "14d00376c37c42989ba91c72c0c20a8d",
       "version_major": 2,
       "version_minor": 0
      },
      "text/plain": [
       "Processing texts:   0%|          | 0/1 [00:00<?, ?it/s]"
      ]
     },
     "metadata": {},
     "output_type": "display_data"
    },
    {
     "name": "stderr",
     "output_type": "stream",
     "text": [
      "26-Mar-25 15:04:07 - Saving results to results/processed_texts.csv\n",
      "26-Mar-25 15:04:08 - Starting to process\n"
     ]
    },
    {
     "data": {
      "application/vnd.jupyter.widget-view+json": {
       "model_id": "670b48b9181f47a18db3a61e1c449615",
       "version_major": 2,
       "version_minor": 0
      },
      "text/plain": [
       "Processing texts:   0%|          | 0/1 [00:00<?, ?it/s]"
      ]
     },
     "metadata": {},
     "output_type": "display_data"
    },
    {
     "name": "stderr",
     "output_type": "stream",
     "text": [
      "26-Mar-25 15:04:08 - Saving results to results/processed_texts.csv\n",
      "26-Mar-25 15:04:09 - Starting to process\n"
     ]
    },
    {
     "data": {
      "application/vnd.jupyter.widget-view+json": {
       "model_id": "a5172fddf2ea42a2ba9ce4bc5b2d5c1a",
       "version_major": 2,
       "version_minor": 0
      },
      "text/plain": [
       "Processing texts:   0%|          | 0/1 [00:00<?, ?it/s]"
      ]
     },
     "metadata": {},
     "output_type": "display_data"
    },
    {
     "name": "stderr",
     "output_type": "stream",
     "text": [
      "26-Mar-25 15:04:09 - Saving results to results/processed_texts.csv\n",
      "26-Mar-25 15:04:10 - Starting to process\n"
     ]
    },
    {
     "data": {
      "application/vnd.jupyter.widget-view+json": {
       "model_id": "595ba342690341fdad65c14a3f1ca623",
       "version_major": 2,
       "version_minor": 0
      },
      "text/plain": [
       "Processing texts:   0%|          | 0/1 [00:00<?, ?it/s]"
      ]
     },
     "metadata": {},
     "output_type": "display_data"
    },
    {
     "name": "stderr",
     "output_type": "stream",
     "text": [
      "26-Mar-25 15:04:10 - Saving results to results/processed_texts.csv\n",
      "26-Mar-25 15:04:10 - Starting to process\n"
     ]
    },
    {
     "data": {
      "application/vnd.jupyter.widget-view+json": {
       "model_id": "1beb7dc09435485496795014bf243817",
       "version_major": 2,
       "version_minor": 0
      },
      "text/plain": [
       "Processing texts:   0%|          | 0/1 [00:00<?, ?it/s]"
      ]
     },
     "metadata": {},
     "output_type": "display_data"
    },
    {
     "name": "stderr",
     "output_type": "stream",
     "text": [
      "26-Mar-25 15:04:11 - Saving results to results/processed_texts.csv\n",
      "26-Mar-25 15:04:11 - Starting to process\n"
     ]
    },
    {
     "data": {
      "application/vnd.jupyter.widget-view+json": {
       "model_id": "130de2b12a2347809ae85a08bf1b39dd",
       "version_major": 2,
       "version_minor": 0
      },
      "text/plain": [
       "Processing texts:   0%|          | 0/1 [00:00<?, ?it/s]"
      ]
     },
     "metadata": {},
     "output_type": "display_data"
    },
    {
     "name": "stderr",
     "output_type": "stream",
     "text": [
      "26-Mar-25 15:04:11 - Saving results to results/processed_texts.csv\n",
      "26-Mar-25 15:04:12 - Starting to process\n"
     ]
    },
    {
     "data": {
      "application/vnd.jupyter.widget-view+json": {
       "model_id": "8800e1c797a14de2804ffc680d784ef5",
       "version_major": 2,
       "version_minor": 0
      },
      "text/plain": [
       "Processing texts:   0%|          | 0/1 [00:00<?, ?it/s]"
      ]
     },
     "metadata": {},
     "output_type": "display_data"
    },
    {
     "name": "stderr",
     "output_type": "stream",
     "text": [
      "26-Mar-25 15:04:12 - Saving results to results/processed_texts.csv\n",
      "26-Mar-25 15:04:13 - Starting to process\n"
     ]
    },
    {
     "data": {
      "application/vnd.jupyter.widget-view+json": {
       "model_id": "ce97d659d7e8430380b99490b02ae932",
       "version_major": 2,
       "version_minor": 0
      },
      "text/plain": [
       "Processing texts:   0%|          | 0/1 [00:00<?, ?it/s]"
      ]
     },
     "metadata": {},
     "output_type": "display_data"
    },
    {
     "name": "stderr",
     "output_type": "stream",
     "text": [
      "26-Mar-25 15:04:13 - Saving results to results/processed_texts.csv\n",
      "26-Mar-25 15:04:14 - Starting to process\n"
     ]
    },
    {
     "data": {
      "application/vnd.jupyter.widget-view+json": {
       "model_id": "25da12975ac84429994c89e0be4851ae",
       "version_major": 2,
       "version_minor": 0
      },
      "text/plain": [
       "Processing texts:   0%|          | 0/1 [00:00<?, ?it/s]"
      ]
     },
     "metadata": {},
     "output_type": "display_data"
    },
    {
     "name": "stderr",
     "output_type": "stream",
     "text": [
      "26-Mar-25 15:04:14 - Saving results to results/processed_texts.csv\n",
      "26-Mar-25 15:04:15 - Starting to process\n"
     ]
    },
    {
     "data": {
      "application/vnd.jupyter.widget-view+json": {
       "model_id": "d3a83c19b74f48389580647293596415",
       "version_major": 2,
       "version_minor": 0
      },
      "text/plain": [
       "Processing texts:   0%|          | 0/1 [00:00<?, ?it/s]"
      ]
     },
     "metadata": {},
     "output_type": "display_data"
    },
    {
     "name": "stderr",
     "output_type": "stream",
     "text": [
      "26-Mar-25 15:04:15 - Saving results to results/processed_texts.csv\n",
      "26-Mar-25 15:04:16 - Starting to process\n"
     ]
    },
    {
     "data": {
      "application/vnd.jupyter.widget-view+json": {
       "model_id": "3e648e72544f4b6a821d003e0ee02477",
       "version_major": 2,
       "version_minor": 0
      },
      "text/plain": [
       "Processing texts:   0%|          | 0/1 [00:00<?, ?it/s]"
      ]
     },
     "metadata": {},
     "output_type": "display_data"
    },
    {
     "name": "stderr",
     "output_type": "stream",
     "text": [
      "26-Mar-25 15:04:16 - Saving results to results/processed_texts.csv\n",
      "26-Mar-25 15:04:17 - Starting to process\n"
     ]
    },
    {
     "data": {
      "application/vnd.jupyter.widget-view+json": {
       "model_id": "8a3e8d7686fb4f9bbed80fa367b06a17",
       "version_major": 2,
       "version_minor": 0
      },
      "text/plain": [
       "Processing texts:   0%|          | 0/1 [00:00<?, ?it/s]"
      ]
     },
     "metadata": {},
     "output_type": "display_data"
    },
    {
     "name": "stderr",
     "output_type": "stream",
     "text": [
      "26-Mar-25 15:04:18 - Saving results to results/processed_texts.csv\n",
      "26-Mar-25 15:04:18 - Starting to process\n"
     ]
    },
    {
     "data": {
      "application/vnd.jupyter.widget-view+json": {
       "model_id": "dcbb253f8ef8491c8f2f59a21e69b447",
       "version_major": 2,
       "version_minor": 0
      },
      "text/plain": [
       "Processing texts:   0%|          | 0/1 [00:00<?, ?it/s]"
      ]
     },
     "metadata": {},
     "output_type": "display_data"
    },
    {
     "name": "stderr",
     "output_type": "stream",
     "text": [
      "26-Mar-25 15:04:19 - Saving results to results/processed_texts.csv\n",
      "26-Mar-25 15:04:19 - Starting to process\n"
     ]
    },
    {
     "data": {
      "application/vnd.jupyter.widget-view+json": {
       "model_id": "45ba1acc42ed455180a0c313af379473",
       "version_major": 2,
       "version_minor": 0
      },
      "text/plain": [
       "Processing texts:   0%|          | 0/1 [00:00<?, ?it/s]"
      ]
     },
     "metadata": {},
     "output_type": "display_data"
    },
    {
     "name": "stderr",
     "output_type": "stream",
     "text": [
      "26-Mar-25 15:04:20 - Saving results to results/processed_texts.csv\n",
      "26-Mar-25 15:04:21 - Starting to process\n"
     ]
    },
    {
     "data": {
      "application/vnd.jupyter.widget-view+json": {
       "model_id": "623148b06dc74605bb3a29b71e2a236d",
       "version_major": 2,
       "version_minor": 0
      },
      "text/plain": [
       "Processing texts:   0%|          | 0/1 [00:00<?, ?it/s]"
      ]
     },
     "metadata": {},
     "output_type": "display_data"
    },
    {
     "name": "stderr",
     "output_type": "stream",
     "text": [
      "26-Mar-25 15:04:21 - Saving results to results/processed_texts.csv\n",
      "26-Mar-25 15:04:22 - Starting to process\n"
     ]
    },
    {
     "data": {
      "application/vnd.jupyter.widget-view+json": {
       "model_id": "809e2f2ca62648f9a5b70893b50f8739",
       "version_major": 2,
       "version_minor": 0
      },
      "text/plain": [
       "Processing texts:   0%|          | 0/1 [00:00<?, ?it/s]"
      ]
     },
     "metadata": {},
     "output_type": "display_data"
    },
    {
     "name": "stderr",
     "output_type": "stream",
     "text": [
      "26-Mar-25 15:04:22 - Saving results to results/processed_texts.csv\n",
      "26-Mar-25 15:04:23 - Starting to process\n"
     ]
    },
    {
     "data": {
      "application/vnd.jupyter.widget-view+json": {
       "model_id": "570607f4be1244378ada39509d9236db",
       "version_major": 2,
       "version_minor": 0
      },
      "text/plain": [
       "Processing texts:   0%|          | 0/1 [00:00<?, ?it/s]"
      ]
     },
     "metadata": {},
     "output_type": "display_data"
    },
    {
     "name": "stderr",
     "output_type": "stream",
     "text": [
      "26-Mar-25 15:04:23 - Saving results to results/processed_texts.csv\n",
      "26-Mar-25 15:04:24 - Starting to process\n"
     ]
    },
    {
     "data": {
      "application/vnd.jupyter.widget-view+json": {
       "model_id": "b618ff367d0b409abad3f80a8386b6fd",
       "version_major": 2,
       "version_minor": 0
      },
      "text/plain": [
       "Processing texts:   0%|          | 0/1 [00:00<?, ?it/s]"
      ]
     },
     "metadata": {},
     "output_type": "display_data"
    },
    {
     "name": "stderr",
     "output_type": "stream",
     "text": [
      "26-Mar-25 15:04:25 - Saving results to results/processed_texts.csv\n",
      "26-Mar-25 15:04:25 - Starting to process\n"
     ]
    },
    {
     "data": {
      "application/vnd.jupyter.widget-view+json": {
       "model_id": "3f606398cd794a019a7f537bd4dbbb37",
       "version_major": 2,
       "version_minor": 0
      },
      "text/plain": [
       "Processing texts:   0%|          | 0/1 [00:00<?, ?it/s]"
      ]
     },
     "metadata": {},
     "output_type": "display_data"
    },
    {
     "name": "stderr",
     "output_type": "stream",
     "text": [
      "26-Mar-25 15:04:26 - Saving results to results/processed_texts.csv\n",
      "26-Mar-25 15:04:27 - Starting to process\n"
     ]
    },
    {
     "data": {
      "application/vnd.jupyter.widget-view+json": {
       "model_id": "e3aa57af5f9a4117a0611b7dbc5c4cf5",
       "version_major": 2,
       "version_minor": 0
      },
      "text/plain": [
       "Processing texts:   0%|          | 0/1 [00:00<?, ?it/s]"
      ]
     },
     "metadata": {},
     "output_type": "display_data"
    },
    {
     "name": "stderr",
     "output_type": "stream",
     "text": [
      "26-Mar-25 15:04:27 - Saving results to results/processed_texts.csv\n",
      "26-Mar-25 15:04:27 - Starting to process\n"
     ]
    },
    {
     "data": {
      "application/vnd.jupyter.widget-view+json": {
       "model_id": "f0bca6764bcf46ae928bfb730c60da39",
       "version_major": 2,
       "version_minor": 0
      },
      "text/plain": [
       "Processing texts:   0%|          | 0/1 [00:00<?, ?it/s]"
      ]
     },
     "metadata": {},
     "output_type": "display_data"
    },
    {
     "name": "stderr",
     "output_type": "stream",
     "text": [
      "26-Mar-25 15:04:28 - Saving results to results/processed_texts.csv\n",
      "26-Mar-25 15:04:29 - Starting to process\n"
     ]
    },
    {
     "data": {
      "application/vnd.jupyter.widget-view+json": {
       "model_id": "a84fabc8cbdf46299479b6ff92f5cd28",
       "version_major": 2,
       "version_minor": 0
      },
      "text/plain": [
       "Processing texts:   0%|          | 0/1 [00:00<?, ?it/s]"
      ]
     },
     "metadata": {},
     "output_type": "display_data"
    },
    {
     "name": "stderr",
     "output_type": "stream",
     "text": [
      "26-Mar-25 15:04:29 - Saving results to results/processed_texts.csv\n",
      "26-Mar-25 15:04:30 - Starting to process\n"
     ]
    },
    {
     "data": {
      "application/vnd.jupyter.widget-view+json": {
       "model_id": "cd7d795b4c6146268d0147adb2951db7",
       "version_major": 2,
       "version_minor": 0
      },
      "text/plain": [
       "Processing texts:   0%|          | 0/1 [00:00<?, ?it/s]"
      ]
     },
     "metadata": {},
     "output_type": "display_data"
    },
    {
     "name": "stderr",
     "output_type": "stream",
     "text": [
      "26-Mar-25 15:04:30 - Saving results to results/processed_texts.csv\n",
      "26-Mar-25 15:04:31 - Starting to process\n"
     ]
    },
    {
     "data": {
      "application/vnd.jupyter.widget-view+json": {
       "model_id": "9f6c883e13f74a7ca74a4ab19854a32a",
       "version_major": 2,
       "version_minor": 0
      },
      "text/plain": [
       "Processing texts:   0%|          | 0/1 [00:00<?, ?it/s]"
      ]
     },
     "metadata": {},
     "output_type": "display_data"
    },
    {
     "name": "stderr",
     "output_type": "stream",
     "text": [
      "26-Mar-25 15:04:31 - Saving results to results/processed_texts.csv\n",
      "26-Mar-25 15:04:32 - Starting to process\n"
     ]
    },
    {
     "data": {
      "application/vnd.jupyter.widget-view+json": {
       "model_id": "2a05b46fbdfa4288921c6939a22fba29",
       "version_major": 2,
       "version_minor": 0
      },
      "text/plain": [
       "Processing texts:   0%|          | 0/1 [00:00<?, ?it/s]"
      ]
     },
     "metadata": {},
     "output_type": "display_data"
    },
    {
     "name": "stderr",
     "output_type": "stream",
     "text": [
      "26-Mar-25 15:04:32 - Saving results to results/processed_texts.csv\n",
      "26-Mar-25 15:04:33 - Starting to process\n"
     ]
    },
    {
     "data": {
      "application/vnd.jupyter.widget-view+json": {
       "model_id": "f008e99bd7be4b3da1ddb3394d0e4fbc",
       "version_major": 2,
       "version_minor": 0
      },
      "text/plain": [
       "Processing texts:   0%|          | 0/1 [00:00<?, ?it/s]"
      ]
     },
     "metadata": {},
     "output_type": "display_data"
    },
    {
     "name": "stderr",
     "output_type": "stream",
     "text": [
      "26-Mar-25 15:04:33 - Saving results to results/processed_texts.csv\n",
      "26-Mar-25 15:04:34 - Starting to process\n"
     ]
    },
    {
     "data": {
      "application/vnd.jupyter.widget-view+json": {
       "model_id": "5a2500eff1224ffda4e1ff5fb7403344",
       "version_major": 2,
       "version_minor": 0
      },
      "text/plain": [
       "Processing texts:   0%|          | 0/1 [00:00<?, ?it/s]"
      ]
     },
     "metadata": {},
     "output_type": "display_data"
    },
    {
     "name": "stderr",
     "output_type": "stream",
     "text": [
      "26-Mar-25 15:04:34 - Saving results to results/processed_texts.csv\n",
      "26-Mar-25 15:04:35 - Starting to process\n"
     ]
    },
    {
     "data": {
      "application/vnd.jupyter.widget-view+json": {
       "model_id": "1bfa631949b14d4983fd6b13e2b798f0",
       "version_major": 2,
       "version_minor": 0
      },
      "text/plain": [
       "Processing texts:   0%|          | 0/1 [00:00<?, ?it/s]"
      ]
     },
     "metadata": {},
     "output_type": "display_data"
    },
    {
     "name": "stderr",
     "output_type": "stream",
     "text": [
      "26-Mar-25 15:04:35 - Saving results to results/processed_texts.csv\n",
      "26-Mar-25 15:04:36 - Starting to process\n"
     ]
    },
    {
     "data": {
      "application/vnd.jupyter.widget-view+json": {
       "model_id": "ea5379fdf83449bf8db72c73a19669c3",
       "version_major": 2,
       "version_minor": 0
      },
      "text/plain": [
       "Processing texts:   0%|          | 0/1 [00:00<?, ?it/s]"
      ]
     },
     "metadata": {},
     "output_type": "display_data"
    },
    {
     "name": "stderr",
     "output_type": "stream",
     "text": [
      "26-Mar-25 15:04:36 - Saving results to results/processed_texts.csv\n",
      "26-Mar-25 15:04:37 - Starting to process\n"
     ]
    },
    {
     "data": {
      "application/vnd.jupyter.widget-view+json": {
       "model_id": "cabcd96794f944a7a497d0339e09849c",
       "version_major": 2,
       "version_minor": 0
      },
      "text/plain": [
       "Processing texts:   0%|          | 0/1 [00:00<?, ?it/s]"
      ]
     },
     "metadata": {},
     "output_type": "display_data"
    },
    {
     "name": "stderr",
     "output_type": "stream",
     "text": [
      "26-Mar-25 15:04:37 - Saving results to results/processed_texts.csv\n",
      "26-Mar-25 15:04:38 - Starting to process\n"
     ]
    },
    {
     "data": {
      "application/vnd.jupyter.widget-view+json": {
       "model_id": "42497f6c2485423b9ab45b82c9cbb7c1",
       "version_major": 2,
       "version_minor": 0
      },
      "text/plain": [
       "Processing texts:   0%|          | 0/1 [00:00<?, ?it/s]"
      ]
     },
     "metadata": {},
     "output_type": "display_data"
    },
    {
     "name": "stderr",
     "output_type": "stream",
     "text": [
      "26-Mar-25 15:04:38 - Saving results to results/processed_texts.csv\n",
      "26-Mar-25 15:04:38 - Starting to process\n"
     ]
    },
    {
     "data": {
      "application/vnd.jupyter.widget-view+json": {
       "model_id": "4298e54e2fa84341baddfc016faf1e9a",
       "version_major": 2,
       "version_minor": 0
      },
      "text/plain": [
       "Processing texts:   0%|          | 0/1 [00:00<?, ?it/s]"
      ]
     },
     "metadata": {},
     "output_type": "display_data"
    },
    {
     "name": "stderr",
     "output_type": "stream",
     "text": [
      "26-Mar-25 15:04:39 - Saving results to results/processed_texts.csv\n",
      "26-Mar-25 15:04:39 - Starting to process\n"
     ]
    },
    {
     "data": {
      "application/vnd.jupyter.widget-view+json": {
       "model_id": "bc23c99c0f6b4a25934af4a021dc0ae0",
       "version_major": 2,
       "version_minor": 0
      },
      "text/plain": [
       "Processing texts:   0%|          | 0/1 [00:00<?, ?it/s]"
      ]
     },
     "metadata": {},
     "output_type": "display_data"
    },
    {
     "name": "stderr",
     "output_type": "stream",
     "text": [
      "26-Mar-25 15:04:40 - Saving results to results/processed_texts.csv\n",
      "26-Mar-25 15:04:40 - Starting to process\n"
     ]
    },
    {
     "data": {
      "application/vnd.jupyter.widget-view+json": {
       "model_id": "da9572b7c3a946c59dc1fa4aa46bf58f",
       "version_major": 2,
       "version_minor": 0
      },
      "text/plain": [
       "Processing texts:   0%|          | 0/1 [00:00<?, ?it/s]"
      ]
     },
     "metadata": {},
     "output_type": "display_data"
    },
    {
     "name": "stderr",
     "output_type": "stream",
     "text": [
      "26-Mar-25 15:04:41 - Saving results to results/processed_texts.csv\n",
      "26-Mar-25 15:04:41 - Starting to process\n"
     ]
    },
    {
     "data": {
      "application/vnd.jupyter.widget-view+json": {
       "model_id": "9549fd08143144c488d3d0e52cce3d51",
       "version_major": 2,
       "version_minor": 0
      },
      "text/plain": [
       "Processing texts:   0%|          | 0/1 [00:00<?, ?it/s]"
      ]
     },
     "metadata": {},
     "output_type": "display_data"
    },
    {
     "name": "stderr",
     "output_type": "stream",
     "text": [
      "26-Mar-25 15:04:42 - Saving results to results/processed_texts.csv\n",
      "26-Mar-25 15:04:42 - Starting to process\n"
     ]
    },
    {
     "data": {
      "application/vnd.jupyter.widget-view+json": {
       "model_id": "5ac9461be9414432a4cf480ec45453a5",
       "version_major": 2,
       "version_minor": 0
      },
      "text/plain": [
       "Processing texts:   0%|          | 0/1 [00:00<?, ?it/s]"
      ]
     },
     "metadata": {},
     "output_type": "display_data"
    },
    {
     "name": "stderr",
     "output_type": "stream",
     "text": [
      "26-Mar-25 15:04:42 - Saving results to results/processed_texts.csv\n",
      "26-Mar-25 15:04:43 - Starting to process\n"
     ]
    },
    {
     "data": {
      "application/vnd.jupyter.widget-view+json": {
       "model_id": "85a189862e854da5b08f81f61176ed02",
       "version_major": 2,
       "version_minor": 0
      },
      "text/plain": [
       "Processing texts:   0%|          | 0/1 [00:00<?, ?it/s]"
      ]
     },
     "metadata": {},
     "output_type": "display_data"
    },
    {
     "name": "stderr",
     "output_type": "stream",
     "text": [
      "26-Mar-25 15:04:43 - Saving results to results/processed_texts.csv\n",
      "26-Mar-25 15:04:44 - Starting to process\n"
     ]
    },
    {
     "data": {
      "application/vnd.jupyter.widget-view+json": {
       "model_id": "5555e0120e5c430487717127ab5ce0fa",
       "version_major": 2,
       "version_minor": 0
      },
      "text/plain": [
       "Processing texts:   0%|          | 0/1 [00:00<?, ?it/s]"
      ]
     },
     "metadata": {},
     "output_type": "display_data"
    },
    {
     "name": "stderr",
     "output_type": "stream",
     "text": [
      "26-Mar-25 15:04:44 - Saving results to results/processed_texts.csv\n",
      "26-Mar-25 15:04:45 - Starting to process\n"
     ]
    },
    {
     "data": {
      "application/vnd.jupyter.widget-view+json": {
       "model_id": "384d5baedb1848b58f955d1980be6227",
       "version_major": 2,
       "version_minor": 0
      },
      "text/plain": [
       "Processing texts:   0%|          | 0/1 [00:00<?, ?it/s]"
      ]
     },
     "metadata": {},
     "output_type": "display_data"
    },
    {
     "name": "stderr",
     "output_type": "stream",
     "text": [
      "26-Mar-25 15:04:45 - Saving results to results/processed_texts.csv\n",
      "26-Mar-25 15:04:46 - Starting to process\n"
     ]
    },
    {
     "data": {
      "application/vnd.jupyter.widget-view+json": {
       "model_id": "f236976da78049dbb4dfc891cb6dc886",
       "version_major": 2,
       "version_minor": 0
      },
      "text/plain": [
       "Processing texts:   0%|          | 0/1 [00:00<?, ?it/s]"
      ]
     },
     "metadata": {},
     "output_type": "display_data"
    },
    {
     "name": "stderr",
     "output_type": "stream",
     "text": [
      "26-Mar-25 15:04:46 - Saving results to results/processed_texts.csv\n",
      "26-Mar-25 15:04:47 - Starting to process\n"
     ]
    },
    {
     "data": {
      "application/vnd.jupyter.widget-view+json": {
       "model_id": "4610353cc59d4e8c8c7ce22688eb7147",
       "version_major": 2,
       "version_minor": 0
      },
      "text/plain": [
       "Processing texts:   0%|          | 0/1 [00:00<?, ?it/s]"
      ]
     },
     "metadata": {},
     "output_type": "display_data"
    },
    {
     "name": "stderr",
     "output_type": "stream",
     "text": [
      "26-Mar-25 15:04:47 - Saving results to results/processed_texts.csv\n",
      "26-Mar-25 15:04:48 - Starting to process\n"
     ]
    },
    {
     "data": {
      "application/vnd.jupyter.widget-view+json": {
       "model_id": "77a2cb70b2314c65a06d81092c54fb16",
       "version_major": 2,
       "version_minor": 0
      },
      "text/plain": [
       "Processing texts:   0%|          | 0/1 [00:00<?, ?it/s]"
      ]
     },
     "metadata": {},
     "output_type": "display_data"
    },
    {
     "name": "stderr",
     "output_type": "stream",
     "text": [
      "26-Mar-25 15:04:48 - Saving results to results/processed_texts.csv\n",
      "26-Mar-25 15:04:49 - Starting to process\n"
     ]
    },
    {
     "data": {
      "application/vnd.jupyter.widget-view+json": {
       "model_id": "0714d7ba655d42859ffa02115903d10d",
       "version_major": 2,
       "version_minor": 0
      },
      "text/plain": [
       "Processing texts:   0%|          | 0/1 [00:00<?, ?it/s]"
      ]
     },
     "metadata": {},
     "output_type": "display_data"
    },
    {
     "name": "stderr",
     "output_type": "stream",
     "text": [
      "26-Mar-25 15:04:49 - Saving results to results/processed_texts.csv\n",
      "26-Mar-25 15:04:50 - Starting to process\n"
     ]
    },
    {
     "data": {
      "application/vnd.jupyter.widget-view+json": {
       "model_id": "476186382066429cbe907890f4fddd0c",
       "version_major": 2,
       "version_minor": 0
      },
      "text/plain": [
       "Processing texts:   0%|          | 0/1 [00:00<?, ?it/s]"
      ]
     },
     "metadata": {},
     "output_type": "display_data"
    },
    {
     "name": "stderr",
     "output_type": "stream",
     "text": [
      "26-Mar-25 15:04:50 - Saving results to results/processed_texts.csv\n",
      "26-Mar-25 15:04:51 - Starting to process\n"
     ]
    },
    {
     "data": {
      "application/vnd.jupyter.widget-view+json": {
       "model_id": "94cd1ce3703e41c499db6b416ec52eca",
       "version_major": 2,
       "version_minor": 0
      },
      "text/plain": [
       "Processing texts:   0%|          | 0/1 [00:00<?, ?it/s]"
      ]
     },
     "metadata": {},
     "output_type": "display_data"
    },
    {
     "name": "stderr",
     "output_type": "stream",
     "text": [
      "26-Mar-25 15:04:51 - Saving results to results/processed_texts.csv\n",
      "26-Mar-25 15:04:52 - Starting to process\n"
     ]
    },
    {
     "data": {
      "application/vnd.jupyter.widget-view+json": {
       "model_id": "f3ac6630e7084fb68c132f5202a018a1",
       "version_major": 2,
       "version_minor": 0
      },
      "text/plain": [
       "Processing texts:   0%|          | 0/1 [00:00<?, ?it/s]"
      ]
     },
     "metadata": {},
     "output_type": "display_data"
    },
    {
     "name": "stderr",
     "output_type": "stream",
     "text": [
      "26-Mar-25 15:04:52 - Saving results to results/processed_texts.csv\n",
      "26-Mar-25 15:04:53 - Starting to process\n"
     ]
    },
    {
     "data": {
      "application/vnd.jupyter.widget-view+json": {
       "model_id": "0a07fa974c20492aa5ff73c1ca13e8a3",
       "version_major": 2,
       "version_minor": 0
      },
      "text/plain": [
       "Processing texts:   0%|          | 0/1 [00:00<?, ?it/s]"
      ]
     },
     "metadata": {},
     "output_type": "display_data"
    },
    {
     "name": "stderr",
     "output_type": "stream",
     "text": [
      "26-Mar-25 15:04:53 - Saving results to results/processed_texts.csv\n",
      "26-Mar-25 15:04:54 - Starting to process\n"
     ]
    },
    {
     "data": {
      "application/vnd.jupyter.widget-view+json": {
       "model_id": "432c29f52aaa4e3bab6422e25cd4e723",
       "version_major": 2,
       "version_minor": 0
      },
      "text/plain": [
       "Processing texts:   0%|          | 0/1 [00:00<?, ?it/s]"
      ]
     },
     "metadata": {},
     "output_type": "display_data"
    },
    {
     "name": "stderr",
     "output_type": "stream",
     "text": [
      "26-Mar-25 15:04:54 - Saving results to results/processed_texts.csv\n",
      "26-Mar-25 15:04:55 - Starting to process\n"
     ]
    },
    {
     "data": {
      "application/vnd.jupyter.widget-view+json": {
       "model_id": "9e1c58207cea499aabb46d2c0bd0f1bd",
       "version_major": 2,
       "version_minor": 0
      },
      "text/plain": [
       "Processing texts:   0%|          | 0/1 [00:00<?, ?it/s]"
      ]
     },
     "metadata": {},
     "output_type": "display_data"
    },
    {
     "name": "stderr",
     "output_type": "stream",
     "text": [
      "26-Mar-25 15:04:55 - Saving results to results/processed_texts.csv\n",
      "26-Mar-25 15:04:56 - Starting to process\n"
     ]
    },
    {
     "data": {
      "application/vnd.jupyter.widget-view+json": {
       "model_id": "2c3abbf5344643a48bb04f841a77e764",
       "version_major": 2,
       "version_minor": 0
      },
      "text/plain": [
       "Processing texts:   0%|          | 0/1 [00:00<?, ?it/s]"
      ]
     },
     "metadata": {},
     "output_type": "display_data"
    },
    {
     "name": "stderr",
     "output_type": "stream",
     "text": [
      "26-Mar-25 15:04:56 - Saving results to results/processed_texts.csv\n",
      "26-Mar-25 15:04:57 - Starting to process\n"
     ]
    },
    {
     "data": {
      "application/vnd.jupyter.widget-view+json": {
       "model_id": "ce9d9055d9df4a5e839e9cba27481ce4",
       "version_major": 2,
       "version_minor": 0
      },
      "text/plain": [
       "Processing texts:   0%|          | 0/1 [00:00<?, ?it/s]"
      ]
     },
     "metadata": {},
     "output_type": "display_data"
    },
    {
     "name": "stderr",
     "output_type": "stream",
     "text": [
      "26-Mar-25 15:04:57 - Saving results to results/processed_texts.csv\n",
      "26-Mar-25 15:04:58 - Starting to process\n"
     ]
    },
    {
     "data": {
      "application/vnd.jupyter.widget-view+json": {
       "model_id": "98f9d324fc8d450997db7061fab487e5",
       "version_major": 2,
       "version_minor": 0
      },
      "text/plain": [
       "Processing texts:   0%|          | 0/1 [00:00<?, ?it/s]"
      ]
     },
     "metadata": {},
     "output_type": "display_data"
    },
    {
     "name": "stderr",
     "output_type": "stream",
     "text": [
      "26-Mar-25 15:04:58 - Saving results to results/processed_texts.csv\n",
      "26-Mar-25 15:04:58 - Starting to process\n"
     ]
    },
    {
     "data": {
      "application/vnd.jupyter.widget-view+json": {
       "model_id": "2efffbcb08e34c6aa4ed2723171ddfbb",
       "version_major": 2,
       "version_minor": 0
      },
      "text/plain": [
       "Processing texts:   0%|          | 0/1 [00:00<?, ?it/s]"
      ]
     },
     "metadata": {},
     "output_type": "display_data"
    },
    {
     "name": "stderr",
     "output_type": "stream",
     "text": [
      "26-Mar-25 15:04:59 - Saving results to results/processed_texts.csv\n",
      "26-Mar-25 15:04:59 - Starting to process\n"
     ]
    },
    {
     "data": {
      "application/vnd.jupyter.widget-view+json": {
       "model_id": "eeff829ab1124bc3961a3474cdf3cd01",
       "version_major": 2,
       "version_minor": 0
      },
      "text/plain": [
       "Processing texts:   0%|          | 0/1 [00:00<?, ?it/s]"
      ]
     },
     "metadata": {},
     "output_type": "display_data"
    },
    {
     "name": "stderr",
     "output_type": "stream",
     "text": [
      "26-Mar-25 15:05:00 - Saving results to results/processed_texts.csv\n",
      "26-Mar-25 15:05:00 - Starting to process\n"
     ]
    },
    {
     "data": {
      "application/vnd.jupyter.widget-view+json": {
       "model_id": "08e13a4eb35a4b098388a12fb925857b",
       "version_major": 2,
       "version_minor": 0
      },
      "text/plain": [
       "Processing texts:   0%|          | 0/1 [00:00<?, ?it/s]"
      ]
     },
     "metadata": {},
     "output_type": "display_data"
    },
    {
     "name": "stderr",
     "output_type": "stream",
     "text": [
      "26-Mar-25 15:05:01 - Saving results to results/processed_texts.csv\n",
      "26-Mar-25 15:05:01 - Starting to process\n"
     ]
    },
    {
     "data": {
      "application/vnd.jupyter.widget-view+json": {
       "model_id": "4379b704add8455281be50815b8d7c65",
       "version_major": 2,
       "version_minor": 0
      },
      "text/plain": [
       "Processing texts:   0%|          | 0/1 [00:00<?, ?it/s]"
      ]
     },
     "metadata": {},
     "output_type": "display_data"
    },
    {
     "name": "stderr",
     "output_type": "stream",
     "text": [
      "26-Mar-25 15:05:02 - Saving results to results/processed_texts.csv\n",
      "26-Mar-25 15:05:02 - Starting to process\n"
     ]
    },
    {
     "data": {
      "application/vnd.jupyter.widget-view+json": {
       "model_id": "6c5a5256567840d28c3f519cb14b905c",
       "version_major": 2,
       "version_minor": 0
      },
      "text/plain": [
       "Processing texts:   0%|          | 0/1 [00:00<?, ?it/s]"
      ]
     },
     "metadata": {},
     "output_type": "display_data"
    },
    {
     "name": "stderr",
     "output_type": "stream",
     "text": [
      "26-Mar-25 15:05:03 - Saving results to results/processed_texts.csv\n",
      "26-Mar-25 15:05:03 - Starting to process\n"
     ]
    },
    {
     "data": {
      "application/vnd.jupyter.widget-view+json": {
       "model_id": "56de4c53c08f486fb0861a3221318b90",
       "version_major": 2,
       "version_minor": 0
      },
      "text/plain": [
       "Processing texts:   0%|          | 0/1 [00:00<?, ?it/s]"
      ]
     },
     "metadata": {},
     "output_type": "display_data"
    },
    {
     "name": "stderr",
     "output_type": "stream",
     "text": [
      "26-Mar-25 15:05:04 - Saving results to results/processed_texts.csv\n",
      "26-Mar-25 15:05:04 - Starting to process\n"
     ]
    },
    {
     "data": {
      "application/vnd.jupyter.widget-view+json": {
       "model_id": "e8bcc5f04d774d64a991a6253baa2b17",
       "version_major": 2,
       "version_minor": 0
      },
      "text/plain": [
       "Processing texts:   0%|          | 0/1 [00:00<?, ?it/s]"
      ]
     },
     "metadata": {},
     "output_type": "display_data"
    },
    {
     "name": "stderr",
     "output_type": "stream",
     "text": [
      "26-Mar-25 15:05:05 - Saving results to results/processed_texts.csv\n",
      "26-Mar-25 15:05:05 - Starting to process\n"
     ]
    },
    {
     "data": {
      "application/vnd.jupyter.widget-view+json": {
       "model_id": "b8b97b31c85d427c9f8a179c9b2c6965",
       "version_major": 2,
       "version_minor": 0
      },
      "text/plain": [
       "Processing texts:   0%|          | 0/1 [00:00<?, ?it/s]"
      ]
     },
     "metadata": {},
     "output_type": "display_data"
    },
    {
     "name": "stderr",
     "output_type": "stream",
     "text": [
      "26-Mar-25 15:05:06 - Saving results to results/processed_texts.csv\n",
      "26-Mar-25 15:05:06 - Starting to process\n"
     ]
    },
    {
     "data": {
      "application/vnd.jupyter.widget-view+json": {
       "model_id": "2f2c5dcf2cdc49ff960925ef26f273b5",
       "version_major": 2,
       "version_minor": 0
      },
      "text/plain": [
       "Processing texts:   0%|          | 0/1 [00:00<?, ?it/s]"
      ]
     },
     "metadata": {},
     "output_type": "display_data"
    },
    {
     "name": "stderr",
     "output_type": "stream",
     "text": [
      "26-Mar-25 15:05:07 - Saving results to results/processed_texts.csv\n",
      "26-Mar-25 15:05:07 - Starting to process\n"
     ]
    },
    {
     "data": {
      "application/vnd.jupyter.widget-view+json": {
       "model_id": "1188c36b545443c097d27f973c3a6853",
       "version_major": 2,
       "version_minor": 0
      },
      "text/plain": [
       "Processing texts:   0%|          | 0/1 [00:00<?, ?it/s]"
      ]
     },
     "metadata": {},
     "output_type": "display_data"
    },
    {
     "name": "stderr",
     "output_type": "stream",
     "text": [
      "26-Mar-25 15:05:08 - Saving results to results/processed_texts.csv\n",
      "26-Mar-25 15:05:08 - Starting to process\n"
     ]
    },
    {
     "data": {
      "application/vnd.jupyter.widget-view+json": {
       "model_id": "c0fe903217d3416993d995c769005ee5",
       "version_major": 2,
       "version_minor": 0
      },
      "text/plain": [
       "Processing texts:   0%|          | 0/1 [00:00<?, ?it/s]"
      ]
     },
     "metadata": {},
     "output_type": "display_data"
    },
    {
     "name": "stderr",
     "output_type": "stream",
     "text": [
      "26-Mar-25 15:05:08 - Saving results to results/processed_texts.csv\n",
      "26-Mar-25 15:05:09 - Starting to process\n"
     ]
    },
    {
     "data": {
      "application/vnd.jupyter.widget-view+json": {
       "model_id": "bd44b2067bb14a80b3ab79052fddc449",
       "version_major": 2,
       "version_minor": 0
      },
      "text/plain": [
       "Processing texts:   0%|          | 0/1 [00:00<?, ?it/s]"
      ]
     },
     "metadata": {},
     "output_type": "display_data"
    },
    {
     "name": "stderr",
     "output_type": "stream",
     "text": [
      "26-Mar-25 15:05:09 - Saving results to results/processed_texts.csv\n",
      "26-Mar-25 15:05:10 - Starting to process\n"
     ]
    },
    {
     "data": {
      "application/vnd.jupyter.widget-view+json": {
       "model_id": "5bc72b1c60d049df85ce1157cf29413a",
       "version_major": 2,
       "version_minor": 0
      },
      "text/plain": [
       "Processing texts:   0%|          | 0/1 [00:00<?, ?it/s]"
      ]
     },
     "metadata": {},
     "output_type": "display_data"
    },
    {
     "name": "stderr",
     "output_type": "stream",
     "text": [
      "26-Mar-25 15:05:11 - Saving results to results/processed_texts.csv\n",
      "26-Mar-25 15:05:11 - Starting to process\n"
     ]
    },
    {
     "data": {
      "application/vnd.jupyter.widget-view+json": {
       "model_id": "fe56fda999cc4a23927a03a72374bc28",
       "version_major": 2,
       "version_minor": 0
      },
      "text/plain": [
       "Processing texts:   0%|          | 0/1 [00:00<?, ?it/s]"
      ]
     },
     "metadata": {},
     "output_type": "display_data"
    },
    {
     "name": "stderr",
     "output_type": "stream",
     "text": [
      "26-Mar-25 15:05:12 - Saving results to results/processed_texts.csv\n",
      "26-Mar-25 15:05:12 - Starting to process\n"
     ]
    },
    {
     "data": {
      "application/vnd.jupyter.widget-view+json": {
       "model_id": "fb497e738190497db37dd092919dfed4",
       "version_major": 2,
       "version_minor": 0
      },
      "text/plain": [
       "Processing texts:   0%|          | 0/1 [00:00<?, ?it/s]"
      ]
     },
     "metadata": {},
     "output_type": "display_data"
    },
    {
     "name": "stderr",
     "output_type": "stream",
     "text": [
      "26-Mar-25 15:05:13 - Saving results to results/processed_texts.csv\n",
      "26-Mar-25 15:05:13 - Starting to process\n"
     ]
    },
    {
     "data": {
      "application/vnd.jupyter.widget-view+json": {
       "model_id": "c6e4d268648241d1ada478d5aba73deb",
       "version_major": 2,
       "version_minor": 0
      },
      "text/plain": [
       "Processing texts:   0%|          | 0/1 [00:00<?, ?it/s]"
      ]
     },
     "metadata": {},
     "output_type": "display_data"
    },
    {
     "name": "stderr",
     "output_type": "stream",
     "text": [
      "26-Mar-25 15:05:13 - Saving results to results/processed_texts.csv\n",
      "26-Mar-25 15:05:14 - Starting to process\n"
     ]
    },
    {
     "data": {
      "application/vnd.jupyter.widget-view+json": {
       "model_id": "0b64e9bc79ba405f900dadaad38d462c",
       "version_major": 2,
       "version_minor": 0
      },
      "text/plain": [
       "Processing texts:   0%|          | 0/1 [00:00<?, ?it/s]"
      ]
     },
     "metadata": {},
     "output_type": "display_data"
    },
    {
     "name": "stderr",
     "output_type": "stream",
     "text": [
      "26-Mar-25 15:05:14 - Saving results to results/processed_texts.csv\n",
      "26-Mar-25 15:05:15 - Starting to process\n"
     ]
    },
    {
     "data": {
      "application/vnd.jupyter.widget-view+json": {
       "model_id": "c6e06a4d27c1493ca397bcb34bb6972f",
       "version_major": 2,
       "version_minor": 0
      },
      "text/plain": [
       "Processing texts:   0%|          | 0/1 [00:00<?, ?it/s]"
      ]
     },
     "metadata": {},
     "output_type": "display_data"
    },
    {
     "name": "stderr",
     "output_type": "stream",
     "text": [
      "26-Mar-25 15:05:16 - Saving results to results/processed_texts.csv\n",
      "26-Mar-25 15:05:16 - Starting to process\n"
     ]
    },
    {
     "data": {
      "application/vnd.jupyter.widget-view+json": {
       "model_id": "1ddf6b3a6c68425e8b019ecf81ed5b6d",
       "version_major": 2,
       "version_minor": 0
      },
      "text/plain": [
       "Processing texts:   0%|          | 0/1 [00:00<?, ?it/s]"
      ]
     },
     "metadata": {},
     "output_type": "display_data"
    },
    {
     "name": "stderr",
     "output_type": "stream",
     "text": [
      "26-Mar-25 15:05:17 - Saving results to results/processed_texts.csv\n",
      "26-Mar-25 15:05:17 - Starting to process\n"
     ]
    },
    {
     "data": {
      "application/vnd.jupyter.widget-view+json": {
       "model_id": "f4ed0fd945d74d4fb771669602bf8806",
       "version_major": 2,
       "version_minor": 0
      },
      "text/plain": [
       "Processing texts:   0%|          | 0/1 [00:00<?, ?it/s]"
      ]
     },
     "metadata": {},
     "output_type": "display_data"
    },
    {
     "name": "stderr",
     "output_type": "stream",
     "text": [
      "26-Mar-25 15:05:18 - Saving results to results/processed_texts.csv\n",
      "26-Mar-25 15:05:18 - Starting to process\n"
     ]
    },
    {
     "data": {
      "application/vnd.jupyter.widget-view+json": {
       "model_id": "e4ad68478d4f4e438633d55e8482866f",
       "version_major": 2,
       "version_minor": 0
      },
      "text/plain": [
       "Processing texts:   0%|          | 0/1 [00:00<?, ?it/s]"
      ]
     },
     "metadata": {},
     "output_type": "display_data"
    },
    {
     "name": "stderr",
     "output_type": "stream",
     "text": [
      "26-Mar-25 15:05:19 - Saving results to results/processed_texts.csv\n",
      "26-Mar-25 15:05:19 - Starting to process\n"
     ]
    },
    {
     "data": {
      "application/vnd.jupyter.widget-view+json": {
       "model_id": "d5abf6f1877a4f1b944723c090f05698",
       "version_major": 2,
       "version_minor": 0
      },
      "text/plain": [
       "Processing texts:   0%|          | 0/1 [00:00<?, ?it/s]"
      ]
     },
     "metadata": {},
     "output_type": "display_data"
    },
    {
     "name": "stderr",
     "output_type": "stream",
     "text": [
      "26-Mar-25 15:05:20 - Saving results to results/processed_texts.csv\n",
      "26-Mar-25 15:05:20 - Starting to process\n"
     ]
    },
    {
     "data": {
      "application/vnd.jupyter.widget-view+json": {
       "model_id": "ed77b7db3ea944df9d14a0810294aa5a",
       "version_major": 2,
       "version_minor": 0
      },
      "text/plain": [
       "Processing texts:   0%|          | 0/1 [00:00<?, ?it/s]"
      ]
     },
     "metadata": {},
     "output_type": "display_data"
    },
    {
     "name": "stderr",
     "output_type": "stream",
     "text": [
      "26-Mar-25 15:05:21 - Saving results to results/processed_texts.csv\n",
      "26-Mar-25 15:05:22 - Starting to process\n"
     ]
    },
    {
     "data": {
      "application/vnd.jupyter.widget-view+json": {
       "model_id": "1f2819433b9e448391b123ae433c4e4f",
       "version_major": 2,
       "version_minor": 0
      },
      "text/plain": [
       "Processing texts:   0%|          | 0/1 [00:00<?, ?it/s]"
      ]
     },
     "metadata": {},
     "output_type": "display_data"
    },
    {
     "name": "stderr",
     "output_type": "stream",
     "text": [
      "26-Mar-25 15:05:22 - Saving results to results/processed_texts.csv\n",
      "26-Mar-25 15:05:23 - Starting to process\n"
     ]
    },
    {
     "data": {
      "application/vnd.jupyter.widget-view+json": {
       "model_id": "6376b8e23aa64c2cae3d451be8f07ce5",
       "version_major": 2,
       "version_minor": 0
      },
      "text/plain": [
       "Processing texts:   0%|          | 0/1 [00:00<?, ?it/s]"
      ]
     },
     "metadata": {},
     "output_type": "display_data"
    },
    {
     "name": "stderr",
     "output_type": "stream",
     "text": [
      "26-Mar-25 15:05:23 - Saving results to results/processed_texts.csv\n",
      "26-Mar-25 15:05:23 - Starting to process\n"
     ]
    },
    {
     "data": {
      "application/vnd.jupyter.widget-view+json": {
       "model_id": "715c91af27bd4d98a383697ce94eafa5",
       "version_major": 2,
       "version_minor": 0
      },
      "text/plain": [
       "Processing texts:   0%|          | 0/1 [00:00<?, ?it/s]"
      ]
     },
     "metadata": {},
     "output_type": "display_data"
    },
    {
     "name": "stderr",
     "output_type": "stream",
     "text": [
      "26-Mar-25 15:05:24 - Saving results to results/processed_texts.csv\n",
      "26-Mar-25 15:05:24 - Starting to process\n"
     ]
    },
    {
     "data": {
      "application/vnd.jupyter.widget-view+json": {
       "model_id": "d072461009db49d9b20bca5836dea19e",
       "version_major": 2,
       "version_minor": 0
      },
      "text/plain": [
       "Processing texts:   0%|          | 0/1 [00:00<?, ?it/s]"
      ]
     },
     "metadata": {},
     "output_type": "display_data"
    },
    {
     "name": "stderr",
     "output_type": "stream",
     "text": [
      "26-Mar-25 15:05:24 - Saving results to results/processed_texts.csv\n",
      "26-Mar-25 15:05:25 - Starting to process\n"
     ]
    },
    {
     "data": {
      "application/vnd.jupyter.widget-view+json": {
       "model_id": "64f93585b81547a78a864a9d9a2fc5ee",
       "version_major": 2,
       "version_minor": 0
      },
      "text/plain": [
       "Processing texts:   0%|          | 0/1 [00:00<?, ?it/s]"
      ]
     },
     "metadata": {},
     "output_type": "display_data"
    },
    {
     "name": "stderr",
     "output_type": "stream",
     "text": [
      "26-Mar-25 15:05:25 - Saving results to results/processed_texts.csv\n",
      "26-Mar-25 15:05:26 - Starting to process\n"
     ]
    },
    {
     "data": {
      "application/vnd.jupyter.widget-view+json": {
       "model_id": "ea7a123ed9484791ad85c2746bba28f3",
       "version_major": 2,
       "version_minor": 0
      },
      "text/plain": [
       "Processing texts:   0%|          | 0/1 [00:00<?, ?it/s]"
      ]
     },
     "metadata": {},
     "output_type": "display_data"
    },
    {
     "name": "stderr",
     "output_type": "stream",
     "text": [
      "26-Mar-25 15:05:26 - Saving results to results/processed_texts.csv\n",
      "26-Mar-25 15:05:27 - Starting to process\n"
     ]
    },
    {
     "data": {
      "application/vnd.jupyter.widget-view+json": {
       "model_id": "47c64289e86343dbae8fc985f5f36391",
       "version_major": 2,
       "version_minor": 0
      },
      "text/plain": [
       "Processing texts:   0%|          | 0/1 [00:00<?, ?it/s]"
      ]
     },
     "metadata": {},
     "output_type": "display_data"
    },
    {
     "name": "stderr",
     "output_type": "stream",
     "text": [
      "26-Mar-25 15:05:28 - Saving results to results/processed_texts.csv\n",
      "26-Mar-25 15:05:28 - Starting to process\n"
     ]
    },
    {
     "data": {
      "application/vnd.jupyter.widget-view+json": {
       "model_id": "afba56f4c0df440aaabeb8799d13bee2",
       "version_major": 2,
       "version_minor": 0
      },
      "text/plain": [
       "Processing texts:   0%|          | 0/1 [00:00<?, ?it/s]"
      ]
     },
     "metadata": {},
     "output_type": "display_data"
    },
    {
     "name": "stderr",
     "output_type": "stream",
     "text": [
      "26-Mar-25 15:05:28 - Saving results to results/processed_texts.csv\n",
      "26-Mar-25 15:05:29 - Starting to process\n"
     ]
    },
    {
     "data": {
      "application/vnd.jupyter.widget-view+json": {
       "model_id": "f80f125054e94bb49e55888a6b3520ac",
       "version_major": 2,
       "version_minor": 0
      },
      "text/plain": [
       "Processing texts:   0%|          | 0/1 [00:00<?, ?it/s]"
      ]
     },
     "metadata": {},
     "output_type": "display_data"
    },
    {
     "name": "stderr",
     "output_type": "stream",
     "text": [
      "26-Mar-25 15:05:30 - Saving results to results/processed_texts.csv\n",
      "26-Mar-25 15:05:30 - Starting to process\n"
     ]
    },
    {
     "data": {
      "application/vnd.jupyter.widget-view+json": {
       "model_id": "edc097a6c0e6454396ea5714721773e9",
       "version_major": 2,
       "version_minor": 0
      },
      "text/plain": [
       "Processing texts:   0%|          | 0/1 [00:00<?, ?it/s]"
      ]
     },
     "metadata": {},
     "output_type": "display_data"
    },
    {
     "name": "stderr",
     "output_type": "stream",
     "text": [
      "26-Mar-25 15:05:31 - Saving results to results/processed_texts.csv\n",
      "26-Mar-25 15:05:31 - Starting to process\n"
     ]
    },
    {
     "data": {
      "application/vnd.jupyter.widget-view+json": {
       "model_id": "c94ec55dee49497183102ccde3c4de86",
       "version_major": 2,
       "version_minor": 0
      },
      "text/plain": [
       "Processing texts:   0%|          | 0/1 [00:00<?, ?it/s]"
      ]
     },
     "metadata": {},
     "output_type": "display_data"
    },
    {
     "name": "stderr",
     "output_type": "stream",
     "text": [
      "26-Mar-25 15:05:32 - Saving results to results/processed_texts.csv\n",
      "26-Mar-25 15:05:33 - Starting to process\n"
     ]
    },
    {
     "data": {
      "application/vnd.jupyter.widget-view+json": {
       "model_id": "32b7a2721b3c4577a4a67ef6f05cc947",
       "version_major": 2,
       "version_minor": 0
      },
      "text/plain": [
       "Processing texts:   0%|          | 0/1 [00:00<?, ?it/s]"
      ]
     },
     "metadata": {},
     "output_type": "display_data"
    },
    {
     "name": "stderr",
     "output_type": "stream",
     "text": [
      "26-Mar-25 15:05:33 - Saving results to results/processed_texts.csv\n",
      "26-Mar-25 15:05:34 - Starting to process\n"
     ]
    },
    {
     "data": {
      "application/vnd.jupyter.widget-view+json": {
       "model_id": "cad47d363a0b455b817dd67589611b16",
       "version_major": 2,
       "version_minor": 0
      },
      "text/plain": [
       "Processing texts:   0%|          | 0/1 [00:00<?, ?it/s]"
      ]
     },
     "metadata": {},
     "output_type": "display_data"
    },
    {
     "name": "stderr",
     "output_type": "stream",
     "text": [
      "26-Mar-25 15:05:34 - Saving results to results/processed_texts.csv\n",
      "26-Mar-25 15:05:35 - Starting to process\n"
     ]
    },
    {
     "data": {
      "application/vnd.jupyter.widget-view+json": {
       "model_id": "66fe3ac5dce64aabb4ede6e01d431409",
       "version_major": 2,
       "version_minor": 0
      },
      "text/plain": [
       "Processing texts:   0%|          | 0/1 [00:00<?, ?it/s]"
      ]
     },
     "metadata": {},
     "output_type": "display_data"
    },
    {
     "name": "stderr",
     "output_type": "stream",
     "text": [
      "26-Mar-25 15:05:35 - Saving results to results/processed_texts.csv\n",
      "26-Mar-25 15:05:36 - Starting to process\n"
     ]
    },
    {
     "data": {
      "application/vnd.jupyter.widget-view+json": {
       "model_id": "9d7bf29fc332404d9bbdf9acf67f6a33",
       "version_major": 2,
       "version_minor": 0
      },
      "text/plain": [
       "Processing texts:   0%|          | 0/1 [00:00<?, ?it/s]"
      ]
     },
     "metadata": {},
     "output_type": "display_data"
    },
    {
     "name": "stderr",
     "output_type": "stream",
     "text": [
      "26-Mar-25 15:05:36 - Saving results to results/processed_texts.csv\n",
      "26-Mar-25 15:05:37 - Starting to process\n"
     ]
    },
    {
     "data": {
      "application/vnd.jupyter.widget-view+json": {
       "model_id": "3ae622823a8f4e409ad178edea0b3c31",
       "version_major": 2,
       "version_minor": 0
      },
      "text/plain": [
       "Processing texts:   0%|          | 0/1 [00:00<?, ?it/s]"
      ]
     },
     "metadata": {},
     "output_type": "display_data"
    },
    {
     "name": "stderr",
     "output_type": "stream",
     "text": [
      "26-Mar-25 15:05:38 - Saving results to results/processed_texts.csv\n",
      "26-Mar-25 15:05:38 - Starting to process\n"
     ]
    },
    {
     "data": {
      "application/vnd.jupyter.widget-view+json": {
       "model_id": "27770cf6b839489aa9e12fde43a309b6",
       "version_major": 2,
       "version_minor": 0
      },
      "text/plain": [
       "Processing texts:   0%|          | 0/1 [00:00<?, ?it/s]"
      ]
     },
     "metadata": {},
     "output_type": "display_data"
    },
    {
     "name": "stderr",
     "output_type": "stream",
     "text": [
      "26-Mar-25 15:05:39 - Saving results to results/processed_texts.csv\n",
      "26-Mar-25 15:05:39 - Starting to process\n"
     ]
    },
    {
     "data": {
      "application/vnd.jupyter.widget-view+json": {
       "model_id": "d6a210c790e349d4bb69eb10b3ffb25f",
       "version_major": 2,
       "version_minor": 0
      },
      "text/plain": [
       "Processing texts:   0%|          | 0/1 [00:00<?, ?it/s]"
      ]
     },
     "metadata": {},
     "output_type": "display_data"
    },
    {
     "name": "stderr",
     "output_type": "stream",
     "text": [
      "26-Mar-25 15:05:39 - Saving results to results/processed_texts.csv\n",
      "26-Mar-25 15:05:40 - Starting to process\n"
     ]
    },
    {
     "data": {
      "application/vnd.jupyter.widget-view+json": {
       "model_id": "18620927e4b24fdfb18a795604606d8c",
       "version_major": 2,
       "version_minor": 0
      },
      "text/plain": [
       "Processing texts:   0%|          | 0/1 [00:00<?, ?it/s]"
      ]
     },
     "metadata": {},
     "output_type": "display_data"
    },
    {
     "name": "stderr",
     "output_type": "stream",
     "text": [
      "26-Mar-25 15:05:40 - Saving results to results/processed_texts.csv\n",
      "26-Mar-25 15:05:41 - Starting to process\n"
     ]
    },
    {
     "data": {
      "application/vnd.jupyter.widget-view+json": {
       "model_id": "816e3b33fc4941dbac9fdab6baeef8b4",
       "version_major": 2,
       "version_minor": 0
      },
      "text/plain": [
       "Processing texts:   0%|          | 0/1 [00:00<?, ?it/s]"
      ]
     },
     "metadata": {},
     "output_type": "display_data"
    },
    {
     "name": "stderr",
     "output_type": "stream",
     "text": [
      "26-Mar-25 15:05:41 - Saving results to results/processed_texts.csv\n",
      "26-Mar-25 15:05:42 - Starting to process\n"
     ]
    },
    {
     "data": {
      "application/vnd.jupyter.widget-view+json": {
       "model_id": "e5f0bf8604584affae99c4d92015bc45",
       "version_major": 2,
       "version_minor": 0
      },
      "text/plain": [
       "Processing texts:   0%|          | 0/1 [00:00<?, ?it/s]"
      ]
     },
     "metadata": {},
     "output_type": "display_data"
    },
    {
     "name": "stderr",
     "output_type": "stream",
     "text": [
      "26-Mar-25 15:05:42 - Saving results to results/processed_texts.csv\n",
      "26-Mar-25 15:05:43 - Starting to process\n"
     ]
    },
    {
     "data": {
      "application/vnd.jupyter.widget-view+json": {
       "model_id": "d3ddfb4d681241688bd9f92cdee2ef0f",
       "version_major": 2,
       "version_minor": 0
      },
      "text/plain": [
       "Processing texts:   0%|          | 0/1 [00:00<?, ?it/s]"
      ]
     },
     "metadata": {},
     "output_type": "display_data"
    },
    {
     "name": "stderr",
     "output_type": "stream",
     "text": [
      "26-Mar-25 15:05:43 - Saving results to results/processed_texts.csv\n"
     ]
    },
    {
     "name": "stdout",
     "output_type": "stream",
     "text": [
      "\n",
      "SVM Accuracy: 0.7758620689655172\n",
      "SVM Classification Report:\n",
      "              precision    recall  f1-score   support\n",
      "\n",
      "           0       0.38      0.27      0.32        22\n",
      "           1       0.84      0.89      0.87        94\n",
      "\n",
      "    accuracy                           0.78       116\n",
      "   macro avg       0.61      0.58      0.59       116\n",
      "weighted avg       0.75      0.78      0.76       116\n",
      "\n",
      "\n",
      "Majority Classifier Accuracy: 0.8103448275862069\n",
      "Majority Classifier Classification Report:\n",
      "              precision    recall  f1-score   support\n",
      "\n",
      "           0       0.00      0.00      0.00        22\n",
      "           1       0.81      1.00      0.90        94\n",
      "\n",
      "    accuracy                           0.81       116\n",
      "   macro avg       0.41      0.50      0.45       116\n",
      "weighted avg       0.66      0.81      0.73       116\n",
      "\n"
     ]
    },
    {
     "name": "stderr",
     "output_type": "stream",
     "text": [
      "h:\\moha\\NLP\\AM\\SA\\.venv\\lib\\site-packages\\sklearn\\metrics\\_classification.py:1531: UndefinedMetricWarning:\n",
      "\n",
      "Precision is ill-defined and being set to 0.0 in labels with no predicted samples. Use `zero_division` parameter to control this behavior.\n",
      "\n",
      "h:\\moha\\NLP\\AM\\SA\\.venv\\lib\\site-packages\\sklearn\\metrics\\_classification.py:1531: UndefinedMetricWarning:\n",
      "\n",
      "Precision is ill-defined and being set to 0.0 in labels with no predicted samples. Use `zero_division` parameter to control this behavior.\n",
      "\n",
      "h:\\moha\\NLP\\AM\\SA\\.venv\\lib\\site-packages\\sklearn\\metrics\\_classification.py:1531: UndefinedMetricWarning:\n",
      "\n",
      "Precision is ill-defined and being set to 0.0 in labels with no predicted samples. Use `zero_division` parameter to control this behavior.\n",
      "\n"
     ]
    }
   ],
   "source": [
    "accuracy_svm_sn, class_report_svm_sn, accuracy_majority_sn, class_report_majority_sn = classify_pro_opp_SVM_SENTICNET(df)"
   ]
  },
  {
   "cell_type": "code",
   "execution_count": 109,
   "metadata": {},
   "outputs": [
    {
     "name": "stdout",
     "output_type": "stream",
     "text": [
      "0.7758620689655172               precision    recall  f1-score   support\n",
      "\n",
      "           0       0.38      0.27      0.32        22\n",
      "           1       0.84      0.89      0.87        94\n",
      "\n",
      "    accuracy                           0.78       116\n",
      "   macro avg       0.61      0.58      0.59       116\n",
      "weighted avg       0.75      0.78      0.76       116\n",
      " 0.8103448275862069               precision    recall  f1-score   support\n",
      "\n",
      "           0       0.00      0.00      0.00        22\n",
      "           1       0.81      1.00      0.90        94\n",
      "\n",
      "    accuracy                           0.81       116\n",
      "   macro avg       0.41      0.50      0.45       116\n",
      "weighted avg       0.66      0.81      0.73       116\n",
      "\n"
     ]
    }
   ],
   "source": [
    "print(accuracy_svm_sn, class_report_svm_sn, accuracy_majority_sn, class_report_majority_sn)"
   ]
  },
  {
   "cell_type": "markdown",
   "metadata": {},
   "source": [
    "# ### C-Senticnet for using orignal senticnet"
   ]
  },
  {
   "cell_type": "code",
   "execution_count": 47,
   "metadata": {},
   "outputs": [],
   "source": [
    "\n",
    "def calculate_SN(sentence):\n",
    "    \"\"\"\n",
    "    This function calculates sentiment values for four aspects: introspection, temper, attitude, and sensitivity.\n",
    "    \n",
    "    Args:\n",
    "        sentence (str): The input sentence to analyze.\n",
    "        \n",
    "    Returns:\n",
    "        dict: A dictionary with sentiment values for each aspect.\n",
    "    \"\"\"\n",
    "    \n",
    "    sentiment_dict = {\n",
    "        \"introspection\": 0,\n",
    "        \"temper\": 0,\n",
    "        \"attitude\": 0,\n",
    "        \"sensitivity\": 0\n",
    "    }\n",
    "    \n",
    "    blob = TextBlob(sentence)\n",
    "    \n",
    "    polarity = blob.sentiment.polarity   # it does not look like precise!!\n",
    "    subjectivity = blob.sentiment.subjectivity\n",
    "    \n",
    "    \n",
    "    sentiment_dict[\"introspection\"] = polarity  \n",
    "    sentiment_dict[\"temper\"] = polarity  \n",
    "    sentiment_dict[\"attitude\"] = polarity  \n",
    "    sentiment_dict[\"sensitivity\"] = subjectivity  \n",
    "    return sentiment_dict\n",
    "\n"
   ]
  },
  {
   "cell_type": "code",
   "execution_count": 48,
   "metadata": {},
   "outputs": [],
   "source": [
    "def classify_pro_opp_SVM_SN(df):  #very time consuming, need find a way to loop over the whole df not rows\n",
    "    df = handle_mismatched_rows(df)\n",
    "    \n",
    "    df_exp = df.explode(['EDU', 'adu_type'])\n",
    "\n",
    "    X = df_exp['EDU']\n",
    "    y = df_exp['adu_type']\n",
    "    label_encoder = LabelEncoder()\n",
    "    y_encoded = label_encoder.fit_transform(y)  \n",
    "    \n",
    "    nrc_features = X.apply(lambda text: calculate_SN(text))\n",
    "    nrc_df = pd.DataFrame(nrc_features.tolist())  \n",
    "    \n",
    "    vectorizer = TfidfVectorizer(max_features=5000)\n",
    "    X_tfidf = vectorizer.fit_transform(X)\n",
    "    \n",
    "    X_combined = np.hstack((X_tfidf.toarray(), nrc_df.to_numpy()))\n",
    "    \n",
    "    X_train, X_test, y_train, y_test = train_test_split(X_combined, y_encoded, test_size=0.2, random_state=42)\n",
    "\n",
    "    clf = SVC(kernel='linear', class_weight='balanced', random_state=42)\n",
    "    clf.fit(X_train, y_train)\n",
    "    \n",
    "    y_pred_svm = clf.predict(X_test)\n",
    "    accuracy_svm = accuracy_score(y_test, y_pred_svm)\n",
    "    class_report_svm = classification_report(y_test, y_pred_svm)\n",
    "\n",
    "    print(f\"\\nSVM Accuracy: {accuracy_svm}\")\n",
    "    print(f\"SVM Classification Report:\\n{class_report_svm}\")\n",
    "\n",
    "    majority_classifier = DummyClassifier(strategy='most_frequent')\n",
    "    majority_classifier.fit(X_train, y_train)\n",
    "    \n",
    "    y_pred_majority = majority_classifier.predict(X_test)\n",
    "    accuracy_majority = accuracy_score(y_test, y_pred_majority)\n",
    "    class_report_majority = classification_report(y_test, y_pred_majority)\n",
    "\n",
    "    print(f\"\\nMajority Classifier Accuracy: {accuracy_majority}\")\n",
    "    print(f\"Majority Classifier Classification Report:\\n{class_report_majority}\")\n",
    "\n",
    "    return accuracy_svm, class_report_svm, accuracy_majority, class_report_majority"
   ]
  },
  {
   "cell_type": "code",
   "execution_count": 51,
   "metadata": {},
   "outputs": [
    {
     "name": "stdout",
     "output_type": "stream",
     "text": [
      "\n",
      "SVM Accuracy: 0.7758620689655172\n",
      "SVM Classification Report:\n",
      "              precision    recall  f1-score   support\n",
      "\n",
      "           0       0.38      0.27      0.32        22\n",
      "           1       0.84      0.89      0.87        94\n",
      "\n",
      "    accuracy                           0.78       116\n",
      "   macro avg       0.61      0.58      0.59       116\n",
      "weighted avg       0.75      0.78      0.76       116\n",
      "\n",
      "\n",
      "Majority Classifier Accuracy: 0.8103448275862069\n",
      "Majority Classifier Classification Report:\n",
      "              precision    recall  f1-score   support\n",
      "\n",
      "           0       0.00      0.00      0.00        22\n",
      "           1       0.81      1.00      0.90        94\n",
      "\n",
      "    accuracy                           0.81       116\n",
      "   macro avg       0.41      0.50      0.45       116\n",
      "weighted avg       0.66      0.81      0.73       116\n",
      "\n"
     ]
    },
    {
     "name": "stderr",
     "output_type": "stream",
     "text": [
      "h:\\moha\\NLP\\AM\\SA\\.venv\\lib\\site-packages\\sklearn\\metrics\\_classification.py:1531: UndefinedMetricWarning:\n",
      "\n",
      "Precision is ill-defined and being set to 0.0 in labels with no predicted samples. Use `zero_division` parameter to control this behavior.\n",
      "\n",
      "h:\\moha\\NLP\\AM\\SA\\.venv\\lib\\site-packages\\sklearn\\metrics\\_classification.py:1531: UndefinedMetricWarning:\n",
      "\n",
      "Precision is ill-defined and being set to 0.0 in labels with no predicted samples. Use `zero_division` parameter to control this behavior.\n",
      "\n",
      "h:\\moha\\NLP\\AM\\SA\\.venv\\lib\\site-packages\\sklearn\\metrics\\_classification.py:1531: UndefinedMetricWarning:\n",
      "\n",
      "Precision is ill-defined and being set to 0.0 in labels with no predicted samples. Use `zero_division` parameter to control this behavior.\n",
      "\n"
     ]
    }
   ],
   "source": [
    "accuracy_svm_SN, class_report_svm_SN, accuracy_majority_SN, class_report_majority_SN = classify_pro_opp_SVM_SN(df)"
   ]
  },
  {
   "cell_type": "code",
   "execution_count": 50,
   "metadata": {},
   "outputs": [
    {
     "name": "stdout",
     "output_type": "stream",
     "text": [
      "\n",
      "SVM Accuracy: 0.8\n",
      "SVM Classification Report:\n",
      "              precision    recall  f1-score   support\n",
      "\n",
      "           0       0.26      0.22      0.24        23\n",
      "           1       0.87      0.90      0.88       137\n",
      "\n",
      "    accuracy                           0.80       160\n",
      "   macro avg       0.57      0.56      0.56       160\n",
      "weighted avg       0.78      0.80      0.79       160\n",
      "\n",
      "\n",
      "Majority Classifier Accuracy: 0.85625\n",
      "Majority Classifier Classification Report:\n",
      "              precision    recall  f1-score   support\n",
      "\n",
      "           0       0.00      0.00      0.00        23\n",
      "           1       0.86      1.00      0.92       137\n",
      "\n",
      "    accuracy                           0.86       160\n",
      "   macro avg       0.43      0.50      0.46       160\n",
      "weighted avg       0.73      0.86      0.79       160\n",
      "\n"
     ]
    },
    {
     "name": "stderr",
     "output_type": "stream",
     "text": [
      "h:\\moha\\NLP\\AM\\SA\\.venv\\lib\\site-packages\\sklearn\\metrics\\_classification.py:1531: UndefinedMetricWarning:\n",
      "\n",
      "Precision is ill-defined and being set to 0.0 in labels with no predicted samples. Use `zero_division` parameter to control this behavior.\n",
      "\n",
      "h:\\moha\\NLP\\AM\\SA\\.venv\\lib\\site-packages\\sklearn\\metrics\\_classification.py:1531: UndefinedMetricWarning:\n",
      "\n",
      "Precision is ill-defined and being set to 0.0 in labels with no predicted samples. Use `zero_division` parameter to control this behavior.\n",
      "\n",
      "h:\\moha\\NLP\\AM\\SA\\.venv\\lib\\site-packages\\sklearn\\metrics\\_classification.py:1531: UndefinedMetricWarning:\n",
      "\n",
      "Precision is ill-defined and being set to 0.0 in labels with no predicted samples. Use `zero_division` parameter to control this behavior.\n",
      "\n"
     ]
    }
   ],
   "source": [
    "accuracy_svm_SN_2, class_report_svm_SN_2, accuracy_majority_SN_2, class_report_majority_SN_2 = classify_pro_opp_SVM_SN(df2)"
   ]
  },
  {
   "cell_type": "code",
   "execution_count": 49,
   "metadata": {},
   "outputs": [
    {
     "name": "stdout",
     "output_type": "stream",
     "text": [
      "\n",
      "SVM Accuracy: 0.6471816283924844\n",
      "SVM Classification Report:\n",
      "              precision    recall  f1-score   support\n",
      "\n",
      "           0       0.55      0.66      0.60       193\n",
      "           1       0.74      0.64      0.68       286\n",
      "\n",
      "    accuracy                           0.65       479\n",
      "   macro avg       0.64      0.65      0.64       479\n",
      "weighted avg       0.66      0.65      0.65       479\n",
      "\n",
      "\n",
      "Majority Classifier Accuracy: 0.5970772442588727\n",
      "Majority Classifier Classification Report:\n",
      "              precision    recall  f1-score   support\n",
      "\n",
      "           0       0.00      0.00      0.00       193\n",
      "           1       0.60      1.00      0.75       286\n",
      "\n",
      "    accuracy                           0.60       479\n",
      "   macro avg       0.30      0.50      0.37       479\n",
      "weighted avg       0.36      0.60      0.45       479\n",
      "\n"
     ]
    },
    {
     "name": "stderr",
     "output_type": "stream",
     "text": [
      "h:\\moha\\NLP\\AM\\SA\\.venv\\lib\\site-packages\\sklearn\\metrics\\_classification.py:1531: UndefinedMetricWarning:\n",
      "\n",
      "Precision is ill-defined and being set to 0.0 in labels with no predicted samples. Use `zero_division` parameter to control this behavior.\n",
      "\n",
      "h:\\moha\\NLP\\AM\\SA\\.venv\\lib\\site-packages\\sklearn\\metrics\\_classification.py:1531: UndefinedMetricWarning:\n",
      "\n",
      "Precision is ill-defined and being set to 0.0 in labels with no predicted samples. Use `zero_division` parameter to control this behavior.\n",
      "\n",
      "h:\\moha\\NLP\\AM\\SA\\.venv\\lib\\site-packages\\sklearn\\metrics\\_classification.py:1531: UndefinedMetricWarning:\n",
      "\n",
      "Precision is ill-defined and being set to 0.0 in labels with no predicted samples. Use `zero_division` parameter to control this behavior.\n",
      "\n"
     ]
    }
   ],
   "source": [
    "accuracy_svm_SN_3, class_report_svm_SN_3, accuracy_majority_SN_3, class_report_majority_SN_3 = classify_pro_opp_SVM_SN(df3)"
   ]
  },
  {
   "cell_type": "code",
   "execution_count": 52,
   "metadata": {},
   "outputs": [],
   "source": [
    "# add results on cross models"
   ]
  },
  {
   "cell_type": "code",
   "execution_count": null,
   "metadata": {},
   "outputs": [],
   "source": []
  },
  {
   "cell_type": "code",
   "execution_count": null,
   "metadata": {},
   "outputs": [],
   "source": []
  }
 ],
 "metadata": {
  "kernelspec": {
   "display_name": ".venv",
   "language": "python",
   "name": "python3"
  },
  "language_info": {
   "codemirror_mode": {
    "name": "ipython",
    "version": 3
   },
   "file_extension": ".py",
   "mimetype": "text/x-python",
   "name": "python",
   "nbconvert_exporter": "python",
   "pygments_lexer": "ipython3",
   "version": "3.10.9"
  }
 },
 "nbformat": 4,
 "nbformat_minor": 2
}
