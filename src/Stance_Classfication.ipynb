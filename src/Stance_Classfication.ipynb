{
 "cells": [
  {
   "cell_type": "markdown",
   "metadata": {},
   "source": [
    "##### Fluid Dynamics-Inspired Emotional Analysis & Sentiment Flow for Argumentation Mining (AM)\n",
    "- Stance basesd Argument Mining Modeling Using NRC and SneticNet Emotion Analysis\n"
   ]
  },
  {
   "cell_type": "markdown",
   "metadata": {},
   "source": [
    "The idea is to use \"Emotional Analysis\" (NRC,SenticNet, SOCAL) to improve\n",
    "\n",
    "- Stance Claissfication\n",
    "- Fine-Grained Classifcation \n",
    "\n",
    "- https://aclanthology.org/J11-2001.pdf\n",
    "- https://github.com/sfu-discourse-lab/SO-CAL"
   ]
  },
  {
   "cell_type": "markdown",
   "metadata": {},
   "source": []
  },
  {
   "cell_type": "code",
   "execution_count": null,
   "metadata": {},
   "outputs": [],
   "source": []
  },
  {
   "cell_type": "code",
   "execution_count": 62,
   "metadata": {},
   "outputs": [],
   "source": [
    "import shutil\n",
    "import pandas as pd\n",
    "from SentimentFlow import SpeechProcessor\n",
    "from SentimentFlow import SentimentFlowCalculator\n",
    "#https://github.com.mcas.ms/dpicca/SentimentFlow\n",
    "pd.set_option(\"display.max_colwidth\", None)\n",
    "import numpy as np\n",
    "import matplotlib.pyplot as plt\n",
    "from ipywidgets import interact, interactive, fixed, interact_manual, IntSlider\n",
    "import ipywidgets as widgets\n",
    "import os\n",
    "import spacy\n",
    "from nrclex import NRCLex\n",
    "\n"
   ]
  },
  {
   "cell_type": "markdown",
   "metadata": {},
   "source": [
    "# Argumentative Microtext Part 1"
   ]
  },
  {
   "cell_type": "markdown",
   "metadata": {},
   "source": [
    "we've done a extensive pre-processing on microtext to extract all layers of annotations. The focus is stance classifcation "
   ]
  },
  {
   "cell_type": "code",
   "execution_count": 63,
   "metadata": {},
   "outputs": [],
   "source": [
    "df = pd.read_json(\"../data/dfMT-PC_SA_CP_topicID_AduType.json\") "
   ]
  },
  {
   "cell_type": "code",
   "execution_count": 64,
   "metadata": {},
   "outputs": [
    {
     "name": "stdout",
     "output_type": "stream",
     "text": [
      "<class 'pandas.core.frame.DataFrame'>\n",
      "Index: 112 entries, 0 to 111\n",
      "Data columns (total 6 columns):\n",
      " #   Column     Non-Null Count  Dtype \n",
      "---  ------     --------------  ----- \n",
      " 0   EDU        112 non-null    object\n",
      " 1   adu_type   112 non-null    object\n",
      " 2   topic_id   89 non-null     object\n",
      " 3   Relations  112 non-null    object\n",
      " 4   Label      112 non-null    object\n",
      " 5   STANCE     89 non-null     object\n",
      "dtypes: object(6)\n",
      "memory usage: 6.1+ KB\n"
     ]
    }
   ],
   "source": [
    "df.info()"
   ]
  },
  {
   "cell_type": "code",
   "execution_count": 4,
   "metadata": {},
   "outputs": [
    {
     "data": {
      "text/html": [
       "<div>\n",
       "<style scoped>\n",
       "    .dataframe tbody tr th:only-of-type {\n",
       "        vertical-align: middle;\n",
       "    }\n",
       "\n",
       "    .dataframe tbody tr th {\n",
       "        vertical-align: top;\n",
       "    }\n",
       "\n",
       "    .dataframe thead th {\n",
       "        text-align: right;\n",
       "    }\n",
       "</style>\n",
       "<table border=\"1\" class=\"dataframe\">\n",
       "  <thead>\n",
       "    <tr style=\"text-align: right;\">\n",
       "      <th></th>\n",
       "      <th>EDU</th>\n",
       "      <th>adu_type</th>\n",
       "      <th>topic_id</th>\n",
       "      <th>Relations</th>\n",
       "      <th>Label</th>\n",
       "      <th>STANCE</th>\n",
       "    </tr>\n",
       "  </thead>\n",
       "  <tbody>\n",
       "    <tr>\n",
       "      <th>0</th>\n",
       "      <td>[Yes, it's annoying and cumbersome to separate your rubbish properly all the time., Three different bin bags stink away in the kitchen and have to be sorted into different wheelie bins., But still Germany produces way too much rubbish, and too many resources are lost when what actually should be separated and recycled is burnt., We Berliners should take the chance and become pioneers in waste separation!]</td>\n",
       "      <td>[opp, opp, pro, pro, pro]</td>\n",
       "      <td>waste_separation</td>\n",
       "      <td>[[a1, a5, reb], [a2, a1, sup], [a3, c1, und], [a4, c3, add]]</td>\n",
       "      <td>[0, 0, 0, 0, 1]</td>\n",
       "      <td>pro</td>\n",
       "    </tr>\n",
       "    <tr>\n",
       "      <th>1</th>\n",
       "      <td>[One can hardly move in Friedrichshain or Neukölln these days without permanently scanning the ground for dog dirt., And when bad luck does strike and you step into one of the many 'land mines' you have to painstakingly scrape the remains off your soles., Higher fines are therefore the right measure against negligent, lazy or simply thoughtless dog owners., Of course, first they'd actually need to be caught in the act by public order officers,, but once they have to dig into their pockets, their laziness will sure vanish!]</td>\n",
       "      <td>[pro, pro, pro, opp, pro]</td>\n",
       "      <td>higher_dog_poo_fines</td>\n",
       "      <td>[[a1, a3, sup], [a2, a3, sup], [a4, a3, reb], [a5, c4, und]]</td>\n",
       "      <td>[0, 0, 1, 0, 0]</td>\n",
       "      <td>pro</td>\n",
       "    </tr>\n",
       "    <tr>\n",
       "      <th>2</th>\n",
       "      <td>[Health insurance companies should not cover treatment in complementary medicine, unless the promised effect and its medical benefit have been concretely proven., Yet this very proof is lacking in most cases., Patients do often report relief of their complaints after such treatments., But as long as it is unclear as to how this works, the funds should rather be spent on therapies where one knows with certainty.]</td>\n",
       "      <td>[pro, opp, pro, opp, pro]</td>\n",
       "      <td>health_insurance_cover_complementary_medicine</td>\n",
       "      <td>[[a2, a1, reb], [a3, a2, reb], [a4, a1, reb], [a5, c4, und]]</td>\n",
       "      <td>[1, 0, 0, 0, 0]</td>\n",
       "      <td>con</td>\n",
       "    </tr>\n",
       "    <tr>\n",
       "      <th>3</th>\n",
       "      <td>[Of course there are a number of programmes in public broadcasting that are not worth the licencing fee,, and others, such as “Musikantenstadl” and soap operas, are only interesting to certain audiences., Nevertheless, everybody should contribute to the funding of the public broadcasters in equal measure,, for we need general and independent media., After all we want to get our view of the world neither through the lens of the government nor through that of rich media entrepreneurs.]</td>\n",
       "      <td>[opp, opp, pro, pro, pro]</td>\n",
       "      <td>public_broadcasting_fees_on_demand</td>\n",
       "      <td>[[a1, a3, reb], [a2, a3, reb], [a4, a3, sup], [a5, a4, sup]]</td>\n",
       "      <td>[0, 0, 1, 0, 0]</td>\n",
       "      <td>con</td>\n",
       "    </tr>\n",
       "    <tr>\n",
       "      <th>4</th>\n",
       "      <td>[Intelligence services must urgently be regulated more tightly by parliament;, this should be clear to everyone after the disclosures of Edward Snowden., Granted, those concern primarily the British and American intelligence services,, but the German services evidently do collaborate with them closely., Their tools, data and expertise have been used to keep us under surveillance for a long time.]</td>\n",
       "      <td>[pro, pro, opp, pro, pro]</td>\n",
       "      <td>stricter_regulation_of_intelligence_services</td>\n",
       "      <td>[[a2, a1, sup], [a3, c2, und], [a4, c3, und], [a5, a4, sup]]</td>\n",
       "      <td>[1, 0, 0, 0, 0]</td>\n",
       "      <td>pro</td>\n",
       "    </tr>\n",
       "    <tr>\n",
       "      <th>5</th>\n",
       "      <td>[The death penalty is a legal means that as such is not practicable in Germany., For one thing, inviolable human dignity is anchored in our constitution,, and furthermore no one may have the right to adjudicate upon the death of another human being., Even if many people think that a murderer has already decided on the life or death of another person,, this is precisely the crime that we should not repay with the same.]</td>\n",
       "      <td>[pro, pro, pro, opp, pro]</td>\n",
       "      <td>introduce_capital_punishment</td>\n",
       "      <td>[[a2, a1, sup], [a3, a1, sup], [a4, a1, reb], [a5, c4, und]]</td>\n",
       "      <td>[1, 0, 0, 0, 0]</td>\n",
       "      <td>con</td>\n",
       "    </tr>\n",
       "    <tr>\n",
       "      <th>6</th>\n",
       "      <td>[Dog dirt on the pavement requires my complete, ground-focused attention on my way to work., This results in a lack of alertness in the road traffic comparable to a minor offense of the traffic regulations., That's why causing such obstacles must to be more urgently punished., Dog owners may think that dog dirt is only a harmless secretion of an animal like any other., Yet then they misjudge its impact on road traffic.]</td>\n",
       "      <td>[pro, pro, pro, opp, pro]</td>\n",
       "      <td>higher_dog_poo_fines</td>\n",
       "      <td>[[a1, a2, sup], [a2, a3, sup], [a4, a3, reb], [a5, a4, reb]]</td>\n",
       "      <td>[0, 0, 1, 0, 0]</td>\n",
       "      <td>pro</td>\n",
       "    </tr>\n",
       "    <tr>\n",
       "      <th>7</th>\n",
       "      <td>[Of course it would be nice and simple if after a fun night out with a party acquaintance you could simply take the 'morning-after pill' and feel at ease., But it's not that simple., Perhaps a new life was already created that night., I would kill it without further thought., That's why a visit to the doctor and professional advice should remain mandatory.]</td>\n",
       "      <td>[opp, pro, pro, pro, pro]</td>\n",
       "      <td>over_the_counter_morning_after_pill</td>\n",
       "      <td>[[a1, a5, reb], [a2, a1, reb], [a3, a2, sup], [a4, c3, add]]</td>\n",
       "      <td>[0, 0, 0, 0, 1]</td>\n",
       "      <td>con</td>\n",
       "    </tr>\n",
       "    <tr>\n",
       "      <th>8</th>\n",
       "      <td>[It is unfair and unjustifiable that new tenants have to pay a much higher rent than previous residents., Clearly the landlord has to pay for some repairs before a new lease., But surely these costs could be covered by a minimal increase in rent over the course of the entire lease., All the more so as for an adequate profit the rental rate as compared to the base rent need not be raised for every new lease.]</td>\n",
       "      <td>[pro, opp, pro, pro]</td>\n",
       "      <td>cap_rent_increases</td>\n",
       "      <td>[[a2, a1, reb], [a3, c2, und], [a4, a1, sup]]</td>\n",
       "      <td>[1, 0, 0, 0]</td>\n",
       "      <td>pro</td>\n",
       "    </tr>\n",
       "    <tr>\n",
       "      <th>9</th>\n",
       "      <td>[Alternative treatments should be subsidized in the same way as conventional treatments,, since both methods can lead to the prevention, mitigation or cure of an illness., Besides it should be in the interest of the health insurers to recognize alternative medicine as treatment,, since there is a chance of recovery., It doesn't matter after all that those who administer the treatment don't have 'doctor status'.]</td>\n",
       "      <td>[pro, pro, pro, pro, pro]</td>\n",
       "      <td>health_insurance_cover_complementary_medicine</td>\n",
       "      <td>[[a2, a1, sup], [a3, a1, sup], [a4, a3, sup], [a5, a1, sup]]</td>\n",
       "      <td>[1, 0, 0, 0, 0]</td>\n",
       "      <td>pro</td>\n",
       "    </tr>\n",
       "  </tbody>\n",
       "</table>\n",
       "</div>"
      ],
      "text/plain": [
       "                                                                                                                                                                                                                                                                                                                                                                                                                                                                                                                                                EDU  \\\n",
       "0                                                                                                                          [Yes, it's annoying and cumbersome to separate your rubbish properly all the time., Three different bin bags stink away in the kitchen and have to be sorted into different wheelie bins., But still Germany produces way too much rubbish, and too many resources are lost when what actually should be separated and recycled is burnt., We Berliners should take the chance and become pioneers in waste separation!]   \n",
       "1  [One can hardly move in Friedrichshain or Neukölln these days without permanently scanning the ground for dog dirt., And when bad luck does strike and you step into one of the many 'land mines' you have to painstakingly scrape the remains off your soles., Higher fines are therefore the right measure against negligent, lazy or simply thoughtless dog owners., Of course, first they'd actually need to be caught in the act by public order officers,, but once they have to dig into their pockets, their laziness will sure vanish!]   \n",
       "2                                                                                                                   [Health insurance companies should not cover treatment in complementary medicine, unless the promised effect and its medical benefit have been concretely proven., Yet this very proof is lacking in most cases., Patients do often report relief of their complaints after such treatments., But as long as it is unclear as to how this works, the funds should rather be spent on therapies where one knows with certainty.]   \n",
       "3                                          [Of course there are a number of programmes in public broadcasting that are not worth the licencing fee,, and others, such as “Musikantenstadl” and soap operas, are only interesting to certain audiences., Nevertheless, everybody should contribute to the funding of the public broadcasters in equal measure,, for we need general and independent media., After all we want to get our view of the world neither through the lens of the government nor through that of rich media entrepreneurs.]   \n",
       "4                                                                                                                                   [Intelligence services must urgently be regulated more tightly by parliament;, this should be clear to everyone after the disclosures of Edward Snowden., Granted, those concern primarily the British and American intelligence services,, but the German services evidently do collaborate with them closely., Their tools, data and expertise have been used to keep us under surveillance for a long time.]   \n",
       "5                                                                                                            [The death penalty is a legal means that as such is not practicable in Germany., For one thing, inviolable human dignity is anchored in our constitution,, and furthermore no one may have the right to adjudicate upon the death of another human being., Even if many people think that a murderer has already decided on the life or death of another person,, this is precisely the crime that we should not repay with the same.]   \n",
       "6                                                                                                           [Dog dirt on the pavement requires my complete, ground-focused attention on my way to work., This results in a lack of alertness in the road traffic comparable to a minor offense of the traffic regulations., That's why causing such obstacles must to be more urgently punished., Dog owners may think that dog dirt is only a harmless secretion of an animal like any other., Yet then they misjudge its impact on road traffic.]   \n",
       "7                                                                                                                                                                           [Of course it would be nice and simple if after a fun night out with a party acquaintance you could simply take the 'morning-after pill' and feel at ease., But it's not that simple., Perhaps a new life was already created that night., I would kill it without further thought., That's why a visit to the doctor and professional advice should remain mandatory.]   \n",
       "8                                                                                                                       [It is unfair and unjustifiable that new tenants have to pay a much higher rent than previous residents., Clearly the landlord has to pay for some repairs before a new lease., But surely these costs could be covered by a minimal increase in rent over the course of the entire lease., All the more so as for an adequate profit the rental rate as compared to the base rent need not be raised for every new lease.]   \n",
       "9                                                                                                                   [Alternative treatments should be subsidized in the same way as conventional treatments,, since both methods can lead to the prevention, mitigation or cure of an illness., Besides it should be in the interest of the health insurers to recognize alternative medicine as treatment,, since there is a chance of recovery., It doesn't matter after all that those who administer the treatment don't have 'doctor status'.]   \n",
       "\n",
       "                    adu_type                                       topic_id  \\\n",
       "0  [opp, opp, pro, pro, pro]                               waste_separation   \n",
       "1  [pro, pro, pro, opp, pro]                           higher_dog_poo_fines   \n",
       "2  [pro, opp, pro, opp, pro]  health_insurance_cover_complementary_medicine   \n",
       "3  [opp, opp, pro, pro, pro]             public_broadcasting_fees_on_demand   \n",
       "4  [pro, pro, opp, pro, pro]   stricter_regulation_of_intelligence_services   \n",
       "5  [pro, pro, pro, opp, pro]                   introduce_capital_punishment   \n",
       "6  [pro, pro, pro, opp, pro]                           higher_dog_poo_fines   \n",
       "7  [opp, pro, pro, pro, pro]            over_the_counter_morning_after_pill   \n",
       "8       [pro, opp, pro, pro]                             cap_rent_increases   \n",
       "9  [pro, pro, pro, pro, pro]  health_insurance_cover_complementary_medicine   \n",
       "\n",
       "                                                      Relations  \\\n",
       "0  [[a1, a5, reb], [a2, a1, sup], [a3, c1, und], [a4, c3, add]]   \n",
       "1  [[a1, a3, sup], [a2, a3, sup], [a4, a3, reb], [a5, c4, und]]   \n",
       "2  [[a2, a1, reb], [a3, a2, reb], [a4, a1, reb], [a5, c4, und]]   \n",
       "3  [[a1, a3, reb], [a2, a3, reb], [a4, a3, sup], [a5, a4, sup]]   \n",
       "4  [[a2, a1, sup], [a3, c2, und], [a4, c3, und], [a5, a4, sup]]   \n",
       "5  [[a2, a1, sup], [a3, a1, sup], [a4, a1, reb], [a5, c4, und]]   \n",
       "6  [[a1, a2, sup], [a2, a3, sup], [a4, a3, reb], [a5, a4, reb]]   \n",
       "7  [[a1, a5, reb], [a2, a1, reb], [a3, a2, sup], [a4, c3, add]]   \n",
       "8                 [[a2, a1, reb], [a3, c2, und], [a4, a1, sup]]   \n",
       "9  [[a2, a1, sup], [a3, a1, sup], [a4, a3, sup], [a5, a1, sup]]   \n",
       "\n",
       "             Label STANCE  \n",
       "0  [0, 0, 0, 0, 1]    pro  \n",
       "1  [0, 0, 1, 0, 0]    pro  \n",
       "2  [1, 0, 0, 0, 0]    con  \n",
       "3  [0, 0, 1, 0, 0]    con  \n",
       "4  [1, 0, 0, 0, 0]    pro  \n",
       "5  [1, 0, 0, 0, 0]    con  \n",
       "6  [0, 0, 1, 0, 0]    pro  \n",
       "7  [0, 0, 0, 0, 1]    con  \n",
       "8     [1, 0, 0, 0]    pro  \n",
       "9  [1, 0, 0, 0, 0]    pro  "
      ]
     },
     "execution_count": 4,
     "metadata": {},
     "output_type": "execute_result"
    }
   ],
   "source": [
    "df[0:10]   "
   ]
  },
  {
   "cell_type": "markdown",
   "metadata": {},
   "source": [
    "### A-NRC for emotion analysis"
   ]
  },
  {
   "cell_type": "code",
   "execution_count": 5,
   "metadata": {},
   "outputs": [],
   "source": [
    "def calculate_nrc(text):\n",
    "    nlp = spacy.load(\"en_core_web_sm\")    \n",
    "    doc = nlp(text)\n",
    "    nrc_sentiment = NRCLex(text)\n",
    "    return(nrc_sentiment.affect_frequencies)"
   ]
  },
  {
   "cell_type": "code",
   "execution_count": 33,
   "metadata": {},
   "outputs": [
    {
     "name": "stdout",
     "output_type": "stream",
     "text": [
      "[\"Yes, it's annoying and cumbersome to separate your rubbish properly all the time.\", 'Three different bin bags stink away in the kitchen and have to be sorted into different wheelie bins.', 'But still Germany produces way too much rubbish', 'and too many resources are lost when what actually should be separated and recycled is burnt.', 'We Berliners should take the chance and become pioneers in waste separation!'] \n",
      " ['opp', 'opp', 'pro', 'pro', 'pro']\n"
     ]
    }
   ],
   "source": [
    "print(df.EDU[0],\"\\n\", df.adu_type[0])"
   ]
  },
  {
   "cell_type": "code",
   "execution_count": 83,
   "metadata": {},
   "outputs": [
    {
     "data": {
      "text/plain": [
       "{'fear': 0.0,\n",
       " 'anger': 0.0,\n",
       " 'anticip': 0.0,\n",
       " 'trust': 0.0,\n",
       " 'surprise': 0.3333333333333333,\n",
       " 'positive': 0.0,\n",
       " 'negative': 0.3333333333333333,\n",
       " 'sadness': 0.0,\n",
       " 'disgust': 0.3333333333333333,\n",
       " 'joy': 0.0,\n",
       " 'anticipation': 0.0}"
      ]
     },
     "execution_count": 83,
     "metadata": {},
     "output_type": "execute_result"
    }
   ],
   "source": [
    "calculate_nrc(df.EDU[0][4])  #which feaure are usefull for stance classfication. "
   ]
  },
  {
   "cell_type": "code",
   "execution_count": 76,
   "metadata": {},
   "outputs": [],
   "source": [
    "def calculate_nrc(text):\n",
    "    \"\"\"Calculate NRC sentiment frequencies for a given text.\"\"\"\n",
    "    if isinstance(text, list):  # Check if the input is a list\n",
    "        text = \" \".join(text)  # Join the list elements into a single string\n",
    "    if not isinstance(text, str):  # Ensure that it's a string\n",
    "        raise ValueError(f\"Expected string input, but got {type(text)}\")\n",
    "    nlp = spacy.load(\"en_core_web_sm\")\n",
    "    doc = nlp(text)  # Process the text with spaCy\n",
    "    nrc_sentiment = NRCLex(text)  # Analyze the text with NRC lexicon\n",
    "    return nrc_sentiment.affect_frequencies\n"
   ]
  },
  {
   "cell_type": "code",
   "execution_count": null,
   "metadata": {},
   "outputs": [
    {
     "data": {
      "application/vnd.plotly.v1+json": {
       "config": {
        "plotlyServerURL": "https://plot.ly"
       },
       "data": [
        {
         "coloraxis": "coloraxis",
         "hovertemplate": "ADU Type: %{x}<br>NRC Dimension: %{y}<br>Intensity: %{z}<extra></extra>",
         "name": "0",
         "type": "heatmap",
         "x": [
          "opp",
          "pro"
         ],
         "xaxis": "x",
         "y": [
          "fear",
          "anger",
          "anticip",
          "trust",
          "surprise",
          "positive",
          "negative",
          "sadness",
          "disgust",
          "joy",
          "anticipation"
         ],
         "yaxis": "y",
         "z": [
          [
           0.05363416149068322,
           0.059281543372452464
          ],
          [
           0.04004051069703244,
           0.031034270197241372
          ],
          [
           0,
           0
          ],
          [
           0.12389385783298826,
           0.1338158054067145
          ],
          [
           0.024877984817115253,
           0.03162533348231796
          ],
          [
           0.24262084195997238,
           0.19456268048285785
          ],
          [
           0.15677066942719117,
           0.10881119270808849
          ],
          [
           0.06331987577639751,
           0.035101161874997795
          ],
          [
           0.041490890269151134,
           0.0336529119234219
          ],
          [
           0.036885714285714286,
           0.03675457641643894
          ],
          [
           0.06446549344375431,
           0.08924079021085674
          ]
         ]
        }
       ],
       "layout": {
        "coloraxis": {
         "colorbar": {
          "title": {
           "text": "Intensity"
          }
         },
         "colorscale": [
          [
           0,
           "rgb(103,0,31)"
          ],
          [
           0.1,
           "rgb(178,24,43)"
          ],
          [
           0.2,
           "rgb(214,96,77)"
          ],
          [
           0.3,
           "rgb(244,165,130)"
          ],
          [
           0.4,
           "rgb(253,219,199)"
          ],
          [
           0.5,
           "rgb(247,247,247)"
          ],
          [
           0.6,
           "rgb(209,229,240)"
          ],
          [
           0.7,
           "rgb(146,197,222)"
          ],
          [
           0.8,
           "rgb(67,147,195)"
          ],
          [
           0.9,
           "rgb(33,102,172)"
          ],
          [
           1,
           "rgb(5,48,97)"
          ]
         ]
        },
        "template": {
         "data": {
          "bar": [
           {
            "error_x": {
             "color": "#2a3f5f"
            },
            "error_y": {
             "color": "#2a3f5f"
            },
            "marker": {
             "line": {
              "color": "#E5ECF6",
              "width": 0.5
             },
             "pattern": {
              "fillmode": "overlay",
              "size": 10,
              "solidity": 0.2
             }
            },
            "type": "bar"
           }
          ],
          "barpolar": [
           {
            "marker": {
             "line": {
              "color": "#E5ECF6",
              "width": 0.5
             },
             "pattern": {
              "fillmode": "overlay",
              "size": 10,
              "solidity": 0.2
             }
            },
            "type": "barpolar"
           }
          ],
          "carpet": [
           {
            "aaxis": {
             "endlinecolor": "#2a3f5f",
             "gridcolor": "white",
             "linecolor": "white",
             "minorgridcolor": "white",
             "startlinecolor": "#2a3f5f"
            },
            "baxis": {
             "endlinecolor": "#2a3f5f",
             "gridcolor": "white",
             "linecolor": "white",
             "minorgridcolor": "white",
             "startlinecolor": "#2a3f5f"
            },
            "type": "carpet"
           }
          ],
          "choropleth": [
           {
            "colorbar": {
             "outlinewidth": 0,
             "ticks": ""
            },
            "type": "choropleth"
           }
          ],
          "contour": [
           {
            "colorbar": {
             "outlinewidth": 0,
             "ticks": ""
            },
            "colorscale": [
             [
              0,
              "#0d0887"
             ],
             [
              0.1111111111111111,
              "#46039f"
             ],
             [
              0.2222222222222222,
              "#7201a8"
             ],
             [
              0.3333333333333333,
              "#9c179e"
             ],
             [
              0.4444444444444444,
              "#bd3786"
             ],
             [
              0.5555555555555556,
              "#d8576b"
             ],
             [
              0.6666666666666666,
              "#ed7953"
             ],
             [
              0.7777777777777778,
              "#fb9f3a"
             ],
             [
              0.8888888888888888,
              "#fdca26"
             ],
             [
              1,
              "#f0f921"
             ]
            ],
            "type": "contour"
           }
          ],
          "contourcarpet": [
           {
            "colorbar": {
             "outlinewidth": 0,
             "ticks": ""
            },
            "type": "contourcarpet"
           }
          ],
          "heatmap": [
           {
            "colorbar": {
             "outlinewidth": 0,
             "ticks": ""
            },
            "colorscale": [
             [
              0,
              "#0d0887"
             ],
             [
              0.1111111111111111,
              "#46039f"
             ],
             [
              0.2222222222222222,
              "#7201a8"
             ],
             [
              0.3333333333333333,
              "#9c179e"
             ],
             [
              0.4444444444444444,
              "#bd3786"
             ],
             [
              0.5555555555555556,
              "#d8576b"
             ],
             [
              0.6666666666666666,
              "#ed7953"
             ],
             [
              0.7777777777777778,
              "#fb9f3a"
             ],
             [
              0.8888888888888888,
              "#fdca26"
             ],
             [
              1,
              "#f0f921"
             ]
            ],
            "type": "heatmap"
           }
          ],
          "heatmapgl": [
           {
            "colorbar": {
             "outlinewidth": 0,
             "ticks": ""
            },
            "colorscale": [
             [
              0,
              "#0d0887"
             ],
             [
              0.1111111111111111,
              "#46039f"
             ],
             [
              0.2222222222222222,
              "#7201a8"
             ],
             [
              0.3333333333333333,
              "#9c179e"
             ],
             [
              0.4444444444444444,
              "#bd3786"
             ],
             [
              0.5555555555555556,
              "#d8576b"
             ],
             [
              0.6666666666666666,
              "#ed7953"
             ],
             [
              0.7777777777777778,
              "#fb9f3a"
             ],
             [
              0.8888888888888888,
              "#fdca26"
             ],
             [
              1,
              "#f0f921"
             ]
            ],
            "type": "heatmapgl"
           }
          ],
          "histogram": [
           {
            "marker": {
             "pattern": {
              "fillmode": "overlay",
              "size": 10,
              "solidity": 0.2
             }
            },
            "type": "histogram"
           }
          ],
          "histogram2d": [
           {
            "colorbar": {
             "outlinewidth": 0,
             "ticks": ""
            },
            "colorscale": [
             [
              0,
              "#0d0887"
             ],
             [
              0.1111111111111111,
              "#46039f"
             ],
             [
              0.2222222222222222,
              "#7201a8"
             ],
             [
              0.3333333333333333,
              "#9c179e"
             ],
             [
              0.4444444444444444,
              "#bd3786"
             ],
             [
              0.5555555555555556,
              "#d8576b"
             ],
             [
              0.6666666666666666,
              "#ed7953"
             ],
             [
              0.7777777777777778,
              "#fb9f3a"
             ],
             [
              0.8888888888888888,
              "#fdca26"
             ],
             [
              1,
              "#f0f921"
             ]
            ],
            "type": "histogram2d"
           }
          ],
          "histogram2dcontour": [
           {
            "colorbar": {
             "outlinewidth": 0,
             "ticks": ""
            },
            "colorscale": [
             [
              0,
              "#0d0887"
             ],
             [
              0.1111111111111111,
              "#46039f"
             ],
             [
              0.2222222222222222,
              "#7201a8"
             ],
             [
              0.3333333333333333,
              "#9c179e"
             ],
             [
              0.4444444444444444,
              "#bd3786"
             ],
             [
              0.5555555555555556,
              "#d8576b"
             ],
             [
              0.6666666666666666,
              "#ed7953"
             ],
             [
              0.7777777777777778,
              "#fb9f3a"
             ],
             [
              0.8888888888888888,
              "#fdca26"
             ],
             [
              1,
              "#f0f921"
             ]
            ],
            "type": "histogram2dcontour"
           }
          ],
          "mesh3d": [
           {
            "colorbar": {
             "outlinewidth": 0,
             "ticks": ""
            },
            "type": "mesh3d"
           }
          ],
          "parcoords": [
           {
            "line": {
             "colorbar": {
              "outlinewidth": 0,
              "ticks": ""
             }
            },
            "type": "parcoords"
           }
          ],
          "pie": [
           {
            "automargin": true,
            "type": "pie"
           }
          ],
          "scatter": [
           {
            "fillpattern": {
             "fillmode": "overlay",
             "size": 10,
             "solidity": 0.2
            },
            "type": "scatter"
           }
          ],
          "scatter3d": [
           {
            "line": {
             "colorbar": {
              "outlinewidth": 0,
              "ticks": ""
             }
            },
            "marker": {
             "colorbar": {
              "outlinewidth": 0,
              "ticks": ""
             }
            },
            "type": "scatter3d"
           }
          ],
          "scattercarpet": [
           {
            "marker": {
             "colorbar": {
              "outlinewidth": 0,
              "ticks": ""
             }
            },
            "type": "scattercarpet"
           }
          ],
          "scattergeo": [
           {
            "marker": {
             "colorbar": {
              "outlinewidth": 0,
              "ticks": ""
             }
            },
            "type": "scattergeo"
           }
          ],
          "scattergl": [
           {
            "marker": {
             "colorbar": {
              "outlinewidth": 0,
              "ticks": ""
             }
            },
            "type": "scattergl"
           }
          ],
          "scattermapbox": [
           {
            "marker": {
             "colorbar": {
              "outlinewidth": 0,
              "ticks": ""
             }
            },
            "type": "scattermapbox"
           }
          ],
          "scatterpolar": [
           {
            "marker": {
             "colorbar": {
              "outlinewidth": 0,
              "ticks": ""
             }
            },
            "type": "scatterpolar"
           }
          ],
          "scatterpolargl": [
           {
            "marker": {
             "colorbar": {
              "outlinewidth": 0,
              "ticks": ""
             }
            },
            "type": "scatterpolargl"
           }
          ],
          "scatterternary": [
           {
            "marker": {
             "colorbar": {
              "outlinewidth": 0,
              "ticks": ""
             }
            },
            "type": "scatterternary"
           }
          ],
          "surface": [
           {
            "colorbar": {
             "outlinewidth": 0,
             "ticks": ""
            },
            "colorscale": [
             [
              0,
              "#0d0887"
             ],
             [
              0.1111111111111111,
              "#46039f"
             ],
             [
              0.2222222222222222,
              "#7201a8"
             ],
             [
              0.3333333333333333,
              "#9c179e"
             ],
             [
              0.4444444444444444,
              "#bd3786"
             ],
             [
              0.5555555555555556,
              "#d8576b"
             ],
             [
              0.6666666666666666,
              "#ed7953"
             ],
             [
              0.7777777777777778,
              "#fb9f3a"
             ],
             [
              0.8888888888888888,
              "#fdca26"
             ],
             [
              1,
              "#f0f921"
             ]
            ],
            "type": "surface"
           }
          ],
          "table": [
           {
            "cells": {
             "fill": {
              "color": "#EBF0F8"
             },
             "line": {
              "color": "white"
             }
            },
            "header": {
             "fill": {
              "color": "#C8D4E3"
             },
             "line": {
              "color": "white"
             }
            },
            "type": "table"
           }
          ]
         },
         "layout": {
          "annotationdefaults": {
           "arrowcolor": "#2a3f5f",
           "arrowhead": 0,
           "arrowwidth": 1
          },
          "autotypenumbers": "strict",
          "coloraxis": {
           "colorbar": {
            "outlinewidth": 0,
            "ticks": ""
           }
          },
          "colorscale": {
           "diverging": [
            [
             0,
             "#8e0152"
            ],
            [
             0.1,
             "#c51b7d"
            ],
            [
             0.2,
             "#de77ae"
            ],
            [
             0.3,
             "#f1b6da"
            ],
            [
             0.4,
             "#fde0ef"
            ],
            [
             0.5,
             "#f7f7f7"
            ],
            [
             0.6,
             "#e6f5d0"
            ],
            [
             0.7,
             "#b8e186"
            ],
            [
             0.8,
             "#7fbc41"
            ],
            [
             0.9,
             "#4d9221"
            ],
            [
             1,
             "#276419"
            ]
           ],
           "sequential": [
            [
             0,
             "#0d0887"
            ],
            [
             0.1111111111111111,
             "#46039f"
            ],
            [
             0.2222222222222222,
             "#7201a8"
            ],
            [
             0.3333333333333333,
             "#9c179e"
            ],
            [
             0.4444444444444444,
             "#bd3786"
            ],
            [
             0.5555555555555556,
             "#d8576b"
            ],
            [
             0.6666666666666666,
             "#ed7953"
            ],
            [
             0.7777777777777778,
             "#fb9f3a"
            ],
            [
             0.8888888888888888,
             "#fdca26"
            ],
            [
             1,
             "#f0f921"
            ]
           ],
           "sequentialminus": [
            [
             0,
             "#0d0887"
            ],
            [
             0.1111111111111111,
             "#46039f"
            ],
            [
             0.2222222222222222,
             "#7201a8"
            ],
            [
             0.3333333333333333,
             "#9c179e"
            ],
            [
             0.4444444444444444,
             "#bd3786"
            ],
            [
             0.5555555555555556,
             "#d8576b"
            ],
            [
             0.6666666666666666,
             "#ed7953"
            ],
            [
             0.7777777777777778,
             "#fb9f3a"
            ],
            [
             0.8888888888888888,
             "#fdca26"
            ],
            [
             1,
             "#f0f921"
            ]
           ]
          },
          "colorway": [
           "#636efa",
           "#EF553B",
           "#00cc96",
           "#ab63fa",
           "#FFA15A",
           "#19d3f3",
           "#FF6692",
           "#B6E880",
           "#FF97FF",
           "#FECB52"
          ],
          "font": {
           "color": "#2a3f5f"
          },
          "geo": {
           "bgcolor": "white",
           "lakecolor": "white",
           "landcolor": "#E5ECF6",
           "showlakes": true,
           "showland": true,
           "subunitcolor": "white"
          },
          "hoverlabel": {
           "align": "left"
          },
          "hovermode": "closest",
          "mapbox": {
           "style": "light"
          },
          "paper_bgcolor": "white",
          "plot_bgcolor": "#E5ECF6",
          "polar": {
           "angularaxis": {
            "gridcolor": "white",
            "linecolor": "white",
            "ticks": ""
           },
           "bgcolor": "#E5ECF6",
           "radialaxis": {
            "gridcolor": "white",
            "linecolor": "white",
            "ticks": ""
           }
          },
          "scene": {
           "xaxis": {
            "backgroundcolor": "#E5ECF6",
            "gridcolor": "white",
            "gridwidth": 2,
            "linecolor": "white",
            "showbackground": true,
            "ticks": "",
            "zerolinecolor": "white"
           },
           "yaxis": {
            "backgroundcolor": "#E5ECF6",
            "gridcolor": "white",
            "gridwidth": 2,
            "linecolor": "white",
            "showbackground": true,
            "ticks": "",
            "zerolinecolor": "white"
           },
           "zaxis": {
            "backgroundcolor": "#E5ECF6",
            "gridcolor": "white",
            "gridwidth": 2,
            "linecolor": "white",
            "showbackground": true,
            "ticks": "",
            "zerolinecolor": "white"
           }
          },
          "shapedefaults": {
           "line": {
            "color": "#2a3f5f"
           }
          },
          "ternary": {
           "aaxis": {
            "gridcolor": "white",
            "linecolor": "white",
            "ticks": ""
           },
           "baxis": {
            "gridcolor": "white",
            "linecolor": "white",
            "ticks": ""
           },
           "bgcolor": "#E5ECF6",
           "caxis": {
            "gridcolor": "white",
            "linecolor": "white",
            "ticks": ""
           }
          },
          "title": {
           "x": 0.05
          },
          "xaxis": {
           "automargin": true,
           "gridcolor": "white",
           "linecolor": "white",
           "ticks": "",
           "title": {
            "standoff": 15
           },
           "zerolinecolor": "white",
           "zerolinewidth": 2
          },
          "yaxis": {
           "automargin": true,
           "gridcolor": "white",
           "linecolor": "white",
           "ticks": "",
           "title": {
            "standoff": 15
           },
           "zerolinecolor": "white",
           "zerolinewidth": 2
          }
         }
        },
        "title": {
         "text": "NRC Emotion Intensity by ADU Type"
        },
        "xaxis": {
         "anchor": "y",
         "domain": [
          0,
          1
         ],
         "title": {
          "text": "ADU Type"
         }
        },
        "yaxis": {
         "anchor": "x",
         "autorange": "reversed",
         "domain": [
          0,
          1
         ],
         "title": {
          "text": "NRC Emotion Dimension"
         }
        }
       }
      }
     },
     "metadata": {},
     "output_type": "display_data"
    }
   ],
   "source": [
    "import pandas as pd\n",
    "import spacy\n",
    "from nrclex import NRCLex\n",
    "import plotly.express as px\n",
    "\n",
    "nlp = spacy.load(\"en_core_web_sm\")\n",
    "\n",
    "def calculate_nrc(text):\n",
    "    nrc_sentiment = NRCLex(text)\n",
    "    affect_dict = nrc_sentiment.affect_frequencies\n",
    "    \n",
    "    base_emotions = ['fear', 'anger', 'anticipation', 'trust', 'surprise', \n",
    "                     'positive', 'negative', 'sadness', 'disgust', 'joy']\n",
    "    \n",
    "    for emotion in base_emotions:\n",
    "        if emotion not in affect_dict:\n",
    "            affect_dict[emotion] = 0.0\n",
    "            \n",
    "    return affect_dict\n",
    "\n",
    "def process_data(df):\n",
    "    df_exp = df.explode(['EDU', 'adu_type'])\n",
    "    \n",
    "    nrc_features = df_exp['EDU'].apply(lambda x: pd.Series(calculate_nrc(x)))\n",
    "    \n",
    "    return pd.concat([df_exp[['adu_type']], nrc_features], axis=1)\n",
    "\n",
    "def visualize_correlation(processed_df):\n",
    "    grouped = processed_df.groupby('adu_type').mean().reset_index()\n",
    "    \n",
    "    melted = grouped.melt(id_vars='adu_type', \n",
    "                         var_name='Emotion', \n",
    "                         value_name='Intensity')\n",
    "    \n",
    "    fig = px.imshow(\n",
    "        grouped.set_index('adu_type').T,\n",
    "        labels=dict(x=\"ADU Type\", y=\"NRC Dimension\", color=\"Intensity\"),\n",
    "        color_continuous_scale='RdBu',\n",
    "        title=\"NRC Emotion Intensity by ADU Type\",\n",
    "        aspect=\"auto\"\n",
    "    )\n",
    "    \n",
    "    fig.update_layout(\n",
    "        xaxis_title=\"ADU Type\",\n",
    "        yaxis_title=\"NRC Emotion Dimension\",\n",
    "        coloraxis_colorbar=dict(title=\"Intensity\")\n",
    "    )\n",
    "    \n",
    "    return fig\n",
    "\n",
    "processed_df = process_data(df)\n",
    "fig = visualize_correlation(processed_df)\n",
    "fig.show()"
   ]
  },
  {
   "cell_type": "code",
   "execution_count": 32,
   "metadata": {},
   "outputs": [
    {
     "data": {
      "image/png": "[encoded data removed]",
      "text/plain": [
       "<Figure size 1000x500 with 1 Axes>"
      ]
     },
     "metadata": {},
     "output_type": "display_data"
    }
   ],
   "source": [
    "import pandas as pd\n",
    "import spacy\n",
    "from nrclex import NRCLex\n",
    "import seaborn as sns\n",
    "import matplotlib.pyplot as plt\n",
    "from sklearn.model_selection import train_test_split\n",
    "from sklearn.ensemble import RandomForestClassifier\n",
    "from sklearn.metrics import classification_report, accuracy_score\n",
    "\n",
    "# Load SpaCy NLP model\n",
    "nlp = spacy.load(\"en_core_web_sm\")\n",
    "\n",
    "def calculate_nrc(text):\n",
    "    \"\"\"Calculate NRC sentiment frequencies for a given text.\"\"\"\n",
    "    nrc_sentiment = NRCLex(text)\n",
    "    return nrc_sentiment.affect_frequencies\n",
    "\n",
    "# Sample Data (Replace with actual dataset)\n",
    "data =df\n",
    "\n",
    "# Explode the lists into separate rows\n",
    "data = data.explode([\"EDU\", \"adu_type\"]).reset_index(drop=True)\n",
    "\n",
    "# Apply NRC function to each text element\n",
    "data[\"nrc_scores\"] = data[\"EDU\"].apply(calculate_nrc)\n",
    "\n",
    "# Expand NRC sentiment features into separate columns\n",
    "nrc_df = data[\"nrc_scores\"].apply(pd.Series)\n",
    "data = pd.concat([data, nrc_df], axis=1).drop(columns=[\"nrc_scores\"])\n",
    "\n",
    "# Visualize sentiment differences by `adu_type`\n",
    "plt.figure(figsize=(10, 5))\n",
    "sns.boxplot(x=\"adu_type\", y=\"joy\", data=data)\n",
    "plt.title(\"Joy Sentiment Distribution by ADU Type\")\n",
    "plt.show()\n",
    "\n",
    "\n"
   ]
  },
  {
   "cell_type": "code",
   "execution_count": 70,
   "metadata": {},
   "outputs": [
    {
     "name": "stdout",
     "output_type": "stream",
     "text": [
      "                                                                                                                                                                                                                                                                                                                                                                                                                                                                                                        EDU  \\\n",
      "2                                                                           [Health insurance companies should not cover treatment in complementary medicine, unless the promised effect and its medical benefit have been concretely proven., Yet this very proof is lacking in most cases., Patients do often report relief of their complaints after such treatments., But as long as it is unclear as to how this works, the funds should rather be spent on therapies where one knows with certainty.]   \n",
      "3  [Of course there are a number of programmes in public broadcasting that are not worth the licencing fee,, and others, such as “Musikantenstadl” and soap operas, are only interesting to certain audiences., Nevertheless, everybody should contribute to the funding of the public broadcasters in equal measure,, for we need general and independent media., After all we want to get our view of the world neither through the lens of the government nor through that of rich media entrepreneurs.]   \n",
      "4                                                                                           [Intelligence services must urgently be regulated more tightly by parliament;, this should be clear to everyone after the disclosures of Edward Snowden., Granted, those concern primarily the British and American intelligence services,, but the German services evidently do collaborate with them closely., Their tools, data and expertise have been used to keep us under surveillance for a long time.]   \n",
      "\n",
      "                    adu_type                                       topic_id  \\\n",
      "2  [pro, opp, pro, opp, pro]  health_insurance_cover_complementary_medicine   \n",
      "3  [opp, opp, pro, pro, pro]             public_broadcasting_fees_on_demand   \n",
      "4  [pro, pro, opp, pro, pro]   stricter_regulation_of_intelligence_services   \n",
      "\n",
      "                                                      Relations  \\\n",
      "2  [[a2, a1, reb], [a3, a2, reb], [a4, a1, reb], [a5, c4, und]]   \n",
      "3  [[a1, a3, reb], [a2, a3, reb], [a4, a3, sup], [a5, a4, sup]]   \n",
      "4  [[a2, a1, sup], [a3, c2, und], [a4, c3, und], [a5, a4, sup]]   \n",
      "\n",
      "             Label STANCE  \\\n",
      "2  [1, 0, 0, 0, 0]    con   \n",
      "3  [0, 0, 1, 0, 0]    con   \n",
      "4  [1, 0, 0, 0, 0]    pro   \n",
      "\n",
      "                                                                                                                                                                                                                                                                      nrc_scores  \n",
      "2                   {'fear': 0.07142857142857142, 'anger': 0.0, 'anticip': 0.0, 'trust': 0.2857142857142857, 'surprise': 0.0, 'positive': 0.35714285714285715, 'negative': 0.14285714285714285, 'sadness': 0.0, 'disgust': 0.0, 'joy': 0.0, 'anticipation': 0.14285714285714285}  \n",
      "3  {'fear': 0.07142857142857142, 'anger': 0.07142857142857142, 'anticip': 0.0, 'trust': 0.14285714285714285, 'surprise': 0.0, 'positive': 0.42857142857142855, 'negative': 0.14285714285714285, 'sadness': 0.0, 'disgust': 0.0, 'joy': 0.0, 'anticipation': 0.14285714285714285}  \n",
      "4                                                                                                  {'fear': 0.2, 'anger': 0.0, 'anticip': 0.0, 'trust': 0.3, 'surprise': 0.0, 'positive': 0.2, 'negative': 0.0, 'sadness': 0.0, 'disgust': 0.0, 'joy': 0.1, 'anticipation': 0.2}  \n"
     ]
    }
   ],
   "source": [
    "print(df[2:5])"
   ]
  },
  {
   "cell_type": "code",
   "execution_count": 45,
   "metadata": {},
   "outputs": [],
   "source": [
    "def calculate_nrc_list(text_list):\n",
    "    \"\"\"Calculate NRC sentiment frequencies for a list of texts and return the average scores.\"\"\"\n",
    "    all_scores = []\n",
    "    for text in text_list:\n",
    "        nrc_sentiment = NRCLex(text)\n",
    "        all_scores.append(nrc_sentiment.affect_frequencies)\n",
    "    \n",
    "    # Convert list of dictionaries to a DataFrame and compute the mean for each sentiment\n",
    "    if all_scores:\n",
    "        avg_scores = pd.DataFrame(all_scores).mean().to_dict()\n",
    "    else:\n",
    "        avg_scores = {}\n",
    "    \n",
    "    return avg_scores\n",
    "\n",
    "\n"
   ]
  },
  {
   "cell_type": "code",
   "execution_count": null,
   "metadata": {},
   "outputs": [],
   "source": []
  },
  {
   "cell_type": "code",
   "execution_count": 50,
   "metadata": {},
   "outputs": [
    {
     "name": "stdout",
     "output_type": "stream",
     "text": [
      "Accuracy: 0.0\n",
      "              precision    recall  f1-score   support\n",
      "\n",
      "         opp       0.00      0.00      0.00       1.0\n",
      "         pro       0.00      0.00      0.00       0.0\n",
      "\n",
      "    accuracy                           0.00       1.0\n",
      "   macro avg       0.00      0.00      0.00       1.0\n",
      "weighted avg       0.00      0.00      0.00       1.0\n",
      "\n"
     ]
    },
    {
     "name": "stderr",
     "output_type": "stream",
     "text": [
      "h:\\moha\\NLP\\AM\\SA\\.venv\\lib\\site-packages\\sklearn\\metrics\\_classification.py:1531: UndefinedMetricWarning:\n",
      "\n",
      "Precision is ill-defined and being set to 0.0 in labels with no predicted samples. Use `zero_division` parameter to control this behavior.\n",
      "\n",
      "h:\\moha\\NLP\\AM\\SA\\.venv\\lib\\site-packages\\sklearn\\metrics\\_classification.py:1531: UndefinedMetricWarning:\n",
      "\n",
      "Recall is ill-defined and being set to 0.0 in labels with no true samples. Use `zero_division` parameter to control this behavior.\n",
      "\n",
      "h:\\moha\\NLP\\AM\\SA\\.venv\\lib\\site-packages\\sklearn\\metrics\\_classification.py:1531: UndefinedMetricWarning:\n",
      "\n",
      "Precision is ill-defined and being set to 0.0 in labels with no predicted samples. Use `zero_division` parameter to control this behavior.\n",
      "\n",
      "h:\\moha\\NLP\\AM\\SA\\.venv\\lib\\site-packages\\sklearn\\metrics\\_classification.py:1531: UndefinedMetricWarning:\n",
      "\n",
      "Recall is ill-defined and being set to 0.0 in labels with no true samples. Use `zero_division` parameter to control this behavior.\n",
      "\n",
      "h:\\moha\\NLP\\AM\\SA\\.venv\\lib\\site-packages\\sklearn\\metrics\\_classification.py:1531: UndefinedMetricWarning:\n",
      "\n",
      "Precision is ill-defined and being set to 0.0 in labels with no predicted samples. Use `zero_division` parameter to control this behavior.\n",
      "\n",
      "h:\\moha\\NLP\\AM\\SA\\.venv\\lib\\site-packages\\sklearn\\metrics\\_classification.py:1531: UndefinedMetricWarning:\n",
      "\n",
      "Recall is ill-defined and being set to 0.0 in labels with no true samples. Use `zero_division` parameter to control this behavior.\n",
      "\n"
     ]
    },
    {
     "data": {
      "application/vnd.plotly.v1+json": {
       "config": {
        "plotlyServerURL": "https://plot.ly"
       },
       "data": [
        {
         "alignmentgroup": "True",
         "hovertemplate": "Feature=%{x}<br>Importance=%{marker.color}<extra></extra>",
         "legendgroup": "",
         "marker": {
          "color": [
           0.3076923076923077,
           0.3076923076923077,
           0.23076923076923078,
           0.15384615384615385,
           0,
           0,
           0,
           0,
           0,
           0,
           0
          ],
          "coloraxis": "coloraxis",
          "pattern": {
           "shape": ""
          }
         },
         "name": "",
         "offsetgroup": "",
         "orientation": "v",
         "showlegend": false,
         "textposition": "auto",
         "type": "bar",
         "x": [
          "trust",
          "disgust",
          "positive",
          "negative",
          "fear",
          "anger",
          "anticip",
          "surprise",
          "sadness",
          "joy",
          "anticipation"
         ],
         "xaxis": "x",
         "y": [
          0.3076923076923077,
          0.3076923076923077,
          0.23076923076923078,
          0.15384615384615385,
          0,
          0,
          0,
          0,
          0,
          0,
          0
         ],
         "yaxis": "y"
        }
       ],
       "layout": {
        "barmode": "relative",
        "coloraxis": {
         "colorbar": {
          "title": {
           "text": "Importance"
          }
         },
         "colorscale": [
          [
           0,
           "#0d0887"
          ],
          [
           0.1111111111111111,
           "#46039f"
          ],
          [
           0.2222222222222222,
           "#7201a8"
          ],
          [
           0.3333333333333333,
           "#9c179e"
          ],
          [
           0.4444444444444444,
           "#bd3786"
          ],
          [
           0.5555555555555556,
           "#d8576b"
          ],
          [
           0.6666666666666666,
           "#ed7953"
          ],
          [
           0.7777777777777778,
           "#fb9f3a"
          ],
          [
           0.8888888888888888,
           "#fdca26"
          ],
          [
           1,
           "#f0f921"
          ]
         ]
        },
        "legend": {
         "tracegroupgap": 0
        },
        "template": {
         "data": {
          "bar": [
           {
            "error_x": {
             "color": "#f2f5fa"
            },
            "error_y": {
             "color": "#f2f5fa"
            },
            "marker": {
             "line": {
              "color": "rgb(17,17,17)",
              "width": 0.5
             },
             "pattern": {
              "fillmode": "overlay",
              "size": 10,
              "solidity": 0.2
             }
            },
            "type": "bar"
           }
          ],
          "barpolar": [
           {
            "marker": {
             "line": {
              "color": "rgb(17,17,17)",
              "width": 0.5
             },
             "pattern": {
              "fillmode": "overlay",
              "size": 10,
              "solidity": 0.2
             }
            },
            "type": "barpolar"
           }
          ],
          "carpet": [
           {
            "aaxis": {
             "endlinecolor": "#A2B1C6",
             "gridcolor": "#506784",
             "linecolor": "#506784",
             "minorgridcolor": "#506784",
             "startlinecolor": "#A2B1C6"
            },
            "baxis": {
             "endlinecolor": "#A2B1C6",
             "gridcolor": "#506784",
             "linecolor": "#506784",
             "minorgridcolor": "#506784",
             "startlinecolor": "#A2B1C6"
            },
            "type": "carpet"
           }
          ],
          "choropleth": [
           {
            "colorbar": {
             "outlinewidth": 0,
             "ticks": ""
            },
            "type": "choropleth"
           }
          ],
          "contour": [
           {
            "colorbar": {
             "outlinewidth": 0,
             "ticks": ""
            },
            "colorscale": [
             [
              0,
              "#0d0887"
             ],
             [
              0.1111111111111111,
              "#46039f"
             ],
             [
              0.2222222222222222,
              "#7201a8"
             ],
             [
              0.3333333333333333,
              "#9c179e"
             ],
             [
              0.4444444444444444,
              "#bd3786"
             ],
             [
              0.5555555555555556,
              "#d8576b"
             ],
             [
              0.6666666666666666,
              "#ed7953"
             ],
             [
              0.7777777777777778,
              "#fb9f3a"
             ],
             [
              0.8888888888888888,
              "#fdca26"
             ],
             [
              1,
              "#f0f921"
             ]
            ],
            "type": "contour"
           }
          ],
          "contourcarpet": [
           {
            "colorbar": {
             "outlinewidth": 0,
             "ticks": ""
            },
            "type": "contourcarpet"
           }
          ],
          "heatmap": [
           {
            "colorbar": {
             "outlinewidth": 0,
             "ticks": ""
            },
            "colorscale": [
             [
              0,
              "#0d0887"
             ],
             [
              0.1111111111111111,
              "#46039f"
             ],
             [
              0.2222222222222222,
              "#7201a8"
             ],
             [
              0.3333333333333333,
              "#9c179e"
             ],
             [
              0.4444444444444444,
              "#bd3786"
             ],
             [
              0.5555555555555556,
              "#d8576b"
             ],
             [
              0.6666666666666666,
              "#ed7953"
             ],
             [
              0.7777777777777778,
              "#fb9f3a"
             ],
             [
              0.8888888888888888,
              "#fdca26"
             ],
             [
              1,
              "#f0f921"
             ]
            ],
            "type": "heatmap"
           }
          ],
          "heatmapgl": [
           {
            "colorbar": {
             "outlinewidth": 0,
             "ticks": ""
            },
            "colorscale": [
             [
              0,
              "#0d0887"
             ],
             [
              0.1111111111111111,
              "#46039f"
             ],
             [
              0.2222222222222222,
              "#7201a8"
             ],
             [
              0.3333333333333333,
              "#9c179e"
             ],
             [
              0.4444444444444444,
              "#bd3786"
             ],
             [
              0.5555555555555556,
              "#d8576b"
             ],
             [
              0.6666666666666666,
              "#ed7953"
             ],
             [
              0.7777777777777778,
              "#fb9f3a"
             ],
             [
              0.8888888888888888,
              "#fdca26"
             ],
             [
              1,
              "#f0f921"
             ]
            ],
            "type": "heatmapgl"
           }
          ],
          "histogram": [
           {
            "marker": {
             "pattern": {
              "fillmode": "overlay",
              "size": 10,
              "solidity": 0.2
             }
            },
            "type": "histogram"
           }
          ],
          "histogram2d": [
           {
            "colorbar": {
             "outlinewidth": 0,
             "ticks": ""
            },
            "colorscale": [
             [
              0,
              "#0d0887"
             ],
             [
              0.1111111111111111,
              "#46039f"
             ],
             [
              0.2222222222222222,
              "#7201a8"
             ],
             [
              0.3333333333333333,
              "#9c179e"
             ],
             [
              0.4444444444444444,
              "#bd3786"
             ],
             [
              0.5555555555555556,
              "#d8576b"
             ],
             [
              0.6666666666666666,
              "#ed7953"
             ],
             [
              0.7777777777777778,
              "#fb9f3a"
             ],
             [
              0.8888888888888888,
              "#fdca26"
             ],
             [
              1,
              "#f0f921"
             ]
            ],
            "type": "histogram2d"
           }
          ],
          "histogram2dcontour": [
           {
            "colorbar": {
             "outlinewidth": 0,
             "ticks": ""
            },
            "colorscale": [
             [
              0,
              "#0d0887"
             ],
             [
              0.1111111111111111,
              "#46039f"
             ],
             [
              0.2222222222222222,
              "#7201a8"
             ],
             [
              0.3333333333333333,
              "#9c179e"
             ],
             [
              0.4444444444444444,
              "#bd3786"
             ],
             [
              0.5555555555555556,
              "#d8576b"
             ],
             [
              0.6666666666666666,
              "#ed7953"
             ],
             [
              0.7777777777777778,
              "#fb9f3a"
             ],
             [
              0.8888888888888888,
              "#fdca26"
             ],
             [
              1,
              "#f0f921"
             ]
            ],
            "type": "histogram2dcontour"
           }
          ],
          "mesh3d": [
           {
            "colorbar": {
             "outlinewidth": 0,
             "ticks": ""
            },
            "type": "mesh3d"
           }
          ],
          "parcoords": [
           {
            "line": {
             "colorbar": {
              "outlinewidth": 0,
              "ticks": ""
             }
            },
            "type": "parcoords"
           }
          ],
          "pie": [
           {
            "automargin": true,
            "type": "pie"
           }
          ],
          "scatter": [
           {
            "marker": {
             "line": {
              "color": "#283442"
             }
            },
            "type": "scatter"
           }
          ],
          "scatter3d": [
           {
            "line": {
             "colorbar": {
              "outlinewidth": 0,
              "ticks": ""
             }
            },
            "marker": {
             "colorbar": {
              "outlinewidth": 0,
              "ticks": ""
             }
            },
            "type": "scatter3d"
           }
          ],
          "scattercarpet": [
           {
            "marker": {
             "colorbar": {
              "outlinewidth": 0,
              "ticks": ""
             }
            },
            "type": "scattercarpet"
           }
          ],
          "scattergeo": [
           {
            "marker": {
             "colorbar": {
              "outlinewidth": 0,
              "ticks": ""
             }
            },
            "type": "scattergeo"
           }
          ],
          "scattergl": [
           {
            "marker": {
             "line": {
              "color": "#283442"
             }
            },
            "type": "scattergl"
           }
          ],
          "scattermapbox": [
           {
            "marker": {
             "colorbar": {
              "outlinewidth": 0,
              "ticks": ""
             }
            },
            "type": "scattermapbox"
           }
          ],
          "scatterpolar": [
           {
            "marker": {
             "colorbar": {
              "outlinewidth": 0,
              "ticks": ""
             }
            },
            "type": "scatterpolar"
           }
          ],
          "scatterpolargl": [
           {
            "marker": {
             "colorbar": {
              "outlinewidth": 0,
              "ticks": ""
             }
            },
            "type": "scatterpolargl"
           }
          ],
          "scatterternary": [
           {
            "marker": {
             "colorbar": {
              "outlinewidth": 0,
              "ticks": ""
             }
            },
            "type": "scatterternary"
           }
          ],
          "surface": [
           {
            "colorbar": {
             "outlinewidth": 0,
             "ticks": ""
            },
            "colorscale": [
             [
              0,
              "#0d0887"
             ],
             [
              0.1111111111111111,
              "#46039f"
             ],
             [
              0.2222222222222222,
              "#7201a8"
             ],
             [
              0.3333333333333333,
              "#9c179e"
             ],
             [
              0.4444444444444444,
              "#bd3786"
             ],
             [
              0.5555555555555556,
              "#d8576b"
             ],
             [
              0.6666666666666666,
              "#ed7953"
             ],
             [
              0.7777777777777778,
              "#fb9f3a"
             ],
             [
              0.8888888888888888,
              "#fdca26"
             ],
             [
              1,
              "#f0f921"
             ]
            ],
            "type": "surface"
           }
          ],
          "table": [
           {
            "cells": {
             "fill": {
              "color": "#506784"
             },
             "line": {
              "color": "rgb(17,17,17)"
             }
            },
            "header": {
             "fill": {
              "color": "#2a3f5f"
             },
             "line": {
              "color": "rgb(17,17,17)"
             }
            },
            "type": "table"
           }
          ]
         },
         "layout": {
          "annotationdefaults": {
           "arrowcolor": "#f2f5fa",
           "arrowhead": 0,
           "arrowwidth": 1
          },
          "autotypenumbers": "strict",
          "coloraxis": {
           "colorbar": {
            "outlinewidth": 0,
            "ticks": ""
           }
          },
          "colorscale": {
           "diverging": [
            [
             0,
             "#8e0152"
            ],
            [
             0.1,
             "#c51b7d"
            ],
            [
             0.2,
             "#de77ae"
            ],
            [
             0.3,
             "#f1b6da"
            ],
            [
             0.4,
             "#fde0ef"
            ],
            [
             0.5,
             "#f7f7f7"
            ],
            [
             0.6,
             "#e6f5d0"
            ],
            [
             0.7,
             "#b8e186"
            ],
            [
             0.8,
             "#7fbc41"
            ],
            [
             0.9,
             "#4d9221"
            ],
            [
             1,
             "#276419"
            ]
           ],
           "sequential": [
            [
             0,
             "#0d0887"
            ],
            [
             0.1111111111111111,
             "#46039f"
            ],
            [
             0.2222222222222222,
             "#7201a8"
            ],
            [
             0.3333333333333333,
             "#9c179e"
            ],
            [
             0.4444444444444444,
             "#bd3786"
            ],
            [
             0.5555555555555556,
             "#d8576b"
            ],
            [
             0.6666666666666666,
             "#ed7953"
            ],
            [
             0.7777777777777778,
             "#fb9f3a"
            ],
            [
             0.8888888888888888,
             "#fdca26"
            ],
            [
             1,
             "#f0f921"
            ]
           ],
           "sequentialminus": [
            [
             0,
             "#0d0887"
            ],
            [
             0.1111111111111111,
             "#46039f"
            ],
            [
             0.2222222222222222,
             "#7201a8"
            ],
            [
             0.3333333333333333,
             "#9c179e"
            ],
            [
             0.4444444444444444,
             "#bd3786"
            ],
            [
             0.5555555555555556,
             "#d8576b"
            ],
            [
             0.6666666666666666,
             "#ed7953"
            ],
            [
             0.7777777777777778,
             "#fb9f3a"
            ],
            [
             0.8888888888888888,
             "#fdca26"
            ],
            [
             1,
             "#f0f921"
            ]
           ]
          },
          "colorway": [
           "#636efa",
           "#EF553B",
           "#00cc96",
           "#ab63fa",
           "#FFA15A",
           "#19d3f3",
           "#FF6692",
           "#B6E880",
           "#FF97FF",
           "#FECB52"
          ],
          "font": {
           "color": "#f2f5fa"
          },
          "geo": {
           "bgcolor": "rgb(17,17,17)",
           "lakecolor": "rgb(17,17,17)",
           "landcolor": "rgb(17,17,17)",
           "showlakes": true,
           "showland": true,
           "subunitcolor": "#506784"
          },
          "hoverlabel": {
           "align": "left"
          },
          "hovermode": "closest",
          "mapbox": {
           "style": "dark"
          },
          "paper_bgcolor": "rgb(17,17,17)",
          "plot_bgcolor": "rgb(17,17,17)",
          "polar": {
           "angularaxis": {
            "gridcolor": "#506784",
            "linecolor": "#506784",
            "ticks": ""
           },
           "bgcolor": "rgb(17,17,17)",
           "radialaxis": {
            "gridcolor": "#506784",
            "linecolor": "#506784",
            "ticks": ""
           }
          },
          "scene": {
           "xaxis": {
            "backgroundcolor": "rgb(17,17,17)",
            "gridcolor": "#506784",
            "gridwidth": 2,
            "linecolor": "#506784",
            "showbackground": true,
            "ticks": "",
            "zerolinecolor": "#C8D4E3"
           },
           "yaxis": {
            "backgroundcolor": "rgb(17,17,17)",
            "gridcolor": "#506784",
            "gridwidth": 2,
            "linecolor": "#506784",
            "showbackground": true,
            "ticks": "",
            "zerolinecolor": "#C8D4E3"
           },
           "zaxis": {
            "backgroundcolor": "rgb(17,17,17)",
            "gridcolor": "#506784",
            "gridwidth": 2,
            "linecolor": "#506784",
            "showbackground": true,
            "ticks": "",
            "zerolinecolor": "#C8D4E3"
           }
          },
          "shapedefaults": {
           "line": {
            "color": "#f2f5fa"
           }
          },
          "sliderdefaults": {
           "bgcolor": "#C8D4E3",
           "bordercolor": "rgb(17,17,17)",
           "borderwidth": 1,
           "tickwidth": 0
          },
          "ternary": {
           "aaxis": {
            "gridcolor": "#506784",
            "linecolor": "#506784",
            "ticks": ""
           },
           "baxis": {
            "gridcolor": "#506784",
            "linecolor": "#506784",
            "ticks": ""
           },
           "bgcolor": "rgb(17,17,17)",
           "caxis": {
            "gridcolor": "#506784",
            "linecolor": "#506784",
            "ticks": ""
           }
          },
          "title": {
           "x": 0.05
          },
          "updatemenudefaults": {
           "bgcolor": "#506784",
           "borderwidth": 0
          },
          "xaxis": {
           "automargin": true,
           "gridcolor": "#283442",
           "linecolor": "#506784",
           "ticks": "",
           "title": {
            "standoff": 15
           },
           "zerolinecolor": "#283442",
           "zerolinewidth": 2
          },
          "yaxis": {
           "automargin": true,
           "gridcolor": "#283442",
           "linecolor": "#506784",
           "ticks": "",
           "title": {
            "standoff": 15
           },
           "zerolinecolor": "#283442",
           "zerolinewidth": 2
          }
         }
        },
        "title": {
         "text": "Feature Importance in Classification"
        },
        "xaxis": {
         "anchor": "y",
         "domain": [
          0,
          1
         ],
         "title": {
          "text": "Feature"
         }
        },
        "yaxis": {
         "anchor": "x",
         "domain": [
          0,
          1
         ],
         "title": {
          "text": "Importance"
         }
        }
       }
      }
     },
     "metadata": {},
     "output_type": "display_data"
    }
   ],
   "source": [
    "# Prepare for Machine Learning\n",
    "X = data.drop(columns=[\"EDU\", \"adu_type\"])\n",
    "y = data[\"adu_type\"]\n",
    "X_train, X_test, y_train, y_test = train_test_split(X, y, test_size=0.2, random_state=42)\n",
    "\n",
    "# Train RandomForest Classifier\n",
    "clf = RandomForestClassifier(n_estimators=100, random_state=42)\n",
    "clf.fit(X_train, y_train)\n",
    "\n",
    "# Predictions\n",
    "y_pred = clf.predict(X_test)\n",
    "\n",
    "# Evaluate Model\n",
    "print(\"Accuracy:\", accuracy_score(y_test, y_pred))\n",
    "print(classification_report(y_test, y_pred))\n",
    "\n",
    "# Feature Importance Visualization\n",
    "importances = clf.feature_importances_\n",
    "feature_names = X.columns\n",
    "feature_importance_df = pd.DataFrame({'Feature': feature_names, 'Importance': importances})\n",
    "feature_importance_df = feature_importance_df.sort_values(by='Importance', ascending=False)\n",
    "\n",
    "fig_importance = px.bar(feature_importance_df, x='Feature', y='Importance', \n",
    "                        title=\"Feature Importance in Classification\", color='Importance', \n",
    "                        template=\"plotly_dark\")\n",
    "fig_importance.show()\n"
   ]
  },
  {
   "cell_type": "markdown",
   "metadata": {},
   "source": [
    "### B-Senticnet for emotion analysis"
   ]
  },
  {
   "cell_type": "code",
   "execution_count": null,
   "metadata": {},
   "outputs": [],
   "source": []
  },
  {
   "cell_type": "markdown",
   "metadata": {},
   "source": [
    "# Argumentative Microtext Part 2"
   ]
  },
  {
   "cell_type": "code",
   "execution_count": 80,
   "metadata": {},
   "outputs": [],
   "source": [
    "df2 = pd.read_json(\"../data/dfMT2-PC_SA_CP_topicID_AduType.json\") "
   ]
  },
  {
   "cell_type": "markdown",
   "metadata": {},
   "source": []
  },
  {
   "cell_type": "code",
   "execution_count": null,
   "metadata": {},
   "outputs": [
    {
     "name": "stdout",
     "output_type": "stream",
     "text": [
      "<class 'pandas.core.frame.DataFrame'>\n",
      "Index: 171 entries, 0 to 170\n",
      "Data columns (total 6 columns):\n",
      " #   Column     Non-Null Count  Dtype \n",
      "---  ------     --------------  ----- \n",
      " 0   EDU        171 non-null    object\n",
      " 1   adu_type   171 non-null    object\n",
      " 2   topic_id   171 non-null    object\n",
      " 3   Relations  171 non-null    object\n",
      " 4   Label      171 non-null    object\n",
      " 5   STANCE     171 non-null    object\n",
      "dtypes: object(6)\n",
      "memory usage: 9.4+ KB\n"
     ]
    }
   ],
   "source": [
    "df2.info()"
   ]
  },
  {
   "cell_type": "code",
   "execution_count": null,
   "metadata": {},
   "outputs": [
    {
     "data": {
      "text/html": [
       "<div>\n",
       "<style scoped>\n",
       "    .dataframe tbody tr th:only-of-type {\n",
       "        vertical-align: middle;\n",
       "    }\n",
       "\n",
       "    .dataframe tbody tr th {\n",
       "        vertical-align: top;\n",
       "    }\n",
       "\n",
       "    .dataframe thead th {\n",
       "        text-align: right;\n",
       "    }\n",
       "</style>\n",
       "<table border=\"1\" class=\"dataframe\">\n",
       "  <thead>\n",
       "    <tr style=\"text-align: right;\">\n",
       "      <th></th>\n",
       "      <th>EDU</th>\n",
       "      <th>adu_type</th>\n",
       "      <th>topic_id</th>\n",
       "      <th>Relations</th>\n",
       "      <th>Label</th>\n",
       "      <th>STANCE</th>\n",
       "    </tr>\n",
       "  </thead>\n",
       "  <tbody>\n",
       "    <tr>\n",
       "      <th>0</th>\n",
       "      <td>[Hunting is good for the environment, because overpopulated species can be thinned out., Getting rid of an overpopulation enables the smaller animals in the food chain to grow., It also allows for nature to take back the woods and grasslands, which will also enable other wildlife to grow., Some people may object to hunting on the basis of humane treatment of animals., Animals do not necessarily feel pain as we do,, and if there are not enough resources to sustain an overpopulation, then a quick bullet or arrow is better than slow starvation.]</td>\n",
       "      <td>[pro, pro, pro, pro, opp, pro, pro]</td>\n",
       "      <td>hunting_improves_environment</td>\n",
       "      <td>[[a2, a1, sup], [a3, a2, sup], [a4, a2, sup], [a5, a1, reb], [a6, a5, reb], [a7, a5, reb]]</td>\n",
       "      <td>[1, 0, 0, 0, 0, 0, 0]</td>\n",
       "      <td>pro</td>\n",
       "    </tr>\n",
       "    <tr>\n",
       "      <th>1</th>\n",
       "      <td>[In some cases, hunting can remove threats to the environment., Texas, in particular, has an overabundance of wild/feral boars that destroy farmers' fields, and root up other ground, too., Furthermore, hunting your own meat saves up the natural resources that would otherwise be used in a processing plant., Hunting is good for the environment.]</td>\n",
       "      <td>[pro, pro, pro, pro]</td>\n",
       "      <td>hunting_improves_environment</td>\n",
       "      <td>[[a2, a1, sup], [a4, a1, sup]]</td>\n",
       "      <td>[1, 0, 0, 0]</td>\n",
       "      <td>pro</td>\n",
       "    </tr>\n",
       "    <tr>\n",
       "      <th>2</th>\n",
       "      <td>[We should continue hunting, as it provides a sustainable resource., Hunting thins the herd of animals and makes the group as a whole healthier., Some would argue that hunting puts a species at risk for extinction,, but good wildlife management practices mitigate this risk., Overall, hunting poses no real threat to the environment.]</td>\n",
       "      <td>[pro, pro, pro, opp, pro]</td>\n",
       "      <td>hunting_improves_environment</td>\n",
       "      <td>[[a2, a1, sup], [a3, a2, sup], [a4, a1, reb], [a5, c3, und]]</td>\n",
       "      <td>[1, 0, 0, 0, 0]</td>\n",
       "      <td>pro</td>\n",
       "    </tr>\n",
       "    <tr>\n",
       "      <th>3</th>\n",
       "      <td>[In the absence of wolves and other large predators, humans become the deer population control to keep to deer from over-grazing regional flora., The ecosystem needs this delicate balance,, so it is also important not to over-hunt., As long as restraint and practicality are applied to hunting, the environment will not suffer., Hunting is good.]</td>\n",
       "      <td>[pro, pro, pro, pro, pro]</td>\n",
       "      <td>hunting_improves_environment</td>\n",
       "      <td>[[a2, a4, sup], [a3, c1, add], [a4, a5, sup], [a5, a1, sup]]</td>\n",
       "      <td>[1, 0, 0, 0, 0]</td>\n",
       "      <td>pro</td>\n",
       "    </tr>\n",
       "    <tr>\n",
       "      <th>4</th>\n",
       "      <td>[I believe that older people don't make better parents., While they do have more experience in life, and may be able to offer their child more guidance when it comes to difficult decisions that child will have to face,, they also are going to have a more difficult time staying active with the child., Children are INCREDIBLY active, and it takes a lot of energy to keep up with them., It would seem to me to discourage physical activity if the parents are older, and this is at a time when children as a whole are becoming less physically fit and less active., While I do acknowledge that older parents do have more life knowledge,, the inexperience of a young parent can be offset by their parents (the child's grandparents), god parents, and family friends.]</td>\n",
       "      <td>[opp, opp, pro, pro, pro, pro, pro, pro]</td>\n",
       "      <td>older_people_better_parents</td>\n",
       "      <td>[[a1, a2, sup], [a2, a7, reb], [a3, a8, sup], [a4, a3, sup], [a5, c4, add], [a6, c1, und], [a8, c2, und]]</td>\n",
       "      <td>[0, 0, 0, 0, 0, 0, 1, 0]</td>\n",
       "      <td>con</td>\n",
       "    </tr>\n",
       "    <tr>\n",
       "      <th>5</th>\n",
       "      <td>[Older people do not necessarily make better parents., While it might be tempting to think that older parents will exercise better judgment in childrearing,, it is simply not the case that growing older means growing wiser., Younger parents will likely have levels of physical energy and stamina more closely aligned to their children's., Young mothers are more likely to bear healthy children,, which is no small part of being a good parent., Finally, older parents will reach the age at which they need support from their children when their children are relatively young and not yet in the peak earning years.]</td>\n",
       "      <td>[pro, opp, pro, pro, pro, pro, pro]</td>\n",
       "      <td>older_people_better_parents</td>\n",
       "      <td>[[a2, a1, reb], [a3, a2, reb], [a4, a1, sup], [a5, a1, sup], [a6, c4, add], [a7, a1, sup]]</td>\n",
       "      <td>[1, 0, 0, 0, 0, 0, 0]</td>\n",
       "      <td>con</td>\n",
       "    </tr>\n",
       "    <tr>\n",
       "      <th>6</th>\n",
       "      <td>[Do older people make better parents? In this day and age the answer can only be yes., Older people are far more mature than this new generation of slackers and hipsters., Older people make far more money than younger people on average,, allowing them to take care of the needs and education of children., Older people have far more experience than younger people., Some might say that older people are not physically fit enough to take care of children the way younger people would be,, but health is on decline for younger people as well,, so that really does not make much of a difference now.]</td>\n",
       "      <td>[pro, pro, pro, pro, pro, opp, pro, pro]</td>\n",
       "      <td>older_people_better_parents</td>\n",
       "      <td>[[a2, a1, sup], [a3, a1, sup], [a4, c2, add], [a5, a1, sup], [a6, a1, reb], [a7, a8, sup], [a8, c5, und]]</td>\n",
       "      <td>[1, 0, 0, 0, 0, 0, 0, 0]</td>\n",
       "      <td>pro</td>\n",
       "    </tr>\n",
       "    <tr>\n",
       "      <th>7</th>\n",
       "      <td>[I think it's possible for older people to be better parents., They have had time to mature more and learn about themselves., They're more likely to have steady careers going, so they can provide for a child., Some might say being too old risks the child being disabled,, but insisting all babies be perfect is demanding the impossible, as well as demeaning to people already living who are disabled.]</td>\n",
       "      <td>[pro, pro, pro, pro, opp, pro, pro]</td>\n",
       "      <td>older_people_better_parents</td>\n",
       "      <td>[[a2, a1, sup], [a3, a4, sup], [a4, a1, sup], [a5, a1, reb], [a6, c4, und], [a7, c5, add]]</td>\n",
       "      <td>[1, 0, 0, 0, 0, 0, 0]</td>\n",
       "      <td>pro</td>\n",
       "    </tr>\n",
       "    <tr>\n",
       "      <th>8</th>\n",
       "      <td>[Older parents may make better parents., They may be more financially secure., They may have more patience, and be in a more secure relationship., One problem is they may not be as able to keep up with their kids or not be able to do as much fun stuff with them., But they can provide a more stable home., They will be more able to make sure their kids have everything they need.]</td>\n",
       "      <td>[pro, pro, pro, pro, pro, opp, pro]</td>\n",
       "      <td>older_people_better_parents</td>\n",
       "      <td>[[a2, a1, sup], [a3, a2, sup], [a4, c2, add], [a5, c2, add], [a6, a1, reb], [a7, c5, und]]</td>\n",
       "      <td>[1, 0, 0, 0, 0, 0, 0]</td>\n",
       "      <td>pro</td>\n",
       "    </tr>\n",
       "    <tr>\n",
       "      <th>9</th>\n",
       "      <td>[Poaching is a criminal act that has ebbed and flowed over the course of time as consumer demand has fluctuated. Many of these criminal acts come out of countries where governments consist of officials easily corrupted through monetary payments or status changes., Without strong policing efforts, the likelihood of a successful deterrent to the mass killings of wild rhinos and other animals valued for their parts is unlikely., The costs involved with the solution of removing the horns to prevent future poaching is throwing money away, to sidestep the real issues which are lax to nonexistent policing, non-consistent prosecution and lenient sentencing., It's the criminals who commit these violent acts against wildlife who need to be 'removed' from society itself., No,the rhino's horns should not be removed to protect them from being poached.]</td>\n",
       "      <td>[pro, pro, pro, pro, pro, pro]</td>\n",
       "      <td>removal_of_rhino_horns</td>\n",
       "      <td>[[a1, a6, sup], [a2, c1, add], [a3, a6, sup], [a4, a3, sup], [a6, a5, sup]]</td>\n",
       "      <td>[0, 0, 0, 0, 1, 0]</td>\n",
       "      <td>con</td>\n",
       "    </tr>\n",
       "  </tbody>\n",
       "</table>\n",
       "</div>"
      ],
      "text/plain": [
       "                                                                                                                                                                                                                                                                                                                                                                                                                                                                                                                                                                                                                                                                                                                                                                                                                                                                                   EDU  \\\n",
       "0                                                                                                                                                                                                                                                                                                                 [Hunting is good for the environment, because overpopulated species can be thinned out., Getting rid of an overpopulation enables the smaller animals in the food chain to grow., It also allows for nature to take back the woods and grasslands, which will also enable other wildlife to grow., Some people may object to hunting on the basis of humane treatment of animals., Animals do not necessarily feel pain as we do,, and if there are not enough resources to sustain an overpopulation, then a quick bullet or arrow is better than slow starvation.]   \n",
       "1                                                                                                                                                                                                                                                                                                                                                                                                                                                                                                                            [In some cases, hunting can remove threats to the environment., Texas, in particular, has an overabundance of wild/feral boars that destroy farmers' fields, and root up other ground, too., Furthermore, hunting your own meat saves up the natural resources that would otherwise be used in a processing plant., Hunting is good for the environment.]   \n",
       "2                                                                                                                                                                                                                                                                                                                                                                                                                                                                                                                                       [We should continue hunting, as it provides a sustainable resource., Hunting thins the herd of animals and makes the group as a whole healthier., Some would argue that hunting puts a species at risk for extinction,, but good wildlife management practices mitigate this risk., Overall, hunting poses no real threat to the environment.]   \n",
       "3                                                                                                                                                                                                                                                                                                                                                                                                                                                                                                                           [In the absence of wolves and other large predators, humans become the deer population control to keep to deer from over-grazing regional flora., The ecosystem needs this delicate balance,, so it is also important not to over-hunt., As long as restraint and practicality are applied to hunting, the environment will not suffer., Hunting is good.]   \n",
       "4                                                                                            [I believe that older people don't make better parents., While they do have more experience in life, and may be able to offer their child more guidance when it comes to difficult decisions that child will have to face,, they also are going to have a more difficult time staying active with the child., Children are INCREDIBLY active, and it takes a lot of energy to keep up with them., It would seem to me to discourage physical activity if the parents are older, and this is at a time when children as a whole are becoming less physically fit and less active., While I do acknowledge that older parents do have more life knowledge,, the inexperience of a young parent can be offset by their parents (the child's grandparents), god parents, and family friends.]   \n",
       "5                                                                                                                                                                                                                                                [Older people do not necessarily make better parents., While it might be tempting to think that older parents will exercise better judgment in childrearing,, it is simply not the case that growing older means growing wiser., Younger parents will likely have levels of physical energy and stamina more closely aligned to their children's., Young mothers are more likely to bear healthy children,, which is no small part of being a good parent., Finally, older parents will reach the age at which they need support from their children when their children are relatively young and not yet in the peak earning years.]   \n",
       "6                                                                                                                                                                                                                                                                [Do older people make better parents? In this day and age the answer can only be yes., Older people are far more mature than this new generation of slackers and hipsters., Older people make far more money than younger people on average,, allowing them to take care of the needs and education of children., Older people have far more experience than younger people., Some might say that older people are not physically fit enough to take care of children the way younger people would be,, but health is on decline for younger people as well,, so that really does not make much of a difference now.]   \n",
       "7                                                                                                                                                                                                                                                                                                                                                                                                                                                                    [I think it's possible for older people to be better parents., They have had time to mature more and learn about themselves., They're more likely to have steady careers going, so they can provide for a child., Some might say being too old risks the child being disabled,, but insisting all babies be perfect is demanding the impossible, as well as demeaning to people already living who are disabled.]   \n",
       "8                                                                                                                                                                                                                                                                                                                                                                                                                                                                                         [Older parents may make better parents., They may be more financially secure., They may have more patience, and be in a more secure relationship., One problem is they may not be as able to keep up with their kids or not be able to do as much fun stuff with them., But they can provide a more stable home., They will be more able to make sure their kids have everything they need.]   \n",
       "9  [Poaching is a criminal act that has ebbed and flowed over the course of time as consumer demand has fluctuated. Many of these criminal acts come out of countries where governments consist of officials easily corrupted through monetary payments or status changes., Without strong policing efforts, the likelihood of a successful deterrent to the mass killings of wild rhinos and other animals valued for their parts is unlikely., The costs involved with the solution of removing the horns to prevent future poaching is throwing money away, to sidestep the real issues which are lax to nonexistent policing, non-consistent prosecution and lenient sentencing., It's the criminals who commit these violent acts against wildlife who need to be 'removed' from society itself., No,the rhino's horns should not be removed to protect them from being poached.]   \n",
       "\n",
       "                                   adu_type                      topic_id  \\\n",
       "0       [pro, pro, pro, pro, opp, pro, pro]  hunting_improves_environment   \n",
       "1                      [pro, pro, pro, pro]  hunting_improves_environment   \n",
       "2                 [pro, pro, pro, opp, pro]  hunting_improves_environment   \n",
       "3                 [pro, pro, pro, pro, pro]  hunting_improves_environment   \n",
       "4  [opp, opp, pro, pro, pro, pro, pro, pro]   older_people_better_parents   \n",
       "5       [pro, opp, pro, pro, pro, pro, pro]   older_people_better_parents   \n",
       "6  [pro, pro, pro, pro, pro, opp, pro, pro]   older_people_better_parents   \n",
       "7       [pro, pro, pro, pro, opp, pro, pro]   older_people_better_parents   \n",
       "8       [pro, pro, pro, pro, pro, opp, pro]   older_people_better_parents   \n",
       "9            [pro, pro, pro, pro, pro, pro]        removal_of_rhino_horns   \n",
       "\n",
       "                                                                                                   Relations  \\\n",
       "0                 [[a2, a1, sup], [a3, a2, sup], [a4, a2, sup], [a5, a1, reb], [a6, a5, reb], [a7, a5, reb]]   \n",
       "1                                                                             [[a2, a1, sup], [a4, a1, sup]]   \n",
       "2                                               [[a2, a1, sup], [a3, a2, sup], [a4, a1, reb], [a5, c3, und]]   \n",
       "3                                               [[a2, a4, sup], [a3, c1, add], [a4, a5, sup], [a5, a1, sup]]   \n",
       "4  [[a1, a2, sup], [a2, a7, reb], [a3, a8, sup], [a4, a3, sup], [a5, c4, add], [a6, c1, und], [a8, c2, und]]   \n",
       "5                 [[a2, a1, reb], [a3, a2, reb], [a4, a1, sup], [a5, a1, sup], [a6, c4, add], [a7, a1, sup]]   \n",
       "6  [[a2, a1, sup], [a3, a1, sup], [a4, c2, add], [a5, a1, sup], [a6, a1, reb], [a7, a8, sup], [a8, c5, und]]   \n",
       "7                 [[a2, a1, sup], [a3, a4, sup], [a4, a1, sup], [a5, a1, reb], [a6, c4, und], [a7, c5, add]]   \n",
       "8                 [[a2, a1, sup], [a3, a2, sup], [a4, c2, add], [a5, c2, add], [a6, a1, reb], [a7, c5, und]]   \n",
       "9                                [[a1, a6, sup], [a2, c1, add], [a3, a6, sup], [a4, a3, sup], [a6, a5, sup]]   \n",
       "\n",
       "                      Label STANCE  \n",
       "0     [1, 0, 0, 0, 0, 0, 0]    pro  \n",
       "1              [1, 0, 0, 0]    pro  \n",
       "2           [1, 0, 0, 0, 0]    pro  \n",
       "3           [1, 0, 0, 0, 0]    pro  \n",
       "4  [0, 0, 0, 0, 0, 0, 1, 0]    con  \n",
       "5     [1, 0, 0, 0, 0, 0, 0]    con  \n",
       "6  [1, 0, 0, 0, 0, 0, 0, 0]    pro  \n",
       "7     [1, 0, 0, 0, 0, 0, 0]    pro  \n",
       "8     [1, 0, 0, 0, 0, 0, 0]    pro  \n",
       "9        [0, 0, 0, 0, 1, 0]    con  "
      ]
     },
     "execution_count": 37,
     "metadata": {},
     "output_type": "execute_result"
    }
   ],
   "source": [
    "df2[0:10]"
   ]
  },
  {
   "cell_type": "code",
   "execution_count": 81,
   "metadata": {},
   "outputs": [
    {
     "ename": "ValueError",
     "evalue": "columns must have matching element counts",
     "output_type": "error",
     "traceback": [
      "\u001b[1;31m---------------------------------------------------------------------------\u001b[0m",
      "\u001b[1;31mValueError\u001b[0m                                Traceback (most recent call last)",
      "\u001b[1;32m~\\AppData\\Local\\Temp\\ipykernel_20068\\1046913684.py\u001b[0m in \u001b[0;36m?\u001b[1;34m()\u001b[0m\n\u001b[1;32m----> 1\u001b[1;33m \u001b[0mprocessed_df2\u001b[0m \u001b[1;33m=\u001b[0m \u001b[0mprocess_data\u001b[0m\u001b[1;33m(\u001b[0m\u001b[0mdf2\u001b[0m\u001b[1;33m)\u001b[0m\u001b[1;33m\u001b[0m\u001b[1;33m\u001b[0m\u001b[0m\n\u001b[0m\u001b[0;32m      2\u001b[0m \u001b[0mfig\u001b[0m \u001b[1;33m=\u001b[0m \u001b[0mvisualize_correlation\u001b[0m\u001b[1;33m(\u001b[0m\u001b[0mprocessed_df2\u001b[0m\u001b[1;33m)\u001b[0m\u001b[1;33m\u001b[0m\u001b[1;33m\u001b[0m\u001b[0m\n\u001b[0;32m      3\u001b[0m \u001b[0mfig\u001b[0m\u001b[1;33m.\u001b[0m\u001b[0mshow\u001b[0m\u001b[1;33m(\u001b[0m\u001b[1;33m)\u001b[0m\u001b[1;33m\u001b[0m\u001b[1;33m\u001b[0m\u001b[0m\n",
      "\u001b[1;32m~\\AppData\\Local\\Temp\\ipykernel_20068\\4289536019.py\u001b[0m in \u001b[0;36m?\u001b[1;34m(df)\u001b[0m\n\u001b[0;32m     25\u001b[0m \u001b[1;32mdef\u001b[0m \u001b[0mprocess_data\u001b[0m\u001b[1;33m(\u001b[0m\u001b[0mdf\u001b[0m\u001b[1;33m)\u001b[0m\u001b[1;33m:\u001b[0m\u001b[1;33m\u001b[0m\u001b[1;33m\u001b[0m\u001b[0m\n\u001b[0;32m     26\u001b[0m     \u001b[1;31m# Explode EDU and adu_type simultaneously\u001b[0m\u001b[1;33m\u001b[0m\u001b[1;33m\u001b[0m\u001b[0m\n\u001b[1;32m---> 27\u001b[1;33m     \u001b[0mdf_exp\u001b[0m \u001b[1;33m=\u001b[0m \u001b[0mdf\u001b[0m\u001b[1;33m.\u001b[0m\u001b[0mexplode\u001b[0m\u001b[1;33m(\u001b[0m\u001b[1;33m[\u001b[0m\u001b[1;34m'EDU'\u001b[0m\u001b[1;33m,\u001b[0m \u001b[1;34m'adu_type'\u001b[0m\u001b[1;33m]\u001b[0m\u001b[1;33m)\u001b[0m\u001b[1;33m\u001b[0m\u001b[1;33m\u001b[0m\u001b[0m\n\u001b[0m\u001b[0;32m     28\u001b[0m \u001b[1;33m\u001b[0m\u001b[0m\n\u001b[0;32m     29\u001b[0m     \u001b[1;31m# Calculate NRC features\u001b[0m\u001b[1;33m\u001b[0m\u001b[1;33m\u001b[0m\u001b[0m\n\u001b[0;32m     30\u001b[0m     \u001b[0mnrc_features\u001b[0m \u001b[1;33m=\u001b[0m \u001b[0mdf_exp\u001b[0m\u001b[1;33m[\u001b[0m\u001b[1;34m'EDU'\u001b[0m\u001b[1;33m]\u001b[0m\u001b[1;33m.\u001b[0m\u001b[0mapply\u001b[0m\u001b[1;33m(\u001b[0m\u001b[1;32mlambda\u001b[0m \u001b[0mx\u001b[0m\u001b[1;33m:\u001b[0m \u001b[0mpd\u001b[0m\u001b[1;33m.\u001b[0m\u001b[0mSeries\u001b[0m\u001b[1;33m(\u001b[0m\u001b[0mcalculate_nrc\u001b[0m\u001b[1;33m(\u001b[0m\u001b[0mx\u001b[0m\u001b[1;33m)\u001b[0m\u001b[1;33m)\u001b[0m\u001b[1;33m)\u001b[0m\u001b[1;33m\u001b[0m\u001b[1;33m\u001b[0m\u001b[0m\n",
      "\u001b[1;32mh:\\moha\\NLP\\AM\\SA\\.venv\\lib\\site-packages\\pandas\\core\\frame.py\u001b[0m in \u001b[0;36m?\u001b[1;34m(self, column, ignore_index)\u001b[0m\n\u001b[0;32m   9848\u001b[0m             \u001b[0mmylen\u001b[0m \u001b[1;33m=\u001b[0m \u001b[1;32mlambda\u001b[0m \u001b[0mx\u001b[0m\u001b[1;33m:\u001b[0m \u001b[0mlen\u001b[0m\u001b[1;33m(\u001b[0m\u001b[0mx\u001b[0m\u001b[1;33m)\u001b[0m \u001b[1;32mif\u001b[0m \u001b[1;33m(\u001b[0m\u001b[0mis_list_like\u001b[0m\u001b[1;33m(\u001b[0m\u001b[0mx\u001b[0m\u001b[1;33m)\u001b[0m \u001b[1;32mand\u001b[0m \u001b[0mlen\u001b[0m\u001b[1;33m(\u001b[0m\u001b[0mx\u001b[0m\u001b[1;33m)\u001b[0m \u001b[1;33m>\u001b[0m \u001b[1;36m0\u001b[0m\u001b[1;33m)\u001b[0m \u001b[1;32melse\u001b[0m \u001b[1;36m1\u001b[0m\u001b[1;33m\u001b[0m\u001b[1;33m\u001b[0m\u001b[0m\n\u001b[0;32m   9849\u001b[0m             \u001b[0mcounts0\u001b[0m \u001b[1;33m=\u001b[0m \u001b[0mself\u001b[0m\u001b[1;33m[\u001b[0m\u001b[0mcolumns\u001b[0m\u001b[1;33m[\u001b[0m\u001b[1;36m0\u001b[0m\u001b[1;33m]\u001b[0m\u001b[1;33m]\u001b[0m\u001b[1;33m.\u001b[0m\u001b[0mapply\u001b[0m\u001b[1;33m(\u001b[0m\u001b[0mmylen\u001b[0m\u001b[1;33m)\u001b[0m\u001b[1;33m\u001b[0m\u001b[1;33m\u001b[0m\u001b[0m\n\u001b[0;32m   9850\u001b[0m             \u001b[1;32mfor\u001b[0m \u001b[0mc\u001b[0m \u001b[1;32min\u001b[0m \u001b[0mcolumns\u001b[0m\u001b[1;33m[\u001b[0m\u001b[1;36m1\u001b[0m\u001b[1;33m:\u001b[0m\u001b[1;33m]\u001b[0m\u001b[1;33m:\u001b[0m\u001b[1;33m\u001b[0m\u001b[1;33m\u001b[0m\u001b[0m\n\u001b[0;32m   9851\u001b[0m                 \u001b[1;32mif\u001b[0m \u001b[1;32mnot\u001b[0m \u001b[0mall\u001b[0m\u001b[1;33m(\u001b[0m\u001b[0mcounts0\u001b[0m \u001b[1;33m==\u001b[0m \u001b[0mself\u001b[0m\u001b[1;33m[\u001b[0m\u001b[0mc\u001b[0m\u001b[1;33m]\u001b[0m\u001b[1;33m.\u001b[0m\u001b[0mapply\u001b[0m\u001b[1;33m(\u001b[0m\u001b[0mmylen\u001b[0m\u001b[1;33m)\u001b[0m\u001b[1;33m)\u001b[0m\u001b[1;33m:\u001b[0m\u001b[1;33m\u001b[0m\u001b[1;33m\u001b[0m\u001b[0m\n\u001b[1;32m-> 9852\u001b[1;33m                     \u001b[1;32mraise\u001b[0m \u001b[0mValueError\u001b[0m\u001b[1;33m(\u001b[0m\u001b[1;34m\"columns must have matching element counts\"\u001b[0m\u001b[1;33m)\u001b[0m\u001b[1;33m\u001b[0m\u001b[1;33m\u001b[0m\u001b[0m\n\u001b[0m\u001b[0;32m   9853\u001b[0m             \u001b[0mresult\u001b[0m \u001b[1;33m=\u001b[0m \u001b[0mDataFrame\u001b[0m\u001b[1;33m(\u001b[0m\u001b[1;33m{\u001b[0m\u001b[0mc\u001b[0m\u001b[1;33m:\u001b[0m \u001b[0mdf\u001b[0m\u001b[1;33m[\u001b[0m\u001b[0mc\u001b[0m\u001b[1;33m]\u001b[0m\u001b[1;33m.\u001b[0m\u001b[0mexplode\u001b[0m\u001b[1;33m(\u001b[0m\u001b[1;33m)\u001b[0m \u001b[1;32mfor\u001b[0m \u001b[0mc\u001b[0m \u001b[1;32min\u001b[0m \u001b[0mcolumns\u001b[0m\u001b[1;33m}\u001b[0m\u001b[1;33m)\u001b[0m\u001b[1;33m\u001b[0m\u001b[1;33m\u001b[0m\u001b[0m\n\u001b[0;32m   9854\u001b[0m         \u001b[0mresult\u001b[0m \u001b[1;33m=\u001b[0m \u001b[0mdf\u001b[0m\u001b[1;33m.\u001b[0m\u001b[0mdrop\u001b[0m\u001b[1;33m(\u001b[0m\u001b[0mcolumns\u001b[0m\u001b[1;33m,\u001b[0m \u001b[0maxis\u001b[0m\u001b[1;33m=\u001b[0m\u001b[1;36m1\u001b[0m\u001b[1;33m)\u001b[0m\u001b[1;33m.\u001b[0m\u001b[0mjoin\u001b[0m\u001b[1;33m(\u001b[0m\u001b[0mresult\u001b[0m\u001b[1;33m)\u001b[0m\u001b[1;33m\u001b[0m\u001b[1;33m\u001b[0m\u001b[0m\n\u001b[0;32m   9855\u001b[0m         \u001b[1;32mif\u001b[0m \u001b[0mignore_index\u001b[0m\u001b[1;33m:\u001b[0m\u001b[1;33m\u001b[0m\u001b[1;33m\u001b[0m\u001b[0m\n",
      "\u001b[1;31mValueError\u001b[0m: columns must have matching element counts"
     ]
    }
   ],
   "source": [
    "processed_df2 = process_data(df2)\n",
    "fig = visualize_correlation(processed_df2)\n",
    "fig.show()"
   ]
  },
  {
   "cell_type": "markdown",
   "metadata": {},
   "source": []
  }
 ],
 "metadata": {
  "kernelspec": {
   "display_name": ".venv",
   "language": "python",
   "name": "python3"
  },
  "language_info": {
   "codemirror_mode": {
    "name": "ipython",
    "version": 3
   },
   "file_extension": ".py",
   "mimetype": "text/x-python",
   "name": "python",
   "nbconvert_exporter": "python",
   "pygments_lexer": "ipython3",
   "version": "3.10.9"
  }
 },
 "nbformat": 4,
 "nbformat_minor": 2
}
