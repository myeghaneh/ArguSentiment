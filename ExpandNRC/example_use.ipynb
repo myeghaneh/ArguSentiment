{
 "cells": [
  {
   "cell_type": "code",
   "id": "initial_id",
   "metadata": {
    "collapsed": true,
    "ExecuteTime": {
     "end_time": "2025-04-03T08:23:45.906858Z",
     "start_time": "2025-04-03T08:23:45.898265Z"
    }
   },
   "source": [
    "from nrclex import NRCLex\n",
    "from textblob import TextBlob\n",
    "from collections import Counter\n",
    "\n",
    "lexicon = NRCLex(\n",
    "    \"/Users/Panos/Library/CloudStorage/Dropbox/PI_Squared/PycharmProjects/Research/NRCLex/nrc_v3.json\")\n",
    "emotion_lexicon = lexicon.__lexicon__\n"
   ],
   "outputs": [],
   "execution_count": 11
  },
  {
   "metadata": {
    "ExecuteTime": {
     "end_time": "2025-04-03T08:23:46.213123Z",
     "start_time": "2025-04-03T08:23:46.208055Z"
    }
   },
   "cell_type": "code",
   "source": [
    "text = \"I feel hopeful and excited, but also a bit anxious and worried.\"\n",
    "blob = TextBlob(text)\n",
    "words = [w.lemmatize() for w in blob.words]\n",
    "sentences = list(blob.sentences)"
   ],
   "id": "df9df7ce137c0ac8",
   "outputs": [],
   "execution_count": 12
  },
  {
   "metadata": {
    "ExecuteTime": {
     "end_time": "2025-04-03T08:42:55.943308Z",
     "start_time": "2025-04-03T08:42:55.938706Z"
    }
   },
   "cell_type": "code",
   "source": [
    "affect_list = []\n",
    "affect_dict = dict()\n",
    "affect_frequencies = Counter()\n",
    "lexicon_keys = emotion_lexicon.keys()\n",
    "for word in words:\n",
    "    if word in lexicon_keys:\n",
    "        affect_list.extend(emotion_lexicon[word])\n",
    "        affect_dict.update({word: emotion_lexicon[word]})\n",
    "for word in affect_list:\n",
    "    affect_frequencies[word] += 1\n",
    "sum_values = sum(affect_frequencies.values())\n",
    "affect_percent = {\n",
    "    'fear'    : 0.0, 'anger': 0.0, 'anticipation': 0.0, 'trust': 0.0,\n",
    "    'surprise': 0.0, 'positive': 0.0,\n",
    "    'negative': 0.0, 'sadness': 0.0, 'disgust': 0.0, 'joy': 0.0\n",
    "}\n",
    "for key in affect_frequencies.keys():\n",
    "    affect_percent.update(\n",
    "        {key: float(affect_frequencies[key]) / float(sum_values)})\n",
    "affect_list = affect_list\n",
    "affect_dict = affect_dict\n",
    "raw_emotion_scores = dict(affect_frequencies)\n",
    "affect_frequencies = affect_percent\n",
    "print(affect_frequencies)"
   ],
   "id": "8a3c8834a6038e56",
   "outputs": [
    {
     "name": "stdout",
     "output_type": "stream",
     "text": [
      "{'fear': 0.09090909090909091, 'anger': 0.09090909090909091, 'anticipation': 0.18181818181818182, 'trust': 0.0, 'surprise': 0.18181818181818182, 'positive': 0.0, 'negative': 0.0, 'sadness': 0.18181818181818182, 'disgust': 0.0, 'joy': 0.18181818181818182, 'neutral': 0.09090909090909091}\n"
     ]
    }
   ],
   "execution_count": 47
  },
  {
   "metadata": {
    "ExecuteTime": {
     "end_time": "2025-04-03T08:23:47.789790Z",
     "start_time": "2025-04-03T08:23:47.787260Z"
    }
   },
   "cell_type": "code",
   "source": "len(lexicon_keys)",
   "id": "a805de0d8eb8a10",
   "outputs": [
    {
     "data": {
      "text/plain": [
       "4566"
      ]
     },
     "execution_count": 14,
     "metadata": {},
     "output_type": "execute_result"
    }
   ],
   "execution_count": 14
  },
  {
   "metadata": {
    "ExecuteTime": {
     "end_time": "2025-04-03T08:43:02.369024Z",
     "start_time": "2025-04-03T08:43:00.909230Z"
    }
   },
   "cell_type": "code",
   "source": [
    "from ExpandNRC.emotion_distance_calculator import EmotionDistanceCalculator\n",
    "\n",
    "affect_list = []\n",
    "affect_dict = dict()\n",
    "affect_frequencies = Counter()\n",
    "distance_calculator = EmotionDistanceCalculator(emotion_lexicon)\n",
    "emotions = distance_calculator.nrc_emotions(words)\n",
    "\n",
    "for word in words:\n",
    "    if word in emotions and emotions.get(word) != \"neutral\":\n",
    "        affect_list.extend(emotions[word])\n",
    "        affect_dict.update({word: emotions[word]})\n",
    "for word in affect_list:\n",
    "    affect_frequencies[word] += 1\n",
    "sum_values = sum(affect_frequencies.values())\n",
    "affect_percent = {\n",
    "    'fear'    : 0.0, 'anger': 0.0, 'anticipation': 0.0, 'trust': 0.0,\n",
    "    'surprise': 0.0, 'positive': 0.0,\n",
    "    'negative': 0.0, 'sadness': 0.0, 'disgust': 0.0, 'joy': 0.0,\n",
    "    'neutral': 0.0\n",
    "}\n",
    "for key in affect_frequencies.keys():\n",
    "    affect_percent.update(\n",
    "        {key: float(affect_frequencies[key]) / float(sum_values)})\n",
    "affect_list = affect_list\n",
    "affect_dict = affect_dict\n",
    "raw_emotion_scores = dict(affect_frequencies)\n",
    "affect_frequencies = affect_percent\n",
    "print(affect_frequencies)"
   ],
   "id": "5011229d632ccc17",
   "outputs": [
    {
     "name": "stderr",
     "output_type": "stream",
     "text": [
      "Device set to use mps\n"
     ]
    },
    {
     "name": "stdout",
     "output_type": "stream",
     "text": [
      "Loaded cached embeddings for 4566 words from /Users/Panos/.cache/ExpandNRC/lexicon_embeddings_cache.pkl\n",
      "{'fear': 0.09302325581395349, 'anger': 0.09302325581395349, 'anticipation': 0.09302325581395349, 'trust': 0.06976744186046512, 'surprise': 0.09302325581395349, 'positive': 0.0, 'negative': 0.0, 'sadness': 0.09302325581395349, 'disgust': 0.09302325581395349, 'joy': 0.09302325581395349, 'neutral': 0.27906976744186046}\n"
     ]
    }
   ],
   "execution_count": 48
  },
  {
   "metadata": {
    "ExecuteTime": {
     "end_time": "2025-04-03T08:41:38.974182Z",
     "start_time": "2025-04-03T08:41:38.971480Z"
    }
   },
   "cell_type": "code",
   "source": "emotions[\"I\"]",
   "id": "4e4c6bd82e2db65e",
   "outputs": [
    {
     "data": {
      "text/plain": [
       "['neutral']"
      ]
     },
     "execution_count": 44,
     "metadata": {},
     "output_type": "execute_result"
    }
   ],
   "execution_count": 44
  },
  {
   "metadata": {
    "ExecuteTime": {
     "end_time": "2025-04-03T08:36:45.349333Z",
     "start_time": "2025-04-03T08:36:45.345842Z"
    }
   },
   "cell_type": "code",
   "source": "emotions.get(\"\") != [\"neutral\"]",
   "id": "611d5c176f2a81df",
   "outputs": [
    {
     "data": {
      "text/plain": [
       "True"
      ]
     },
     "execution_count": 34,
     "metadata": {},
     "output_type": "execute_result"
    }
   ],
   "execution_count": 34
  },
  {
   "metadata": {
    "ExecuteTime": {
     "end_time": "2025-04-03T08:32:22.028115Z",
     "start_time": "2025-04-03T08:32:22.021913Z"
    }
   },
   "cell_type": "code",
   "source": "emotions",
   "id": "6bab12293dccb480",
   "outputs": [
    {
     "data": {
      "text/plain": [
       "{'I': ['neutral'],\n",
       " 'feel': ['neutral'],\n",
       " 'hopeful': ['anger',\n",
       "  'anticipation',\n",
       "  'disgust',\n",
       "  'fear',\n",
       "  'joy',\n",
       "  'sadness',\n",
       "  'surprise',\n",
       "  'trust',\n",
       "  'neutral'],\n",
       " 'and': ['neutral'],\n",
       " 'excited': ['anger',\n",
       "  'anticipation',\n",
       "  'disgust',\n",
       "  'fear',\n",
       "  'joy',\n",
       "  'sadness',\n",
       "  'surprise',\n",
       "  'trust',\n",
       "  'neutral'],\n",
       " 'but': ['neutral'],\n",
       " 'also': ['neutral'],\n",
       " 'a': ['neutral'],\n",
       " 'bit': ['neutral'],\n",
       " 'anxious': ['anger',\n",
       "  'anticipation',\n",
       "  'disgust',\n",
       "  'fear',\n",
       "  'joy',\n",
       "  'sadness',\n",
       "  'surprise',\n",
       "  'trust',\n",
       "  'neutral'],\n",
       " 'worried': ['anger',\n",
       "  'anticipation',\n",
       "  'disgust',\n",
       "  'fear',\n",
       "  'joy',\n",
       "  'sadness',\n",
       "  'surprise',\n",
       "  'neutral']}"
      ]
     },
     "execution_count": 22,
     "metadata": {},
     "output_type": "execute_result"
    }
   ],
   "execution_count": 22
  },
  {
   "metadata": {},
   "cell_type": "code",
   "outputs": [],
   "execution_count": null,
   "source": "",
   "id": "f182d9a3e4573b9b"
  }
 ],
 "metadata": {
  "kernelspec": {
   "display_name": "Python 3",
   "language": "python",
   "name": "python3"
  },
  "language_info": {
   "codemirror_mode": {
    "name": "ipython",
    "version": 2
   },
   "file_extension": ".py",
   "mimetype": "text/x-python",
   "name": "python",
   "nbconvert_exporter": "python",
   "pygments_lexer": "ipython2",
   "version": "2.7.6"
  }
 },
 "nbformat": 4,
 "nbformat_minor": 5
}
